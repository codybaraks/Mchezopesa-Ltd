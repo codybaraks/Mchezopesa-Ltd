{
  "nbformat": 4,
  "nbformat_minor": 0,
  "metadata": {
    "colab": {
      "name": "Mchezopesa_Ltd.ipynb",
      "provenance": [],
      "collapsed_sections": [],
      "toc_visible": true,
      "machine_shape": "hm",
      "include_colab_link": true
    },
    "kernelspec": {
      "name": "python3",
      "display_name": "Python 3"
    },
    "accelerator": "GPU"
  },
  "cells": [
    {
      "cell_type": "markdown",
      "metadata": {
        "id": "view-in-github",
        "colab_type": "text"
      },
      "source": [
        "<a href=\"https://colab.research.google.com/github/codybaraks/Mchezopesa-Ltd/blob/master/Mchezopesa_Ltd.ipynb\" target=\"_parent\"><img src=\"https://colab.research.google.com/assets/colab-badge.svg\" alt=\"Open In Colab\"/></a>"
      ]
    },
    {
      "cell_type": "markdown",
      "metadata": {
        "id": "MQgHjA545GPY",
        "colab_type": "text"
      },
      "source": [
        "## **DEFINE QUESTION**\n",
        "A Prediction result of a game between team 1 and team 2, based on \n",
        "\n",
        "who's home and who's away, and on whether or not the game is \n",
        "\n",
        "friendly (include rank in your training)."
      ]
    },
    {
      "cell_type": "markdown",
      "metadata": {
        "id": "QVXPx5EB5Lel",
        "colab_type": "text"
      },
      "source": [
        "## **METRICS FOR SUCCESS**\n",
        "Come up with a model that can predict goals the home team scores\n",
        "Come up with a model that can predict the away team scores\n",
        "\n",
        "Using Polynomial regression, and  Root Mean Squared Error which will be used to measure the performace of the model."
      ]
    },
    {
      "cell_type": "markdown",
      "metadata": {
        "id": "a0oE_sJp5TTr",
        "colab_type": "text"
      },
      "source": [
        "## **THE CONTEXT**\n",
        "\n",
        "Dataset that provided results of matches and ranking national Teams "
      ]
    },
    {
      "cell_type": "markdown",
      "metadata": {
        "id": "z_xg90J15YJM",
        "colab_type": "text"
      },
      "source": [
        "## **EXPERIEMENTAL DESIGN**\n",
        "\n",
        "\n",
        "Expected flow for the assessment:\n",
        "- Perform your EDA\n",
        "\n",
        "- Perform any necessary feature engineering\n",
        "- Check of multicollinearity\n",
        "\n",
        "\n",
        "- Start building the model\n",
        "- Cross-validate the model\n",
        "\n",
        "\n",
        "- Compute RMSE\n",
        "- Create residual plots for your models, and assess their heteroscedasticity using Bartlett’s test\n",
        "\n",
        "\n",
        "\n",
        "\n"
      ]
    },
    {
      "cell_type": "code",
      "metadata": {
        "id": "yYNA6GQdEP4a",
        "colab_type": "code",
        "colab": {
          "base_uri": "https://localhost:8080/",
          "height": 333
        },
        "outputId": "69cac075-9aea-41ff-c424-c11e82ed98b5"
      },
      "source": [
        "# Imports\n",
        "import pandas as pd\n",
        "import numpy as np\n",
        "\n",
        "import matplotlib.pyplot as plt\n",
        "\n",
        "import seaborn as sns\n",
        "import pandas_profiling as pp\n",
        "\n",
        "from sklearn.preprocessing import PolynomialFeatures\n",
        "\n",
        "from sklearn.model_selection import train_test_split\n",
        "\n",
        "from sklearn.linear_model import LinearRegression\n",
        "# logistic\n",
        "from sklearn.linear_model import LogisticRegression\n",
        "%matplotlib inline\n",
        "# Import time date\n",
        "import datetime\n",
        "import scipy as sc\n",
        "# Checking for performance of an algorithm\n",
        "from sklearn.metrics import confusion_matrix\n",
        "#  from sklearn.metrics import confusion_matrix \n",
        "from sklearn.metrics import accuracy_score \n",
        "from sklearn.metrics import classification_report \n",
        "from sklearn.model_selection import KFold\n",
        "\n",
        "# Ridge Regression\n",
        "from sklearn.linear_model import Ridge\n",
        "from sklearn.linear_model import Lasso\n",
        "\n",
        "from sklearn.model_selection import GridSearchCV\n",
        "from sklearn.linear_model import Ridge\n",
        "from sklearn.linear_model import LinearRegression\n",
        "from sklearn.metrics import mean_squared_error\n",
        "\n",
        "from pydataset import data"
      ],
      "execution_count": 133,
      "outputs": [
        {
          "output_type": "error",
          "ename": "ModuleNotFoundError",
          "evalue": "ignored",
          "traceback": [
            "\u001b[0;31m---------------------------------------------------------------------------\u001b[0m",
            "\u001b[0;31mModuleNotFoundError\u001b[0m                       Traceback (most recent call last)",
            "\u001b[0;32m<ipython-input-133-997afab0edb5>\u001b[0m in \u001b[0;36m<module>\u001b[0;34m()\u001b[0m\n\u001b[1;32m     34\u001b[0m \u001b[0;32mfrom\u001b[0m \u001b[0msklearn\u001b[0m\u001b[0;34m.\u001b[0m\u001b[0mmetrics\u001b[0m \u001b[0;32mimport\u001b[0m \u001b[0mmean_squared_error\u001b[0m\u001b[0;34m\u001b[0m\u001b[0;34m\u001b[0m\u001b[0m\n\u001b[1;32m     35\u001b[0m \u001b[0;34m\u001b[0m\u001b[0m\n\u001b[0;32m---> 36\u001b[0;31m \u001b[0;32mfrom\u001b[0m \u001b[0mpydataset\u001b[0m \u001b[0;32mimport\u001b[0m \u001b[0mdata\u001b[0m\u001b[0;34m\u001b[0m\u001b[0;34m\u001b[0m\u001b[0m\n\u001b[0m",
            "\u001b[0;31mModuleNotFoundError\u001b[0m: No module named 'pydataset'",
            "",
            "\u001b[0;31m---------------------------------------------------------------------------\u001b[0;32m\nNOTE: If your import is failing due to a missing package, you can\nmanually install dependencies using either !pip or !apt.\n\nTo view examples of installing some common dependencies, click the\n\"Open Examples\" button below.\n\u001b[0;31m---------------------------------------------------------------------------\u001b[0m\n"
          ]
        }
      ]
    },
    {
      "cell_type": "code",
      "metadata": {
        "id": "q-5zneOs8qjb",
        "colab_type": "code",
        "outputId": "6e2ba12f-784e-44f4-a34c-914625c816d0",
        "colab": {
          "base_uri": "https://localhost:8080/",
          "height": 309
        }
      },
      "source": [
        "# Load fifa ranking dataset\n",
        "fifa_ranking = pd.read_csv(\"fifa_ranking.csv\")\n",
        "fifa_ranking.head(5)"
      ],
      "execution_count": 2,
      "outputs": [
        {
          "output_type": "execute_result",
          "data": {
            "text/html": [
              "<div>\n",
              "<style scoped>\n",
              "    .dataframe tbody tr th:only-of-type {\n",
              "        vertical-align: middle;\n",
              "    }\n",
              "\n",
              "    .dataframe tbody tr th {\n",
              "        vertical-align: top;\n",
              "    }\n",
              "\n",
              "    .dataframe thead th {\n",
              "        text-align: right;\n",
              "    }\n",
              "</style>\n",
              "<table border=\"1\" class=\"dataframe\">\n",
              "  <thead>\n",
              "    <tr style=\"text-align: right;\">\n",
              "      <th></th>\n",
              "      <th>rank</th>\n",
              "      <th>country_full</th>\n",
              "      <th>country_abrv</th>\n",
              "      <th>total_points</th>\n",
              "      <th>previous_points</th>\n",
              "      <th>rank_change</th>\n",
              "      <th>cur_year_avg</th>\n",
              "      <th>cur_year_avg_weighted</th>\n",
              "      <th>last_year_avg</th>\n",
              "      <th>last_year_avg_weighted</th>\n",
              "      <th>two_year_ago_avg</th>\n",
              "      <th>two_year_ago_weighted</th>\n",
              "      <th>three_year_ago_avg</th>\n",
              "      <th>three_year_ago_weighted</th>\n",
              "      <th>confederation</th>\n",
              "      <th>rank_date</th>\n",
              "    </tr>\n",
              "  </thead>\n",
              "  <tbody>\n",
              "    <tr>\n",
              "      <th>0</th>\n",
              "      <td>1</td>\n",
              "      <td>Germany</td>\n",
              "      <td>GER</td>\n",
              "      <td>0.0</td>\n",
              "      <td>57</td>\n",
              "      <td>0</td>\n",
              "      <td>0.0</td>\n",
              "      <td>0.0</td>\n",
              "      <td>0.0</td>\n",
              "      <td>0.0</td>\n",
              "      <td>0.0</td>\n",
              "      <td>0.0</td>\n",
              "      <td>0.0</td>\n",
              "      <td>0.0</td>\n",
              "      <td>UEFA</td>\n",
              "      <td>1993-08-08</td>\n",
              "    </tr>\n",
              "    <tr>\n",
              "      <th>1</th>\n",
              "      <td>2</td>\n",
              "      <td>Italy</td>\n",
              "      <td>ITA</td>\n",
              "      <td>0.0</td>\n",
              "      <td>57</td>\n",
              "      <td>0</td>\n",
              "      <td>0.0</td>\n",
              "      <td>0.0</td>\n",
              "      <td>0.0</td>\n",
              "      <td>0.0</td>\n",
              "      <td>0.0</td>\n",
              "      <td>0.0</td>\n",
              "      <td>0.0</td>\n",
              "      <td>0.0</td>\n",
              "      <td>UEFA</td>\n",
              "      <td>1993-08-08</td>\n",
              "    </tr>\n",
              "    <tr>\n",
              "      <th>2</th>\n",
              "      <td>3</td>\n",
              "      <td>Switzerland</td>\n",
              "      <td>SUI</td>\n",
              "      <td>0.0</td>\n",
              "      <td>50</td>\n",
              "      <td>9</td>\n",
              "      <td>0.0</td>\n",
              "      <td>0.0</td>\n",
              "      <td>0.0</td>\n",
              "      <td>0.0</td>\n",
              "      <td>0.0</td>\n",
              "      <td>0.0</td>\n",
              "      <td>0.0</td>\n",
              "      <td>0.0</td>\n",
              "      <td>UEFA</td>\n",
              "      <td>1993-08-08</td>\n",
              "    </tr>\n",
              "    <tr>\n",
              "      <th>3</th>\n",
              "      <td>4</td>\n",
              "      <td>Sweden</td>\n",
              "      <td>SWE</td>\n",
              "      <td>0.0</td>\n",
              "      <td>55</td>\n",
              "      <td>0</td>\n",
              "      <td>0.0</td>\n",
              "      <td>0.0</td>\n",
              "      <td>0.0</td>\n",
              "      <td>0.0</td>\n",
              "      <td>0.0</td>\n",
              "      <td>0.0</td>\n",
              "      <td>0.0</td>\n",
              "      <td>0.0</td>\n",
              "      <td>UEFA</td>\n",
              "      <td>1993-08-08</td>\n",
              "    </tr>\n",
              "    <tr>\n",
              "      <th>4</th>\n",
              "      <td>5</td>\n",
              "      <td>Argentina</td>\n",
              "      <td>ARG</td>\n",
              "      <td>0.0</td>\n",
              "      <td>51</td>\n",
              "      <td>5</td>\n",
              "      <td>0.0</td>\n",
              "      <td>0.0</td>\n",
              "      <td>0.0</td>\n",
              "      <td>0.0</td>\n",
              "      <td>0.0</td>\n",
              "      <td>0.0</td>\n",
              "      <td>0.0</td>\n",
              "      <td>0.0</td>\n",
              "      <td>CONMEBOL</td>\n",
              "      <td>1993-08-08</td>\n",
              "    </tr>\n",
              "  </tbody>\n",
              "</table>\n",
              "</div>"
            ],
            "text/plain": [
              "   rank country_full  ... confederation   rank_date\n",
              "0     1      Germany  ...          UEFA  1993-08-08\n",
              "1     2        Italy  ...          UEFA  1993-08-08\n",
              "2     3  Switzerland  ...          UEFA  1993-08-08\n",
              "3     4       Sweden  ...          UEFA  1993-08-08\n",
              "4     5    Argentina  ...      CONMEBOL  1993-08-08\n",
              "\n",
              "[5 rows x 16 columns]"
            ]
          },
          "metadata": {
            "tags": []
          },
          "execution_count": 2
        }
      ]
    },
    {
      "cell_type": "code",
      "metadata": {
        "id": "7WbcKmIQEP2O",
        "colab_type": "code",
        "outputId": "08c8be29-1ae3-4dfe-9313-f2a30271362d",
        "colab": {
          "base_uri": "https://localhost:8080/",
          "height": 204
        }
      },
      "source": [
        "# Loading the Dataset\n",
        "# Reading the dataset\n",
        "fifa = pd.read_csv(\"results.csv\")\n",
        "fifa.head(5)"
      ],
      "execution_count": 3,
      "outputs": [
        {
          "output_type": "execute_result",
          "data": {
            "text/html": [
              "<div>\n",
              "<style scoped>\n",
              "    .dataframe tbody tr th:only-of-type {\n",
              "        vertical-align: middle;\n",
              "    }\n",
              "\n",
              "    .dataframe tbody tr th {\n",
              "        vertical-align: top;\n",
              "    }\n",
              "\n",
              "    .dataframe thead th {\n",
              "        text-align: right;\n",
              "    }\n",
              "</style>\n",
              "<table border=\"1\" class=\"dataframe\">\n",
              "  <thead>\n",
              "    <tr style=\"text-align: right;\">\n",
              "      <th></th>\n",
              "      <th>date</th>\n",
              "      <th>home_team</th>\n",
              "      <th>away_team</th>\n",
              "      <th>home_score</th>\n",
              "      <th>away_score</th>\n",
              "      <th>tournament</th>\n",
              "      <th>city</th>\n",
              "      <th>country</th>\n",
              "      <th>neutral</th>\n",
              "    </tr>\n",
              "  </thead>\n",
              "  <tbody>\n",
              "    <tr>\n",
              "      <th>0</th>\n",
              "      <td>1872-11-30</td>\n",
              "      <td>Scotland</td>\n",
              "      <td>England</td>\n",
              "      <td>0</td>\n",
              "      <td>0</td>\n",
              "      <td>Friendly</td>\n",
              "      <td>Glasgow</td>\n",
              "      <td>Scotland</td>\n",
              "      <td>False</td>\n",
              "    </tr>\n",
              "    <tr>\n",
              "      <th>1</th>\n",
              "      <td>1873-03-08</td>\n",
              "      <td>England</td>\n",
              "      <td>Scotland</td>\n",
              "      <td>4</td>\n",
              "      <td>2</td>\n",
              "      <td>Friendly</td>\n",
              "      <td>London</td>\n",
              "      <td>England</td>\n",
              "      <td>False</td>\n",
              "    </tr>\n",
              "    <tr>\n",
              "      <th>2</th>\n",
              "      <td>1874-03-07</td>\n",
              "      <td>Scotland</td>\n",
              "      <td>England</td>\n",
              "      <td>2</td>\n",
              "      <td>1</td>\n",
              "      <td>Friendly</td>\n",
              "      <td>Glasgow</td>\n",
              "      <td>Scotland</td>\n",
              "      <td>False</td>\n",
              "    </tr>\n",
              "    <tr>\n",
              "      <th>3</th>\n",
              "      <td>1875-03-06</td>\n",
              "      <td>England</td>\n",
              "      <td>Scotland</td>\n",
              "      <td>2</td>\n",
              "      <td>2</td>\n",
              "      <td>Friendly</td>\n",
              "      <td>London</td>\n",
              "      <td>England</td>\n",
              "      <td>False</td>\n",
              "    </tr>\n",
              "    <tr>\n",
              "      <th>4</th>\n",
              "      <td>1876-03-04</td>\n",
              "      <td>Scotland</td>\n",
              "      <td>England</td>\n",
              "      <td>3</td>\n",
              "      <td>0</td>\n",
              "      <td>Friendly</td>\n",
              "      <td>Glasgow</td>\n",
              "      <td>Scotland</td>\n",
              "      <td>False</td>\n",
              "    </tr>\n",
              "  </tbody>\n",
              "</table>\n",
              "</div>"
            ],
            "text/plain": [
              "         date home_team away_team  ...     city   country neutral\n",
              "0  1872-11-30  Scotland   England  ...  Glasgow  Scotland   False\n",
              "1  1873-03-08   England  Scotland  ...   London   England   False\n",
              "2  1874-03-07  Scotland   England  ...  Glasgow  Scotland   False\n",
              "3  1875-03-06   England  Scotland  ...   London   England   False\n",
              "4  1876-03-04  Scotland   England  ...  Glasgow  Scotland   False\n",
              "\n",
              "[5 rows x 9 columns]"
            ]
          },
          "metadata": {
            "tags": []
          },
          "execution_count": 3
        }
      ]
    },
    {
      "cell_type": "code",
      "metadata": {
        "id": "txeb9AO2Jxm-",
        "colab_type": "code",
        "outputId": "b6fda775-95d2-4be1-f47c-a4aaf86c021f",
        "colab": {
          "base_uri": "https://localhost:8080/",
          "height": 34
        }
      },
      "source": [
        "# fifa ranking shape\n",
        "fifa_ranking.shape"
      ],
      "execution_count": 4,
      "outputs": [
        {
          "output_type": "execute_result",
          "data": {
            "text/plain": [
              "(57793, 16)"
            ]
          },
          "metadata": {
            "tags": []
          },
          "execution_count": 4
        }
      ]
    },
    {
      "cell_type": "code",
      "metadata": {
        "id": "0vg2e10tEPvT",
        "colab_type": "code",
        "outputId": "1d53ae68-55e1-4766-abf4-a0f722f75a37",
        "colab": {
          "base_uri": "https://localhost:8080/",
          "height": 34
        }
      },
      "source": [
        "# Checking the shape of the results dataset\n",
        "fifa.shape"
      ],
      "execution_count": 5,
      "outputs": [
        {
          "output_type": "execute_result",
          "data": {
            "text/plain": [
              "(40839, 9)"
            ]
          },
          "metadata": {
            "tags": []
          },
          "execution_count": 5
        }
      ]
    },
    {
      "cell_type": "markdown",
      "metadata": {
        "id": "hFKMWFsAHam5",
        "colab_type": "text"
      },
      "source": [
        "Consists of about 9 columns"
      ]
    },
    {
      "cell_type": "code",
      "metadata": {
        "id": "aO-4HbLiJ9Av",
        "colab_type": "code",
        "outputId": "7a2a36b7-cced-45d6-f5e9-acf9dda5b3bc",
        "colab": {
          "base_uri": "https://localhost:8080/",
          "height": 34
        }
      },
      "source": [
        "# fifa ranking size\n",
        "fifa_ranking.size"
      ],
      "execution_count": 6,
      "outputs": [
        {
          "output_type": "execute_result",
          "data": {
            "text/plain": [
              "924688"
            ]
          },
          "metadata": {
            "tags": []
          },
          "execution_count": 6
        }
      ]
    },
    {
      "cell_type": "code",
      "metadata": {
        "id": "a0T2v2ahAmxs",
        "colab_type": "code",
        "outputId": "9a4e4abd-8339-46f1-e47d-92e771d2826e",
        "colab": {
          "base_uri": "https://localhost:8080/",
          "height": 34
        }
      },
      "source": [
        "# Check the size of the results dataset\n",
        "fifa.size\n"
      ],
      "execution_count": 7,
      "outputs": [
        {
          "output_type": "execute_result",
          "data": {
            "text/plain": [
              "367551"
            ]
          },
          "metadata": {
            "tags": []
          },
          "execution_count": 7
        }
      ]
    },
    {
      "cell_type": "code",
      "metadata": {
        "id": "nOAeDX8YKJHW",
        "colab_type": "code",
        "outputId": "f48708ee-7a18-4027-8ed2-fa2106a937b8",
        "colab": {
          "base_uri": "https://localhost:8080/",
          "height": 374
        }
      },
      "source": [
        "# results fifa ranking dataset info\n",
        "fifa_ranking.info()"
      ],
      "execution_count": 8,
      "outputs": [
        {
          "output_type": "stream",
          "text": [
            "<class 'pandas.core.frame.DataFrame'>\n",
            "RangeIndex: 57793 entries, 0 to 57792\n",
            "Data columns (total 16 columns):\n",
            "rank                       57793 non-null int64\n",
            "country_full               57793 non-null object\n",
            "country_abrv               57793 non-null object\n",
            "total_points               57793 non-null float64\n",
            "previous_points            57793 non-null int64\n",
            "rank_change                57793 non-null int64\n",
            "cur_year_avg               57793 non-null float64\n",
            "cur_year_avg_weighted      57793 non-null float64\n",
            "last_year_avg              57793 non-null float64\n",
            "last_year_avg_weighted     57793 non-null float64\n",
            "two_year_ago_avg           57793 non-null float64\n",
            "two_year_ago_weighted      57793 non-null float64\n",
            "three_year_ago_avg         57793 non-null float64\n",
            "three_year_ago_weighted    57793 non-null float64\n",
            "confederation              57793 non-null object\n",
            "rank_date                  57793 non-null object\n",
            "dtypes: float64(9), int64(3), object(4)\n",
            "memory usage: 7.1+ MB\n"
          ],
          "name": "stdout"
        }
      ]
    },
    {
      "cell_type": "code",
      "metadata": {
        "id": "s2RtU2XUIB21",
        "colab_type": "code",
        "outputId": "65f5541e-7856-4ebc-8742-ae9053f563a6",
        "colab": {
          "base_uri": "https://localhost:8080/",
          "height": 255
        }
      },
      "source": [
        "# Getting  a bit information from the dataframe\n",
        "fifa.info()"
      ],
      "execution_count": 9,
      "outputs": [
        {
          "output_type": "stream",
          "text": [
            "<class 'pandas.core.frame.DataFrame'>\n",
            "RangeIndex: 40839 entries, 0 to 40838\n",
            "Data columns (total 9 columns):\n",
            "date          40839 non-null object\n",
            "home_team     40839 non-null object\n",
            "away_team     40839 non-null object\n",
            "home_score    40839 non-null int64\n",
            "away_score    40839 non-null int64\n",
            "tournament    40839 non-null object\n",
            "city          40839 non-null object\n",
            "country       40839 non-null object\n",
            "neutral       40839 non-null bool\n",
            "dtypes: bool(1), int64(2), object(6)\n",
            "memory usage: 2.5+ MB\n"
          ],
          "name": "stdout"
        }
      ]
    },
    {
      "cell_type": "code",
      "metadata": {
        "id": "mS5fDFqkIPb2",
        "colab_type": "code",
        "outputId": "6347294a-b575-4e7b-a059-33fe57b78b16",
        "colab": {
          "base_uri": "https://localhost:8080/",
          "height": 297
        }
      },
      "source": [
        "# Describing the data\n",
        "fifa.describe()"
      ],
      "execution_count": 10,
      "outputs": [
        {
          "output_type": "execute_result",
          "data": {
            "text/html": [
              "<div>\n",
              "<style scoped>\n",
              "    .dataframe tbody tr th:only-of-type {\n",
              "        vertical-align: middle;\n",
              "    }\n",
              "\n",
              "    .dataframe tbody tr th {\n",
              "        vertical-align: top;\n",
              "    }\n",
              "\n",
              "    .dataframe thead th {\n",
              "        text-align: right;\n",
              "    }\n",
              "</style>\n",
              "<table border=\"1\" class=\"dataframe\">\n",
              "  <thead>\n",
              "    <tr style=\"text-align: right;\">\n",
              "      <th></th>\n",
              "      <th>home_score</th>\n",
              "      <th>away_score</th>\n",
              "    </tr>\n",
              "  </thead>\n",
              "  <tbody>\n",
              "    <tr>\n",
              "      <th>count</th>\n",
              "      <td>40839.000000</td>\n",
              "      <td>40839.000000</td>\n",
              "    </tr>\n",
              "    <tr>\n",
              "      <th>mean</th>\n",
              "      <td>1.745709</td>\n",
              "      <td>1.188105</td>\n",
              "    </tr>\n",
              "    <tr>\n",
              "      <th>std</th>\n",
              "      <td>1.749145</td>\n",
              "      <td>1.405120</td>\n",
              "    </tr>\n",
              "    <tr>\n",
              "      <th>min</th>\n",
              "      <td>0.000000</td>\n",
              "      <td>0.000000</td>\n",
              "    </tr>\n",
              "    <tr>\n",
              "      <th>25%</th>\n",
              "      <td>1.000000</td>\n",
              "      <td>0.000000</td>\n",
              "    </tr>\n",
              "    <tr>\n",
              "      <th>50%</th>\n",
              "      <td>1.000000</td>\n",
              "      <td>1.000000</td>\n",
              "    </tr>\n",
              "    <tr>\n",
              "      <th>75%</th>\n",
              "      <td>2.000000</td>\n",
              "      <td>2.000000</td>\n",
              "    </tr>\n",
              "    <tr>\n",
              "      <th>max</th>\n",
              "      <td>31.000000</td>\n",
              "      <td>21.000000</td>\n",
              "    </tr>\n",
              "  </tbody>\n",
              "</table>\n",
              "</div>"
            ],
            "text/plain": [
              "         home_score    away_score\n",
              "count  40839.000000  40839.000000\n",
              "mean       1.745709      1.188105\n",
              "std        1.749145      1.405120\n",
              "min        0.000000      0.000000\n",
              "25%        1.000000      0.000000\n",
              "50%        1.000000      1.000000\n",
              "75%        2.000000      2.000000\n",
              "max       31.000000     21.000000"
            ]
          },
          "metadata": {
            "tags": []
          },
          "execution_count": 10
        }
      ]
    },
    {
      "cell_type": "code",
      "metadata": {
        "id": "TfU9qUPhM7JE",
        "colab_type": "code",
        "outputId": "1c462614-f836-4c5d-cc91-c175c7dfbb1c",
        "colab": {
          "base_uri": "https://localhost:8080/",
          "height": 1000
        }
      },
      "source": [
        "pp.ProfileReport(fifa) # pandas\n"
      ],
      "execution_count": 11,
      "outputs": [
        {
          "output_type": "execute_result",
          "data": {
            "text/html": [
              "<meta charset=\"UTF-8\">\n",
              "\n",
              "<style>\n",
              "\n",
              "        .variablerow {\n",
              "            border: 1px solid #e1e1e8;\n",
              "            border-top: hidden;\n",
              "            padding-top: 2em;\n",
              "            padding-bottom: 2em;\n",
              "            padding-left: 1em;\n",
              "            padding-right: 1em;\n",
              "        }\n",
              "\n",
              "        .headerrow {\n",
              "            border: 1px solid #e1e1e8;\n",
              "            background-color: #f5f5f5;\n",
              "            padding: 2em;\n",
              "        }\n",
              "        .namecol {\n",
              "            margin-top: -1em;\n",
              "            overflow-x: auto;\n",
              "        }\n",
              "\n",
              "        .dl-horizontal dt {\n",
              "            text-align: left;\n",
              "            padding-right: 1em;\n",
              "            white-space: normal;\n",
              "        }\n",
              "\n",
              "        .dl-horizontal dd {\n",
              "            margin-left: 0;\n",
              "        }\n",
              "\n",
              "        .ignore {\n",
              "            opacity: 0.4;\n",
              "        }\n",
              "\n",
              "        .container.pandas-profiling {\n",
              "            max-width:975px;\n",
              "        }\n",
              "\n",
              "        .col-md-12 {\n",
              "            padding-left: 2em;\n",
              "        }\n",
              "\n",
              "        .indent {\n",
              "            margin-left: 1em;\n",
              "        }\n",
              "\n",
              "        .center-img {\n",
              "            margin-left: auto !important;\n",
              "            margin-right: auto !important;\n",
              "            display: block;\n",
              "        }\n",
              "\n",
              "        /* Table example_values */\n",
              "            table.example_values {\n",
              "                border: 0;\n",
              "            }\n",
              "\n",
              "            .example_values th {\n",
              "                border: 0;\n",
              "                padding: 0 ;\n",
              "                color: #555;\n",
              "                font-weight: 600;\n",
              "            }\n",
              "\n",
              "            .example_values tr, .example_values td{\n",
              "                border: 0;\n",
              "                padding: 0;\n",
              "                color: #555;\n",
              "            }\n",
              "\n",
              "        /* STATS */\n",
              "            table.stats {\n",
              "                border: 0;\n",
              "            }\n",
              "\n",
              "            .stats th {\n",
              "                border: 0;\n",
              "                padding: 0 2em 0 0;\n",
              "                color: #555;\n",
              "                font-weight: 600;\n",
              "            }\n",
              "\n",
              "            .stats tr {\n",
              "                border: 0;\n",
              "            }\n",
              "\n",
              "            .stats td{\n",
              "                color: #555;\n",
              "                padding: 1px;\n",
              "                border: 0;\n",
              "            }\n",
              "\n",
              "\n",
              "        /* Sample table */\n",
              "            table.sample {\n",
              "                border: 0;\n",
              "                margin-bottom: 2em;\n",
              "                margin-left:1em;\n",
              "            }\n",
              "            .sample tr {\n",
              "                border:0;\n",
              "            }\n",
              "            .sample td, .sample th{\n",
              "                padding: 0.5em;\n",
              "                white-space: nowrap;\n",
              "                border: none;\n",
              "\n",
              "            }\n",
              "\n",
              "            .sample thead {\n",
              "                border-top: 0;\n",
              "                border-bottom: 2px solid #ddd;\n",
              "            }\n",
              "\n",
              "            .sample td {\n",
              "                width:100%;\n",
              "            }\n",
              "\n",
              "\n",
              "        /* There is no good solution available to make the divs equal height and then center ... */\n",
              "            .histogram {\n",
              "                margin-top: 3em;\n",
              "            }\n",
              "        /* Freq table */\n",
              "\n",
              "            table.freq {\n",
              "                margin-bottom: 2em;\n",
              "                border: 0;\n",
              "            }\n",
              "            table.freq th, table.freq tr, table.freq td {\n",
              "                border: 0;\n",
              "                padding: 0;\n",
              "            }\n",
              "\n",
              "            .freq thead {\n",
              "                font-weight: 600;\n",
              "                white-space: nowrap;\n",
              "                overflow: hidden;\n",
              "                text-overflow: ellipsis;\n",
              "\n",
              "            }\n",
              "\n",
              "            td.fillremaining{\n",
              "                width:auto;\n",
              "                max-width: none;\n",
              "            }\n",
              "\n",
              "            td.number, th.number {\n",
              "                text-align:right ;\n",
              "            }\n",
              "\n",
              "        /* Freq mini */\n",
              "            .freq.mini td{\n",
              "                width: 50%;\n",
              "                padding: 1px;\n",
              "                font-size: 12px;\n",
              "\n",
              "            }\n",
              "            table.freq.mini {\n",
              "                 width:100%;\n",
              "            }\n",
              "            .freq.mini th {\n",
              "                overflow: hidden;\n",
              "                text-overflow: ellipsis;\n",
              "                white-space: nowrap;\n",
              "                max-width: 5em;\n",
              "                font-weight: 400;\n",
              "                text-align:right;\n",
              "                padding-right: 0.5em;\n",
              "            }\n",
              "\n",
              "            .missing {\n",
              "                color: #a94442;\n",
              "            }\n",
              "            .alert, .alert > th, .alert > td {\n",
              "                color: #a94442;\n",
              "            }\n",
              "\n",
              "\n",
              "        /* Bars in tables */\n",
              "            .freq .bar{\n",
              "                float: left;\n",
              "                width: 0;\n",
              "                height: 100%;\n",
              "                line-height: 20px;\n",
              "                color: #fff;\n",
              "                text-align: center;\n",
              "                background-color: #337ab7;\n",
              "                border-radius: 3px;\n",
              "                margin-right: 4px;\n",
              "            }\n",
              "            .other .bar {\n",
              "                background-color: #999;\n",
              "            }\n",
              "            .missing .bar{\n",
              "                background-color: #a94442;\n",
              "            }\n",
              "            .tooltip-inner {\n",
              "                width: 100%;\n",
              "                white-space: nowrap;\n",
              "                text-align:left;\n",
              "            }\n",
              "\n",
              "            .extrapadding{\n",
              "                padding: 2em;\n",
              "            }\n",
              "\n",
              "            .pp-anchor{\n",
              "\n",
              "            }\n",
              "\n",
              "</style>\n",
              "\n",
              "<div class=\"container pandas-profiling\">\n",
              "    <div class=\"row headerrow highlight\">\n",
              "        <h1>Overview</h1>\n",
              "    </div>\n",
              "    <div class=\"row variablerow\">\n",
              "    <div class=\"col-md-6 namecol\">\n",
              "        <p class=\"h4\">Dataset info</p>\n",
              "        <table class=\"stats\" style=\"margin-left: 1em;\">\n",
              "            <tbody>\n",
              "            <tr>\n",
              "                <th>Number of variables</th>\n",
              "                <td>9 </td>\n",
              "            </tr>\n",
              "            <tr>\n",
              "                <th>Number of observations</th>\n",
              "                <td>40839 </td>\n",
              "            </tr>\n",
              "            <tr>\n",
              "                <th>Total Missing (%)</th>\n",
              "                <td>0.0% </td>\n",
              "            </tr>\n",
              "            <tr>\n",
              "                <th>Total size in memory</th>\n",
              "                <td>2.5 MiB </td>\n",
              "            </tr>\n",
              "            <tr>\n",
              "                <th>Average record size in memory</th>\n",
              "                <td>65.0 B </td>\n",
              "            </tr>\n",
              "            </tbody>\n",
              "        </table>\n",
              "    </div>\n",
              "    <div class=\"col-md-6 namecol\">\n",
              "        <p class=\"h4\">Variables types</p>\n",
              "        <table class=\"stats\" style=\"margin-left: 1em;\">\n",
              "            <tbody>\n",
              "            <tr>\n",
              "                <th>Numeric</th>\n",
              "                <td>2 </td>\n",
              "            </tr>\n",
              "            <tr>\n",
              "                <th>Categorical</th>\n",
              "                <td>6 </td>\n",
              "            </tr>\n",
              "            <tr>\n",
              "                <th>Boolean</th>\n",
              "                <td>1 </td>\n",
              "            </tr>\n",
              "            <tr>\n",
              "                <th>Date</th>\n",
              "                <td>0 </td>\n",
              "            </tr>\n",
              "            <tr>\n",
              "                <th>Text (Unique)</th>\n",
              "                <td>0 </td>\n",
              "            </tr>\n",
              "            <tr>\n",
              "                <th>Rejected</th>\n",
              "                <td>0 </td>\n",
              "            </tr>\n",
              "            <tr>\n",
              "                <th>Unsupported</th>\n",
              "                <td>0 </td>\n",
              "            </tr>\n",
              "            </tbody>\n",
              "        </table>\n",
              "    </div>\n",
              "    <div class=\"col-md-12\" style=\"padding-left: 1em;\">\n",
              "        \n",
              "        <p class=\"h4\">Warnings</p>\n",
              "        <ul class=\"list-unstyled\"><li><a href=\"#pp_var_away_score\"><code>away_score</code></a> has 15134 / 37.1% zeros <span class=\"label label-info\">Zeros</span></li><li><a href=\"#pp_var_away_team\"><code>away_team</code></a> has a high cardinality: 306 distinct values  <span class=\"label label-warning\">Warning</span></li><li><a href=\"#pp_var_city\"><code>city</code></a> has a high cardinality: 1960 distinct values  <span class=\"label label-warning\">Warning</span></li><li><a href=\"#pp_var_country\"><code>country</code></a> has a high cardinality: 266 distinct values  <span class=\"label label-warning\">Warning</span></li><li><a href=\"#pp_var_date\"><code>date</code></a> has a high cardinality: 15115 distinct values  <span class=\"label label-warning\">Warning</span></li><li><a href=\"#pp_var_home_score\"><code>home_score</code></a> has 9800 / 24.0% zeros <span class=\"label label-info\">Zeros</span></li><li><a href=\"#pp_var_home_team\"><code>home_team</code></a> has a high cardinality: 309 distinct values  <span class=\"label label-warning\">Warning</span></li><li><a href=\"#pp_var_tournament\"><code>tournament</code></a> has a high cardinality: 109 distinct values  <span class=\"label label-warning\">Warning</span></li> </ul>\n",
              "    </div>\n",
              "</div>\n",
              "    <div class=\"row headerrow highlight\">\n",
              "        <h1>Variables</h1>\n",
              "    </div>\n",
              "    <div class=\"row variablerow\">\n",
              "    <div class=\"col-md-3 namecol\">\n",
              "        <p class=\"h4 pp-anchor\" id=\"pp_var_away_score\">away_score<br/>\n",
              "            <small>Numeric</small>\n",
              "        </p>\n",
              "    </div><div class=\"col-md-6\">\n",
              "    <div class=\"row\">\n",
              "        <div class=\"col-sm-6\">\n",
              "            <table class=\"stats \">\n",
              "                <tr>\n",
              "                    <th>Distinct count</th>\n",
              "                    <td>22</td>\n",
              "                </tr>\n",
              "                <tr>\n",
              "                    <th>Unique (%)</th>\n",
              "                    <td>0.1%</td>\n",
              "                </tr>\n",
              "                <tr class=\"ignore\">\n",
              "                    <th>Missing (%)</th>\n",
              "                    <td>0.0%</td>\n",
              "                </tr>\n",
              "                <tr class=\"ignore\">\n",
              "                    <th>Missing (n)</th>\n",
              "                    <td>0</td>\n",
              "                </tr>\n",
              "                <tr class=\"ignore\">\n",
              "                    <th>Infinite (%)</th>\n",
              "                    <td>0.0%</td>\n",
              "                </tr>\n",
              "                <tr class=\"ignore\">\n",
              "                    <th>Infinite (n)</th>\n",
              "                    <td>0</td>\n",
              "                </tr>\n",
              "            </table>\n",
              "\n",
              "        </div>\n",
              "        <div class=\"col-sm-6\">\n",
              "            <table class=\"stats \">\n",
              "\n",
              "                <tr>\n",
              "                    <th>Mean</th>\n",
              "                    <td>1.1881</td>\n",
              "                </tr>\n",
              "                <tr>\n",
              "                    <th>Minimum</th>\n",
              "                    <td>0</td>\n",
              "                </tr>\n",
              "                <tr>\n",
              "                    <th>Maximum</th>\n",
              "                    <td>21</td>\n",
              "                </tr>\n",
              "                <tr class=\"alert\">\n",
              "                    <th>Zeros (%)</th>\n",
              "                    <td>37.1%</td>\n",
              "                </tr>\n",
              "            </table>\n",
              "        </div>\n",
              "    </div>\n",
              "</div>\n",
              "<div class=\"col-md-3 collapse in\" id=\"minihistogram-3824615101367644887\">\n",
              "    <img src=\"data:image/png;base64,iVBORw0KGgoAAAANSUhEUgAAAMgAAABLCAYAAAA1fMjoAAAABHNCSVQICAgIfAhkiAAAAAlwSFlzAAAPYQAAD2EBqD%2BnaQAAADl0RVh0U29mdHdhcmUAbWF0cGxvdGxpYiB2ZXJzaW9uIDMuMC4zLCBodHRwOi8vbWF0cGxvdGxpYi5vcmcvnQurowAAARdJREFUeJzt2MEJwkAARUEjKcki0pPn9GQR9rTeRR5EDFGZuS/8y2OzmcYY4wS8dD56AHyz%2BegBzy7X2%2BYz93XZYQm4QSAJBIJAIAgEgkAgCASCQCAIBIJAIAgEgkAgCASCQCAIBIJAIAgEgkAgCASCQCAIBIJAIAgEgkAgCASCQCAIBIJAIAgEgkAgCASCQCAIBIJAIAgEgkAgCASCQCAIBIJAIAgEwnz0gE%2B4XG%2Bbz9zXZYcl/Bs3CASBQBAIBIFA%2BItH%2Bjveedhv5UfA75vGGOPoEfCtfGJBEAgEgUAQCASBQBAIBIFAEAgEgUAQCASBQBAIBIFAEAgEgUAQCASBQBAIBIFAEAgEgUAQCASBQBAIBIFAeAAJsxGTxDV1%2BgAAAABJRU5ErkJggg%3D%3D\">\n",
              "\n",
              "</div>\n",
              "<div class=\"col-md-12 text-right\">\n",
              "    <a role=\"button\" data-toggle=\"collapse\" data-target=\"#descriptives-3824615101367644887,#minihistogram-3824615101367644887\"\n",
              "       aria-expanded=\"false\" aria-controls=\"collapseExample\">\n",
              "        Toggle details\n",
              "    </a>\n",
              "</div>\n",
              "<div class=\"row collapse col-md-12\" id=\"descriptives-3824615101367644887\">\n",
              "    <ul class=\"nav nav-tabs\" role=\"tablist\">\n",
              "        <li role=\"presentation\" class=\"active\"><a href=\"#quantiles-3824615101367644887\"\n",
              "                                                  aria-controls=\"quantiles-3824615101367644887\" role=\"tab\"\n",
              "                                                  data-toggle=\"tab\">Statistics</a></li>\n",
              "        <li role=\"presentation\"><a href=\"#histogram-3824615101367644887\" aria-controls=\"histogram-3824615101367644887\"\n",
              "                                   role=\"tab\" data-toggle=\"tab\">Histogram</a></li>\n",
              "        <li role=\"presentation\"><a href=\"#common-3824615101367644887\" aria-controls=\"common-3824615101367644887\"\n",
              "                                   role=\"tab\" data-toggle=\"tab\">Common Values</a></li>\n",
              "        <li role=\"presentation\"><a href=\"#extreme-3824615101367644887\" aria-controls=\"extreme-3824615101367644887\"\n",
              "                                   role=\"tab\" data-toggle=\"tab\">Extreme Values</a></li>\n",
              "\n",
              "    </ul>\n",
              "\n",
              "    <div class=\"tab-content\">\n",
              "        <div role=\"tabpanel\" class=\"tab-pane active row\" id=\"quantiles-3824615101367644887\">\n",
              "            <div class=\"col-md-4 col-md-offset-1\">\n",
              "                <p class=\"h4\">Quantile statistics</p>\n",
              "                <table class=\"stats indent\">\n",
              "                    <tr>\n",
              "                        <th>Minimum</th>\n",
              "                        <td>0</td>\n",
              "                    </tr>\n",
              "                    <tr>\n",
              "                        <th>5-th percentile</th>\n",
              "                        <td>0</td>\n",
              "                    </tr>\n",
              "                    <tr>\n",
              "                        <th>Q1</th>\n",
              "                        <td>0</td>\n",
              "                    </tr>\n",
              "                    <tr>\n",
              "                        <th>Median</th>\n",
              "                        <td>1</td>\n",
              "                    </tr>\n",
              "                    <tr>\n",
              "                        <th>Q3</th>\n",
              "                        <td>2</td>\n",
              "                    </tr>\n",
              "                    <tr>\n",
              "                        <th>95-th percentile</th>\n",
              "                        <td>4</td>\n",
              "                    </tr>\n",
              "                    <tr>\n",
              "                        <th>Maximum</th>\n",
              "                        <td>21</td>\n",
              "                    </tr>\n",
              "                    <tr>\n",
              "                        <th>Range</th>\n",
              "                        <td>21</td>\n",
              "                    </tr>\n",
              "                    <tr>\n",
              "                        <th>Interquartile range</th>\n",
              "                        <td>2</td>\n",
              "                    </tr>\n",
              "                </table>\n",
              "            </div>\n",
              "            <div class=\"col-md-4 col-md-offset-2\">\n",
              "                <p class=\"h4\">Descriptive statistics</p>\n",
              "                <table class=\"stats indent\">\n",
              "                    <tr>\n",
              "                        <th>Standard deviation</th>\n",
              "                        <td>1.4051</td>\n",
              "                    </tr>\n",
              "                    <tr>\n",
              "                        <th>Coef of variation</th>\n",
              "                        <td>1.1827</td>\n",
              "                    </tr>\n",
              "                    <tr>\n",
              "                        <th>Kurtosis</th>\n",
              "                        <td>15.758</td>\n",
              "                    </tr>\n",
              "                    <tr>\n",
              "                        <th>Mean</th>\n",
              "                        <td>1.1881</td>\n",
              "                    </tr>\n",
              "                    <tr>\n",
              "                        <th>MAD</th>\n",
              "                        <td>1.0021</td>\n",
              "                    </tr>\n",
              "                    <tr class=\"\">\n",
              "                        <th>Skewness</th>\n",
              "                        <td>2.5906</td>\n",
              "                    </tr>\n",
              "                    <tr>\n",
              "                        <th>Sum</th>\n",
              "                        <td>48521</td>\n",
              "                    </tr>\n",
              "                    <tr>\n",
              "                        <th>Variance</th>\n",
              "                        <td>1.9744</td>\n",
              "                    </tr>\n",
              "                    <tr>\n",
              "                        <th>Memory size</th>\n",
              "                        <td>319.1 KiB</td>\n",
              "                    </tr>\n",
              "                </table>\n",
              "            </div>\n",
              "        </div>\n",
              "        <div role=\"tabpanel\" class=\"tab-pane col-md-8 col-md-offset-2\" id=\"histogram-3824615101367644887\">\n",
              "            <img src=\"data:image/png;base64,iVBORw0KGgoAAAANSUhEUgAAAlgAAAGQCAYAAAByNR6YAAAABHNCSVQICAgIfAhkiAAAAAlwSFlzAAAPYQAAD2EBqD%2BnaQAAADl0RVh0U29mdHdhcmUAbWF0cGxvdGxpYiB2ZXJzaW9uIDMuMC4zLCBodHRwOi8vbWF0cGxvdGxpYi5vcmcvnQurowAAIABJREFUeJzt3XtYlHX%2B//EXMIIKDDAa1g9dcdVIDrplikuueEjdsiwLD3Qwy8oDSZBulkZabVlfIWvVS6M2v1ldNStZm%2BZpXbVsc3e/1TcbJtwSdW25NChnQgiV0%2B%2BP1vnupCnlR%2BeeeD6ui2u3z2fuz%2Bd984bL19z3DYQ0Nzc3CwAAAMaEBroAAACAnxoCFgAAgGEELAAAAMMIWAAAAIYRsAAAAAwjYAEAABhGwAIAADCMgAUAAGAYAQsAAMAwAhYAAIBhBCwAAADDCFgAAACGEbAAAAAMI2ABAAAYRsACAAAwjIAFAABgGAELAADAMAIWAACAYQQsAAAAwwhYAAAAhhGwAAAADCNgAQAAGEbAAgAAMIyABQAAYBgBCwAAwDACFgAAgGEELAAAAMMIWAAAAIYRsAAAAAwjYAEAABhGwAIAADCMgAUAAGAYAQsAAMAwAhYAAIBhBCwAAADDCFgAAACGEbAAAAAMI2ABAAAYRsACAAAwzBboAlqLqqrDxtcMDQ2RwxGpQ4dq1dTUbHx9nBn6Y230x9roj3UFW2/OOy86IPtyBSuIhYaGKCQkRKGhIYEuBSdBf6yN/lgb/bEuetMyBCwAAADDCFgAAACGEbAAAAAMI2ABAAAYRsACAAAwjIAFAABgGAELAADAMAIWAACAYQQsAAAAwwhYAAAAhhGwAAAADCNgAQAAGGbZgLVr1y7dcsst6tu3rzIyMpSXl6eqqir97W9/U1JSktLS0vw%2B1q9f7zt25cqVGjlypC655BJlZ2ertLTUN3f06FE9%2BOCDGjRokNLT05WbmyuPx%2BObr6io0J133qn09HQNGTJECxcuVFNT0zk9dwAAENxsgS7gZI4dO6bbbrtNN954o5599lnV1NTo7rvv1vz58zVx4kQlJCRoy5YtJz12y5YtWrx4sZ577jklJSVp5cqVmjp1qjZt2qT27dtr0aJFcrvdcjqdateunQoKCnT//fdr%2BfLlkqQZM2YoJSVFmzdv1ldffaUpU6aoY8eOuvXWW8/lp6DFLp27IdAltNj6vMsCXQIAAOeEJa9g1dXVKT8/X1OmTFF4eLgcDoeGDx%2Buzz777LTHOp1OXXfdderTp4/atm2r22%2B/XZK0detWNTQ0qKSkRNOnT9cFF1yg2NhY5eXladu2bfriiy/kcrm0a9cuzZo1S9HR0UpMTNSkSZPkdDrP9ikDAICfEEsGrJiYGI0dO1Y227cX2Pbs2aPXX39dV1xxhSSptrZWOTk5Sk9P169%2B9SutWLFCzc3NkiS3263k5GTfWqGhoerVq5dcLpf279%2Bvw4cPKyUlxTffvXt3tW3bVm63W263WwkJCYqJifHNp6SkaO/evaqpqTkXpw4AAH4CLHmL8LiKigqNHDlSDQ0NGjdunHJzc7Vr1y5deOGFuuWWW7Ro0SL9/e9/1913363o6GhlZWXJ6/X6BSTp28Dm8Xjk9XolSXa73W/ebrf75r87d3wtj8ejqKioFtVdWVmpqqoqvzGbrb3i4%2BN/0PmfTliYJfPx97LZgqveM3W8P8HWp9aC/lgb/bEuetMylg5YCQkJcrlc%2Buc//6kHH3xQ9957r4qKivTiiy/6XjNw4EBNmDBBq1evVlZWliT5rmZ9n1PNn%2B7YlnA6nVqyZInfWE5OjnJzc8947WAWFxcZ6BICwm5vF%2BgScAr0x9roj3XRm1OzdMCSpJCQECUmJio/P18TJkzQ3Llz5XA4/F6TkJCgjRs3SpLi4uJ8V6qO83q96tmzp%2B84r9eryMj/%2B8f%2B66%2B/VocOHdTY2HjSY0NCQk7Y81TGjx%2BvoUOH%2Bo3ZbO3l8dS2eI2WCLZ3D6bP3%2BrCwkJlt7dTdXWdGhv5SVSroT/WRn%2BsK9h6E6g395YMWDt27ND8%2BfO1fv16hYZ%2BGyKO/%2B/bb7%2Bturo63XDDDb7X79mzR126dJEkpaamyu12a8yYMZKkxsZGffLJJ8rKylKXLl0UExPje9ZKkj799FMdO3ZMqampqqys1IEDB3To0CFfoHK5XOrRo4dfIDud%2BPj4E24HVlUdVkOD9b8Qz6bWev6NjU2t9tyDAf2xNvpjXfTm1Cx5CSQ1NVU1NTVauHCh6urqdOjQIS1evFiXXnqpoqOj9cQTT%2Bjdd99VfX29/vKXv%2Bi1115Tdna2JCk7O1tvvPGGPvroI9XV1WnZsmUKDw/X4MGDFRYWpnHjxmn58uU6cOCAPB6PnnzySQ0fPlwdO3ZUcnKy0tLSVFRUpJqaGpWXl2vFihW%2BtQEAAFrCklewoqOj9fzzz%2Bu3v/2tBgwYoPbt22vAgAF69NFH1alTJ82ZM0ePPPKIDhw4oI4dO2rOnDkaMWKEJGnQoEG65557lJeXp6%2B%2B%2BkppaWkqLi5W27ZtJUm5ubmqra3VNddco4aGBg0ZMkTz58/37f273/1OBQUFuuyyyxQVFaUJEyb4XS0DAAA4nZBmE09147Sqqg4bX9NmC9Xwwu3G1z1bWtsvGrXZQhUXFymPp5bL6BZEf6yN/lhXsPXmvPOiA7KvJW8RAgAABDMCFgAAgGEELAAAAMMIWAAAAIYRsAAAAAwjYAEAABhGwAIAADCMgAUAAGAYAQsAAMAwAhYAAIBhBCwAAADDCFgAAACGEbAAAAAMI2ABAAAYRsACAAAwjIAFAABgGAELAADAMAIWAACAYQQsAAAAwwhYAAAAhhGwAAAADCNgAQAAGEbAAgAAMIyABQAAYBgBCwAAwDACFgAAgGEELAAAAMMIWAAAAIYRsAAAAAwjYAEAABhGwAIAADCMgAUAAGCYZQPWrl27dMstt6hv377KyMhQXl6eqqqqJEk7duxQVlaWLrnkEo0aNUpvvvmm37ErV67UyJEjdckllyg7O1ulpaW%2BuaNHj%2BrBBx/UoEGDlJ6ertzcXHk8Ht98RUWF7rzzTqWnp2vIkCFauHChmpqazs1JAwCAnwRLBqxjx47ptttuU//%2B/bVjxw6tXbtWX331lebPn6/KykpNnz5dEyZM0I4dOzR37lwVFBTI5XJJkrZs2aLFixfrv/7rv/Tee%2B9pyJAhmjp1qr755htJ0qJFi%2BR2u%2BV0OrVx40Y1Nzfr/vvv9%2B09Y8YMderUSZs3b9aKFSu0efNmvfDCCwH5PAAAgOBkyYBVV1en/Px8TZkyReHh4XI4HBo%2BfLg%2B%2B%2BwzrVmzRomJicrKylJERIQyMjI0dOhQrVq1SpLkdDp13XXXqU%2BfPmrbtq1uv/12SdLWrVvV0NCgkpISTZ8%2BXRdccIFiY2OVl5enbdu26YsvvpDL5dKuXbs0a9YsRUdHKzExUZMmTZLT6QzkpwMAAAQZSwasmJgYjR07VjabTZK0Z88evf7667riiivkdruVnJzs9/rk5GTfbcDvzoeGhqpXr15yuVzav3%2B/Dh8%2BrJSUFN989%2B7d1bZtW7ndbrndbiUkJCgmJsY3n5KSor1796qmpuZsnjIAAPgJsQW6gFOpqKjQyJEj1dDQoHHjxik3N1d33HGHOnXq5Pe62NhY33NUXq/XLyBJ3wY2j8cjr9crSbLb7X7zdrvdN//dueNreTweRUVFtajuyspK3/Nix9ls7RUfH9%2Bi41sqLMyS%2Bfh72WzBVe%2BZOt6fYOtTa0F/rI3%2BWBe9aRlLB6yEhAS5XC7985//1IMPPqh77723Rcc1Nzf/6PnTHdsSTqdTS5Ys8RvLyclRbm7uGa8dzOLiIgNdQkDY7e0CXQJOgf5YG/2xLnpzapYOWJIUEhKixMRE5efna8KECcrMzPRdiTrO4/HI4XBIkuLi4k6Y93q96tmzp%2B81Xq9XkZH/94/9119/rQ4dOqixsfGkx4aEhPiObYnx48dr6NChfmM2W3t5PLUtXqMlgu3dg%2Bnzt7qwsFDZ7e1UXV2nxkZ%2BEtVq6I%2B10R/rCrbeBOrNvSUD1o4dOzR//nytX79eoaHfhojj/9u7d29t3LjR7/WlpaXq06ePJCk1NVVut1tjxoyRJDU2NuqTTz5RVlaWunTpopiYGN%2BzVpL06aef6tixY0pNTVVlZaUOHDigQ4cO%2BQKVy%2BVSjx49/ALZ6cTHx59wO7Cq6rAaGqz/hXg2tdbzb2xsarXnHgzoj7XRH%2BuiN6dmyUsgqampqqmp0cKFC1VXV6dDhw5p8eLFuvTSS5Wdna2KigqtWrVKR48e1dtvv623335b48aNkyRlZ2frjTfe0EcffaS6ujotW7ZM4eHhGjx4sMLCwjRu3DgtX75cBw4ckMfj0ZNPPqnhw4erY8eOSk5OVlpamoqKilRTU6Py8nKtWLFC2dnZAf6MAACAYGLJgBUdHa3nn39epaWlGjBggEaNGqXo6Gg9%2BeST6tChg5555hm99NJL6tu3rx577DEtXLhQF110kSRp0KBBuueee5SXl6f%2B/fvrvffeU3Fxsdq2bStJys3NVZ8%2BfXTNNddo2LBhioyM1KOPPurb%2B3e/%2B50qKyt12WWXaeLEibr22mt1ww03BOTzAAAAglNIs4mnunFaVVWHja9ps4VqeOF24%2BueLevzLgt0CeeUzRaquLhIeTy1XEa3IPpjbfTHuoKtN%2BedFx2QfS15BQsAACCYEbAAAAAMI2ABAAAYRsACAAAwjIAFAABgGAELAADAMAIWAACAYQQsAAAAwwhYAAAAhhGwAAAADCNgAQAAGEbAAgAAMIyABQAAYBgBCwAAwDACFgAAgGEELAAAAMMIWAAAAIYRsAAAAAwjYAEAABhGwAIAADCMgAUAAGAYAQsAAMAwAhYAAIBhBCwAAADDCFgAAACGEbAAAAAMI2ABAAAYRsACAAAwjIAFAABgGAELAADAMAIWAACAYQQsAAAAwywbsCoqKpSTk6P09HRlZGTovvvuU3V1tf71r38pKSlJaWlpfh%2B///3vfceuW7dOV199tS6%2B%2BGJdd911evfdd31zTU1NWrRokYYNG6Z%2B/fpp8uTJ%2Bvzzz33zXq9XeXl5ysjI0MCBAzV37lwdOXLknJ47AAAIbpYNWFOnTpXdbteWLVu0evVqffbZZ3riiSd88y6Xy%2B9j8uTJkqSysjLNnj1bs2bN0l//%2BldNmjRJd911lw4ePChJevnll7VmzRoVFxdr69atSkxMVE5OjpqbmyVJBQUFqqur09q1a/Xaa6%2BpvLxchYWF5/4TAAAAgpYlA1Z1dbVSU1M1c%2BZMRUZG6vzzz9eYMWP0/vvvn/bYVatWKTMzU5mZmYqIiNDo0aN14YUX6s0335QkOZ1OTZo0Sd27d1dUVJTy8/NVXl6unTt36ssvv9TmzZuVn58vh8OhTp06afr06XrttddUX19/tk8bAAD8RFgyYNntdi1YsEAdO3b0jR04cEDx8fG%2B/7733ns1cOBADRgwQEVFRb4A5Ha7lZyc7LdecnKyXC6Xjhw5ot27d/vNR0VFqWvXrnK5XCorK1NYWJiSkpJ88ykpKfrmm2%2B0Z8%2Bes3W6AADgJ8YW6AJawuVy6aWXXtKyZcsUHh6uiy%2B%2BWMOHD9ejjz6qsrIyzZgxQzabTXfffbe8Xq9iYmL8jo%2BJidHu3bv19ddfq7m5%2BaTzHo9HsbGxioqKUkhIiN%2BcJHk8nhbXW1lZqaqqKr8xm629X0A0ISzMkvn4e9lswVXvmTren2DrU2tBf6yN/lgXvWkZywesDz74QNOmTdPMmTOVkZEhSXr11Vd9871799aUKVP0zDPP6O6775Yk3/NU3%2BdU86c7tiWcTqeWLFniN5aTk6Pc3NwzXjuYxcVFBrqEgLDb2wW6BJwC/bE2%2BmNd9ObULB2wtmzZot/85jcqKCjQtdde%2B72vS0hI0Jdffqnm5mbFxcXJ6/X6zXu9XjkcDsXGxio0NPSk8x06dJDD4VBNTY0aGxsVFhbmm5OkDh06tLju8ePHa%2BjQoX5jNlt7eTy1LV6jJYLt3YPp87e6sLBQ2e3tVF1dp8bGpkCXg%2B%2BgP9ZGf6wr2HoTqDf3lg1YH374oWbPnq2nn35aAwcO9I3v2LFDH330kaZNm%2BYb27NnjxISEhQSEqLU1FSVlpb6reVyuTRq1ChFRESoZ8%2Becrvd6t%2B/v6RvH6jfv3%2B/evfurYSEBDU3N2vXrl1KSUnxHWu329WtW7cW1x4fH3/C7cCqqsNqaLD%2BF%2BLZ1FrPv7GxqdWeezCgP9ZGf6yL3pyaJS%2BBNDQ06IEHHtCsWbP8wpUkRUdHa%2BnSpfrjH/%2Bo%2Bvp6uVwu/f73v1d2drYkady4cXrvvfe0bds2HT16VCUlJdq3b59Gjx4tScrOztbKlStVXl6umpoaFRYWqlevXkpLS5PD4dDIkSP11FNP6dChQzp48KCWLl2qrKws2WyWzaIAAMBiQppNPHRk2Pvvv68bb7xR4eHhJ8xt2LBBn3zyiZYsWaJ9%2B/YpOjpaN998s%2B644w6Fhn6bFzdt2qSioiJVVFSoR48emjt3rvr16yfp22esFi9erFdffVW1tbVKT0/Xww8/rPPPP1%2BSdPjwYc2bN09bt25VmzZtdNVVV%2Bm%2B%2B%2B47aS0/RFXV4TM6/mRstlANL9xufN2zZX3eZYEu4Zyy2UIVFxcpj6eWd3kWRH%2Bsjf5YV7D15rzzogOyryUD1k8RAYuABWuhP9ZGf6wr2HoTqIBlyVuEAAAAwYyABQAAYBgBCwAAwDACFgAAgGEELAAAAMMIWAAAAIYRsAAAAAwjYAEAABhGwAIAADCMgAUAAGAYAQsAAMAwAhYAAIBhBCwAAADDCFgAAACGEbAAAAAMI2ABAAAYZjxgDR06VEuWLNGBAwdMLw0AABAUjAes66%2B/XuvWrdPll1%2Bu22%2B/XZs2bVJDQ4PpbQAAACzLeMDKycnRunXr9Ic//EE9e/bUY489pszMTC1cuFB79%2B41vR0AAIDlnLVnsFJSUjR79mxt3bpVc%2BbM0R/%2B8AddeeWVmjx5sj7%2B%2BOOztS0AAEDAnbWAVV9fr3Xr1umOO%2B7Q7Nmz1alTJ91///3q1auXJk2apDVr1pytrQEAAALKZnrB8vJylZSU6I033lBtba1GjhypF154QX379vW9pl%2B/fpo/f76uvvpq09sDAAAEnPGANWrUKHXr1k1TpkzRtddeq9jY2BNek5mZqUOHDpneGgAAwBKMB6yVK1eqf//%2Bp33dzp07TW8NAABgCcafwUpKStLUqVO1efNm39h///d/64477pDX6zW9HQAAgOUYD1gLFizQ4cOH1aNHD9/Y4MGD1dTUpMcff9z0dgAAAJZj/Bbhu%2B%2B%2BqzVr1iguLs43lpiYqMLCQl111VWmtwMAALAc41ewjhw5ooiIiBM3Cg1VXV2d6e0AAAAsx3jA6tevnx5//HF9/fXXvrEvvvhCDz30kN%2BvagAAAPipMn6LcM6cObrtttv0y1/%2BUlFRUWpqalJtba26dOmiF1980fR2AAAAlmM8YHXp0kVvvfWW3nnnHe3fv1%2BhoaHq1q2bBg4cqLCwMNPbAQAAWI7xgCVJ4eHhuvzyy8/G0gAAAJZnPGB9/vnnKioq0meffaYjR46cMP/nP/%2B5RetUVFToscce0/vvv6%2BwsDANGjRIc%2BbMkd1uV1lZmR599FGVlZWpQ4cOmjBhgm677TbfsevWrdOyZcv0r3/9S926ddM999yjgQMHSpKampr09NNPa%2B3ataqurlbv3r01f/58denSRZLk9Xo1f/58/f3vf1doaKgyMzNVUFCgtm3bGvjsAACA1sD4Q%2B5z5sxRWVmZBgwYoCuvvPKEj5aaOnWq7Ha7tmzZotWrV%2Buzzz7TE088oSNHjmjKlCkaMGCAtm/frkWLFumZZ57Rpk2bJEllZWWaPXu2Zs2apb/%2B9a%2BaNGmS7rrrLh08eFCS9PLLL2vNmjUqLi7W1q1blZiYqJycHDU3N0uSCgoKVFdXp7Vr1%2Bq1115TeXm5CgsLTX%2BaAADAT5jxK1ilpaX685//LIfD8aPXqK6uVmpqqmbOnKnIyEhFRkZqzJgxevHFF7Vt2zbV19dr2rRpCgsLU0pKisaOHSun06kRI0Zo1apVyszMVGZmpiRp9OjReumll/Tmm2/qzjvvlNPp1KRJk9S9e3dJUn5%2BvtLT07Vz50517txZmzdv1uuvv%2B6rf/r06br77rs1e/ZstWnT5sw/QQAA4CfP%2BBWsDh06qH379me0ht1u14IFC9SxY0ff2IEDBxQfHy%2B3262kpCS/B%2BaTk5NVWloqSXK73UpOTvZbLzk5WS6XS0eOHNHu3bv95qOiotS1a1e5XC6VlZUpLCxMSUlJvvmUlBR988032rNnzxmdEwAAaD2MX8GaMmWKlixZopkzZyokJMTImi6XSy%2B99JKWLVum9evXy263%2B83HxsbK6/WqqalJXq9XMTExfvMxMTHavXu3vv76azU3N5903uPxKDY2VlFRUX51H3%2Btx%2BNpcb2VlZWqqqryG7PZ2is%2BPr7Fa7REWJjxfHxW2WzBVe%2BZOt6fYOtTa0F/rI3%2BWBe9aRnjAeudd97Rhx9%2BqNWrV6tz584KDfVvwKuvvvqD1vvggw80bdo0zZw5UxkZGVq/fv1JX/efoej481Tf51Tzpzu2JZxOp5YsWeI3lpOTo9zc3DNeO5jFxUUGuoSAsNvbBboEnAL9sTb6Y1305tSMB6yoqCgNGjTIyFpbtmzRb37zGxUUFOjaa6%2BVJDkcDu3bt8/vdV6vV7GxsQoNDVVcXJy8Xu8J8w6Hw/eak8136NBBDodDNTU1amxs9N2CPP7aDh06tLju8ePHa%2BjQoX5jNlt7eTy1LV6jJYLt3YPp87e6sLBQ2e3tVF1dp8bGpkCXg%2B%2BgP9ZGf6wr2HoTqDf3xgPWggULjKzz4Ycfavbs2Xr66ad9v2JBklJTU/XKK6%2BooaFBNtu35btcLvXp08c3f/x5rONcLpdGjRqliIgI9ezZU263W/3795f07QP1%2B/fvV%2B/evZWQkKDm5mbt2rVLKSkpvmPtdru6devW4trj4%2BNPuB1YVXVYDQ3W/0I8m1rr%2BTc2NrXacw8G9Mfa6I910ZtTOyuXQPbs2aPFixfr/vvv94397//%2Bb4uPb2ho0AMPPKBZs2b5hStJyszMVFRUlJYtW6a6ujrt3LlTJSUlys7OliSNGzdO7733nrZt26ajR4%2BqpKRE%2B/bt0%2BjRoyVJ2dnZWrlypcrLy1VTU6PCwkL16tVLaWlpcjgcGjlypJ566ikdOnRIBw8e1NKlS5WVleULcwAAAKcT0mzioaP/sGPHDt1xxx3q1q2b9u3bJ5fLpc8//1xXXnmlnnrqKQ0bNuy0a7z//vu68cYbFR4efsLchg0bVFtbq3nz5qm0tFQdO3bUHXfcoRtuuMH3mk2bNqmoqEgVFRXq0aOH5s6dq379%2Bkn69hmrxYsX69VXX1Vtba3S09P18MMP6/zzz5ckHT58WPPmzdPWrVvVpk0bXXXVVbrvvvtOWssPUVV1%2BIyOPxmbLVTDC7cbX/dsWZ93WaBLOKdstlDFxUXK46nlXZ4F0R9roz/WFWy9Oe%2B86IDsazxgjRs3TqNGjdItt9yi3r176%2BOPP5YkvfXWW/r973%2Bv1atXm9wuaBCwCFiwFvpjbfTHuoKtN4EKWMZvEX766ae%2B23X/%2BZN9v/71r1VeXm56OwAAAMsxHrCio6NP%2BjcIKysrz/g2GwAAQDAwHrAuueQSPfbYY6qpqfGN7d27V7Nnz9Yvf/lL09sBAABYjvEfjbv//vt1yy23KD09XY2NjbrkkktUV1ennj176vHHHze9HQAAgOUYD1jnn3%2B%2B1q5dq7ffflt79%2B5V27Zt1a1bN1122WXG/nQOAACAlZ2VX%2B7Upk0bXX755WdjaQAAAMszHrCGDh16yitVf/7zn01vCQAAYCnGA9aVV17pF7AaGxu1d%2B9euVwu3XLLLaa3AwAAsBzjAWvWrFknHd%2B4caP%2B9re/md4OAADAcs7K3yI8mcsvv1xvvfXWudoOAAAgYM5ZwPrkk09k%2BK/yAAAAWJLxW4QTJkw4Yayurk7l5eUaMWKE6e0AAAAsx3jASkxMPOGnCCMiIpSVlaWxY8ea3g4AAMByjAcsfls7AABo7YwHrDfeeKPFr7322mtNbw8AABBwxgPW3Llz1dTUdMID7SEhIX5jISEhBCwAAPCTZDxgPffcc3r%2B%2Bec1depUJSUlqbm5Wf/4xz/07LPP6qabblJ6errpLQEAACzlrDyDVVxcrE6dOvnGLr30UnXp0kWTJ0/W2rVrTW8JAABgKcZ/D9a%2BffsUExNzwrjdbldFRYXp7QAAACzHeMBKSEjQ448/Lo/H4xurrq5WUVGRfvazn5neDgAAwHKM3yKcM2eOZs6cKafTqcjISIWGhqqmpkZt27bV0qVLTW8HAABgOcYD1sCBA7Vt2za9/fbbOnjwoJqbm9WpUyf96le/UnR0tOntAAAALMd4wJKkdu3aadiwYTp48KC6dOlyNrYAAACwLOPPYB05ckSzZ8/WxRdfrCuuuELSt89g3X777aqurja9HQAAgOUYD1gLFy5UWVmZCgsLFRr6f8s3NjaqsLDQ9HYAAACWYzxgbdy4Ub/73e/061//2vdHn%2B12uxYsWKBNmzaZ3g4AAMByjAes2tpaJSYmnjDucDj0zTffmN4OAADAcowHrJ/97Gf629/%2BJkl%2Bf3tww4YN%2Bn//7/%2BZ3g4AAMByjP8U4Q033KAZM2bo%2BuuvV1NTk1asWKHS0lJt3LhRc%2BfONb0dAACA5RgPWOPHj5fNZtNLL72ksLAwLV%2B%2BXN26dVNhYaF%2B/etfm94OAADAcowHrEOHDun666/X9ddfb3ppAACAoGD8Gaxhw4b5PXsFAADQ2hgPWOnp6Vq/fr2RtbZv366MjAzl5%2Bf7ja9evVoXXXSR0tLS/D4%2B/vhjSVJTU5MWLVqkYcOGqV%2B/fpo8ebI%2B//xz3/Fer1d5eXnKyMjQwIEDNXfuXB05csQ3X1ZWpptuukl9%2B/bViBEj9Pzzzxs5HwAA0DoYv0V4wQUX6NFHH1VxcbF%2B9rOfqU2bNn7zRUVFLVrn2WefVUlJibpDGGTAAAAXvklEQVR27XrS%2BX79%2BunFF1886dzLL7%2BsNWvW6Nlnn1WnTp20aNEi5eTk6I9//KNCQkJUUFCgY8eOae3ataqvr9fdd9%2BtwsJCPfDAAzpy5IimTJmicePGqbi4WHv37tVtt92mzp07a8SIET/skwEAAFol41ewdu/erZ///OeKjo6Wx%2BNRZWWl30dLRUREnDJgnYrT6dSkSZPUvXt3RUVFKT8/X%2BXl5dq5c6e%2B/PJLbd68Wfn5%2BXI4HOrUqZOmT5%2Bu1157TfX19dq2bZvq6%2Bs1bdo0tW/fXikpKRo7dqycTucPrgMAALROxq5g5efna9GiRX5XlZYuXaqcnJwftd7EiRNPOX/gwAHdeuutKi0tld1uV25urq655hodOXJEu3fvVnJysu%2B1UVFR6tq1q1wulw4fPqywsDAlJSX55lNSUvTNN99oz549crvdSkpKUlhYmG8%2BOTlZq1at%2BlHnAQAAWh9jAWvLli0njBUXF//ogHUqDodDiYmJuueee9SjRw/96U9/0r333qv4%2BHj9/Oc/V3Nzs2JiYvyOiYmJkcfjUWxsrKKionx/xuf4nCR5PB55vV7Z7Xa/Y2NjY%2BX1etXU1OT39xW/T2VlpaqqqvzGbLb2io%2BP/7GnfFJhYcYvQJ5VNltw1Xumjvcn2PrUWtAfa6M/1kVvWsZYwDrZTw6erZ8mHDx4sAYPHuz771GjRulPf/qTVq9erVmzZp127x9T138GstNxOp1asmSJ31hOTo5yc3N/8L4/JXFxkYEuISDs9naBLgGnQH%2Bsjf5YF705NWMB62QB5IeEkjOVkJCg0tJSxcbGKjQ0VF6v12/e6/WqQ4cOcjgcqqmpUWNjo%2B824PHXHp/ft2/fCcceX7clxo8fr6FDh/qN2Wzt5fHU/sizO7lge/dg%2BvytLiwsVHZ7O1VX16mxsSnQ5eA76I%2B10R/rCrbeBOrNvfGfIjwXXnnlFcXExOjKK6/0jZWXl6tLly6KiIhQz5495Xa71b9/f0lSdXW19u/fr969eyshIUHNzc3atWuXUlJSJEkul0t2u13dunVTamqqXnnlFTU0NMhms/nm%2B/Tp0%2BL64uPjT7gdWFV1WA0N1v9CPJta6/k3Nja12nMPBvTH2uiPddGbUwuuSyD/duzYMT3yyCNyuVyqr6/X2rVr9c4772jChAmSpOzsbK1cuVLl5eWqqalRYWGhevXqpbS0NDkcDo0cOVJPPfWUDh06pIMHD2rp0qXKysqSzWZTZmamoqKitGzZMtXV1Wnnzp0qKSlRdnZ2gM8aAAAEC2NXsOrr6zVz5szTjrX092ClpaVJkhoaGiRJmzdvlvTt1aSJEyeqtrZWd999t6qqqtS5c2ctXbpUqampkqQJEyaoqqpKN998s2pra5Wenu73TNTDDz%2BsefPmadiwYWrTpo2uuuoq3y8zDQ8P1/LlyzVv3jwVFxerY8eOys/P93vmCwAA4FRCmg09iX7zzTe36HXf98tBf%2Bqqqg4bX9NmC9Xwwu3G1z1b1uddFugSzimbLVRxcZHyeGq5jG5B9Mfa6I91BVtvzjsvOiD7GruC1VqDEwAAwHcF5TNYAAAAVkbAAgAAMIyABQAAYBgBCwAAwDACFgAAgGEELAAAAMMIWAAAAIYRsAAAAAwjYAEAABhGwAIAADCMgAUAAGAYAQsAAMAwAhYAAIBhBCwAAADDCFgAAACGEbAAAAAMI2ABAAAYRsACAAAwjIAFAABgGAELAADAMAIWAACAYQQsAAAAwwhYAAAAhhGwAAAADCNgAQAAGEbAAgAAMIyABQAAYBgBCwAAwDACFgAAgGEELAAAAMMIWAAAAIZZOmBt375dGRkZys/PP2Fu3bp1uvrqq3XxxRfruuuu07vvvuuba2pq0qJFizRs2DD169dPkydP1ueff%2B6b93q9ysvLU0ZGhgYOHKi5c%2BfqyJEjvvmysjLddNNN6tu3r0aMGKHnn3/%2B7J4oAAD4SbFswHr22Wf129/%2BVl27dj1hrqysTLNnz9asWbP017/%2BVZMmTdJdd92lgwcPSpJefvllrVmzRsXFxdq6dasSExOVk5Oj5uZmSVJBQYHq6uq0du1avfbaayovL1dhYaEk6ciRI5oyZYoGDBig7du3a9GiRXrmmWe0adOmc3fyAAAgqFk2YEVERKikpOSkAWvVqlXKzMxUZmamIiIiNHr0aF144YV68803JUlOp1OTJk1S9%2B7dFRUVpfz8fJWXl2vnzp368ssvtXnzZuXn58vhcKhTp06aPn26XnvtNdXX12vbtm2qr6/XtGnT1L59e6WkpGjs2LFyOp3n%2BlMAAACClGUD1sSJExUdHX3SObfbreTkZL%2Bx5ORkuVwuHTlyRLt37/abj4qKUteuXeVyuVRWVqawsDAlJSX55lNSUvTNN99oz549crvdSkpKUlhYmN/apaWlhs8QAAD8VNkCXcCP4fV6FRMT4zcWExOj3bt36%2Buvv1Zzc/NJ5z0ej2JjYxUVFaWQkBC/OUnyeDzyer2y2%2B1%2Bx8bGxsrr9aqpqUmhoafPpJWVlaqqqvIbs9naKz4%2B/ged5%2BmEhVk2H5%2BUzRZc9Z6p4/0Jtj61FvTH2uiPddGblgnKgCXJ9zzVj5k/3bEn85%2BB7HScTqeWLFniN5aTk6Pc3NwfvO9PSVxcZKBLCAi7vV2gS8Ap0B9roz/WRW9OLSgDVlxcnLxer9%2BY1%2BuVw%2BFQbGysQkNDTzrfoUMHORwO1dTUqLGx0Xcb8Phrj8/v27fvhGOPr9sS48eP19ChQ/3GbLb28nhqf8hpnlawvXswff5WFxYWKru9naqr69TY2BTocvAd9Mfa6I91BVtvAvXmPigDVmpq6gnPRLlcLo0aNUoRERHq2bOn3G63%2BvfvL0mqrq7W/v371bt3byUkJKi5uVm7du1SSkqK71i73a5u3bopNTVVr7zyihoaGmSz2Xzzffr0aXF98fHxJ9wOrKo6rIYG638hnk2t9fwbG5ta7bkHA/pjbfTHuujNqQXXJZB/GzdunN577z1t27ZNR48eVUlJifbt26fRo0dLkrKzs7Vy5UqVl5erpqZGhYWF6tWrl9LS0uRwODRy5Eg99dRTOnTokA4ePKilS5cqKytLNptNmZmZioqK0rJly1RXV6edO3eqpKRE2dnZAT5rAAAQLCx7BSstLU2S1NDQIEnavHmzpG%2BvJl144YUqLCzUggULVFFRoR49euiZZ57ReeedJ0maMGGCqqqqdPPNN6u2tlbp6el%2Bz0Q9/PDDmjdvnoYNG6Y2bdroqquu8v0y0/DwcC1fvlzz5s1TcXGxOnbsqPz8fA0ePPgcnj0AAAhmIc0/5olv/GBVVYeNr2mzhWp44Xbj654t6/MuC3QJ55TNFqq4uEh5PLVcRrcg%2BmNt9Me6gq0355138l/5dLYF5S1CAAAAKyNgAQAAGEbAAgAAMIyABQAAYBgBCwAAwDACFgAAgGEELAAAAMMIWAAAAIYRsAAAAAwjYAEAABhGwAIAADCMgAUAAGAYAQsAAMAwAhYAAIBhBCwAAADDCFgAAACGEbAAAAAMI2ABAAAYRsACAAAwjIAFAABgGAELAADAMAIWAACAYQQsAAAAwwhYAAAAhhGwAAAADCNgAQAAGEbAAgAAMIyABQAAYBgBCwAAwDACFgAAgGEELAAAAMMIWAAAAIYFbcBKSkpSamqq0tLSfB%2BPPPKIJGnHjh3KysrSJZdcolGjRunNN9/0O3blypUaOXKkLrnkEmVnZ6u0tNQ3d/ToUT344IMaNGiQ0tPTlZubK4/Hc07PDQAABDdboAs4Exs2bFDnzp39xiorKzV9%2BnTNnTtXV199tT744ANNmzZN3bp1U1pamrZs2aLFixfrueeeU1JSklauXKmpU6dq06ZNat%2B%2BvRYtWiS32y2n06l27dqpoKBA999/v5YvXx6gswQAAMEmaK9gfZ81a9YoMTFRWVlZioiIUEZGhoYOHapVq1ZJkpxOp6677jr16dNHbdu21e233y5J2rp1qxoaGlRSUqLp06frggsuUGxsrPLy8rRt2zZ98cUXgTwtAAAQRII6YBUVFWnw4MG69NJLVVBQoNraWrndbiUnJ/u9Ljk52Xcb8LvzoaGh6tWrl1wul/bv36/Dhw8rJSXFN9%2B9e3e1bdtWbrf73JwUAAAIekF7i/AXv/iFMjIy9MQTT%2Bjzzz9XXl6eHnroIXm9XnXq1MnvtbGxsb7nqLxer2JiYvzmY2Ji5PF45PV6JUl2u91v3m63/6DnsCorK1VVVeU3ZrO1V3x8fIvXaImwsODKxzZbcNV7po73J9j61FrQH2ujP9ZFb1omaAOW0%2Bn0/f/u3btr1qxZmjZtmvr27XvaY5ubm89oviW1LVmyxG8sJydHubm5Z7RusIuLiwx0CQFht7cLdAk4BfpjbfTHuujNqQVtwPquzp07q7GxUaGhob4rUcd5PB45HA5JUlxc3AnzXq9XPXv29L3G6/UqMvL/wsDXX3%2BtDh06tLiW8ePHa%2BjQoX5jNlt7eTy1P%2BicTifY3j2YPn%2BrCwsLld3eTtXVdWpsbAp0OfgO%2BmNt9Me6gq03gXpzH5QB65NPPtGbb76p%2B%2B67zzdWXl6u8PBwZWZm6vXXX/d7fWlpqfr06SNJSk1Nldvt1pgxYyRJjY2N%2BuSTT5SVlaUuXbooJiZGbrdbCQkJkqRPP/1Ux44dU2pqaovri4%2BPP%2BF2YFXVYTU0WP8L8Wxqreff2NjUas89GNAfa6M/1kVvTi24LoH8W4cOHeR0OlVcXKxjx45p7969evrppzV%2B/Hhdc801qqio0KpVq3T06FG9/fbbevvttzVu3DhJUnZ2tt544w199NFHqqur07JlyxQeHq7BgwcrLCxM48aN0/Lly3XgwAF5PB49%2BeSTGj58uDp27BjgswYAAMEiKK9gderUScXFxSoqKvIFpDFjxig/P18RERF65pln9Nvf/lYPPfSQEhIStHDhQl100UWSpEGDBumee%2B5RXl6evvrqK6Wlpam4uFht27aVJOXm5qq2tlbXXHONGhoaNGTIEM2fPz%2BAZwsAAIJNSPOZPtGNFqmqOmx8TZstVMMLtxtf92xZn3dZoEs4p2y2UMXFRcrjqeUyugXRH2ujP9YVbL0577zogOwblFewEJyueOovgS7hB2ltgRAAYE5QPoMFAABgZQQsAAAAwwhYAAAAhhGwAAAADCNgAQAAGEbAAgAAMIyABQAAYBgBCwAAwDACFgAAgGEELAAAAMMIWAAAAIYRsAAAAAwjYAEAABhGwAIAADCMgAUAAGAYAQsAAMAwAhYAAIBhBCwAAADDCFgAAACGEbAAAAAMI2ABAAAYRsACAAAwjIAFAABgGAELAADAMAIWAACAYQQsAAAAwwhYAAAAhhGwAAAADCNgAQAAGGYLdAGAVV3x1F8CXcIPsj7vskCXAAD4N65gAQAAGEbAAgAAMIyAdRIVFRW68847lZ6eriFDhmjhwoVqamoKdFkAACBI8AzWScyYMUMpKSnavHmzvvrqK02ZMkUdO3bUrbfeGujSAABAECBgfYfL5dKuXbu0YsUKRUdHKzo6WpMmTdILL7xAwIKlBdND%2BTyQD%2BCnjoD1HW63WwkJCYqJifGNpaSkaO/evaqpqVFUVNRp16isrFRVVZXfmM3WXvHx8UZrDQvjDi%2BCk80W%2BK/d498/fB9ZE/2xLnrTMgSs7/B6vbLb7X5jx8OWx%2BNpUcByOp1asmSJ39hdd92lGTNmmCtU3wa5W87/TOPHjzce3nDmKisr5XQ66Y9FVVZW6oUXnqM/FkV/rIvetAzx8ySam5vP6Pjx48dr9erVfh/jx483VN3/qaqq0pIlS064WgZroD/WRn%2Bsjf5YF71pGa5gfYfD4ZDX6/Ub83q9CgkJkcPhaNEa8fHxpHoAAFoxrmB9R2pqqg4cOKBDhw75xlwul3r06KHIyMgAVgYAAIIFAes7kpOTlZaWpqKiItXU1Ki8vFwrVqxQdnZ2oEsDAABBImz%2B/PnzA12E1fzqV7/S2rVr9cgjj%2Bitt95SVlaWJk%2BerJCQkECXdoLIyEj179%2Bfq2sWRX%2Bsjf5YG/2xLnpzeiHNZ/pENwAAAPxwixAAAMAwAhYAAIBhBCwAAADDCFgAAACGEbAAAAAMI2ABAAAYRsACAAAwjIAFAABgGAELAADAMAJWEKqoqNCdd96p9PR0DRkyRAsXLlRTU1Ogy8K/JSUlKTU1VWlpab6PRx55JNBltWrbt29XRkaG8vPzT5hbt26drr76al188cW67rrr9O677wagwtbt%2B/qzevVqXXTRRX7fS2lpafr4448DVGnrU1FRoZycHKWnpysjI0P33XefqqurJUllZWW66aab1LdvX40YMULPP/98gKu1FlugC8APN2PGDKWkpGjz5s366quvNGXKFHXs2FG33nproEvDv23YsEGdO3cOdBmQ9Oyzz6qkpERdu3Y9Ya6srEyzZ8/WkiVLNGDAAG3cuFF33XWXNmzYoPPPPz8A1bY%2Bp%2BqPJPXr108vvvjiOa4Kx02dOlWpqanasmWLDh8%2BrJycHD3xxBMqKCjQlClTNG7cOBUXF2vv3r267bbb1LlzZ40YMSLQZVsCV7CCjMvl0q5duzRr1ixFR0crMTFRkyZNktPpDHRpgCVFRER87z/gq1atUmZmpjIzMxUREaHRo0frwgsv1JtvvhmASlunU/UHgVVdXa3U1FTNnDlTkZGROv/88zVmzBi9//772rZtm%2Brr6zVt2jS1b99eKSkpGjt2LP8W/QcCVpBxu91KSEhQTEyMbywlJUV79%2B5VTU1NACvDfyoqKtLgwYN16aWXqqCgQLW1tYEuqdWaOHGioqOjTzrndruVnJzsN5acnCyXy3UuSoNO3R9JOnDggG699Vb169dPw4YN0x//%2BMdzWF3rZrfbtWDBAnXs2NE3duDAAcXHx8vtdispKUlhYWG%2BueTkZJWWlgaiVEsiYAUZr9cru93uN3Y8bHk8nkCUhO/4xS9%2BoYyMDG3atElOp1MfffSRHnrooUCXhZPwer1%2Bb1akb7%2Bf%2BF6yBofDocTERP3mN7/RX/7yF91zzz2aM2eOduzYEejSWiWXy6WXXnpJ06ZNO%2Bm/RbGxsfJ6vTwT/G8ErCDU3Nwc6BJwCk6nU2PHjlV4eLi6d%2B%2BuWbNmae3atTp27FigS8NJ8P1kXYMHD9Zzzz2n5ORkhYeHa9SoURo%2BfLhWr14d6NJanQ8%2B%2BECTJ0/WzJkzlZGR8b2vCwkJOYdVWRsBK8g4HA55vV6/Ma/Xq5CQEDkcjgBVhVPp3LmzGhsb9dVXXwW6FHxHXFzcSb%2Bf%2BF6yroSEBFVWVga6jFZly5YtuvPOOzVnzhxNnDhR0rf/Fn33Sq/X61VsbKxCQ4kWEgEr6KSmpurAgQM6dOiQb8zlcqlHjx6KjIwMYGWQpE8%2B%2BUSPP/6431h5ebnCw8MVHx8foKrwfVJTU094ZsTlcqlPnz4Bqgj/6ZVXXtG6dev8xsrLy9WlS5cAVdT6fPjhh5o9e7aefvppXXvttb7x1NRU/eMf/1BDQ4NvjO8dfwSsIJOcnKy0tDQVFRWppqZG5eXlWrFihbKzswNdGiR16NBBTqdTxcXFOnbsmPbu3aunn35a48eP93sYFNYwbtw4vffee9q2bZuOHj2qkpIS7du3T6NHjw50aZB07NgxPfLII3K5XKqvr9fatWv1zjvvaMKECYEurVVoaGjQAw88oFmzZmngwIF%2Bc5mZmYqKitKyZctUV1ennTt3qqSkhH%2BL/kNIMw8gBJ2DBw%2BqoKBAf//73xUVFaUJEyborrvu4t63RfzP//yPioqK9I9//EPh4eEaM2aM8vPzFREREejSWqW0tDRJ8r3Tttm%2B/fV/x39ScNOmTSoqKlJFRYV69OihuXPnql%2B/foEpthU6VX%2Bam5u1bNkylZSUqKqqSp07d9a9996rIUOGBKze1uT999/XjTfeqPDw8BPmNmzYoNraWs2bN0%2BlpaXq2LGj7rjjDt1www0BqNSaCFgAAACGcYsQAADAMAIWAACAYQQsAAAAwwhYAAAAhhGwAAAADCNgAQAAGEbAAgAAMIyABQAAYBgBCwAAwDACFgAAgGEELAAAAMMIWAAAAIYRsAAAAAz7/81ZXZqTCmXzAAAAAElFTkSuQmCC\"/>\n",
              "        </div>\n",
              "        <div role=\"tabpanel\" class=\"tab-pane col-md-12\" id=\"common-3824615101367644887\">\n",
              "            \n",
              "<table class=\"freq table table-hover\">\n",
              "    <thead>\n",
              "    <tr>\n",
              "        <td class=\"fillremaining\">Value</td>\n",
              "        <td class=\"number\">Count</td>\n",
              "        <td class=\"number\">Frequency (%)</td>\n",
              "        <td style=\"min-width:200px\">&nbsp;</td>\n",
              "    </tr>\n",
              "    </thead>\n",
              "    <tr class=\"\">\n",
              "        <td class=\"fillremaining\">0</td>\n",
              "        <td class=\"number\">15134</td>\n",
              "        <td class=\"number\">37.1%</td>\n",
              "        <td>\n",
              "            <div class=\"bar\" style=\"width:100%\">&nbsp;</div>\n",
              "        </td>\n",
              "</tr><tr class=\"\">\n",
              "        <td class=\"fillremaining\">1</td>\n",
              "        <td class=\"number\">13196</td>\n",
              "        <td class=\"number\">32.3%</td>\n",
              "        <td>\n",
              "            <div class=\"bar\" style=\"width:87%\">&nbsp;</div>\n",
              "        </td>\n",
              "</tr><tr class=\"\">\n",
              "        <td class=\"fillremaining\">2</td>\n",
              "        <td class=\"number\">7092</td>\n",
              "        <td class=\"number\">17.4%</td>\n",
              "        <td>\n",
              "            <div class=\"bar\" style=\"width:47%\">&nbsp;</div>\n",
              "        </td>\n",
              "</tr><tr class=\"\">\n",
              "        <td class=\"fillremaining\">3</td>\n",
              "        <td class=\"number\">3053</td>\n",
              "        <td class=\"number\">7.5%</td>\n",
              "        <td>\n",
              "            <div class=\"bar\" style=\"width:20%\">&nbsp;</div>\n",
              "        </td>\n",
              "</tr><tr class=\"\">\n",
              "        <td class=\"fillremaining\">4</td>\n",
              "        <td class=\"number\">1264</td>\n",
              "        <td class=\"number\">3.1%</td>\n",
              "        <td>\n",
              "            <div class=\"bar\" style=\"width:9%\">&nbsp;</div>\n",
              "        </td>\n",
              "</tr><tr class=\"\">\n",
              "        <td class=\"fillremaining\">5</td>\n",
              "        <td class=\"number\">530</td>\n",
              "        <td class=\"number\">1.3%</td>\n",
              "        <td>\n",
              "            <div class=\"bar\" style=\"width:4%\">&nbsp;</div>\n",
              "        </td>\n",
              "</tr><tr class=\"\">\n",
              "        <td class=\"fillremaining\">6</td>\n",
              "        <td class=\"number\">269</td>\n",
              "        <td class=\"number\">0.7%</td>\n",
              "        <td>\n",
              "            <div class=\"bar\" style=\"width:2%\">&nbsp;</div>\n",
              "        </td>\n",
              "</tr><tr class=\"\">\n",
              "        <td class=\"fillremaining\">7</td>\n",
              "        <td class=\"number\">133</td>\n",
              "        <td class=\"number\">0.3%</td>\n",
              "        <td>\n",
              "            <div class=\"bar\" style=\"width:1%\">&nbsp;</div>\n",
              "        </td>\n",
              "</tr><tr class=\"\">\n",
              "        <td class=\"fillremaining\">8</td>\n",
              "        <td class=\"number\">66</td>\n",
              "        <td class=\"number\">0.2%</td>\n",
              "        <td>\n",
              "            <div class=\"bar\" style=\"width:1%\">&nbsp;</div>\n",
              "        </td>\n",
              "</tr><tr class=\"\">\n",
              "        <td class=\"fillremaining\">9</td>\n",
              "        <td class=\"number\">36</td>\n",
              "        <td class=\"number\">0.1%</td>\n",
              "        <td>\n",
              "            <div class=\"bar\" style=\"width:1%\">&nbsp;</div>\n",
              "        </td>\n",
              "</tr><tr class=\"other\">\n",
              "        <td class=\"fillremaining\">Other values (12)</td>\n",
              "        <td class=\"number\">66</td>\n",
              "        <td class=\"number\">0.2%</td>\n",
              "        <td>\n",
              "            <div class=\"bar\" style=\"width:1%\">&nbsp;</div>\n",
              "        </td>\n",
              "</tr>\n",
              "</table>\n",
              "        </div>\n",
              "        <div role=\"tabpanel\" class=\"tab-pane col-md-12\"  id=\"extreme-3824615101367644887\">\n",
              "            <p class=\"h4\">Minimum 5 values</p>\n",
              "            \n",
              "<table class=\"freq table table-hover\">\n",
              "    <thead>\n",
              "    <tr>\n",
              "        <td class=\"fillremaining\">Value</td>\n",
              "        <td class=\"number\">Count</td>\n",
              "        <td class=\"number\">Frequency (%)</td>\n",
              "        <td style=\"min-width:200px\">&nbsp;</td>\n",
              "    </tr>\n",
              "    </thead>\n",
              "    <tr class=\"\">\n",
              "        <td class=\"fillremaining\">0</td>\n",
              "        <td class=\"number\">15134</td>\n",
              "        <td class=\"number\">37.1%</td>\n",
              "        <td>\n",
              "            <div class=\"bar\" style=\"width:100%\">&nbsp;</div>\n",
              "        </td>\n",
              "</tr><tr class=\"\">\n",
              "        <td class=\"fillremaining\">1</td>\n",
              "        <td class=\"number\">13196</td>\n",
              "        <td class=\"number\">32.3%</td>\n",
              "        <td>\n",
              "            <div class=\"bar\" style=\"width:87%\">&nbsp;</div>\n",
              "        </td>\n",
              "</tr><tr class=\"\">\n",
              "        <td class=\"fillremaining\">2</td>\n",
              "        <td class=\"number\">7092</td>\n",
              "        <td class=\"number\">17.4%</td>\n",
              "        <td>\n",
              "            <div class=\"bar\" style=\"width:47%\">&nbsp;</div>\n",
              "        </td>\n",
              "</tr><tr class=\"\">\n",
              "        <td class=\"fillremaining\">3</td>\n",
              "        <td class=\"number\">3053</td>\n",
              "        <td class=\"number\">7.5%</td>\n",
              "        <td>\n",
              "            <div class=\"bar\" style=\"width:20%\">&nbsp;</div>\n",
              "        </td>\n",
              "</tr><tr class=\"\">\n",
              "        <td class=\"fillremaining\">4</td>\n",
              "        <td class=\"number\">1264</td>\n",
              "        <td class=\"number\">3.1%</td>\n",
              "        <td>\n",
              "            <div class=\"bar\" style=\"width:9%\">&nbsp;</div>\n",
              "        </td>\n",
              "</tr>\n",
              "</table>\n",
              "            <p class=\"h4\">Maximum 5 values</p>\n",
              "            \n",
              "<table class=\"freq table table-hover\">\n",
              "    <thead>\n",
              "    <tr>\n",
              "        <td class=\"fillremaining\">Value</td>\n",
              "        <td class=\"number\">Count</td>\n",
              "        <td class=\"number\">Frequency (%)</td>\n",
              "        <td style=\"min-width:200px\">&nbsp;</td>\n",
              "    </tr>\n",
              "    </thead>\n",
              "    <tr class=\"\">\n",
              "        <td class=\"fillremaining\">17</td>\n",
              "        <td class=\"number\">3</td>\n",
              "        <td class=\"number\">0.0%</td>\n",
              "        <td>\n",
              "            <div class=\"bar\" style=\"width:60%\">&nbsp;</div>\n",
              "        </td>\n",
              "</tr><tr class=\"\">\n",
              "        <td class=\"fillremaining\">18</td>\n",
              "        <td class=\"number\">5</td>\n",
              "        <td class=\"number\">0.0%</td>\n",
              "        <td>\n",
              "            <div class=\"bar\" style=\"width:100%\">&nbsp;</div>\n",
              "        </td>\n",
              "</tr><tr class=\"\">\n",
              "        <td class=\"fillremaining\">19</td>\n",
              "        <td class=\"number\">2</td>\n",
              "        <td class=\"number\">0.0%</td>\n",
              "        <td>\n",
              "            <div class=\"bar\" style=\"width:40%\">&nbsp;</div>\n",
              "        </td>\n",
              "</tr><tr class=\"\">\n",
              "        <td class=\"fillremaining\">20</td>\n",
              "        <td class=\"number\">3</td>\n",
              "        <td class=\"number\">0.0%</td>\n",
              "        <td>\n",
              "            <div class=\"bar\" style=\"width:60%\">&nbsp;</div>\n",
              "        </td>\n",
              "</tr><tr class=\"\">\n",
              "        <td class=\"fillremaining\">21</td>\n",
              "        <td class=\"number\">1</td>\n",
              "        <td class=\"number\">0.0%</td>\n",
              "        <td>\n",
              "            <div class=\"bar\" style=\"width:20%\">&nbsp;</div>\n",
              "        </td>\n",
              "</tr>\n",
              "</table>\n",
              "        </div>\n",
              "    </div>\n",
              "</div>\n",
              "</div><div class=\"row variablerow\">\n",
              "    <div class=\"col-md-3 namecol\">\n",
              "        <p class=\"h4 pp-anchor\" id=\"pp_var_away_team\">away_team<br/>\n",
              "            <small>Categorical</small>\n",
              "        </p>\n",
              "    </div><div class=\"col-md-3\">\n",
              "    <table class=\"stats \">\n",
              "        <tr class=\"alert\">\n",
              "            <th>Distinct count</th>\n",
              "            <td>306</td>\n",
              "        </tr>\n",
              "        <tr>\n",
              "            <th>Unique (%)</th>\n",
              "            <td>0.7%</td>\n",
              "        </tr>\n",
              "        <tr class=\"ignore\">\n",
              "            <th>Missing (%)</th>\n",
              "            <td>0.0%</td>\n",
              "        </tr>\n",
              "        <tr class=\"ignore\">\n",
              "            <th>Missing (n)</th>\n",
              "            <td>0</td>\n",
              "        </tr>\n",
              "    </table>\n",
              "</div>\n",
              "<div class=\"col-md-6 collapse in\" id=\"minifreqtable6390213253338571674\">\n",
              "    <table class=\"mini freq\">\n",
              "        <tr class=\"\">\n",
              "    <th>Uruguay</th>\n",
              "    <td>\n",
              "        <div class=\"bar\" style=\"width:2%\" data-toggle=\"tooltip\" data-placement=\"right\" data-html=\"true\"\n",
              "             data-delay=500 title=\"Percentage: 1.3%\">\n",
              "            &nbsp;\n",
              "        </div>\n",
              "        536\n",
              "    </td>\n",
              "</tr><tr class=\"\">\n",
              "    <th>Sweden</th>\n",
              "    <td>\n",
              "        <div class=\"bar\" style=\"width:2%\" data-toggle=\"tooltip\" data-placement=\"right\" data-html=\"true\"\n",
              "             data-delay=500 title=\"Percentage: 1.3%\">\n",
              "            &nbsp;\n",
              "        </div>\n",
              "        527\n",
              "    </td>\n",
              "</tr><tr class=\"\">\n",
              "    <th>England</th>\n",
              "    <td>\n",
              "        <div class=\"bar\" style=\"width:2%\" data-toggle=\"tooltip\" data-placement=\"right\" data-html=\"true\"\n",
              "             data-delay=500 title=\"Percentage: 1.2%\">\n",
              "            &nbsp;\n",
              "        </div>\n",
              "        505\n",
              "    </td>\n",
              "</tr><tr class=\"other\">\n",
              "    <th>Other values (303)</th>\n",
              "    <td>\n",
              "        <div class=\"bar\" style=\"width:100%\" data-toggle=\"tooltip\" data-placement=\"right\" data-html=\"true\"\n",
              "             data-delay=500 title=\"Percentage: 96.2%\">\n",
              "            39271\n",
              "        </div>\n",
              "        \n",
              "    </td>\n",
              "</tr>\n",
              "    </table>\n",
              "</div>\n",
              "<div class=\"col-md-12 text-right\">\n",
              "    <a role=\"button\" data-toggle=\"collapse\" data-target=\"#freqtable6390213253338571674, #minifreqtable6390213253338571674\"\n",
              "       aria-expanded=\"true\" aria-controls=\"collapseExample\">\n",
              "        Toggle details\n",
              "    </a>\n",
              "</div>\n",
              "<div class=\"col-md-12 extrapadding collapse\" id=\"freqtable6390213253338571674\">\n",
              "    \n",
              "<table class=\"freq table table-hover\">\n",
              "    <thead>\n",
              "    <tr>\n",
              "        <td class=\"fillremaining\">Value</td>\n",
              "        <td class=\"number\">Count</td>\n",
              "        <td class=\"number\">Frequency (%)</td>\n",
              "        <td style=\"min-width:200px\">&nbsp;</td>\n",
              "    </tr>\n",
              "    </thead>\n",
              "    <tr class=\"\">\n",
              "        <td class=\"fillremaining\">Uruguay</td>\n",
              "        <td class=\"number\">536</td>\n",
              "        <td class=\"number\">1.3%</td>\n",
              "        <td>\n",
              "            <div class=\"bar\" style=\"width:2%\">&nbsp;</div>\n",
              "        </td>\n",
              "</tr><tr class=\"\">\n",
              "        <td class=\"fillremaining\">Sweden</td>\n",
              "        <td class=\"number\">527</td>\n",
              "        <td class=\"number\">1.3%</td>\n",
              "        <td>\n",
              "            <div class=\"bar\" style=\"width:2%\">&nbsp;</div>\n",
              "        </td>\n",
              "</tr><tr class=\"\">\n",
              "        <td class=\"fillremaining\">England</td>\n",
              "        <td class=\"number\">505</td>\n",
              "        <td class=\"number\">1.2%</td>\n",
              "        <td>\n",
              "            <div class=\"bar\" style=\"width:2%\">&nbsp;</div>\n",
              "        </td>\n",
              "</tr><tr class=\"\">\n",
              "        <td class=\"fillremaining\">Hungary</td>\n",
              "        <td class=\"number\">472</td>\n",
              "        <td class=\"number\">1.2%</td>\n",
              "        <td>\n",
              "            <div class=\"bar\" style=\"width:2%\">&nbsp;</div>\n",
              "        </td>\n",
              "</tr><tr class=\"\">\n",
              "        <td class=\"fillremaining\">Paraguay</td>\n",
              "        <td class=\"number\">448</td>\n",
              "        <td class=\"number\">1.1%</td>\n",
              "        <td>\n",
              "            <div class=\"bar\" style=\"width:2%\">&nbsp;</div>\n",
              "        </td>\n",
              "</tr><tr class=\"\">\n",
              "        <td class=\"fillremaining\">Germany</td>\n",
              "        <td class=\"number\">441</td>\n",
              "        <td class=\"number\">1.1%</td>\n",
              "        <td>\n",
              "            <div class=\"bar\" style=\"width:2%\">&nbsp;</div>\n",
              "        </td>\n",
              "</tr><tr class=\"\">\n",
              "        <td class=\"fillremaining\">Argentina</td>\n",
              "        <td class=\"number\">430</td>\n",
              "        <td class=\"number\">1.1%</td>\n",
              "        <td>\n",
              "            <div class=\"bar\" style=\"width:2%\">&nbsp;</div>\n",
              "        </td>\n",
              "</tr><tr class=\"\">\n",
              "        <td class=\"fillremaining\">Poland</td>\n",
              "        <td class=\"number\">428</td>\n",
              "        <td class=\"number\">1.0%</td>\n",
              "        <td>\n",
              "            <div class=\"bar\" style=\"width:2%\">&nbsp;</div>\n",
              "        </td>\n",
              "</tr><tr class=\"\">\n",
              "        <td class=\"fillremaining\">Brazil</td>\n",
              "        <td class=\"number\">414</td>\n",
              "        <td class=\"number\">1.0%</td>\n",
              "        <td>\n",
              "            <div class=\"bar\" style=\"width:2%\">&nbsp;</div>\n",
              "        </td>\n",
              "</tr><tr class=\"\">\n",
              "        <td class=\"fillremaining\">Finland</td>\n",
              "        <td class=\"number\">412</td>\n",
              "        <td class=\"number\">1.0%</td>\n",
              "        <td>\n",
              "            <div class=\"bar\" style=\"width:2%\">&nbsp;</div>\n",
              "        </td>\n",
              "</tr><tr class=\"other\">\n",
              "        <td class=\"fillremaining\">Other values (296)</td>\n",
              "        <td class=\"number\">36226</td>\n",
              "        <td class=\"number\">88.7%</td>\n",
              "        <td>\n",
              "            <div class=\"bar\" style=\"width:100%\">&nbsp;</div>\n",
              "        </td>\n",
              "</tr>\n",
              "</table>\n",
              "</div>\n",
              "</div><div class=\"row variablerow\">\n",
              "    <div class=\"col-md-3 namecol\">\n",
              "        <p class=\"h4 pp-anchor\" id=\"pp_var_city\">city<br/>\n",
              "            <small>Categorical</small>\n",
              "        </p>\n",
              "    </div><div class=\"col-md-3\">\n",
              "    <table class=\"stats \">\n",
              "        <tr class=\"alert\">\n",
              "            <th>Distinct count</th>\n",
              "            <td>1960</td>\n",
              "        </tr>\n",
              "        <tr>\n",
              "            <th>Unique (%)</th>\n",
              "            <td>4.8%</td>\n",
              "        </tr>\n",
              "        <tr class=\"ignore\">\n",
              "            <th>Missing (%)</th>\n",
              "            <td>0.0%</td>\n",
              "        </tr>\n",
              "        <tr class=\"ignore\">\n",
              "            <th>Missing (n)</th>\n",
              "            <td>0</td>\n",
              "        </tr>\n",
              "    </table>\n",
              "</div>\n",
              "<div class=\"col-md-6 collapse in\" id=\"minifreqtable7469934738355840840\">\n",
              "    <table class=\"mini freq\">\n",
              "        <tr class=\"\">\n",
              "    <th>Kuala Lumpur</th>\n",
              "    <td>\n",
              "        <div class=\"bar\" style=\"width:2%\" data-toggle=\"tooltip\" data-placement=\"right\" data-html=\"true\"\n",
              "             data-delay=500 title=\"Percentage: 1.4%\">\n",
              "            &nbsp;\n",
              "        </div>\n",
              "        581\n",
              "    </td>\n",
              "</tr><tr class=\"\">\n",
              "    <th>Doha</th>\n",
              "    <td>\n",
              "        <div class=\"bar\" style=\"width:2%\" data-toggle=\"tooltip\" data-placement=\"right\" data-html=\"true\"\n",
              "             data-delay=500 title=\"Percentage: 1.1%\">\n",
              "            &nbsp;\n",
              "        </div>\n",
              "        437\n",
              "    </td>\n",
              "</tr><tr class=\"\">\n",
              "    <th>Bangkok</th>\n",
              "    <td>\n",
              "        <div class=\"bar\" style=\"width:2%\" data-toggle=\"tooltip\" data-placement=\"right\" data-html=\"true\"\n",
              "             data-delay=500 title=\"Percentage: 1.0%\">\n",
              "            &nbsp;\n",
              "        </div>\n",
              "        427\n",
              "    </td>\n",
              "</tr><tr class=\"other\">\n",
              "    <th>Other values (1957)</th>\n",
              "    <td>\n",
              "        <div class=\"bar\" style=\"width:100%\" data-toggle=\"tooltip\" data-placement=\"right\" data-html=\"true\"\n",
              "             data-delay=500 title=\"Percentage: 96.5%\">\n",
              "            39394\n",
              "        </div>\n",
              "        \n",
              "    </td>\n",
              "</tr>\n",
              "    </table>\n",
              "</div>\n",
              "<div class=\"col-md-12 text-right\">\n",
              "    <a role=\"button\" data-toggle=\"collapse\" data-target=\"#freqtable7469934738355840840, #minifreqtable7469934738355840840\"\n",
              "       aria-expanded=\"true\" aria-controls=\"collapseExample\">\n",
              "        Toggle details\n",
              "    </a>\n",
              "</div>\n",
              "<div class=\"col-md-12 extrapadding collapse\" id=\"freqtable7469934738355840840\">\n",
              "    \n",
              "<table class=\"freq table table-hover\">\n",
              "    <thead>\n",
              "    <tr>\n",
              "        <td class=\"fillremaining\">Value</td>\n",
              "        <td class=\"number\">Count</td>\n",
              "        <td class=\"number\">Frequency (%)</td>\n",
              "        <td style=\"min-width:200px\">&nbsp;</td>\n",
              "    </tr>\n",
              "    </thead>\n",
              "    <tr class=\"\">\n",
              "        <td class=\"fillremaining\">Kuala Lumpur</td>\n",
              "        <td class=\"number\">581</td>\n",
              "        <td class=\"number\">1.4%</td>\n",
              "        <td>\n",
              "            <div class=\"bar\" style=\"width:2%\">&nbsp;</div>\n",
              "        </td>\n",
              "</tr><tr class=\"\">\n",
              "        <td class=\"fillremaining\">Doha</td>\n",
              "        <td class=\"number\">437</td>\n",
              "        <td class=\"number\">1.1%</td>\n",
              "        <td>\n",
              "            <div class=\"bar\" style=\"width:2%\">&nbsp;</div>\n",
              "        </td>\n",
              "</tr><tr class=\"\">\n",
              "        <td class=\"fillremaining\">Bangkok</td>\n",
              "        <td class=\"number\">427</td>\n",
              "        <td class=\"number\">1.0%</td>\n",
              "        <td>\n",
              "            <div class=\"bar\" style=\"width:2%\">&nbsp;</div>\n",
              "        </td>\n",
              "</tr><tr class=\"\">\n",
              "        <td class=\"fillremaining\">London</td>\n",
              "        <td class=\"number\">391</td>\n",
              "        <td class=\"number\">1.0%</td>\n",
              "        <td>\n",
              "            <div class=\"bar\" style=\"width:2%\">&nbsp;</div>\n",
              "        </td>\n",
              "</tr><tr class=\"\">\n",
              "        <td class=\"fillremaining\">Budapest</td>\n",
              "        <td class=\"number\">383</td>\n",
              "        <td class=\"number\">0.9%</td>\n",
              "        <td>\n",
              "            <div class=\"bar\" style=\"width:2%\">&nbsp;</div>\n",
              "        </td>\n",
              "</tr><tr class=\"\">\n",
              "        <td class=\"fillremaining\">Montevideo</td>\n",
              "        <td class=\"number\">349</td>\n",
              "        <td class=\"number\">0.9%</td>\n",
              "        <td>\n",
              "            <div class=\"bar\" style=\"width:1%\">&nbsp;</div>\n",
              "        </td>\n",
              "</tr><tr class=\"\">\n",
              "        <td class=\"fillremaining\">Kuwait City</td>\n",
              "        <td class=\"number\">336</td>\n",
              "        <td class=\"number\">0.8%</td>\n",
              "        <td>\n",
              "            <div class=\"bar\" style=\"width:1%\">&nbsp;</div>\n",
              "        </td>\n",
              "</tr><tr class=\"\">\n",
              "        <td class=\"fillremaining\">Vienna</td>\n",
              "        <td class=\"number\">334</td>\n",
              "        <td class=\"number\">0.8%</td>\n",
              "        <td>\n",
              "            <div class=\"bar\" style=\"width:1%\">&nbsp;</div>\n",
              "        </td>\n",
              "</tr><tr class=\"\">\n",
              "        <td class=\"fillremaining\">Copenhagen</td>\n",
              "        <td class=\"number\">323</td>\n",
              "        <td class=\"number\">0.8%</td>\n",
              "        <td>\n",
              "            <div class=\"bar\" style=\"width:1%\">&nbsp;</div>\n",
              "        </td>\n",
              "</tr><tr class=\"\">\n",
              "        <td class=\"fillremaining\">Oslo</td>\n",
              "        <td class=\"number\">322</td>\n",
              "        <td class=\"number\">0.8%</td>\n",
              "        <td>\n",
              "            <div class=\"bar\" style=\"width:1%\">&nbsp;</div>\n",
              "        </td>\n",
              "</tr><tr class=\"other\">\n",
              "        <td class=\"fillremaining\">Other values (1950)</td>\n",
              "        <td class=\"number\">36956</td>\n",
              "        <td class=\"number\">90.5%</td>\n",
              "        <td>\n",
              "            <div class=\"bar\" style=\"width:100%\">&nbsp;</div>\n",
              "        </td>\n",
              "</tr>\n",
              "</table>\n",
              "</div>\n",
              "</div><div class=\"row variablerow\">\n",
              "    <div class=\"col-md-3 namecol\">\n",
              "        <p class=\"h4 pp-anchor\" id=\"pp_var_country\">country<br/>\n",
              "            <small>Categorical</small>\n",
              "        </p>\n",
              "    </div><div class=\"col-md-3\">\n",
              "    <table class=\"stats \">\n",
              "        <tr class=\"alert\">\n",
              "            <th>Distinct count</th>\n",
              "            <td>266</td>\n",
              "        </tr>\n",
              "        <tr>\n",
              "            <th>Unique (%)</th>\n",
              "            <td>0.7%</td>\n",
              "        </tr>\n",
              "        <tr class=\"ignore\">\n",
              "            <th>Missing (%)</th>\n",
              "            <td>0.0%</td>\n",
              "        </tr>\n",
              "        <tr class=\"ignore\">\n",
              "            <th>Missing (n)</th>\n",
              "            <td>0</td>\n",
              "        </tr>\n",
              "    </table>\n",
              "</div>\n",
              "<div class=\"col-md-6 collapse in\" id=\"minifreqtable2748340388073873755\">\n",
              "    <table class=\"mini freq\">\n",
              "        <tr class=\"\">\n",
              "    <th>United States</th>\n",
              "    <td>\n",
              "        <div class=\"bar\" style=\"width:3%\" data-toggle=\"tooltip\" data-placement=\"right\" data-html=\"true\"\n",
              "             data-delay=500 title=\"Percentage: 2.8%\">\n",
              "            &nbsp;\n",
              "        </div>\n",
              "        1144\n",
              "    </td>\n",
              "</tr><tr class=\"\">\n",
              "    <th>France</th>\n",
              "    <td>\n",
              "        <div class=\"bar\" style=\"width:3%\" data-toggle=\"tooltip\" data-placement=\"right\" data-html=\"true\"\n",
              "             data-delay=500 title=\"Percentage: 2.0%\">\n",
              "            &nbsp;\n",
              "        </div>\n",
              "        801\n",
              "    </td>\n",
              "</tr><tr class=\"\">\n",
              "    <th>England</th>\n",
              "    <td>\n",
              "        <div class=\"bar\" style=\"width:2%\" data-toggle=\"tooltip\" data-placement=\"right\" data-html=\"true\"\n",
              "             data-delay=500 title=\"Percentage: 1.7%\">\n",
              "            &nbsp;\n",
              "        </div>\n",
              "        687\n",
              "    </td>\n",
              "</tr><tr class=\"other\">\n",
              "    <th>Other values (263)</th>\n",
              "    <td>\n",
              "        <div class=\"bar\" style=\"width:100%\" data-toggle=\"tooltip\" data-placement=\"right\" data-html=\"true\"\n",
              "             data-delay=500 title=\"Percentage: 93.6%\">\n",
              "            38207\n",
              "        </div>\n",
              "        \n",
              "    </td>\n",
              "</tr>\n",
              "    </table>\n",
              "</div>\n",
              "<div class=\"col-md-12 text-right\">\n",
              "    <a role=\"button\" data-toggle=\"collapse\" data-target=\"#freqtable2748340388073873755, #minifreqtable2748340388073873755\"\n",
              "       aria-expanded=\"true\" aria-controls=\"collapseExample\">\n",
              "        Toggle details\n",
              "    </a>\n",
              "</div>\n",
              "<div class=\"col-md-12 extrapadding collapse\" id=\"freqtable2748340388073873755\">\n",
              "    \n",
              "<table class=\"freq table table-hover\">\n",
              "    <thead>\n",
              "    <tr>\n",
              "        <td class=\"fillremaining\">Value</td>\n",
              "        <td class=\"number\">Count</td>\n",
              "        <td class=\"number\">Frequency (%)</td>\n",
              "        <td style=\"min-width:200px\">&nbsp;</td>\n",
              "    </tr>\n",
              "    </thead>\n",
              "    <tr class=\"\">\n",
              "        <td class=\"fillremaining\">United States</td>\n",
              "        <td class=\"number\">1144</td>\n",
              "        <td class=\"number\">2.8%</td>\n",
              "        <td>\n",
              "            <div class=\"bar\" style=\"width:4%\">&nbsp;</div>\n",
              "        </td>\n",
              "</tr><tr class=\"\">\n",
              "        <td class=\"fillremaining\">France</td>\n",
              "        <td class=\"number\">801</td>\n",
              "        <td class=\"number\">2.0%</td>\n",
              "        <td>\n",
              "            <div class=\"bar\" style=\"width:3%\">&nbsp;</div>\n",
              "        </td>\n",
              "</tr><tr class=\"\">\n",
              "        <td class=\"fillremaining\">England</td>\n",
              "        <td class=\"number\">687</td>\n",
              "        <td class=\"number\">1.7%</td>\n",
              "        <td>\n",
              "            <div class=\"bar\" style=\"width:2%\">&nbsp;</div>\n",
              "        </td>\n",
              "</tr><tr class=\"\">\n",
              "        <td class=\"fillremaining\">Malaysia</td>\n",
              "        <td class=\"number\">644</td>\n",
              "        <td class=\"number\">1.6%</td>\n",
              "        <td>\n",
              "            <div class=\"bar\" style=\"width:2%\">&nbsp;</div>\n",
              "        </td>\n",
              "</tr><tr class=\"\">\n",
              "        <td class=\"fillremaining\">Sweden</td>\n",
              "        <td class=\"number\">637</td>\n",
              "        <td class=\"number\">1.6%</td>\n",
              "        <td>\n",
              "            <div class=\"bar\" style=\"width:2%\">&nbsp;</div>\n",
              "        </td>\n",
              "</tr><tr class=\"\">\n",
              "        <td class=\"fillremaining\">Germany</td>\n",
              "        <td class=\"number\">581</td>\n",
              "        <td class=\"number\">1.4%</td>\n",
              "        <td>\n",
              "            <div class=\"bar\" style=\"width:2%\">&nbsp;</div>\n",
              "        </td>\n",
              "</tr><tr class=\"\">\n",
              "        <td class=\"fillremaining\">Brazil</td>\n",
              "        <td class=\"number\">529</td>\n",
              "        <td class=\"number\">1.3%</td>\n",
              "        <td>\n",
              "            <div class=\"bar\" style=\"width:2%\">&nbsp;</div>\n",
              "        </td>\n",
              "</tr><tr class=\"\">\n",
              "        <td class=\"fillremaining\">Spain</td>\n",
              "        <td class=\"number\">517</td>\n",
              "        <td class=\"number\">1.3%</td>\n",
              "        <td>\n",
              "            <div class=\"bar\" style=\"width:2%\">&nbsp;</div>\n",
              "        </td>\n",
              "</tr><tr class=\"\">\n",
              "        <td class=\"fillremaining\">Thailand</td>\n",
              "        <td class=\"number\">483</td>\n",
              "        <td class=\"number\">1.2%</td>\n",
              "        <td>\n",
              "            <div class=\"bar\" style=\"width:2%\">&nbsp;</div>\n",
              "        </td>\n",
              "</tr><tr class=\"\">\n",
              "        <td class=\"fillremaining\">Italy</td>\n",
              "        <td class=\"number\">480</td>\n",
              "        <td class=\"number\">1.2%</td>\n",
              "        <td>\n",
              "            <div class=\"bar\" style=\"width:2%\">&nbsp;</div>\n",
              "        </td>\n",
              "</tr><tr class=\"other\">\n",
              "        <td class=\"fillremaining\">Other values (256)</td>\n",
              "        <td class=\"number\">34336</td>\n",
              "        <td class=\"number\">84.1%</td>\n",
              "        <td>\n",
              "            <div class=\"bar\" style=\"width:100%\">&nbsp;</div>\n",
              "        </td>\n",
              "</tr>\n",
              "</table>\n",
              "</div>\n",
              "</div><div class=\"row variablerow\">\n",
              "    <div class=\"col-md-3 namecol\">\n",
              "        <p class=\"h4 pp-anchor\" id=\"pp_var_date\">date<br/>\n",
              "            <small>Categorical</small>\n",
              "        </p>\n",
              "    </div><div class=\"col-md-3\">\n",
              "    <table class=\"stats \">\n",
              "        <tr class=\"alert\">\n",
              "            <th>Distinct count</th>\n",
              "            <td>15115</td>\n",
              "        </tr>\n",
              "        <tr>\n",
              "            <th>Unique (%)</th>\n",
              "            <td>37.0%</td>\n",
              "        </tr>\n",
              "        <tr class=\"ignore\">\n",
              "            <th>Missing (%)</th>\n",
              "            <td>0.0%</td>\n",
              "        </tr>\n",
              "        <tr class=\"ignore\">\n",
              "            <th>Missing (n)</th>\n",
              "            <td>0</td>\n",
              "        </tr>\n",
              "    </table>\n",
              "</div>\n",
              "<div class=\"col-md-6 collapse in\" id=\"minifreqtable-4708844900698012291\">\n",
              "    <table class=\"mini freq\">\n",
              "        <tr class=\"\">\n",
              "    <th>2012-02-29</th>\n",
              "    <td>\n",
              "        <div class=\"bar\" style=\"width:1%\" data-toggle=\"tooltip\" data-placement=\"right\" data-html=\"true\"\n",
              "             data-delay=500 title=\"Percentage: 0.2%\">\n",
              "            &nbsp;\n",
              "        </div>\n",
              "        66\n",
              "    </td>\n",
              "</tr><tr class=\"\">\n",
              "    <th>2016-03-29</th>\n",
              "    <td>\n",
              "        <div class=\"bar\" style=\"width:1%\" data-toggle=\"tooltip\" data-placement=\"right\" data-html=\"true\"\n",
              "             data-delay=500 title=\"Percentage: 0.2%\">\n",
              "            &nbsp;\n",
              "        </div>\n",
              "        63\n",
              "    </td>\n",
              "</tr><tr class=\"\">\n",
              "    <th>2008-03-26</th>\n",
              "    <td>\n",
              "        <div class=\"bar\" style=\"width:1%\" data-toggle=\"tooltip\" data-placement=\"right\" data-html=\"true\"\n",
              "             data-delay=500 title=\"Percentage: 0.1%\">\n",
              "            &nbsp;\n",
              "        </div>\n",
              "        60\n",
              "    </td>\n",
              "</tr><tr class=\"other\">\n",
              "    <th>Other values (15112)</th>\n",
              "    <td>\n",
              "        <div class=\"bar\" style=\"width:100%\" data-toggle=\"tooltip\" data-placement=\"right\" data-html=\"true\"\n",
              "             data-delay=500 title=\"Percentage: 99.5%\">\n",
              "            40650\n",
              "        </div>\n",
              "        \n",
              "    </td>\n",
              "</tr>\n",
              "    </table>\n",
              "</div>\n",
              "<div class=\"col-md-12 text-right\">\n",
              "    <a role=\"button\" data-toggle=\"collapse\" data-target=\"#freqtable-4708844900698012291, #minifreqtable-4708844900698012291\"\n",
              "       aria-expanded=\"true\" aria-controls=\"collapseExample\">\n",
              "        Toggle details\n",
              "    </a>\n",
              "</div>\n",
              "<div class=\"col-md-12 extrapadding collapse\" id=\"freqtable-4708844900698012291\">\n",
              "    \n",
              "<table class=\"freq table table-hover\">\n",
              "    <thead>\n",
              "    <tr>\n",
              "        <td class=\"fillremaining\">Value</td>\n",
              "        <td class=\"number\">Count</td>\n",
              "        <td class=\"number\">Frequency (%)</td>\n",
              "        <td style=\"min-width:200px\">&nbsp;</td>\n",
              "    </tr>\n",
              "    </thead>\n",
              "    <tr class=\"\">\n",
              "        <td class=\"fillremaining\">2012-02-29</td>\n",
              "        <td class=\"number\">66</td>\n",
              "        <td class=\"number\">0.2%</td>\n",
              "        <td>\n",
              "            <div class=\"bar\" style=\"width:1%\">&nbsp;</div>\n",
              "        </td>\n",
              "</tr><tr class=\"\">\n",
              "        <td class=\"fillremaining\">2016-03-29</td>\n",
              "        <td class=\"number\">63</td>\n",
              "        <td class=\"number\">0.2%</td>\n",
              "        <td>\n",
              "            <div class=\"bar\" style=\"width:1%\">&nbsp;</div>\n",
              "        </td>\n",
              "</tr><tr class=\"\">\n",
              "        <td class=\"fillremaining\">2008-03-26</td>\n",
              "        <td class=\"number\">60</td>\n",
              "        <td class=\"number\">0.1%</td>\n",
              "        <td>\n",
              "            <div class=\"bar\" style=\"width:1%\">&nbsp;</div>\n",
              "        </td>\n",
              "</tr><tr class=\"\">\n",
              "        <td class=\"fillremaining\">2014-03-05</td>\n",
              "        <td class=\"number\">59</td>\n",
              "        <td class=\"number\">0.1%</td>\n",
              "        <td>\n",
              "            <div class=\"bar\" style=\"width:1%\">&nbsp;</div>\n",
              "        </td>\n",
              "</tr><tr class=\"\">\n",
              "        <td class=\"fillremaining\">2012-11-14</td>\n",
              "        <td class=\"number\">56</td>\n",
              "        <td class=\"number\">0.1%</td>\n",
              "        <td>\n",
              "            <div class=\"bar\" style=\"width:1%\">&nbsp;</div>\n",
              "        </td>\n",
              "</tr><tr class=\"\">\n",
              "        <td class=\"fillremaining\">2011-10-11</td>\n",
              "        <td class=\"number\">54</td>\n",
              "        <td class=\"number\">0.1%</td>\n",
              "        <td>\n",
              "            <div class=\"bar\" style=\"width:1%\">&nbsp;</div>\n",
              "        </td>\n",
              "</tr><tr class=\"\">\n",
              "        <td class=\"fillremaining\">2011-11-11</td>\n",
              "        <td class=\"number\">54</td>\n",
              "        <td class=\"number\">0.1%</td>\n",
              "        <td>\n",
              "            <div class=\"bar\" style=\"width:1%\">&nbsp;</div>\n",
              "        </td>\n",
              "</tr><tr class=\"\">\n",
              "        <td class=\"fillremaining\">2011-11-15</td>\n",
              "        <td class=\"number\">53</td>\n",
              "        <td class=\"number\">0.1%</td>\n",
              "        <td>\n",
              "            <div class=\"bar\" style=\"width:1%\">&nbsp;</div>\n",
              "        </td>\n",
              "</tr><tr class=\"\">\n",
              "        <td class=\"fillremaining\">2008-10-11</td>\n",
              "        <td class=\"number\">53</td>\n",
              "        <td class=\"number\">0.1%</td>\n",
              "        <td>\n",
              "            <div class=\"bar\" style=\"width:1%\">&nbsp;</div>\n",
              "        </td>\n",
              "</tr><tr class=\"\">\n",
              "        <td class=\"fillremaining\">2011-09-06</td>\n",
              "        <td class=\"number\">52</td>\n",
              "        <td class=\"number\">0.1%</td>\n",
              "        <td>\n",
              "            <div class=\"bar\" style=\"width:1%\">&nbsp;</div>\n",
              "        </td>\n",
              "</tr><tr class=\"other\">\n",
              "        <td class=\"fillremaining\">Other values (15105)</td>\n",
              "        <td class=\"number\">40269</td>\n",
              "        <td class=\"number\">98.6%</td>\n",
              "        <td>\n",
              "            <div class=\"bar\" style=\"width:100%\">&nbsp;</div>\n",
              "        </td>\n",
              "</tr>\n",
              "</table>\n",
              "</div>\n",
              "</div><div class=\"row variablerow\">\n",
              "    <div class=\"col-md-3 namecol\">\n",
              "        <p class=\"h4 pp-anchor\" id=\"pp_var_home_score\">home_score<br/>\n",
              "            <small>Numeric</small>\n",
              "        </p>\n",
              "    </div><div class=\"col-md-6\">\n",
              "    <div class=\"row\">\n",
              "        <div class=\"col-sm-6\">\n",
              "            <table class=\"stats \">\n",
              "                <tr>\n",
              "                    <th>Distinct count</th>\n",
              "                    <td>26</td>\n",
              "                </tr>\n",
              "                <tr>\n",
              "                    <th>Unique (%)</th>\n",
              "                    <td>0.1%</td>\n",
              "                </tr>\n",
              "                <tr class=\"ignore\">\n",
              "                    <th>Missing (%)</th>\n",
              "                    <td>0.0%</td>\n",
              "                </tr>\n",
              "                <tr class=\"ignore\">\n",
              "                    <th>Missing (n)</th>\n",
              "                    <td>0</td>\n",
              "                </tr>\n",
              "                <tr class=\"ignore\">\n",
              "                    <th>Infinite (%)</th>\n",
              "                    <td>0.0%</td>\n",
              "                </tr>\n",
              "                <tr class=\"ignore\">\n",
              "                    <th>Infinite (n)</th>\n",
              "                    <td>0</td>\n",
              "                </tr>\n",
              "            </table>\n",
              "\n",
              "        </div>\n",
              "        <div class=\"col-sm-6\">\n",
              "            <table class=\"stats \">\n",
              "\n",
              "                <tr>\n",
              "                    <th>Mean</th>\n",
              "                    <td>1.7457</td>\n",
              "                </tr>\n",
              "                <tr>\n",
              "                    <th>Minimum</th>\n",
              "                    <td>0</td>\n",
              "                </tr>\n",
              "                <tr>\n",
              "                    <th>Maximum</th>\n",
              "                    <td>31</td>\n",
              "                </tr>\n",
              "                <tr class=\"alert\">\n",
              "                    <th>Zeros (%)</th>\n",
              "                    <td>24.0%</td>\n",
              "                </tr>\n",
              "            </table>\n",
              "        </div>\n",
              "    </div>\n",
              "</div>\n",
              "<div class=\"col-md-3 collapse in\" id=\"minihistogram-5933166945825822347\">\n",
              "    <img src=\"data:image/png;base64,iVBORw0KGgoAAAANSUhEUgAAAMgAAABLCAYAAAA1fMjoAAAABHNCSVQICAgIfAhkiAAAAAlwSFlzAAAPYQAAD2EBqD%2BnaQAAADl0RVh0U29mdHdhcmUAbWF0cGxvdGxpYiB2ZXJzaW9uIDMuMC4zLCBodHRwOi8vbWF0cGxvdGxpYi5vcmcvnQurowAAARJJREFUeJzt18EJwkAARUEVS0oR6clzerKI9LTeRR5GlASZuS/8y2N3z2OMcQJeuuw9AI7suveAZ9PtvvnMusw/WAJuEEgCgSAQCAKBIBAIAoEgEAgCgSAQCAKBIBAIAoEgEAgCgSAQCAKBIBAIAoEgEAgCgSAQCAKBIBAIAoEgEAgCgSAQCAKBIBAIAoEgEAgCgSAQCAKBIBAIAoEgEAgCgSAQCAKBcN17wDdMt/vmM%2Bsy/2AJ/8YNAkEgEAQCQSAQ/uKT/gkfe95xHmOMvUfAUXliQRAIBIFAEAgEgUAQCASBQBAIBIFAEAgEgUAQCASBQBAIBIFAEAgEgUAQCASBQBAIBIFAEAgEgUAQCASBQHgAVmMRk0MmBkoAAAAASUVORK5CYII%3D\">\n",
              "\n",
              "</div>\n",
              "<div class=\"col-md-12 text-right\">\n",
              "    <a role=\"button\" data-toggle=\"collapse\" data-target=\"#descriptives-5933166945825822347,#minihistogram-5933166945825822347\"\n",
              "       aria-expanded=\"false\" aria-controls=\"collapseExample\">\n",
              "        Toggle details\n",
              "    </a>\n",
              "</div>\n",
              "<div class=\"row collapse col-md-12\" id=\"descriptives-5933166945825822347\">\n",
              "    <ul class=\"nav nav-tabs\" role=\"tablist\">\n",
              "        <li role=\"presentation\" class=\"active\"><a href=\"#quantiles-5933166945825822347\"\n",
              "                                                  aria-controls=\"quantiles-5933166945825822347\" role=\"tab\"\n",
              "                                                  data-toggle=\"tab\">Statistics</a></li>\n",
              "        <li role=\"presentation\"><a href=\"#histogram-5933166945825822347\" aria-controls=\"histogram-5933166945825822347\"\n",
              "                                   role=\"tab\" data-toggle=\"tab\">Histogram</a></li>\n",
              "        <li role=\"presentation\"><a href=\"#common-5933166945825822347\" aria-controls=\"common-5933166945825822347\"\n",
              "                                   role=\"tab\" data-toggle=\"tab\">Common Values</a></li>\n",
              "        <li role=\"presentation\"><a href=\"#extreme-5933166945825822347\" aria-controls=\"extreme-5933166945825822347\"\n",
              "                                   role=\"tab\" data-toggle=\"tab\">Extreme Values</a></li>\n",
              "\n",
              "    </ul>\n",
              "\n",
              "    <div class=\"tab-content\">\n",
              "        <div role=\"tabpanel\" class=\"tab-pane active row\" id=\"quantiles-5933166945825822347\">\n",
              "            <div class=\"col-md-4 col-md-offset-1\">\n",
              "                <p class=\"h4\">Quantile statistics</p>\n",
              "                <table class=\"stats indent\">\n",
              "                    <tr>\n",
              "                        <th>Minimum</th>\n",
              "                        <td>0</td>\n",
              "                    </tr>\n",
              "                    <tr>\n",
              "                        <th>5-th percentile</th>\n",
              "                        <td>0</td>\n",
              "                    </tr>\n",
              "                    <tr>\n",
              "                        <th>Q1</th>\n",
              "                        <td>1</td>\n",
              "                    </tr>\n",
              "                    <tr>\n",
              "                        <th>Median</th>\n",
              "                        <td>1</td>\n",
              "                    </tr>\n",
              "                    <tr>\n",
              "                        <th>Q3</th>\n",
              "                        <td>2</td>\n",
              "                    </tr>\n",
              "                    <tr>\n",
              "                        <th>95-th percentile</th>\n",
              "                        <td>5</td>\n",
              "                    </tr>\n",
              "                    <tr>\n",
              "                        <th>Maximum</th>\n",
              "                        <td>31</td>\n",
              "                    </tr>\n",
              "                    <tr>\n",
              "                        <th>Range</th>\n",
              "                        <td>31</td>\n",
              "                    </tr>\n",
              "                    <tr>\n",
              "                        <th>Interquartile range</th>\n",
              "                        <td>1</td>\n",
              "                    </tr>\n",
              "                </table>\n",
              "            </div>\n",
              "            <div class=\"col-md-4 col-md-offset-2\">\n",
              "                <p class=\"h4\">Descriptive statistics</p>\n",
              "                <table class=\"stats indent\">\n",
              "                    <tr>\n",
              "                        <th>Standard deviation</th>\n",
              "                        <td>1.7491</td>\n",
              "                    </tr>\n",
              "                    <tr>\n",
              "                        <th>Coef of variation</th>\n",
              "                        <td>1.002</td>\n",
              "                    </tr>\n",
              "                    <tr>\n",
              "                        <th>Kurtosis</th>\n",
              "                        <td>11.714</td>\n",
              "                    </tr>\n",
              "                    <tr>\n",
              "                        <th>Mean</th>\n",
              "                        <td>1.7457</td>\n",
              "                    </tr>\n",
              "                    <tr>\n",
              "                        <th>MAD</th>\n",
              "                        <td>1.2787</td>\n",
              "                    </tr>\n",
              "                    <tr class=\"\">\n",
              "                        <th>Skewness</th>\n",
              "                        <td>2.2015</td>\n",
              "                    </tr>\n",
              "                    <tr>\n",
              "                        <th>Sum</th>\n",
              "                        <td>71293</td>\n",
              "                    </tr>\n",
              "                    <tr>\n",
              "                        <th>Variance</th>\n",
              "                        <td>3.0595</td>\n",
              "                    </tr>\n",
              "                    <tr>\n",
              "                        <th>Memory size</th>\n",
              "                        <td>319.1 KiB</td>\n",
              "                    </tr>\n",
              "                </table>\n",
              "            </div>\n",
              "        </div>\n",
              "        <div role=\"tabpanel\" class=\"tab-pane col-md-8 col-md-offset-2\" id=\"histogram-5933166945825822347\">\n",
              "            <img src=\"data:image/png;base64,iVBORw0KGgoAAAANSUhEUgAAAlgAAAGQCAYAAAByNR6YAAAABHNCSVQICAgIfAhkiAAAAAlwSFlzAAAPYQAAD2EBqD%2BnaQAAADl0RVh0U29mdHdhcmUAbWF0cGxvdGxpYiB2ZXJzaW9uIDMuMC4zLCBodHRwOi8vbWF0cGxvdGxpYi5vcmcvnQurowAAIABJREFUeJzt3XtclGXC//EvMIEJDDAa1ENuuB5IDrppikuueEjdsuzkibaDm5UpRZCWpVl2rhWyVn002upZt56aFd1K0nJdD9XqHqrNBtRK1K3lwaCcCSFQDvP7o59Tk4NaXc5BPu/Xi9fr8bpm7uu6v8/kfueemzHM7Xa7BQAAAGPCA70BAACAkw0FCwAAwDAKFgAAgGEULAAAAMMoWAAAAIZRsAAAAAyjYAEAABhGwQIAADCMggUAAGAYBQsAAMAwChYAAIBhFCwAAADDKFgAAACGUbAAAAAMo2ABAAAYRsECAAAwjIIFAABgGAULAADAMAoWAACAYRQsAAAAwyhYAAAAhlGwAAAADKNgAQAAGEbBAgAAMIyCBQAAYBgFCwAAwDAKFgAAgGEULAAAAMMoWAAAAIZRsAAAAAyjYAEAABhGwQIAADCMggUAAGAYBQsAAMAwChYAAIBhFCwAAADDKFgAAACGUbAAAAAMo2ABAAAYZgn0BjqK2toDxo8ZHh4mmy1a%2B/c3qK3Nbfz4oYpc2kc2vpGLb%2BTSPrLxLRhzOe202ICsyxWsEBYeHqawsDCFh4cFeitBhVzaRza%2BkYtv5NI%2BsvGNXL5BwQIAADCMggUAAGAYBQsAAMAwChYAAIBhFCwAAADDKFgAAACGUbAAAAAMo2ABAAAYRsECAAAwjIIFAABgGAULAADAMAoWAACAYRQsAAAAwyyB3gB%2BnHPnvh7oLRy3tQXnBXoLAAD4BVewAAAADAvagrVz505de%2B21GjBggLKzs1VQUKDa2lr9/e9/V2pqqjIzM71%2B1q5d63nu8uXLNWbMGPXv31%2B5ubkqLy/3zB08eFD33HOPhg4dqqysLOXn58vpdHrmq6qqdOONNyorK0vDhw/XggUL1NbW5tdzBwAAoS0oC9ahQ4d03XXXadCgQdq6davKysr0xRdfaP78%2BZKk5ORkORwOr58LLrhAkrRhwwYtWrRIv/nNb7RlyxYNHz5cN910k7766itJ0sKFC1VRUSG73a433nhDbrdbd911l2ftW265RUlJSVq/fr2ee%2B45rV%2B/Xr///e/9ngEAAAhdQVmwGhsbVVhYqGnTpikyMlI2m02jRo3Sxx9/fMzn2u12XX755erXr586deqk66%2B/XpK0ceNGtbS0qLS0VDNmzNAZZ5yh%2BPh4FRQUaNOmTfrss8/kcDi0c%2BdOzZo1S7GxsUpJSdGUKVNkt9tP9CkDAICTSFDe5B4XF6cJEyZ4/rx792796U9/8lylamhoUF5ent555x1FRkbquuuu05QpUxQWFqaKigpdeOGFnueGh4erT58%2Bcjgc6tOnjw4cOKD09HTPfI8ePdSpUydVVFSopqZGycnJiouL88ynp6drz549qq%2BvV0xMzHHtv6amRrW1tV5jFktnJSYm/qA82hMREZT9uF0Wi3/2eziXUMvHH8jGN3LxjVzaRza%2Bkcs3grJgHVZVVaUxY8aopaVFEydOVH5%2Bvnbu3KnevXvr2muv1cKFC/WPf/xDt956q2JjYzV%2B/Hi5XC6vgiR9XdicTqdcLpckyWq1es1brVbP/HfnDh/L6XQed8Gy2%2B1avHix11heXp7y8/O/1/mfbBISov26ntV6ql/XCyVk4xu5%2BEYu7SMb38glyAvW4Xut/v3vf%2Buee%2B7RHXfcoeLiYv3hD3/wPGbIkCGaPHmyVq1apfHjx0uS3G73UY97tPljPfd4TJo0SSNGjPAas1g6y%2Bls%2BNHH/rZQe4dg%2BvzbExERLqv1VNXVNaq1lV9Q%2BDay8Y1cfCOX9pGNb8GYi7/f3B8W1AVLksLCwpSSkqLCwkJNnjxZc%2BfOlc1m83pMcnKy3njjDUlSQkKC50rVYS6XS7169fI8z%2BVyKTr6m8C//PJLdenSRa2trT6fGxYWdsSaR5OYmHjEx4G1tQfU0hIcL7ZA8ff5t7a2dfjM20M2vpGLb%2BTSPrLxjVyC9Cb3rVu3asyYMV5fjxAe/vVWN2/erP/93//1evzu3bvVrVs3SVJGRoYqKio8c62trdq%2Bfbv69eunbt26KS4uzmv%2Bo48%2B0qFDh5SRkaGMjAxVV1dr//79nnmHw6GePXt6FTIAAICjCcqClZGRofr6ei1YsECNjY3av3%2B/Fi1apHPPPVexsbF67LHH9Pbbb6u5uVl//etftXLlSuXm5kqScnNz9fLLL%2Bv9999XY2Ojli5dqsjISA0bNkwRERGaOHGili1bpurqajmdTj3%2B%2BOMaNWqUunbtqrS0NGVmZqq4uFj19fWqrKzUc8895zk2AADA8QjKjwhjY2P17LPP6sEHH9TgwYPVuXNnDR48WA899JCSkpI0Z84cPfDAA6qurlbXrl01Z84cjR49WpI0dOhQ3XbbbSooKNAXX3yhzMxMlZSUqFOnTpKk/Px8NTQ06JJLLlFLS4uGDx/u%2BX4tSfrtb3%2BrefPm6bzzzlNMTIwmT56sK6%2B8MhAxAACAEBXmNnFXN46ptvaA8WNaLOEaVfSW8eOeKP76twgtlnAlJETL6Wzo8PcAfBfZ%2BEYuvpFL%2B8jGt2DM5bTTYgOyblB%2BRAgAABDKKFgAAACGUbAAAAAMo2ABAAAYRsECAAAwjIIFAABgGAULAADAMAoWAACAYRQsAAAAwyhYAAAAhlGwAAAADKNgAQAAGEbBAgAAMIyCBQAAYBgFCwAAwDAKFgAAgGEULAAAAMMoWAAAAIZRsAAAAAyjYAEAABhGwQIAADCMggUAAGAYBQsAAMAwChYAAIBhFCwAAADDKFgAAACGUbAAAAAMo2ABAAAYRsECAAAwjIIFAABgGAULAADAMAoWAACAYUFbsHbu3Klrr71WAwYMUHZ2tgoKClRbWytJ2rp1q8aPH6/%2B/ftr7NixevXVV72eu3z5co0ZM0b9%2B/dXbm6uysvLPXMHDx7UPffco6FDhyorK0v5%2BflyOp2e%2BaqqKt14443KysrS8OHDtWDBArW1tfnnpAEAwEkhKAvWoUOHdN1112nQoEHaunWrysrK9MUXX2j%2B/PmqqanRjBkzNHnyZG3dulVz587VvHnz5HA4JEkbNmzQokWL9Jvf/EZbtmzR8OHDddNNN%2Bmrr76SJC1cuFAVFRWy2%2B1644035Ha7ddddd3nWvuWWW5SUlKT169frueee0/r16/X73/8%2BIDkAAIDQFJQFq7GxUYWFhZo2bZoiIyNls9k0atQoffzxx1q9erVSUlI0fvx4RUVFKTs7WyNGjNCKFSskSXa7XZdffrn69eunTp066frrr5ckbdy4US0tLSotLdWMGTN0xhlnKD4%2BXgUFBdq0aZM%2B%2B%2BwzORwO7dy5U7NmzVJsbKxSUlI0ZcoU2e32QMYBAABCjCXQG/AlLi5OEyZM8Px59%2B7d%2BtOf/qQLLrhAFRUVSktL83p8Wlqa1q5dK0mqqKjQhRde6JkLDw9Xnz595HA41KdPHx04cEDp6eme%2BR49eqhTp06qqKhQTU2NkpOTFRcX55lPT0/Xnj17VF9fr5iYmOPaf01NjefjzMMsls5KTEw8/hCOQ0REUPbjdlks/tnv4VxCLR9/IBvfyMU3cmkf2fhGLt8IyoJ1WFVVlcaMGaOWlhZNnDhR%2Bfn5uuGGG5SUlOT1uPj4eM99VC6Xy6sgSV8XNqfTKZfLJUmyWq1e81ar1TP/3bnDx3I6ncddsOx2uxYvXuw1lpeXp/z8/ON6/skqISHar%2BtZraf6db1QQja%2BkYtv5NI%2BsvGNXIK8YCUnJ8vhcOjf//637rnnHt1xxx3H9Ty32/2D54/13OMxadIkjRgxwmvMYuksp7PhRx/720LtHYLp829PRES4rNZTVVfXqNZWfkHh28jGN3LxjVzaRza%2BBWMu/n5zf1hQFyxJCgsLU0pKigoLCzV58mTl5OR4rkQd5nQ6ZbPZJEkJCQlHzLtcLvXq1cvzGJfLpejobwL/8ssv1aVLF7W2tvp8blhYmOe5xyMxMfGIjwNraw%2BopSU4XmyB4u/zb21t6/CZt4dsfCMX38ilfWTjG7kE6U3uW7du1ZgxY7y%2BHiE8/Out9u3b1%2BtrFySpvLxc/fr1kyRlZGSooqLCM9fa2qrt27erX79%2B6tatm%2BLi4rzmP/roIx06dEgZGRnKyMhQdXW19u/f75l3OBzq2bOnVyEDAAA4mqAsWBkZGaqvr9eCBQvU2Nio/fv3a9GiRTr33HOVm5urqqoqrVixQgcPHtTmzZu1efNmTZw4UZKUm5url19%2BWe%2B//74aGxu1dOlSRUZGatiwYYqIiNDEiRO1bNkyVVdXy%2Bl06vHHH9eoUaPUtWtXpaWlKTMzU8XFxaqvr1dlZaWee%2B455ebmBjgRAAAQSoKyYMXGxurZZ59VeXm5Bg8erLFjxyo2NlaPP/64unTpoqeeekrPP/%2B8BgwYoIcfflgLFizQ2WefLUkaOnSobrvtNhUUFGjQoEHasmWLSkpK1KlTJ0lSfn6%2B%2BvXrp0suuUQjR45UdHS0HnroIc/av/3tb1VTU6PzzjtP11xzjS699FJdeeWVAckBAACEpjC3ibu6cUy1tQeMH9NiCdeooreMH/dEWVtwnl/WsVjClZAQLaezocPfA/BdZOMbufhGLu0jG9%2BCMZfTTosNyLpBeQULAAAglFGwAAAADKNgAQAAGEbBAgAAMIyCBQAAYBgFCwAAwDAKFgAAgGEULAAAAMMoWAAAAIZRsAAAAAyjYAEAABhGwQIAADCMggUAAGAYBQsAAMAwChYAAIBhFCwAAADDKFgAAACGUbAAAAAMo2ABAAAYRsECAAAwjIIFAABgGAULAADAMAoWAACAYRQsAAAAwyhYAAAAhlGwAAAADKNgAQAAGEbBAgAAMIyCBQAAYBgFCwAAwDAKFgAAgGFBW7CqqqqUl5enrKwsZWdn684771RdXZ3%2B85//KDU1VZmZmV4/zzzzjOe5a9as0cUXX6xzzjlHl19%2Bud5%2B%2B23PXFtbmxYuXKiRI0dq4MCBmjp1qj799FPPvMvlUkFBgbKzszVkyBDNnTtXTU1Nfj13AAAQ2oK2YN10002yWq3asGGDVq1apY8//liPPfaYZ97hcHj9TJ06VZK0Y8cOzZ49W7NmzdLf/vY3TZkyRTfffLP27dsnSXrhhRe0evVqlZSUaOPGjUpJSVFeXp7cbrckad68eWpsbFRZWZlWrlypyspKFRUV%2BT8AAAAQsoKyYNXV1SkjI0MzZ85UdHS0Tj/9dF122WV65513jvncFStWKCcnRzk5OYqKitK4cePUu3dvvfrqq5Iku92uKVOmqEePHoqJiVFhYaEqKyu1bds2ff7551q/fr0KCwtls9mUlJSkGTNmaOXKlWpubj7Rpw0AAE4SQVmwrFarHnnkEXXt2tUzVl1drcTERM%2Bf77jjDg0ZMkSDBw9WcXGxpwBVVFQoLS3N63hpaWlyOBxqamrSrl27vOZjYmJ01llnyeFwaMeOHYqIiFBqaqpnPj09XV999ZV27959ok4XAACcZCyB3sDxcDgcev7557V06VJFRkbqnHPO0ahRo/TQQw9px44duuWWW2SxWHTrrbfK5XIpLi7O6/lxcXHatWuXvvzyS7ndbp/zTqdT8fHxiomJUVhYmNecJDmdzuPeb01NjWpra73GLJbOXgXRhIiIoOzH7bJY/LPfw7mEWj7%2BQDa%2BkYtv5NI%2BsvGNXL4R9AXr3Xff1fTp0zVz5kxlZ2dLkl566SXPfN%2B%2BfTVt2jQ99dRTuvXWWyXJcz9Ve442f6znHg%2B73a7Fixd7jeXl5Sk/P/9HHzuUJSRE%2B3U9q/VUv64XSsjGN3LxjVzaRza%2BkUuQF6wNGzbo9ttv17x583TppZe2%2B7jk5GR9/vnncrvdSkhIkMvl8pp3uVyy2WyKj49XeHi4z/kuXbrIZrOpvr5era2tioiI8MxJUpcuXY5735MmTdKIESO8xiyWznI6G477GMcj1N4hmD7/9kREhMtqPVV1dY1qbW3zy5qhgmx8IxffyKV9ZONbMObi7zf3hwVtwXrvvfc0e/ZsPfnkkxoyZIhnfOvWrXr//fc1ffp0z9ju3buVnJyssLAwZWRkqLy83OtYDodDY8eOVVRUlHr16qWKigoNGjRI0tc31H/yySfq27evkpOT5Xa7tXPnTqWnp3uea7Va1b179%2BPee2Ji4hEfB9bWHlBLS3C82ALF3%2Bff2trW4TNvD9n4Ri6%2BkUv7yMY3cgnSm9xbWlp09913a9asWV7lSpJiY2O1ZMkSvfLKK2pubpbD4dAzzzyj3NxcSdLEiRO1ZcsWbdq0SQcPHlRpaan27t2rcePGSZJyc3O1fPlyVVZWqr6%2BXkVFRerTp48yMzNls9k0ZswYPfHEE9q/f7/27dunJUuWaPz48bJYgraLAgCAIBPmNnHTkWHvvPOOfvWrXykyMvKIuddff13bt2/X4sWLtXfvXsXGxurqq6/WDTfcoPDwr/viunXrVFxcrKqqKvXs2VNz587VwIEDJX19j9WiRYv00ksvqaGhQVlZWbr//vt1%2BumnS5IOHDige%2B%2B9Vxs3btQpp5yiiy66SHfeeafPvXwftbUHftTzfbFYwjWq6C3jxz1R1hac55d1LJZwJSREy%2Bls6PDvoL6LbHwjF9/IpX1k41sw5nLaabEBWTcoC9bJiIJFwQoGZOMbufhGLu0jG9%2BCMZdAFayg/IgQAAAglFGwAAAADKNgAQAAGEbBAgAAMIyCBQAAYBgFCwAAwDAKFgAAgGEULAAAAMMoWAAAAIZRsAAAAAyjYAEAABhGwQIAADCMggUAAGAYBQsAAMAw4wVrxIgRWrx4saqrq00fGgAAICQYL1hXXHGF1qxZo/PPP1/XX3%2B91q1bp5aWFtPLAAAABC3jBSsvL09r1qzRH//4R/Xq1UsPP/ywcnJytGDBAu3Zs8f0cgAAAEHnhN2DlZ6ertmzZ2vjxo2aM2eO/vjHP%2BrCCy/U1KlT9cEHH5yoZQEAAALuhBWs5uZmrVmzRjfccINmz56tpKQk3XXXXerTp4%2BmTJmi1atXn6ilAQAAAspi%2BoCVlZUqLS3Vyy%2B/rIaGBo0ZM0a///3vNWDAAM9jBg4cqPnz5%2Bviiy82vTwAAEDAGS9YY8eOVffu3TVt2jRdeumlio%2BPP%2BIxOTk52r9/v%2BmlAQAAgoLxgrV8%2BXINGjTomI/btm2b6aUBAACCgvF7sFJTU3XTTTdp/fr1nrH/%2BZ//0Q033CCXy2V6OQAAgKBjvGA98sgjOnDggHr27OkZGzZsmNra2vToo4%2BaXg4AACDoGP%2BI8O2339bq1auVkJDgGUtJSVFRUZEuuugi08sBAAAEHeNXsJqamhQVFXXkQuHhamxsNL0cAABA0DFesAYOHKhHH31UX375pWfss88%2B03333ef1VQ0AAAAnK%2BMfEc6ZM0fXXXedfv7znysmJkZtbW1qaGhQt27d9Ic//MH0cgAAAEHHeMHq1q2bXnvtNb355pv65JNPFB4eru7du2vIkCGKiIgwvRwAAEDQMV6wJCkyMlLnn3/%2BiTg0AABA0DNesD799FMVFxfr448/VlNT0xHzf/nLX0wvCQAAEFROyD1YNTU1GjJkiDp37mz68AAAAEHPeMEqLy/XX/7yF9lsth91nKqqKj388MN65513FBERoaFDh2rOnDmyWq3asWOHHnroIe3YsUNdunTR5MmTdd1113meu2bNGi1dulT/%2Bc9/1L17d912220aMmSIJKmtrU1PPvmkysrKVFdXp759%2B2r%2B/Pnq1q2bJMnlcmn%2B/Pn6xz/%2BofDwcOXk5GjevHnq1KnTjzofAADQcRj/moYuXboYuXJ10003yWq1asOGDVq1apU%2B/vhjPfbYY2pqatK0adM0ePBgvfXWW1q4cKGeeuoprVu3TpK0Y8cOzZ49W7NmzdLf/vY3TZkyRTfffLP27dsnSXrhhRe0evVqlZSUaOPGjUpJSVFeXp7cbrckad68eWpsbFRZWZlWrlypyspKFRUV/ejzAQAAHYfxgjVt2jQtXrzYU1h%2BiLq6OmVkZGjmzJmKjo7W6aefrssuu0zvvPOONm3apObmZk2fPl2dO3dWenq6JkyYILvdLklasWKFcnJylJOTo6ioKI0bN069e/fWq6%2B%2BKkmy2%2B2aMmWKevTooZiYGBUWFqqyslLbtm3T559/rvXr16uwsFA2m01JSUmaMWOGVq5cqebmZiP5AACAk5/xjwjffPNNvffee1q1apXOPPNMhYd7d7iXXnrpmMewWq165JFHvMaqq6uVmJioiooKpaamen3lQ1pamlasWCFJqqioUE5Ojtdz09LS5HA41NTUpF27diktLc0zFxMTo7POOksOh0MHDhxQRESEUlNTPfPp6en66quvtHv3bq/xo6mpqVFtba3XmMXSWYmJicf1/OMVEWG8H59QFot/9ns4l1DLxx/Ixjdy8Y1c2kc2vpHLN4wXrJiYGA0dOtToMR0Oh55//nktXbpUa9euldVq9ZqPj4%2BXy%2BVSW1ubXC6X4uLivObj4uK0a9cuffnll3K73T7nnU6n4uPjFRMTo7CwMK85SXI6nce9X7vdrsWLF3uN5eXlKT8//7iPcTJKSIj263pW66l%2BXS%2BUkI1v5OIbubSPbHwjlxNQsL575enHevfddzV9%2BnTNnDlT2dnZWrt2rc/HfbsUHevjyaPN/5iPNg%2BbNGmSRowY4TVmsXSW09nwo4/9baH2DsH0%2BbcnIiJcVuupqqtrVGtrm1/WDBVk4xu5%2BEYu7SMb34IxF3%2B/uT/shHzR6O7du/Xaa6/p//7v/zyF61//%2BpfOOeec73WcDRs26Pbbb9e8efN06aWXSpJsNpv27t3r9TiXy6X4%2BHiFh4crISFBLpfriHmbzeZ5jK/5Ll26yGazqb6%2BXq2trZ6PIA8/tkuXLse978TExCM%2BDqytPaCWluB4sQWKv8%2B/tbWtw2feHrLxjVx8I5f2kY1v5HICbnLfunWrxo0bp3Xr1qmsrEzS118%2Bes0113yvLxl97733NHv2bD355JOeciVJGRkZ%2BvDDD9XS0uIZczgc6tevn2e%2BvLzc61iH56OiotSrVy9VVFR45urq6vTJJ5%2Bob9%2B%2B6tOnj9xut3bu3On1XKvVqu7du3%2B/IAAAQIdlvGAtXLhQt99%2Bu1avXu352K5bt2569NFHtWTJkuM6RktLi%2B6%2B%2B27NmjXL8/1Vh%2BXk5CgmJkZLly5VY2Ojtm3bptLSUuXm5kqSJk6cqC1btmjTpk06ePCgSktLtXfvXo0bN06SlJubq%2BXLl6uyslL19fUqKipSnz59lJmZKZvNpjFjxuiJJ57Q/v37tW/fPi1ZskTjx4%2BXxXJCLvYBAICTkPGC9dFHH3nKzrfvi/rlL3%2BpysrK4zrG%2B%2B%2B/r8rKSj344IPKzMz0%2BqmtrdWyZcu0ZcsWDRo0SAUFBSosLNSwYcMkSb1791ZRUZEeeeQRDRgwQM8//7yeeuopnXbaaZKkyZMn67LLLtPVV1%2Bt8847T/v27fO6If3%2B%2B%2B9XbGysRo4cqXHjxqlv374qLCw0lA4AAOgIjF%2BWiY2NVVNTkyIjI73Ga2pqjhhrz7nnnqsPP/zwqI958cUX250bPXq0Ro8e7XMuLCxM%2Bfn57f5GX2xsrB5//PHj2icAAIAvxq9g9e/fXw8//LDq6%2Bs9Y3v27NHs2bP185//3PRyAAAAQcf4Fay77rpL1157rbKystTa2qr%2B/fursbFRvXr10qOPPmp6OQAAgKBjvGCdfvrpKisr0%2BbNm7Vnzx516tRJ3bt313nnned1TxYAAMDJ6oT8atwpp5yi888//0QcGgAAIOgZL1gjRow46pWq7/NdWAAAAKHIeMG68MILvQpWa2ur9uzZI4fDoWuvvdb0cgAAAEHHeMGaNWuWz/E33nhDf//7300vBwAAEHT89q8Fn3/%2B%2BXrttdf8tRwAAEDA%2BK1gbd%2B%2BXW6321/LAQAABIzxjwgnT558xFhjY6MqKyvb/XZ1AACAk4nxgpWSknLEbxFGRUVp/PjxmjBhgunlAAAAgo7xgsW3tQMAgI7OeMF6%2BeWXj/uxl156qenlAQAAAs54wZo7d67a2tqOuKE9LCzMaywsLIyCBQAATkrGC9bvfvc7Pfvss7rpppuUmpoqt9utDz/8UE8//bSuuuoqZWVlmV4SAAAgqJyQe7BKSkqUlJTkGTv33HPVrVs3TZ06VWVlZaaXBAAACCrGvwdr7969iouLO2LcarWqqqrK9HIAAABBx3jBSk5O1qOPPiqn0%2BkZq6urU3FxsX7yk5%2BYXg4AACDoGP%2BIcM6cOZo5c6bsdruio6MVHh6u%2Bvp6derUSUuWLDG9HAAAQNAxXrCGDBmiTZs2afPmzdq3b5/cbreSkpL0i1/8QrGxsaaXAwAACDrGC5YknXrqqRo5cqT27dunbt26nYglAAAAgpbxe7Campo0e/ZsnXPOObrgggskfX0P1vXXX6%2B6ujrTywEAAAQd4wVrwYIF2rFjh4qKihQe/s3hW1tbVVRUZHo5AACAoGO8YL3xxhv67W9/q1/%2B8peef/TZarXqkUce0bp160wvBwAAEHSMF6yGhgalpKQcMW6z2fTVV1%2BZXg4AACDoGC9YP/nJT/T3v/9dkrz%2B7cHXX39d//Vf/2V6OQAAgKBj/LcIr7zySt1yyy264oor1NbWpueee07l5eV64403NHfuXNPLAQAABB3jBWvSpEmyWCx6/vnnFRERoWXLlql79%2B4qKirSL3/5S9PLAQAABB3jBWv//v264oordMUVV5g%2BNAAAQEgwfg/WyJEjve69AgAA6GiMF6ysrCytXbvW9GEBAABChvGPCM844ww99NBDKikp0U9%2B8hOdcsopXvPFxcWmlwQAAAgqxq9g7dq1Sz/96U8VGxsrp9Opmpoar5/v46233lJ2drYKCwu9xletWqWzzz5bmZmZXj8ffPCBJKmtrU0LFy7UyJEjNXDgQE2dOlWffvqp5/kul0sFBQXKzs7WkCFDNHfuXDXymnpqAAAadElEQVQ1NXnmd%2BzYoauuukoDBgzQ6NGj9eyzz/6IRAAAQEdj7ApWYWGhFi5cqD/84Q%2BesSVLligvL%2B8HHe/pp59WaWmpzjrrLJ/zAwcO9Frr21544QWtXr1aTz/9tJKSkrRw4ULl5eXplVdeUVhYmObNm6dDhw6prKxMzc3NuvXWW1VUVKS7775bTU1NmjZtmiZOnKiSkhLt2bNH1113nc4880yNHj36B50LAADoWIxdwdqwYcMRYyUlJT/4eFFRUUctWEdjt9s1ZcoU9ejRQzExMSosLFRlZaW2bdumzz//XOvXr1dhYaFsNpuSkpI0Y8YMrVy5Us3Nzdq0aZOam5s1ffp0de7cWenp6ZowYYLsdvsPPhcAANCxGLuC5es3B3/MbxNec801R52vrq7Wr3/9a5WXl8tqtSo/P1%2BXXHKJmpqatGvXLqWlpXkeGxMTo7POOksOh0MHDhxQRESEUlNTPfPp6en66quvtHv3blVUVCg1NVURERGe%2BbS0NK1YseK4915TU6Pa2lqvMYulsxITE4/7GMcjIsL4J7wnlMXin/0eziXU8vEHsvGNXHwjl/aRjW/k8g1jBevwP%2Bx8rDETbDabUlJSdNttt6lnz57685//rDvuuEOJiYn66U9/Krfbrbi4OK/nxMXFyel0Kj4%2BXjExMV57O/xYp9Mpl8slq9Xq9dz4%2BHi5XC61tbUpPPzYLxq73a7Fixd7jeXl5Sk/P/%2BHnvJJISEh2q/rWa2n%2BnW9UEI2vpGLb%2BTSPrLxjVxOwG8R%2BsOwYcM0bNgwz5/Hjh2rP//5z1q1apVmzZol6ehXz37IlbXvUxYnTZqkESNGeI1ZLJ3ldDZ873WPJtTeIZg%2B//ZERITLaj1VdXWNam1t88uaoYJsfCMX38ilfWTjWzDm4u8394eFZMHyJTk5WeXl5YqPj1d4eLhcLpfXvMvlUpcuXWSz2VRfX6/W1lbPx4CHH3t4fu/evUc89/Bxj0diYuIRHwfW1h5QS0twvNgCxd/n39ra1uEzbw/Z%2BEYuvpFL%2B8jGN3IxWLCam5s1c%2BbMY46Z%2BB6sF198UXFxcbrwwgs9Y5WVlerWrZuioqLUq1cvVVRUaNCgQZKkuro6ffLJJ%2Brbt6%2BSk5Pldru1c%2BdOpaenS5IcDoesVqu6d%2B%2BujIwMvfjii2ppaZHFYvHM9%2BvX70fvGwAAdAzGPmMaMGDAEd955WvMhEOHDumBBx6Qw%2BFQc3OzysrK9Oabb2ry5MmSpNzcXC1fvlyVlZWqr69XUVGR%2BvTpo8zMTNlsNo0ZM0ZPPPGE9u/fr3379mnJkiUaP368LBaLcnJyFBMTo6VLl6qxsVHbtm1TaWmpcnNzjewdAACc/IxdwWrvO6l%2BqMzMTElSS0uLJGn9%2BvWSvr6adM0116ihoUG33nqramtrdeaZZ2rJkiXKyMiQJE2ePFm1tbW6%2Buqr1dDQoKysLK%2Bbzu%2B//37de%2B%2B9GjlypE455RRddNFFni8zjYyM1LJly3TvvfeqpKREXbt2VWFhodc9XwAAAEcT5uZfZvaL2toDxo9psYRrVNFbxo97oqwtOM8v61gs4UpIiJbT2dDh7wH4LrLxjVx8I5f2kY1vwZjLaafFBmTd0Po1NAAAgBBAwQIAADCMggUAAGAYBQsAAMAwChYAAIBhFCwAAADDKFgAAACGUbAAAAAMo2ABAAAYRsECAAAwjIIFAABgGAULAADAMAoWAACAYRQsAAAAwyhYAAAAhlGwAAAADKNgAQAAGEbBAgAAMIyCBQAAYBgFCwAAwDAKFgAAgGEULAAAAMMoWAAAAIZRsAAAAAyjYAEAABhGwQIAADCMggUAAGAYBQsAAMAwChYAAIBhFCwAAADDKFgAAACGBXXBeuutt5Sdna3CwsIj5tasWaOLL75Y55xzji6//HK9/fbbnrm2tjYtXLhQI0eO1MCBAzV16lR9%2BumnnnmXy6WCggJlZ2dryJAhmjt3rpqamjzzO3bs0FVXXaUBAwZo9OjRevbZZ0/siQIAgJNK0Basp59%2BWg8%2B%2BKDOOuusI%2BZ27Nih2bNna9asWfrb3/6mKVOm6Oabb9a%2BffskSS%2B88IJWr16tkpISbdy4USkpKcrLy5Pb7ZYkzZs3T42NjSorK9PKlStVWVmpoqIiSVJTU5OmTZumwYMH66233tLChQv11FNPad26df47eQAAENKCtmBFRUWptLTUZ8FasWKFcnJylJOTo6ioKI0bN069e/fWq6%2B%2BKkmy2%2B2aMmWKevTooZiYGBUWFqqyslLbtm3T559/rvXr16uwsFA2m01JSUmaMWOGVq5cqebmZm3atEnNzc2aPn26OnfurPT0dE2YMEF2u93fEQAAgBAVtAXrmmuuUWxsrM%2B5iooKpaWleY2lpaXJ4XCoqalJu3bt8pqPiYnRWWedJYfDoR07digiIkKpqame%2BfT0dH311VfavXu3KioqlJqaqoiICK9jl5eXGz5DAABwsrIEegM/hMvlUlxcnNdYXFycdu3apS%2B//FJut9vnvNPpVHx8vGJiYhQWFuY1J0lOp1Mul0tWq9XrufHx8XK5XGpra1N4%2BLE7aU1NjWpra73GLJbOSkxM/F7neSwREUHbj32yWPyz38O5hFo%2B/kA2vpGLb%2BTSPrLxjVy%2BEZIFS5LnfqofMn%2Bs5/ry7UJ2LHa7XYsXL/Yay8vLU35%2B/vde92SSkBDt1/Ws1lP9ul4oIRvfyMU3cmkf2fhGLiFasBISEuRyubzGXC6XbDab4uPjFR4e7nO%2BS5custlsqq%2BvV2trq%2BdjwMOPPTy/d%2B/eI557%2BLjHY9KkSRoxYoTXmMXSWU5nw/c5zWMKtXcIps%2B/PRER4bJaT1VdXaNaW9v8smaoIBvfyMU3cmkf2fgWjLn4%2B839YSFZsDIyMo64J8rhcGjs2LGKiopSr169VFFRoUGDBkmS6urq9Mknn6hv375KTk6W2%2B3Wzp07lZ6e7nmu1WpV9%2B7dlZGRoRdffFEtLS2yWCye%2BX79%2Bh33/hITE4/4OLC29oBaWoLjxRYo/j7/1ta2Dp95e8jGN3LxjVzaRza%2BkUsQ3%2BR%2BNBMnTtSWLVu0adMmHTx4UKWlpdq7d6/GjRsnScrNzdXy5ctVWVmp%2Bvp6FRUVqU%2BfPsrMzJTNZtOYMWP0xBNPaP/%2B/dq3b5%2BWLFmi8ePHy2KxKCcnRzExMVq6dKkaGxu1bds2lZaWKjc3N8BnDQAAQkXQXsHKzMyUJLW0tEiS1q9fL%2Bnrq0m9e/dWUVGRHnnkEVVVValnz5566qmndNppp0mSJk%2BerNraWl199dVqaGhQVlaW1z1R999/v%2B69916NHDlSp5xyii666CLPl5lGRkZq2bJluvfee1VSUqKuXbuqsLBQw4YN8%2BPZAwCAUBbm/iF3fON7q609YPyYFku4RhW9Zfy4J8ragvP8so7FEq6EhGg5nQ0d/hL1d5GNb%2BTiG7m0j2x8C8ZcTjvN91c%2BnWgh%2BREhAABAMKNgAQAAGEbBAgAAMIyCBQAAYBgFCwAAwDAKFgAAgGEULAAAAMMoWAAAAIZRsAAAAAyjYAEAABhGwQIAADCMggUAAGAYBQsAAMAwChYAAIBhFCwAAADDKFgAAACGUbAAAAAMo2ABAAAYRsECAAAwjIIFAABgGAULAADAMAoWAACAYRQsAAAAwyhYAAAAhlGwAAAADKNgAQAAGEbBAgAAMIyCBQAAYBgFCwAAwDAKFgAAgGEULAAAAMMoWAAAAIaFbMFKTU1VRkaGMjMzPT8PPPCAJGnr1q0aP368%2Bvfvr7Fjx%2BrVV1/1eu7y5cs1ZswY9e/fX7m5uSovL/fMHTx4UPfcc4%2BGDh2qrKws5efny%2Bl0%2BvXcAABAaLMEegM/xuuvv64zzzzTa6ympkYzZszQ3LlzdfHFF%2Bvdd9/V9OnT1b17d2VmZmrDhg1atGiRfve73yk1NVXLly/XTTfdpHXr1qlz585auHChKioqZLfbdeqpp2revHm66667tGzZsgCdJQAACDUhewWrPatXr1ZKSorGjx%2BvqKgoZWdna8SIEVqxYoUkyW636/LLL1e/fv3UqVMnXX/99ZKkjRs3qqWlRaWlpZoxY4bOOOMMxcfHq6CgQJs2bdJnn30WyNMCAAAhJKSvYBUXF%2Btf//qX6uvrdcEFF%2BjOO%2B9URUWF0tLSvB6XlpamtWvXSpIqKip04YUXeubCw8PVp08fORwO9enTRwcOHFB6erpnvkePHurUqZMqKiqUlJR0XPuqqalRbW2t15jF0lmJiYk/9FR9iogIrX5ssfhnv4dzCbV8/IFsfCMX38ilfWTjG7l8I2QL1s9%2B9jNlZ2frscce06effqqCggLdd999crlcRxSh%2BPh4z31ULpdLcXFxXvNxcXFyOp1yuVySJKvV6jVvtVq/131Ydrtdixcv9hrLy8tTfn7%2BcR/jZJSQEO3X9azWU/26XighG9/IxTdyaR/Z%2BEYuIVyw7Ha75//u0aOHZs2apenTp2vAgAHHfK7b7f5R88cyadIkjRgxwmvMYuksp7PhRx33u0LtHYLp829PRES4rNZTVVfXqNbWNr%2BsGSrIxjdy8Y1c2kc2vgVjLv5%2Bc39YyBas7zrzzDPV2tqq8PBwz5Wow5xOp2w2myQpISHhiHmXy6VevXp5HuNyuRQd/c3/Q7788kt16dLluPeSmJh4xMeBtbUH1NISHC%2B2QPH3%2Bbe2tnX4zNtDNr6Ri2/k0j6y8Y1cQvQm9%2B3bt%2BvRRx/1GqusrFRkZKRycnK8vnZBksrLy9WvXz9JUkZGhioqKjxzra2t2r59u/r166du3bopLi7Oa/6jjz7SoUOHlJGRcQLPCAAAnExCsmB16dJFdrtdJSUlOnTokPbs2aMnn3xSkyZN0iWXXKKqqiqtWLFCBw8e1ObNm7V582ZNnDhRkpSbm6uXX35Z77//vhobG7V06VJFRkZq2LBhioiI0MSJE7Vs2TJVV1fL6XTq8ccf16hRo9S1a9cAnzUAAAgVIfkRYVJSkkpKSlRcXOwpSJdddpkKCwsVFRWlp556Sg8%2B%2BKDuu%2B8%2BJScna8GCBTr77LMlSUOHDtVtt92mgoICffHFF8rMzFRJSYk6deokScrPz1dDQ4MuueQStbS0aPjw4Zo/f34AzxYAAISaMPePvaMbx6W29oDxY1os4RpV9Jbx4%2BJrawvOC/QWjLNYwpWQEC2ns6HD3x/xbeTiG7m0j2x8C8ZcTjstNiDrhuRHhAAAAMGMggUAAGAYBQsAAMAwChYAAIBhFCwAAADDKFgAAACGUbAAAAAMo2ABAAAYRsECAAAwjIIFAABgGAULAADAMAoWAACAYRQsAAAAwyhYAAAAhlGwAAAADKNgAQAAGEbBAgAAMIyCBQAAYBgFCwAAwDAKFgAAgGEULAAAAMMoWAAAAIZRsAAAAAyjYAEAABhGwQIAADCMggUAAGAYBQsAAMAwChYAAIBhFCwAAADDKFgAAACGWQK9ASBYXfDEXwO9he9lbcF5gd4CAOD/4woWAACAYRQsH6qqqnTjjTcqKytLw4cP14IFC9TW1hbobQEAgBDBR4Q%2B3HLLLUpPT9f69ev1xRdfaNq0aeratat%2B/etfB3prAAAgBHAF6zscDod27typWbNmKTY2VikpKZoyZYrsdnugtwYAAEIEV7C%2Bo6KiQsnJyYqLi/OMpaena8%2BePaqvr1dMTMwxj1FTU6Pa2lqvMYulsxITE43uNSKCfoxvhNJN%2BX%2Be9YtAb8HL4f%2BW%2BG/KG7m0j2x8I5dvULC%2Bw%2BVyyWq1eo0dLltOp/O4CpbdbtfixYu9xm6%2B%2BWbdcsst5jaqr4vctad/rEmTJhkvb6GspqZGdrudXHwgG99qamr0%2B9//jly%2Bg1zaRza%2Bkcs3qJg%2BuN3uH/X8SZMmadWqVV4/kyZNMrS7b9TW1mrx4sVHXC3r6MilfWTjG7n4Ri7tIxvfyOUbXMH6DpvNJpfL5TXmcrkUFhYmm812XMdITEzs8M0dAICOjCtY35GRkaHq6mrt37/fM%2BZwONSzZ09FR0cHcGcAACBUULC%2BIy0tTZmZmSouLlZ9fb0qKyv13HPPKTc3N9BbAwAAISJi/vz58wO9iWDzi1/8QmVlZXrggQf02muvafz48Zo6darCwsICvbUjREdHa9CgQVxd%2Bw5yaR/Z%2BEYuvpFL%2B8jGN3L5Wpj7x97RDQAAAC98RAgAAGAYBQsAAMAwChYAAIBhFCwAAADDKFgAAACGUbAAAAAMo2ABAAAYRsECAAAwjIIFAABgGAUrBFVVVenGG29UVlaWhg8frgULFqitrS3Q2woKqampysjIUGZmpufngQceCPS2AuKtt95Sdna2CgsLj5hbs2aNLr74Yp1zzjm6/PLL9fbbbwdgh4HRXi6rVq3S2Wef7fXayczM1AcffBCgnfpXVVWV8vLylJWVpezsbN15552qq6uTJO3YsUNXXXWVBgwYoNGjR%2BvZZ58N8G79q71s/vOf/yg1NfWI18wzzzwT6C37xc6dO3XttddqwIABys7OVkFBgWprayVJW7du1fjx49W/f3%2BNHTtWr776aoB3GwBuhJzLLrvMfffdd7vr6urce/bscY8ePdr97LPPBnpbQaF3797uTz/9NNDbCLiSkhL36NGj3ZMnT3YXFBR4zW3fvt2dkZHh3rRpk7upqcn9yiuvuPv16%2Beurq4O0G7952i5rFy50n3VVVcFaGeBd9FFF7nvvPNOd319vbu6utp9%2BeWXu%2BfMmeNubGx0/%2BIXv3AvWrTI3dDQ4C4vL3cPGjTI/cYbbwR6y37TXjaffvqpu3fv3oHeXkAcPHjQ/fOf/9y9ePFi98GDB91ffPGF%2B6qrrnLPmDHD/dlnn7l/9rOfuVesWOFuampy//Wvf3X37dvX/cEHHwR6237FFawQ43A4tHPnTs2aNUuxsbFKSUnRlClTZLfbA701BJGoqCiVlpbqrLPOOmJuxYoVysnJUU5OjqKiojRu3Dj17t27Q7zDPFouHVldXZ0yMjI0c%2BZMRUdH6/TTT9dll12md955R5s2bVJzc7OmT5%2Buzp07Kz09XRMmTOgwf%2BccLZuOrLGxUYWFhZo2bZoiIyNls9k0atQoffzxx1q9erVSUlI0fvx4RUVFKTs7WyNGjNCKFSsCvW2/omCFmIqKCiUnJysuLs4zlp6erj179qi%2Bvj6AOwsexcXFGjZsmM4991zNmzdPDQ0Ngd6S311zzTWKjY31OVdRUaG0tDSvsbS0NDkcDn9sLaCOloskVVdX69e//rUGDhyokSNH6pVXXvHj7gLHarXqkUceUdeuXT1j1dXVSkxMVEVFhVJTUxUREeGZS0tLU3l5eSC26ndHy%2BawO%2B64Q0OGDNHgwYNVXFys5ubmQGzVr%2BLi4jRhwgRZLBZJ0u7du/WnP/1JF1xwQbt/x3SU18xhFKwQ43K5ZLVavcYOly2n0xmILQWVn/3sZ8rOzta6detkt9v1/vvv67777gv0toKKy%2BXyKujS16%2Bhjv76sdlsSklJ0e23366//vWvuu222zRnzhxt3bo10FvzO4fDoeeff17Tp0/3%2BXdOfHy8XC5Xh7z389vZREZG6pxzztGoUaO0ceNGlZSU6NVXX9V///d/B3qbflNVVaWMjAxdeOGFyszMVH5%2BfruvmY72dwwFKwS53e5AbyFo2e12TZgwQZGRkerRo4dmzZqlsrIyHTp0KNBbCyq8ho40bNgw/e53v1NaWpoiIyM1duxYjRo1SqtWrQr01vzq3Xff1dSpUzVz5kxlZ2e3%2B7iwsDA/7io4fDebxMREvfTSSxo1apROOeUU9e3bV9OmTetQr5nk5GQ5HA69/vrr2rt3r%2B64445AbyloULBCjM1mk8vl8hpzuVwKCwuTzWYL0K6C15lnnqnW1lZ98cUXgd5K0EhISPD5GuL1c6Tk5GTV1NQEeht%2Bs2HDBt14442aM2eOrrnmGklf/53z3SsPLpdL8fHxCg/vOP8T4isbX5KTk/X55593qDcxYWFhSklJUWFhocrKymSxWI74O8bpdHa4v2M6zn8dJ4mMjAxVV1dr//79njGHw6GePXsqOjo6gDsLvO3bt%2BvRRx/1GqusrFRkZKTX/RIdXUZGxhH3QjgcDvXr1y9AOwoOL774otasWeM1VllZqW7dugVoR/713nvvafbs2XryySd16aWXesYzMjL04YcfqqWlxTPW0V4v7WWzdetWLV261Ouxu3fvVnJy8kl/hW/r1q0aM2aM18fEhwt33759j/g7pry8vEO9ZiQKVshJS0tTZmamiouLVV9fr8rKSj333HPKzc0N9NYCrkuXLrLb7SopKdGhQ4e0Z88ePfnkk5o0aZLXDbod3cSJE7VlyxZt2rRJBw8eVGlpqfbu3atx48YFemsBdejQIT3wwANyOBxqbm5WWVmZ3nzzTU2ePDnQWzvhWlpadPfdd2vWrFkaMmSI11xOTo5iYmK0dOlSNTY2atu2bSotLe0wf%2BccLZvY2FgtWbJEr7zyipqbm%2BVwOPTMM890iGwyMjJUX1%2BvBQsWqLGxUfv379eiRYt07rnnKjc3V1VVVVqxYoUOHjyozZs3a/PmzZo4cWKgt%2B1XYe6OdB3zJLFv3z7NmzdP//jHPxQTE6PJkyfr5ptvPunfMR2Pf/7znyouLtaHH36oyMhIXXbZZSosLFRUVFSgt%2BZXmZmZkuS56nD4N30O/6bgunXrVFxcrKqqKvXs2VNz587VwIEDA7NZPzpaLm63W0uXLlVpaalqa2t15pln6o477tDw4cMDtl9/eeedd/SrX/1KkZGRR8y9/vrramho0L333qvy8nJ17dpVN9xwg6688soA7NT/jpXN9u3btXjxYu3du1exsbG6%2BuqrdcMNN3SIj08//PBDPfjgg/rggw/UuXNnDR48WHfeeaeSkpL0z3/%2BUw8%2B%2BKAqKyuVnJysmTNnavTo0YHesl9RsAAAAAw7%2BSs2AACAn1GwAAAADKNgAQAAGEbBAgAAMIyCBQAAYBgFCwAAwDAKFgAAgGEULAAAAMMoWAAAAIZRsAAAAAyjYAEAABhGwQIAADCMggUAAGDY/wNW4h%2BvK/aWlQAAAABJRU5ErkJggg%3D%3D\"/>\n",
              "        </div>\n",
              "        <div role=\"tabpanel\" class=\"tab-pane col-md-12\" id=\"common-5933166945825822347\">\n",
              "            \n",
              "<table class=\"freq table table-hover\">\n",
              "    <thead>\n",
              "    <tr>\n",
              "        <td class=\"fillremaining\">Value</td>\n",
              "        <td class=\"number\">Count</td>\n",
              "        <td class=\"number\">Frequency (%)</td>\n",
              "        <td style=\"min-width:200px\">&nbsp;</td>\n",
              "    </tr>\n",
              "    </thead>\n",
              "    <tr class=\"\">\n",
              "        <td class=\"fillremaining\">1</td>\n",
              "        <td class=\"number\">12073</td>\n",
              "        <td class=\"number\">29.6%</td>\n",
              "        <td>\n",
              "            <div class=\"bar\" style=\"width:100%\">&nbsp;</div>\n",
              "        </td>\n",
              "</tr><tr class=\"\">\n",
              "        <td class=\"fillremaining\">0</td>\n",
              "        <td class=\"number\">9800</td>\n",
              "        <td class=\"number\">24.0%</td>\n",
              "        <td>\n",
              "            <div class=\"bar\" style=\"width:81%\">&nbsp;</div>\n",
              "        </td>\n",
              "</tr><tr class=\"\">\n",
              "        <td class=\"fillremaining\">2</td>\n",
              "        <td class=\"number\">9039</td>\n",
              "        <td class=\"number\">22.1%</td>\n",
              "        <td>\n",
              "            <div class=\"bar\" style=\"width:75%\">&nbsp;</div>\n",
              "        </td>\n",
              "</tr><tr class=\"\">\n",
              "        <td class=\"fillremaining\">3</td>\n",
              "        <td class=\"number\">4803</td>\n",
              "        <td class=\"number\">11.8%</td>\n",
              "        <td>\n",
              "            <div class=\"bar\" style=\"width:40%\">&nbsp;</div>\n",
              "        </td>\n",
              "</tr><tr class=\"\">\n",
              "        <td class=\"fillremaining\">4</td>\n",
              "        <td class=\"number\">2477</td>\n",
              "        <td class=\"number\">6.1%</td>\n",
              "        <td>\n",
              "            <div class=\"bar\" style=\"width:21%\">&nbsp;</div>\n",
              "        </td>\n",
              "</tr><tr class=\"\">\n",
              "        <td class=\"fillremaining\">5</td>\n",
              "        <td class=\"number\">1182</td>\n",
              "        <td class=\"number\">2.9%</td>\n",
              "        <td>\n",
              "            <div class=\"bar\" style=\"width:10%\">&nbsp;</div>\n",
              "        </td>\n",
              "</tr><tr class=\"\">\n",
              "        <td class=\"fillremaining\">6</td>\n",
              "        <td class=\"number\">644</td>\n",
              "        <td class=\"number\">1.6%</td>\n",
              "        <td>\n",
              "            <div class=\"bar\" style=\"width:6%\">&nbsp;</div>\n",
              "        </td>\n",
              "</tr><tr class=\"\">\n",
              "        <td class=\"fillremaining\">7</td>\n",
              "        <td class=\"number\">346</td>\n",
              "        <td class=\"number\">0.8%</td>\n",
              "        <td>\n",
              "            <div class=\"bar\" style=\"width:3%\">&nbsp;</div>\n",
              "        </td>\n",
              "</tr><tr class=\"\">\n",
              "        <td class=\"fillremaining\">8</td>\n",
              "        <td class=\"number\">192</td>\n",
              "        <td class=\"number\">0.5%</td>\n",
              "        <td>\n",
              "            <div class=\"bar\" style=\"width:2%\">&nbsp;</div>\n",
              "        </td>\n",
              "</tr><tr class=\"\">\n",
              "        <td class=\"fillremaining\">9</td>\n",
              "        <td class=\"number\">116</td>\n",
              "        <td class=\"number\">0.3%</td>\n",
              "        <td>\n",
              "            <div class=\"bar\" style=\"width:1%\">&nbsp;</div>\n",
              "        </td>\n",
              "</tr><tr class=\"other\">\n",
              "        <td class=\"fillremaining\">Other values (16)</td>\n",
              "        <td class=\"number\">167</td>\n",
              "        <td class=\"number\">0.4%</td>\n",
              "        <td>\n",
              "            <div class=\"bar\" style=\"width:2%\">&nbsp;</div>\n",
              "        </td>\n",
              "</tr>\n",
              "</table>\n",
              "        </div>\n",
              "        <div role=\"tabpanel\" class=\"tab-pane col-md-12\"  id=\"extreme-5933166945825822347\">\n",
              "            <p class=\"h4\">Minimum 5 values</p>\n",
              "            \n",
              "<table class=\"freq table table-hover\">\n",
              "    <thead>\n",
              "    <tr>\n",
              "        <td class=\"fillremaining\">Value</td>\n",
              "        <td class=\"number\">Count</td>\n",
              "        <td class=\"number\">Frequency (%)</td>\n",
              "        <td style=\"min-width:200px\">&nbsp;</td>\n",
              "    </tr>\n",
              "    </thead>\n",
              "    <tr class=\"\">\n",
              "        <td class=\"fillremaining\">0</td>\n",
              "        <td class=\"number\">9800</td>\n",
              "        <td class=\"number\">24.0%</td>\n",
              "        <td>\n",
              "            <div class=\"bar\" style=\"width:81%\">&nbsp;</div>\n",
              "        </td>\n",
              "</tr><tr class=\"\">\n",
              "        <td class=\"fillremaining\">1</td>\n",
              "        <td class=\"number\">12073</td>\n",
              "        <td class=\"number\">29.6%</td>\n",
              "        <td>\n",
              "            <div class=\"bar\" style=\"width:100%\">&nbsp;</div>\n",
              "        </td>\n",
              "</tr><tr class=\"\">\n",
              "        <td class=\"fillremaining\">2</td>\n",
              "        <td class=\"number\">9039</td>\n",
              "        <td class=\"number\">22.1%</td>\n",
              "        <td>\n",
              "            <div class=\"bar\" style=\"width:75%\">&nbsp;</div>\n",
              "        </td>\n",
              "</tr><tr class=\"\">\n",
              "        <td class=\"fillremaining\">3</td>\n",
              "        <td class=\"number\">4803</td>\n",
              "        <td class=\"number\">11.8%</td>\n",
              "        <td>\n",
              "            <div class=\"bar\" style=\"width:40%\">&nbsp;</div>\n",
              "        </td>\n",
              "</tr><tr class=\"\">\n",
              "        <td class=\"fillremaining\">4</td>\n",
              "        <td class=\"number\">2477</td>\n",
              "        <td class=\"number\">6.1%</td>\n",
              "        <td>\n",
              "            <div class=\"bar\" style=\"width:21%\">&nbsp;</div>\n",
              "        </td>\n",
              "</tr>\n",
              "</table>\n",
              "            <p class=\"h4\">Maximum 5 values</p>\n",
              "            \n",
              "<table class=\"freq table table-hover\">\n",
              "    <thead>\n",
              "    <tr>\n",
              "        <td class=\"fillremaining\">Value</td>\n",
              "        <td class=\"number\">Count</td>\n",
              "        <td class=\"number\">Frequency (%)</td>\n",
              "        <td style=\"min-width:200px\">&nbsp;</td>\n",
              "    </tr>\n",
              "    </thead>\n",
              "    <tr class=\"\">\n",
              "        <td class=\"fillremaining\">21</td>\n",
              "        <td class=\"number\">1</td>\n",
              "        <td class=\"number\">0.0%</td>\n",
              "        <td>\n",
              "            <div class=\"bar\" style=\"width:100%\">&nbsp;</div>\n",
              "        </td>\n",
              "</tr><tr class=\"\">\n",
              "        <td class=\"fillremaining\">22</td>\n",
              "        <td class=\"number\">1</td>\n",
              "        <td class=\"number\">0.0%</td>\n",
              "        <td>\n",
              "            <div class=\"bar\" style=\"width:100%\">&nbsp;</div>\n",
              "        </td>\n",
              "</tr><tr class=\"\">\n",
              "        <td class=\"fillremaining\">24</td>\n",
              "        <td class=\"number\">1</td>\n",
              "        <td class=\"number\">0.0%</td>\n",
              "        <td>\n",
              "            <div class=\"bar\" style=\"width:100%\">&nbsp;</div>\n",
              "        </td>\n",
              "</tr><tr class=\"\">\n",
              "        <td class=\"fillremaining\">30</td>\n",
              "        <td class=\"number\">1</td>\n",
              "        <td class=\"number\">0.0%</td>\n",
              "        <td>\n",
              "            <div class=\"bar\" style=\"width:100%\">&nbsp;</div>\n",
              "        </td>\n",
              "</tr><tr class=\"\">\n",
              "        <td class=\"fillremaining\">31</td>\n",
              "        <td class=\"number\">1</td>\n",
              "        <td class=\"number\">0.0%</td>\n",
              "        <td>\n",
              "            <div class=\"bar\" style=\"width:100%\">&nbsp;</div>\n",
              "        </td>\n",
              "</tr>\n",
              "</table>\n",
              "        </div>\n",
              "    </div>\n",
              "</div>\n",
              "</div><div class=\"row variablerow\">\n",
              "    <div class=\"col-md-3 namecol\">\n",
              "        <p class=\"h4 pp-anchor\" id=\"pp_var_home_team\">home_team<br/>\n",
              "            <small>Categorical</small>\n",
              "        </p>\n",
              "    </div><div class=\"col-md-3\">\n",
              "    <table class=\"stats \">\n",
              "        <tr class=\"alert\">\n",
              "            <th>Distinct count</th>\n",
              "            <td>309</td>\n",
              "        </tr>\n",
              "        <tr>\n",
              "            <th>Unique (%)</th>\n",
              "            <td>0.8%</td>\n",
              "        </tr>\n",
              "        <tr class=\"ignore\">\n",
              "            <th>Missing (%)</th>\n",
              "            <td>0.0%</td>\n",
              "        </tr>\n",
              "        <tr class=\"ignore\">\n",
              "            <th>Missing (n)</th>\n",
              "            <td>0</td>\n",
              "        </tr>\n",
              "    </table>\n",
              "</div>\n",
              "<div class=\"col-md-6 collapse in\" id=\"minifreqtable2636789709015589135\">\n",
              "    <table class=\"mini freq\">\n",
              "        <tr class=\"\">\n",
              "    <th>Brazil</th>\n",
              "    <td>\n",
              "        <div class=\"bar\" style=\"width:2%\" data-toggle=\"tooltip\" data-placement=\"right\" data-html=\"true\"\n",
              "             data-delay=500 title=\"Percentage: 1.4%\">\n",
              "            &nbsp;\n",
              "        </div>\n",
              "        563\n",
              "    </td>\n",
              "</tr><tr class=\"\">\n",
              "    <th>Argentina</th>\n",
              "    <td>\n",
              "        <div class=\"bar\" style=\"width:2%\" data-toggle=\"tooltip\" data-placement=\"right\" data-html=\"true\"\n",
              "             data-delay=500 title=\"Percentage: 1.3%\">\n",
              "            &nbsp;\n",
              "        </div>\n",
              "        545\n",
              "    </td>\n",
              "</tr><tr class=\"\">\n",
              "    <th>Mexico</th>\n",
              "    <td>\n",
              "        <div class=\"bar\" style=\"width:2%\" data-toggle=\"tooltip\" data-placement=\"right\" data-html=\"true\"\n",
              "             data-delay=500 title=\"Percentage: 1.2%\">\n",
              "            &nbsp;\n",
              "        </div>\n",
              "        510\n",
              "    </td>\n",
              "</tr><tr class=\"other\">\n",
              "    <th>Other values (306)</th>\n",
              "    <td>\n",
              "        <div class=\"bar\" style=\"width:100%\" data-toggle=\"tooltip\" data-placement=\"right\" data-html=\"true\"\n",
              "             data-delay=500 title=\"Percentage: 96.0%\">\n",
              "            39221\n",
              "        </div>\n",
              "        \n",
              "    </td>\n",
              "</tr>\n",
              "    </table>\n",
              "</div>\n",
              "<div class=\"col-md-12 text-right\">\n",
              "    <a role=\"button\" data-toggle=\"collapse\" data-target=\"#freqtable2636789709015589135, #minifreqtable2636789709015589135\"\n",
              "       aria-expanded=\"true\" aria-controls=\"collapseExample\">\n",
              "        Toggle details\n",
              "    </a>\n",
              "</div>\n",
              "<div class=\"col-md-12 extrapadding collapse\" id=\"freqtable2636789709015589135\">\n",
              "    \n",
              "<table class=\"freq table table-hover\">\n",
              "    <thead>\n",
              "    <tr>\n",
              "        <td class=\"fillremaining\">Value</td>\n",
              "        <td class=\"number\">Count</td>\n",
              "        <td class=\"number\">Frequency (%)</td>\n",
              "        <td style=\"min-width:200px\">&nbsp;</td>\n",
              "    </tr>\n",
              "    </thead>\n",
              "    <tr class=\"\">\n",
              "        <td class=\"fillremaining\">Brazil</td>\n",
              "        <td class=\"number\">563</td>\n",
              "        <td class=\"number\">1.4%</td>\n",
              "        <td>\n",
              "            <div class=\"bar\" style=\"width:2%\">&nbsp;</div>\n",
              "        </td>\n",
              "</tr><tr class=\"\">\n",
              "        <td class=\"fillremaining\">Argentina</td>\n",
              "        <td class=\"number\">545</td>\n",
              "        <td class=\"number\">1.3%</td>\n",
              "        <td>\n",
              "            <div class=\"bar\" style=\"width:2%\">&nbsp;</div>\n",
              "        </td>\n",
              "</tr><tr class=\"\">\n",
              "        <td class=\"fillremaining\">Mexico</td>\n",
              "        <td class=\"number\">510</td>\n",
              "        <td class=\"number\">1.2%</td>\n",
              "        <td>\n",
              "            <div class=\"bar\" style=\"width:2%\">&nbsp;</div>\n",
              "        </td>\n",
              "</tr><tr class=\"\">\n",
              "        <td class=\"fillremaining\">Germany</td>\n",
              "        <td class=\"number\">501</td>\n",
              "        <td class=\"number\">1.2%</td>\n",
              "        <td>\n",
              "            <div class=\"bar\" style=\"width:2%\">&nbsp;</div>\n",
              "        </td>\n",
              "</tr><tr class=\"\">\n",
              "        <td class=\"fillremaining\">England</td>\n",
              "        <td class=\"number\">489</td>\n",
              "        <td class=\"number\">1.2%</td>\n",
              "        <td>\n",
              "            <div class=\"bar\" style=\"width:2%\">&nbsp;</div>\n",
              "        </td>\n",
              "</tr><tr class=\"\">\n",
              "        <td class=\"fillremaining\">Sweden</td>\n",
              "        <td class=\"number\">483</td>\n",
              "        <td class=\"number\">1.2%</td>\n",
              "        <td>\n",
              "            <div class=\"bar\" style=\"width:2%\">&nbsp;</div>\n",
              "        </td>\n",
              "</tr><tr class=\"\">\n",
              "        <td class=\"fillremaining\">France</td>\n",
              "        <td class=\"number\">480</td>\n",
              "        <td class=\"number\">1.2%</td>\n",
              "        <td>\n",
              "            <div class=\"bar\" style=\"width:2%\">&nbsp;</div>\n",
              "        </td>\n",
              "</tr><tr class=\"\">\n",
              "        <td class=\"fillremaining\">South Korea</td>\n",
              "        <td class=\"number\">463</td>\n",
              "        <td class=\"number\">1.1%</td>\n",
              "        <td>\n",
              "            <div class=\"bar\" style=\"width:2%\">&nbsp;</div>\n",
              "        </td>\n",
              "</tr><tr class=\"\">\n",
              "        <td class=\"fillremaining\">Hungary</td>\n",
              "        <td class=\"number\">450</td>\n",
              "        <td class=\"number\">1.1%</td>\n",
              "        <td>\n",
              "            <div class=\"bar\" style=\"width:2%\">&nbsp;</div>\n",
              "        </td>\n",
              "</tr><tr class=\"\">\n",
              "        <td class=\"fillremaining\">Italy</td>\n",
              "        <td class=\"number\">441</td>\n",
              "        <td class=\"number\">1.1%</td>\n",
              "        <td>\n",
              "            <div class=\"bar\" style=\"width:2%\">&nbsp;</div>\n",
              "        </td>\n",
              "</tr><tr class=\"other\">\n",
              "        <td class=\"fillremaining\">Other values (299)</td>\n",
              "        <td class=\"number\">35914</td>\n",
              "        <td class=\"number\">87.9%</td>\n",
              "        <td>\n",
              "            <div class=\"bar\" style=\"width:100%\">&nbsp;</div>\n",
              "        </td>\n",
              "</tr>\n",
              "</table>\n",
              "</div>\n",
              "</div><div class=\"row variablerow\">\n",
              "    <div class=\"col-md-3 namecol\">\n",
              "        <p class=\"h4 pp-anchor\" id=\"pp_var_neutral\">neutral<br/>\n",
              "            <small>Boolean</small>\n",
              "        </p>\n",
              "    </div><div class=\"col-md-6\">\n",
              "    <div class=\"row\">\n",
              "        <div class=\"col-sm-6\">\n",
              "            <table class=\"stats \">\n",
              "                <tr class=\"\">\n",
              "                    <th>Distinct count</th>\n",
              "                    <td>2</td>\n",
              "                </tr>\n",
              "                <tr>\n",
              "                    <th>Unique (%)</th>\n",
              "                    <td>0.0%</td>\n",
              "                </tr>\n",
              "                <tr class=\"ignore\">\n",
              "                    <th>Missing (%)</th>\n",
              "                    <td>0.0%</td>\n",
              "                </tr>\n",
              "                <tr class=\"ignore\">\n",
              "                    <th>Missing (n)</th>\n",
              "                    <td>0</td>\n",
              "                </tr>\n",
              "            </table>\n",
              "        </div>\n",
              "        <div class=\"col-sm-6\">\n",
              "            <table class=\"stats \">\n",
              "                <tr>\n",
              "                    <th>Mean</th>\n",
              "                    <td>0.24876</td>\n",
              "                </tr>\n",
              "            </table>\n",
              "        </div>\n",
              "    </div>\n",
              "</div>\n",
              "<div class=\"col-md-3 collapse in\" id=\"minifreqtable-7583435132505343990\">\n",
              "    <table class=\"mini freq\">\n",
              "        <tr class=\"\">\n",
              "    <th>True</th>\n",
              "    <td>\n",
              "        <div class=\"bar\" style=\"width:33%\" data-toggle=\"tooltip\" data-placement=\"right\" data-html=\"true\"\n",
              "             data-delay=500 title=\"Percentage: 24.9%\">\n",
              "            10159\n",
              "        </div>\n",
              "        \n",
              "    </td>\n",
              "</tr><tr class=\"missing\">\n",
              "    <th>(Missing)</th>\n",
              "    <td>\n",
              "        <div class=\"bar\" style=\"width:100%\" data-toggle=\"tooltip\" data-placement=\"right\" data-html=\"true\"\n",
              "             data-delay=500 title=\"Percentage: 75.1%\">\n",
              "            30680\n",
              "        </div>\n",
              "        \n",
              "    </td>\n",
              "</tr>\n",
              "    </table>\n",
              "</div>\n",
              "<div class=\"col-md-12 text-right\">\n",
              "    <a role=\"button\" data-toggle=\"collapse\" data-target=\"#freqtable-7583435132505343990, #minifreqtable-7583435132505343990\"\n",
              "        aria-expanded=\"true\" aria-controls=\"collapseExample\">\n",
              "        Toggle details\n",
              "    </a>\n",
              "</div>\n",
              "<div class=\"col-md-12 extrapadding collapse\" id=\"freqtable-7583435132505343990\">\n",
              "    \n",
              "<table class=\"freq table table-hover\">\n",
              "    <thead>\n",
              "    <tr>\n",
              "        <td class=\"fillremaining\">Value</td>\n",
              "        <td class=\"number\">Count</td>\n",
              "        <td class=\"number\">Frequency (%)</td>\n",
              "        <td style=\"min-width:200px\">&nbsp;</td>\n",
              "    </tr>\n",
              "    </thead>\n",
              "    <tr class=\"\">\n",
              "        <td class=\"fillremaining\">True</td>\n",
              "        <td class=\"number\">10159</td>\n",
              "        <td class=\"number\">24.9%</td>\n",
              "        <td>\n",
              "            <div class=\"bar\" style=\"width:33%\">&nbsp;</div>\n",
              "        </td>\n",
              "</tr><tr class=\"missing\">\n",
              "        <td class=\"fillremaining\">(Missing)</td>\n",
              "        <td class=\"number\">30680</td>\n",
              "        <td class=\"number\">75.1%</td>\n",
              "        <td>\n",
              "            <div class=\"bar\" style=\"width:100%\">&nbsp;</div>\n",
              "        </td>\n",
              "</tr>\n",
              "</table>\n",
              "</div>\n",
              "</div><div class=\"row variablerow\">\n",
              "    <div class=\"col-md-3 namecol\">\n",
              "        <p class=\"h4 pp-anchor\" id=\"pp_var_tournament\">tournament<br/>\n",
              "            <small>Categorical</small>\n",
              "        </p>\n",
              "    </div><div class=\"col-md-3\">\n",
              "    <table class=\"stats \">\n",
              "        <tr class=\"alert\">\n",
              "            <th>Distinct count</th>\n",
              "            <td>109</td>\n",
              "        </tr>\n",
              "        <tr>\n",
              "            <th>Unique (%)</th>\n",
              "            <td>0.3%</td>\n",
              "        </tr>\n",
              "        <tr class=\"ignore\">\n",
              "            <th>Missing (%)</th>\n",
              "            <td>0.0%</td>\n",
              "        </tr>\n",
              "        <tr class=\"ignore\">\n",
              "            <th>Missing (n)</th>\n",
              "            <td>0</td>\n",
              "        </tr>\n",
              "    </table>\n",
              "</div>\n",
              "<div class=\"col-md-6 collapse in\" id=\"minifreqtable-3731838213857413833\">\n",
              "    <table class=\"mini freq\">\n",
              "        <tr class=\"\">\n",
              "    <th>Friendly</th>\n",
              "    <td>\n",
              "        <div class=\"bar\" style=\"width:100%\" data-toggle=\"tooltip\" data-placement=\"right\" data-html=\"true\"\n",
              "             data-delay=500 title=\"Percentage: 41.4%\">\n",
              "            16911\n",
              "        </div>\n",
              "        \n",
              "    </td>\n",
              "</tr><tr class=\"\">\n",
              "    <th>FIFA World Cup qualification</th>\n",
              "    <td>\n",
              "        <div class=\"bar\" style=\"width:42%\" data-toggle=\"tooltip\" data-placement=\"right\" data-html=\"true\"\n",
              "             data-delay=500 title=\"Percentage: 17.4%\">\n",
              "            7100\n",
              "        </div>\n",
              "        \n",
              "    </td>\n",
              "</tr><tr class=\"\">\n",
              "    <th>UEFA Euro qualification</th>\n",
              "    <td>\n",
              "        <div class=\"bar\" style=\"width:15%\" data-toggle=\"tooltip\" data-placement=\"right\" data-html=\"true\"\n",
              "             data-delay=500 title=\"Percentage: 6.0%\">\n",
              "            &nbsp;\n",
              "        </div>\n",
              "        2432\n",
              "    </td>\n",
              "</tr><tr class=\"other\">\n",
              "    <th>Other values (106)</th>\n",
              "    <td>\n",
              "        <div class=\"bar\" style=\"width:85%\" data-toggle=\"tooltip\" data-placement=\"right\" data-html=\"true\"\n",
              "             data-delay=500 title=\"Percentage: 35.3%\">\n",
              "            14396\n",
              "        </div>\n",
              "        \n",
              "    </td>\n",
              "</tr>\n",
              "    </table>\n",
              "</div>\n",
              "<div class=\"col-md-12 text-right\">\n",
              "    <a role=\"button\" data-toggle=\"collapse\" data-target=\"#freqtable-3731838213857413833, #minifreqtable-3731838213857413833\"\n",
              "       aria-expanded=\"true\" aria-controls=\"collapseExample\">\n",
              "        Toggle details\n",
              "    </a>\n",
              "</div>\n",
              "<div class=\"col-md-12 extrapadding collapse\" id=\"freqtable-3731838213857413833\">\n",
              "    \n",
              "<table class=\"freq table table-hover\">\n",
              "    <thead>\n",
              "    <tr>\n",
              "        <td class=\"fillremaining\">Value</td>\n",
              "        <td class=\"number\">Count</td>\n",
              "        <td class=\"number\">Frequency (%)</td>\n",
              "        <td style=\"min-width:200px\">&nbsp;</td>\n",
              "    </tr>\n",
              "    </thead>\n",
              "    <tr class=\"\">\n",
              "        <td class=\"fillremaining\">Friendly</td>\n",
              "        <td class=\"number\">16911</td>\n",
              "        <td class=\"number\">41.4%</td>\n",
              "        <td>\n",
              "            <div class=\"bar\" style=\"width:100%\">&nbsp;</div>\n",
              "        </td>\n",
              "</tr><tr class=\"\">\n",
              "        <td class=\"fillremaining\">FIFA World Cup qualification</td>\n",
              "        <td class=\"number\">7100</td>\n",
              "        <td class=\"number\">17.4%</td>\n",
              "        <td>\n",
              "            <div class=\"bar\" style=\"width:42%\">&nbsp;</div>\n",
              "        </td>\n",
              "</tr><tr class=\"\">\n",
              "        <td class=\"fillremaining\">UEFA Euro qualification</td>\n",
              "        <td class=\"number\">2432</td>\n",
              "        <td class=\"number\">6.0%</td>\n",
              "        <td>\n",
              "            <div class=\"bar\" style=\"width:15%\">&nbsp;</div>\n",
              "        </td>\n",
              "</tr><tr class=\"\">\n",
              "        <td class=\"fillremaining\">African Cup of Nations qualification</td>\n",
              "        <td class=\"number\">1616</td>\n",
              "        <td class=\"number\">4.0%</td>\n",
              "        <td>\n",
              "            <div class=\"bar\" style=\"width:10%\">&nbsp;</div>\n",
              "        </td>\n",
              "</tr><tr class=\"\">\n",
              "        <td class=\"fillremaining\">FIFA World Cup</td>\n",
              "        <td class=\"number\">900</td>\n",
              "        <td class=\"number\">2.2%</td>\n",
              "        <td>\n",
              "            <div class=\"bar\" style=\"width:6%\">&nbsp;</div>\n",
              "        </td>\n",
              "</tr><tr class=\"\">\n",
              "        <td class=\"fillremaining\">Copa América</td>\n",
              "        <td class=\"number\">813</td>\n",
              "        <td class=\"number\">2.0%</td>\n",
              "        <td>\n",
              "            <div class=\"bar\" style=\"width:5%\">&nbsp;</div>\n",
              "        </td>\n",
              "</tr><tr class=\"\">\n",
              "        <td class=\"fillremaining\">AFC Asian Cup qualification</td>\n",
              "        <td class=\"number\">724</td>\n",
              "        <td class=\"number\">1.8%</td>\n",
              "        <td>\n",
              "            <div class=\"bar\" style=\"width:5%\">&nbsp;</div>\n",
              "        </td>\n",
              "</tr><tr class=\"\">\n",
              "        <td class=\"fillremaining\">African Cup of Nations</td>\n",
              "        <td class=\"number\">690</td>\n",
              "        <td class=\"number\">1.7%</td>\n",
              "        <td>\n",
              "            <div class=\"bar\" style=\"width:5%\">&nbsp;</div>\n",
              "        </td>\n",
              "</tr><tr class=\"\">\n",
              "        <td class=\"fillremaining\">CECAFA Cup</td>\n",
              "        <td class=\"number\">620</td>\n",
              "        <td class=\"number\">1.5%</td>\n",
              "        <td>\n",
              "            <div class=\"bar\" style=\"width:4%\">&nbsp;</div>\n",
              "        </td>\n",
              "</tr><tr class=\"\">\n",
              "        <td class=\"fillremaining\">CFU Caribbean Cup qualification</td>\n",
              "        <td class=\"number\">606</td>\n",
              "        <td class=\"number\">1.5%</td>\n",
              "        <td>\n",
              "            <div class=\"bar\" style=\"width:4%\">&nbsp;</div>\n",
              "        </td>\n",
              "</tr><tr class=\"other\">\n",
              "        <td class=\"fillremaining\">Other values (99)</td>\n",
              "        <td class=\"number\">8427</td>\n",
              "        <td class=\"number\">20.6%</td>\n",
              "        <td>\n",
              "            <div class=\"bar\" style=\"width:50%\">&nbsp;</div>\n",
              "        </td>\n",
              "</tr>\n",
              "</table>\n",
              "</div>\n",
              "</div>\n",
              "    <div class=\"row headerrow highlight\">\n",
              "        <h1>Correlations</h1>\n",
              "    </div>\n",
              "    <div class=\"row variablerow\">\n",
              "    <img src=\"data:image/png;base64,iVBORw0KGgoAAAANSUhEUgAAAnwAAAIyCAYAAABRvxdKAAAABHNCSVQICAgIfAhkiAAAAAlwSFlzAAAPYQAAD2EBqD%2BnaQAAADl0RVh0U29mdHdhcmUAbWF0cGxvdGxpYiB2ZXJzaW9uIDMuMC4zLCBodHRwOi8vbWF0cGxvdGxpYi5vcmcvnQurowAAIABJREFUeJzs3Xt8z/X///H7e2csY%2Bw9zJzPc/hsWQ6tsCUMn0k5ppJKTsMiHf2Q%2BlSfiBxLfZz6lNaXPhH5yKSzPn1kmEWYlRE22RuLHb1/f8j7482w7bXZy9vterm8L9uer8P78X6y7bH76/C22O12uwAAAOCy3Mq7AAAAAJQtGj4AAAAXR8MHAADg4mj4AAAAXBwNHwAAgIuj4QMAAHBxNHwAAAAujoYPAADAxdHwAQAAuDgaPgAAABfnUd4FALixNG3a9IrLPD09VaVKFbVs2VJ9%2BvRRt27dZLFYrmN1AIDCWHgvXQDFcaHha926tQICApyW5eTk6MCBA/rtt98kSV26dNGcOXPk5eV13esEAPwPDR%2BAYrnQ8M2fP1933XVXoeskJCToySef1JkzZzRs2DA99dRT17NEAMAlOIcPQKm76667NGHCBEnSihUrlJOTU84VAcDNjXP4AJSJu%2B%2B%2BW9OnT9fZs2f1008/KTQ01Gn5li1b9N5772n79u2y2Wzy9fVVs2bNdO%2B996p3796F7tNms2nJkiX68ssv9euvvyo3N1d%2Bfn5q3bq1Hn74YbVr1%2B6ybSIjI3X48GG9/fbbysnJ0axZs5SWlqalS5fq1ltvlSTt3btXixcv1tatW3Xs2DF5eHjIarXqtttu05AhQwo9b/H06dNatmyZNm3apF9//VV5eXmqXr26wsLCNHToULVq1cpp/UOHDikqKkqStHPnTqWkpGjhwoVKTEyUzWaT1WpVVFSU4uLiVLFixRLNOQBcCQkfgDJRpUoVx%2BenTp1yWjZr1iwNHTpUGzdulK%2Bvr9q1ayd/f39t2bJFEydO1Pjx41VQUOC0TUZGhvr27as333xTBw4cUIsWLdS%2BfXt5eXlp8%2BbNeuihh7Rq1aor1nPgwAHFxcXJ09NT7du3l4%2BPjyTphx9%2B0L333qt//etfysnJ0a233qrQ0FBlZWXpww8/VP/%2B/bVlyxanfR0%2BfFj33HOP5s6dq/3796tZs2Zq37697Ha71q5dq/79%2B2vlypVXrGXbtm0aPHiwkpOT1axZM9WvX1%2BHDx/W8uXLFRsbW%2BQ5BoAiswNAMTRp0sTepEkT%2B8aNG6%2B6XkpKimPdnTt3OsY/%2B%2Bwze5MmTezh4eH2//znP07b/PDDD/aOHTvamzRpYl%2ByZInTshdffNHepEkTe7du3ezHjx93jOfn59tfeukle5MmTey33nqrPSsry2m7Ll262Js0aWKPjIy0L1y48LI6%2B/XrZ2/SpIn9lVdesRcUFDjtd9asWfYmTZrYe/Xq5bTN4MGD7U2aNLH37dvXfuzYMcd4QUGBfe7cufYmTZrYW7ZsaT9w4IBjWVpammM%2BOnfubF%2B0aJH93LlzjuX/%2Bte/HMt37959takFgGIj4QNQJj777DNJkp%2Bfn5o3b%2B4YX7hwoSTpqaee0m233ea0TXh4uCZNmiRJWrZsmdMyq9Wqnj17asyYMapWrZpj3N3dXXFxcXJzc9Pp06e1ffv2Qus5d%2B6chg8fftn47t27JUl9%2B/aVm9v/fiS6u7tr7NixGjt2rB544AHl5uZKknbs2KGtW7dKkv7%2B97/LarU6tnFzc9OYMWMUEhKi3NxcffDBB4XW0rhxYz322GNOt6yJiYmRv7%2B/4zkAoDRxDh%2BAUvfll1/qrbfekiQ9%2Buij8vA4/6Pm2LFjSk5OliR17dq10G3vuusuWSwW/fbbb0pNTVX9%2BvUlSY899tgVn69ChQqqVq2aMjIylJGRUeg67du3d2roLqhcubKOHz%2BuTz/9VOPGjXNa5ubmptGjRzuNff3115LOX63csGHDK76G5OTkyw4FX1DYOYoWi0XBwcE6ceKEMjMzC90OAEqKhg9Aibz11lv66KOPnMZyc3P1yy%2B/KC0tTdL51OzRRx91LN%2B7d6/j86effvqK%2B/bw8FBeXp5%2B%2BeUXR8N3Yf9ffvmldu3apfT0dJ06dUr2P%2B8sdfr0aUnnk7zCBAYGFjr%2B0EMPaebMmVqwYIG%2B/vpr9erVSx06dLjiDab3798v6XxKdyUNGjSQdP68wcLUqVOn0HFvb29JUl5e3hX3DQAlQcMHoER27tx52Zi7u7uqVq2qqKgoDRgwQJ06dXJafvLkScfnmzZtuuZzXGjiJGnPnj0aPXq0Dh06VKJ6/fz8Ch2/cJj3rbfeUlJSkpKSkiRJAQEB6t69ux566CEFBwdfVlPlypWv%2BFy33HKLpPONW3Z2tuMCkQu4ETWA642GD0CJXO3Gy1dy4Zw1T09PJSUlFflt17KzszVy5Ej99ttvqlevnkaNGqUOHTqoatWq8vT0lPS/269c67kLM3z4cA0cOFAJCQn68ssv9d133ykjI0Pvvvuu4uPj9fe//109evQo8uu0X3Q/%2B8IOIwPA9UbDB%2BC6uXCrlry8PGVmZjouUriWr776Sr/99pssFosWLVqkunXrXrZOdna2odoqV66svn37qm/fviooKNB3332n%2BfPnKzExUc8995zat2%2BvqlWrOpLCS281c7ELy3x8fEjzAJgCf3oCuG6aNGni%2BHzfvn1F3u6XX36RdP7ct8KavYMHD%2Br33383XN8F7u7uuuOOO7R8%2BXIFBgbqjz/%2BcBzCvnDu3sXnI17qwrKrnecHANcTDR%2BA6yYgIEAhISGSpA8//LDQdVJTUxUTE%2BO4fYv0v3PirvQWbfPnz3d8fukNm69mx44devbZZ7V48eJCl3t5eal69eqS/pcgXjgvce/evYU2fefOnXPckuaOO%2B4oci0AUJZo%2BABcVyNGjJAkrV27VkuXLnU63%2B3XX3/V2LFjtWfPHh05csQx3qxZM0nS0aNHlZCQ4Bg/e/asXnzxRSUlJTneuu1KV8YWxt3dXatWrdKcOXP0xRdfXLZ848aN2r17tzw9PRUWFiZJatGihSIiIiRJzz77rE6cOOFYPz8/X6%2B99ppSUlJ0yy23aODAgUWuBQDKEufwAbiu7r77bg0fPlyLFi3Syy%2B/rOXLl6tBgwbKzMzU7t27VVBQoBYtWmjixImObUJDQxUREaFvvvlGsbGxatOmjby9vbVr1y55eHhoyZIlWrdunRITE7V8%2BXL9/PPPGjlypMLDw69aS8uWLTVs2DAtXrxYjz/%2BuIKCglS3bl25ubnp0KFDjkPJzz33nAICAhzb/e1vf9NDDz2kpKQkRUZGqkmTJvL29ta%2BffuUmZkpHx8fzZw584q3ggGA642GD8B1N2HCBHXs2FH//Oc/tX37dm3ZskXe3t5q2bKloqOjNXjw4Msudpg9e7ZmzJihTZs2adeuXbJarerWrZtGjBihOnXqqEaNGvrpp5%2B0bds27du3r8hXAD/11FMKDw/Xxx9/rF27dikxMVH5%2BfkKCAhQr169NGTIEEd6eEFgYKBWrlyppUuXauPGjdq3b5/y8/MVGBiou%2B%2B%2BW4888kih5xoCQHmx2C8%2BngIAAACXwzl8AAAALo6GDwAAwMXR8AEAALg4Gj4AAIAS%2Bvrrr9WxY0fFxcVddb1z585p1qxZioqKUnh4uB555BGlpaU5lttsNo0fP14dO3ZURESEnnvuOcPvIHQxGj4AAIASePvtt/Xiiy8W6ar89957T5988okWLVqkzZs3q169eho9erTjXqSTJ0/W2bNntXbtWq1atUopKSmaMWNGqdVKwwcAAFAC3t7eWrlyZZEavvj4eA0dOlQNGzaUr6%2Bv4uLilJKSoh07duj48eNKSEhQXFyc/P39FRgYqFGjRmnVqlXKy8srlVq5Dx8AALgppaenKyMjw2ksICBAVqu1SNs/%2BOCDRVovOztb%2B/fvV4sWLRxjvr6%2Bqlu3rpKSknT69Gm5u7uradOmjuUhISE6c%2BaMDhw44DReUjR8ZlTEG8bedOrXl/btkxo3llJTy7saU0nZz%2B00C%2BPhIdWpIx08KOXnl3c15lKrVnlXYE4Wi%2BTtLeXkSNyl9nIVKpTjk5fB78b4OXM0b948p7ExY8YoNja2VJ/n5MmTstvt8vPzcxr38/NTZmamqlSpIl9fX6cbxl9YNzMzs1RqoOHDjaNKFcnd/fxHoAjc3M7/jnDj5BUUA39z3zwGDBigyMhIp7GL30axtF3tvS7K%2Bn0waPgAAID5lcFfblartciHb42oUqWK3NzcZLPZnMZtNpuqVasmf39/ZWVlqaCgQO7u7o5lklStWrVSqYG/ewEAAMqQt7e3GjdurOTkZMfYqVOndPDgQbVu3VrNmzeX3W7Xnj17HMuTkpJUuXJl1a9fv1RqoOEDAADm5%2BZW%2Bo8ydOzYMXXv3t1xr71BgwZp%2BfLlSklJUVZWlmbMmKHmzZurVatW8vf3V7du3TR79mydOHFCR48e1fz583XffffJw6N0DsZySBcAAKAEWrVqJUnK//OqsISEBEnn07m8vDylpqYqNzdXkjRw4EBlZGTogQce0B9//KF27do5XTDywgsvaMqUKYqKipKnp6d69ep1zZs5F4fFXtZnCaL4OGO4cKGh0rZtUliYlJhY3tWYClfpFs7LSwoOltLSpD9/5uJPXKVbOItF8vGRsrO5Srcw5XqVrrd36e8zJ6f092lSJHwAAMD8uNzeEGYPAADAxZHwAQAA8yPhM4TZAwAAcHEkfAAAwPxI%2BAyh4QMAAOZHw2cIswcAAODiSPgAAID5kfAZwuwBAAC4OBI%2BAABgfiR8htDwAQAA86PhM4TZAwAAcHEkfAAAwPxI%2BAxh9gAAAFwcCR8AADA/Ej5DaPgAAID50fAZwuwBAAC4OBI%2BAABgfiR8htDwAQAA86PhM4TZAwAAcHEkfAAAwPxI%2BAxh9gAAAFwcCR8AADA/Ej5DaPgAAID50fAZwuwBAAC4OBI%2BAABgfiR8hjB7AAAALo6EDwAAmB8JnyE0fAAAwPxo%2BAxh9gAAAFwcCR8AADA/Ej5DmD0AAAAXR8IHAADMj4TPEBo%2BAABgfjR8hjB7AAAALo6EDwAAmB8JnyHMHgAAgIsj4QMAAOZHwmcIDR8AADA/Gj5DmD0AAAAXR8IHAADMj4TPEGYPAADAxZHwAQAA8zNhwnf48GFNmzZNO3bsUMWKFRUdHa0JEybI7ZJahw0bpv/%2B979OY/n5%2BRo9erTGjBmjBx54QNu2bXParn79%2BlqzZk2p1UrDBwAAzM%2BEDV9sbKxCQkKUkJCg33//XY8//riqV6%2Buhx9%2B2Gm9xYsXO3196tQpRUdHq2vXro6x6dOnq2/fvmVWq/lmDwAAwOSSkpK0Z88eTZw4Ubfccovq1aunoUOHKj4%2B/prbzp49W127dlXTpk2vQ6XnkfABAADzK4OELz09XRkZGU5jAQEBslqt19w2OTlZQUFB8vPzc4yFhIQoNTVVWVlZ8vX1LXS7X3/9VR9//LESEhKcxj/99FO98847OnLkiNq0aaMXXnhBderUKcGrKhwJHwAAuCnFx8erb9%2B%2BTo%2BiJHSSZLPZVLlyZaexC81fZmbmFbdbtGiR7r33Xvn7%2BzvGGjZsqMaNG%2Bv999/Xpk2b5O/vr0cffVS5ubkleFWFI%2BEDAADmVwYJ34ABAxQZGek0FhAQUOTt7XZ7sZ7PZrNp9erVWr9%2BvdP41KlTnb5%2B4YUX1K5dO/3444/q0KFDsZ7jSmj4AACA%2BZVBw2e1Wot0%2BLYw/v7%2BstlsTmM2m00Wi8UpvbvYpk2bVL9%2BfQUHB191376%2BvvLz89OxY8dKVFthOKQLAABQTC1bttSRI0d04sQJx1hSUpIaNWqkSpUqFbrNpk2bdPvttzuNZWVlaerUqU7N3YkTJ3TixIlrNobFQcMHAADMz82t9B8GtGjRQq1atdLMmTOVlZWllJQULVmyRIMGDZIkde/eXVu3bnXaZvfu3apdu7bTmK%2Bvr3bs2KEXX3xRNptNJ0%2Be1LRp09S0aVOFhoYaqvFiNHwAAAAlMGfOHKWnp%2Bv222/Xgw8%2BqD59%2Bmjw4MGSpNTUVJ05c8Zp/YyMDFWvXv2y/cyfP192u13dunVT586dlZeXp0WLFl12A2cjLPbinnGIsmexlHcF5hQaKm3bJoWFSYmJ5V2NqaTs59u4MF5eUnCwlJYmleLFbi6hVq3yrsCcLBbJx0fKzpb47Xi5ChXK8cm7dSv9fW7YUPr7NCku2gAAAOZnwnfauJEwewAAAC6OhA8AAJgfCZ8hzB4AAICLI%2BEDAADmR8JnCA0fAAAwPxo%2BQ4o1e02bNtVXX31VVrUAAACgDJDwAQAA8yPhM4SGDwAAmB8NnyHFnr2MjAw99NBDat26taKjo7V3717Hsq1bt6p///4KDQ1VRESEZs2apXPnzkmS5s6dqxEjRmju3LkKDw9XRESEEhIS9NFHH6lTp04KDw/XwoULHfuy2WyaOHGiIiIiFBoaqpEjRzq9sfDVHD9%2BXKNHj1a7du0UFhamoUOHKi0tzbF88eLF6tKli8LCwvTII4/o0KFDjmUffPCBevTooTZt2qh79%2B769NNPHcseeOABvfbaa%2Brdu7eGDx8uSTp8%2BLBGjBihdu3aKTw8XJMmTVJWVlZxpxUAAKDMFDvhi4%2BP16uvvqqAgACNGjVKr7/%2But58800dP35cjzzyiCZNmqR%2B/fpp//79euyxx2S1WnX//fdLkhITE9WpUyd9%2B%2B23mj59uqZOnaquXbvqs88%2B0/r16/Xss8%2Bqf//%2Bqlatmp5%2B%2Bml5eHho3bp1cnd315QpU/TMM89o8eLF16zxjTfekJ%2Bfn7766isVFBTolVde0auvvqp58%2BYpISFBb7/9tpYsWaIGDRrohRde0MSJE/XBBx/o888/12uvvaa33npLbdq00caNG/Xkk0%2BqYcOGatq0qSRp3bp1mjNnjlq1aiW73a5Ro0YpLCxMs2bN0pkzZ/TEE0/o1Vdf1fTp04s0n%2Bnp6crIyHAaC6hfX9YqVYr5L3MTaNbM%2BSMcvLzKuwJz8vR0/oj/4R0cC3dhXpgfEyLhM6TYDV9MTIzq168vSYqMjNSKFSskSWvXrlWtWrUczV2LFi0UExOj9evXO8Y8PT01aNAgSVKnTp304Ycfavjw4fL29lZkZKQKCgocSdzmzZv16aefys/PT5I0ceJEde7cWRkZGQoICLhqjadOnVKVKlXk5eUli8WiqVOnOt6AeNWqVerZs6ea/dk0xMXF6YcfftC5c%2Be0cuVK9erVS23btpUkRUdHa/HixdqwYYOj4WvdurVat24tSdq5c6f27dunFStWqEKFCqpQoYJiY2P1yCOP6IUXXpClCD8x4uPjNW/ePKexMePGKXbcuGtue9N6//3yrsB0gsu7AJOrUaO8K8CNxtu7vCsASlexG77atWs7Pvf29lZeXp4k6dChQ2rYsKHTunXr1tX69esdX9e46Keu15%2BRRGBgoGNfkpSTk%2BNo%2Bvr06eO0P3d3dx05cuSaDd%2Bjjz6qkSNH6uuvv1ZERIR69OihDh06SJLS0tLUrl07x7rVqlVTjx49HK%2Bhffv2l72Gw4cPO74OCgpyfJ6WlqaCggKn/UlSQUGBMjMz5e/vf9U6JWnAgAGKjIx0Ggvo3Vtatuya2950mjU73%2BwNHizt2VPe1ZhK2upt5V2CKXl6nm/2jh6V/vxRhT9d48foTctiOd/s5eRIdnt5V2M%2BPj7l%2BOQkfIYUu%2BG7UmqVm5t7zfXdCvnHKmzM58//UV999ZWqVq1a3BLVqlUrff755/r666/1xRdfaMyYMerfv7%2BeeuopWSwW2a/wXVyU1%2BDu7u743NvbWxUrVlRiYmKxa7zAarXKarU6D6amlnh/N4U9eyQDc%2B6KrvBfF3/Ky2OOLkUzc3V2O3NkOjR8hpTa7NWpU0cHDhxwGjtw4ICCg4t/sCkoKEhubm76%2BeefHWN5eXlFvmjDZrPJ09NTUVFRmj59uhYuXKgPPvhAkhQcHKzUixqqEydOaPHixcrLyyv2a6hTp47OnDnjdEFIVlaWMjMzi/xaAQAAylqpNXw9evRQWlqa4uPjlZ%2Bfr507d%2Bpf//qX7rnnnmLv65ZbblF0dLRmzJiho0ePKjs7W6%2B//rqGDRt2xXTuYgMHDtTbb7%2BtnJwc5eXlaceOHapbt64k6d5779W6deu0Y8cO5ebmav78%2Bfr3v/8tT09PxcTE6JNPPtH27duVl5enjz76SPv27VPPnj0LfZ4mTZooNDRUL730kk6cOKFTp05pypQpmjRpUrFfMwAAuAo3t9J/3ERK7dUGBQVp3rx5io%2BPV3h4uJ588kmNGzfusvPwimry5MmqW7euevbsqTvuuEP79%2B/XggULinQhxOzZs7V582a1b99eHTt21JYtWzRjxgxJUlRUlOLi4jR69Gi1b99ev/zyi2bOnClJ6tmzpx5//HFNmjRJ7dq10/vvv6/FixerXr16V3yumTNnym63KyoqSl27dnVcFQwAAGAWFntRIjNcX9wPoHChodK2bVJYGOfwXSJlP9/GhfHykoKDpbQ0zuG7VK1a5V2BOVks5y9MyM7mHL7CVKhQjk/%2BwAOlv8933y39fZoU77QBAADM7yY7BFvabriGb/369Vc9Ry48PLxIN2cGAAC4WdxwDV%2BPHj0c980DAAA3CRI%2BQ5g9AAAAF3fDJXwAAOAmRMJnCA0fAAAwPxo%2BQ5g9AAAAF0fCBwAAzI%2BEzxBmDwAAwMWR8AEAAPMj4TOEhg8AAJgfDZ8hzB4AAICLI%2BEDAADmR8JnCLMHAADg4kj4AACA%2BZHwGULDBwAAzI%2BGzxBmDwAAwMWR8AEAAPMj4TOE2QMAAHBxJHwAAMD8SPgMoeEDAADmR8NnCLMHAADg4kj4AACA%2BZHwGcLsAQAAuDgSPgAAYH4mTPgOHz6sadOmaceOHapYsaKio6M1YcIEuV1S69y5c7VgwQJ5eDi3XZs3b1b16tWVk5Ojl156SV988YVycnLUrl07TZs2TVWrVi21Ws03ewAAAJdycyv9h0GxsbEKDAxUQkKClixZooSEBC1btqzQdWNiYpSUlOT0qF69uiRp1qxZSk5OVnx8vDZs2CC73a5nnnnGcH0Xo%2BEDAAAopqSkJO3Zs0cTJ07ULbfconr16mno0KGKj48v1n7y8/O1cuVKjRo1SjVr1lSVKlU0fvx4ffHFFzp27Fip1cshXQAAYH5lcEg3PT1dGRkZTmMBAQGyWq3X3DY5OVlBQUHy8/NzjIWEhCg1NVVZWVny9fV1Wv/nn3/WwIEDtXfvXtWsWVPPPPOMIiIidPDgQZ0%2BfVohISGOdRs2bCgfHx8lJycrMDDQ4Ks8j4YPAADclOLj4zVv3jynsTFjxig2Nvaa29psNlWuXNlp7ELzl5mZ6dTw1ahRQ8HBwZowYYKsVqvi4%2BM1YsQIrVmzRjabTZIu21flypWVmZlZotdVGBo%2BAABgfmWQ8A0YMECRkZFOYwEBAUXe3m63F2m9fv36qV%2B/fo6vhw4dqnXr1mnNmjW68847i7WvkqLhAwAA5lcGDZ/Vai3S4dvC%2BPv7O9K5C2w2mywWi/z9/a%2B5fVBQkNLT0x3r2mw2VapUybH85MmTqlatWolqKwwXbQAAABRTy5YtdeTIEZ04ccIxlpSUpEaNGjk1bpK0YMECbdmyxWksJSVFwcHBCg4Olp%2Bfn5KTkx3L9u7dq9zcXLVs2bLU6qXhAwAA5mey27K0aNFCrVq10syZM5WVlaWUlBQtWbJEgwYNkiR1795dW7dulXQ%2BvZs2bZoOHDignJwcLV68WAcPHtQ999wjd3d39e/fX2%2B%2B%2BaaOHDmizMxMvf766%2Bratavjti2lgUO6AAAAJTBnzhxNnjxZt99%2Bu3x9fTVw4EANHjxYkpSamqozZ85IkiZMmCDp/Ll7NptNjRo10tKlS1WjRg1J0tixY/XHH38oJiZG%2Bfn56tKli6ZOnVqqtVrsZX2WIIrPYinvCswpNFTatk0KC5MSE8u7GlNJ2c%2B3cWG8vKTgYCktTcrNLe9qzKVWrfKuwJwsFsnHR8rOlvjteLkKFcrxyV9%2BufT3Wco3NzYzEj4AAGB%2BJnxrtRsJswcAAODiSPgAAID5kfAZQsMHAADMj4bPEGYPAADAxZHwAQAA8yPhM4TZAwAAcHEkfAAAwPxI%2BAyh4QMAAOZHw2cIswcAAODiSPgAAID5kfAZwuwBAAC4OBI%2BAABgfiR8htDwAQAA86PhM4TZAwAAcHEkfAAAwPxI%2BAxh9gAAAFwcCR8AADA/Ej5DaPgAAID50fAZwuwBAAC4OBI%2BAABgfiR8hjB7AAAALo6EDwAAmB8JnyE0fAAAwPxo%2BAxh9gAAAFwcCR8AADA/Ej5DmD0AAAAXR8IHAADMj4TPEBo%2BE0rZby/vEkzJy0sKlpS2eptyc8u7GnNp2MhS3iWYU2iotG2bgmPCpMTE8q7GXNLTy7sCc/LwkHyqyudsppSfX97VmE%2BFgPJ7bho%2BQ5g9AAAAF0fCBwAAzI%2BEzxBmDwAAwMWR8AEAAPMj4TOEhg8AAJgfDZ8hzB4AAICLI%2BEDAADmR8JnCLMHAADg4kj4AACA%2BZHwGULDBwAAzI%2BGzxBmDwAAwMWR8AEAAPMj4TOE2QMAAHBxJHwAAMD8TJjwHT58WNOmTdOOHTtUsWJFRUdHa8KECXIrpNYVK1Zo6dKlSk9PV506dRQbG6u77rpLkvT0009rzZo1cnd3d6zv7e2trVu3llqtNHwAAMD8TNjwxcbGKiQkRAkJCfr999/1%2BOOPq3r16nr44Yed1tuwYYNmzpypt956S61bt9bHH3%2Bs8ePHa/369QoODpYkjRw5UrGxsWVWq/lmDwAAwOSSkpK0Z88eTZw4Ubfccovq1aunoUOHKj4%2B/rJ1s7Oz9cQTT%2BjWW2%2BVp6en%2BvXrp0qVKmn79u3XrV4SPgAAYH5lkPClp6crIyPDaSwgIEBWq/Wa2yYnJysoKEh%2Bfn6OsZCQEKWmpiorK0u%2Bvr6O8ZiYGKdtT506pT/%2B%2BEOBgYGOse%2B//16bNm3Sr7/%2BqoYNG2rq1Klq2bJlSV/aZWj4AACA%2BZVBwxcfH6958%2BY5jY0ZM6ZIh1ZtNpvamugRAAAgAElEQVQqV67sNHah%2BcvMzHRq%2BC5mt9v1/PPPq02bNrrtttskScHBwXJzc9O4ceNUqVIlzZs3T8OGDdOGDRtUtWrVkry0y9DwAQCAm9KAAQMUGRnpNBYQEFDk7e12e7GeLy8vT08//bT279%2Bv5cuXO8ZHjx7ttN6TTz6ptWvXKiEhQf369SvWc1wJDR8AADC/Mkj4rFZrkQ7fFsbf3182m81pzGazyWKxyN/f/7L1s7OzNWrUKJ09e1bvvffeVZM7d3d31axZU%2Bnp6SWqrTBctAEAAFBMLVu21JEjR3TixAnHWFJSkho1aqRKlSo5rWu32xUXFycPDw8tXbrUqdmz2%2B16%2BeWXtWfPHsdYbm6uDh486LiCtzTQ8AEAAPNzcyv9hwEtWrRQq1atNHPmTGVlZSklJUVLlizRoEGDJEndu3d33Efvk08%2B0f79%2B/XGG2/I29vbaT8Wi0WHDh3StGnTdOzYMf3xxx%2BaMWOGPD09HffpKw0c0gUAAOZnwvvwzZkzR5MnT9btt98uX19fDRw4UIMHD5Ykpaam6syZM5KkVatW6fDhw46LNC6IiYnRiy%2B%2BqJdeekmvvvqq%2Bvbtq6ysLLVu3VrLli1TxYoVS61Wi724ZxyizKWklHcF5uTlJQUHS2lpUm5ueVdjLg0bWcq7BHMKDZW2bZPCwqTExPKuxlxK8dwgl%2BLhIVWtKmVmSvn55V2N%2BRTjgoZSt2VL6e%2BzQ4fS36dJkfABAADzM2HCdyNh9gAAAFwcCR8AADA/Ej5DaPgAAID50fAZwuwBAAC4OBI%2BAABgfiR8hjB7AAAALo6EDwAAmB8JnyE0fAAAwPxo%2BAxh9gAAAFwcCR8AADA/Ej5DmD0AAAAXR8IHAADMj4TPEBo%2BAABgfjR8hjB7AAAALo6EDwAAmB8JnyHMHgAAgIsj4QMAAOZHwmcIDR8AADA/Gj5DmD0AAAAXR8IHAADMj4TPEGYPAADAxZHwAQAA8yPhM4SGDwAAmB8NnyHMHgAAgIsj4QMAAOZHwmcIswcAAODiSPgAAID5kfAZQsMHAADMj4bPEGYPAADAxZHwAQAA8yPhM4TZAwAAcHEkfAAAwPxI%2BAyh4QMAAOZHw2cIswcAAODiSPgAAID5kfAZQsMHAADMj4bPEGYPAADAxZHwAQAA8yPhM4TZAwAAcHEkfAAAwPxI%2BAyh4QMAAOZHw2cIswcAAFAChw8f1vDhw9WuXTt16dJFr732ms6dO1fousuXL1e3bt0UFhamQYMGadeuXY5lOTk5%2Bn//7//pzjvvVLt27TR27FhlZmaWaq00fAAAwPzc3Er/YVBsbKwCAwOVkJCgJUuWKCEhQcuWLbtsvc8//1xz587V3//%2Bd3333Xfq0qWLRowYoTNnzkiSZs2apeTkZMXHx2vDhg2y2%2B165plnDNd3sRK/2qSkJA0ePFht27ZVx44dNWXKFB04cEDNmzfX6dOnJUnZ2dlq2bKlXnvtNcd2s2fP1pgxYyRJa9asUXR0tEJDQxUZGan3339fkrR161a1bNnSqbvNzs5WaGiovvnmm2vW9sUXX6h3794KDQ1VRESEU8d94sQJjR07VrfeeqsiIiL0%2Buuvy263S5JOnjypSZMmKSIiQqGhoRo%2BfLgOHTokSTp06JCaNm2q999/X7fddpvWrl0rSfr0008VExOjv/zlL4qKilJ8fHxJpxQAANwgkpKStGfPHk2cOFG33HKL6tWrp6FDhxbaB8THx6tv375q06aNfHx89Oijj0qSNm/erPz8fK1cuVKjRo1SzZo1VaVKFY0fP15ffPGFjh07Vmr1lvgcvri4OP31r3/Vu%2B%2B%2Bq2PHjmngwIFq1KiRatSooe3bt%2BuOO%2B7Q9u3bVbt2bf3444%2BO7X788Ud1795daWlpeuqpp/SPf/xDHTp00Pfff69hw4YpLCxMt956qwIDA/Xvf/9bgwYNkiR98803qlSpkjp06HDVuvLy8hQXF6f58%2BerQ4cO%2BvXXX/Xoo48qNDRUd911l55//nl5eHjoyy%2B/lM1m05AhQ1S7dm31799fzz//vLKysrRmzRp5eXnp2Wef1fjx47Vy5UrH/n/44Qd9/vnnqlSpkpKSkvTcc89p7ty56tChgxITE/XYY4%2BpcePGCgsLK9I8pqenKyMjw2ksJydAAQHWov5T3DQ8PZ0/4iKhoeVdgTk1a%2Bb8Ef/jwSnchXJ3d/4I8yiDc/gK%2Bx0cEBAgq/Xav4OTk5MVFBQkPz8/x1hISIhSU1OVlZUlX19fp3Wjo6MdX7u5ual58%2BZKSkpyBGUhISGO5Q0bNpSPj4%2BSk5MVGBho5CU6lPg7/uOPP5aXl5fc3d1Vq1YthYeHa9euXWrXrp0SExN1xx13aOvWrerVq5feffdd5ebmSpJ27NihadOmqXbt2vr%2B%2B%2B8dE9WhQwdVq1ZNycnJatasmWJiYvTJJ584Gr7PPvtM0dHRcr/GN2FOTo6ys7NVsWJFWSwW1atXT5999pnc3NyUmZmpzZs3a9WqVfL19ZWvr69mzZolDw8P2Ww2bdy4UfHx8fL395ckjR07Vj179lRaWposFoskqU%2BfPo5/xI8%2B%2BkidO3dWRESEJKlt27bq0aOHVq9eXeSGLz4%2BXvPmzXMaGz16jMaOjS3S9jejGjXKuwIT2ratvCswtz%2BPHgBFVrlyeVeAS9hlKfV9FvY7eMyYMYqNvfbvYJvNpsqX/D%2B50NNkZmY6NXw2m82pMbywbmZmpmw2myRdtq/KlSuX6nl8JW74vv/%2Be82fP1%2B//PKL8vPzlZ%2Bfr%2B7du%2BvOO%2B/UmjVrJEn//e9/NWrUKP3www/auXOn3NzcVLVqVTVo0ECStGLFCq1cuVLp6emy2%2B3Kzc11NIZ9%2BvTRwoULdfjwYVmtVn3xxRf6xz/%2Bcc26fH19NXr0aA0ZMkStW7fW7bffrr59%2B6pmzZo6dOiQzp07p9q1azvWD/0zGfnpp59kt9vVsGFDx7I6depIOn9S5oVtatWq5Vh%2B8OBBbdmyRa1atXKM2e12RwNYFAMGDFBkZKTTWE5OgNLSiryLm4an5/lm7%2BhRKS%2BvvKsxl%2BCYov2BcdNp1ux8szd4sLRnT3lXYy6bNpV3Bebk7n6%2B2Tt1SiooKO9qzKdq1fKuoFQV9js4ICCgyNtfOCWsNNYtzr5KokQNX0pKisaNG6ennnpK/fv3l4%2BPj5588knl5%2Berffv2mj59unJycvTTTz%2BpTZs2Cg0N1Y8//iiLxeI4JPt///d/WrRokRYsWKDw8HC5u7urU6dOjueoU6eO2rRpo3Xr1ikkJET%2B/v5OjdXVjBkzRv369VNCQoISEhL0zjvvaNmyZY50sLAraC40moW5kO5JckoYfXx8NGjQIE2ePLlIdRXGarVeFh2npEhXKeeml5fH/FwmMbG8KzC3PXuYo0vl55d3BeZWUMAcmcwVLn41pLDfwUXl7%2B/vSOcusNlsslgsjiOFF1StWrXQdRs3buxY12azqVKlSo7lJ0%2BeVLVq1UpUW2FKdEB89%2B7d8vLy0oMPPigfHx/Z7Xbt3r1bklSzZk1Vq1ZNH330kRo0aCAfHx%2BFhYVp27Zt2rZtm6PhS0pKUtu2bdW%2BfXu5u7srIyND6enpTs/Tp08f/fvf/9b69evVu3fvItdns9kUGBio%2B%2B%2B/X0uWLFH37t21evVqBQUFyc3NTampqY51v//%2Be33%2B%2BecKDg6WJB04cMCx7MLnF5K%2BS9WpU0c///yz09jRo0dVwF%2BFAAC4tJYtW%2BrIkSM6ceKEYywpKUmNGjVyatwurJucnOz4uqCgwBGKBQcHy8/Pz2n53r17lZubq5YtW5ZavSVq%2BIKCgpSdna3du3fr5MmTeu211%2BTl5eU4NNu%2BfXstW7ZMt956qyTpL3/5i3bs2KGkpCRHwxcUFKQDBw7o5MmTOnz4sF588UXVqlXL6YqU6Oho7d%2B/v1gNX2Jionr06KGdO3fKbrfr999/V2pqqurUqaMqVaooKipK8%2BfPl81m02%2B//abJkyfr2LFjqlatmiIiIvTGG2/IZrPp5MmTmj17ttq1a6eaNWsW%2Blz33Xeftm3bplWrVik3N1e7d%2B9Wv379tGHDhpJMKwAAuIJz50r/YUSLFi3UqlUrzZw5U1lZWUpJSdGSJUsc1x50795dW7dulSQNGjRIH3/8sbZv366zZ89q4cKF8vLyUufOneXu7q7%2B/fvrzTff1JEjR5SZmanXX39dXbt2VfXq1Y1Om0OJGr7Q0FDdf//9GjJkiHr27KmgoCA9%2B%2Byz2rt3r%2BLi4tSuXTulpqY6Gj4/Pz9Vq1ZNVapUcUSngwYNUt26ddWpUycNHz5cQ4YM0ZAhQ7RkyRK99957ks6fsNi5c2c1atToiilbYbWNHDlS48ePV5s2bXTPPfeoTZs2uv/%2B%2ByVJL7/8sipWrKguXbpowIAB6t69uwYMGCBJevXVV1WxYkX16NFD0dHR8vX11RtvvHHF52rYsKFmzpypd955R23btlVsbKweeeQRpytxAACAcWZr%2BCRpzpw5Sk9P1%2B23364HH3xQffr00eDBgyVJqampjvvs3XnnnXriiSc0fvx43Xbbbfruu%2B%2B0aNEi%2Bfj4SDp/kWibNm0UExOjqKgoVapUSS%2B99JLxAi9isZf1WYIGDRkyRDExMerXr195l3LdpKSUdwXm5OUlBQdLaWmcw3epho1K/%2Bo1lxAaev4K5rAwzuG71CWn0OBPHh7nL0zIzOQcvsIU44KG0paTU/r79PYu/X2alWlvxGS327VixQodPny4WOfvAQAA11MWF23cTEzb8F04kfGNN95wRJ6SNGLECH377bdX3G769Onq06fP9SgRAADghmDahm/nzp2Fjr/55pvXuRIAAFDeSPiMMW3DBwAAcAENnzGl/8Z0AAAAMBUSPgAAYHokfMaQ8AEAALg4Ej4AAGB6JHzG0PABAADTo%2BEzhkO6AAAALo6EDwAAmB4JnzEkfAAAAC6OhA8AAJgeCZ8xNHwAAMD0aPiM4ZAuAACAiyPhAwAApkfCZwwJHwAAgIsj4QMAAKZHwmcMDR8AADA9Gj5jOKQLAADg4kj4AACA6ZHwGUPCBwAA4OJI%2BAAAgOmR8BlDwwcAAEyPhs8YDukCAAC4OBI%2BAABgeiR8xpDwAQAAuDgSPgAAYHokfMbQ8AEAANOj4TOGQ7oAAAAujoQPAACYHgmfMTR8AADA9Gj4jOGQLgAAgIsj4QMAAKZHwmcMCR8AAICLI%2BEDAACmR8JnDA0fAAAwPRo%2BYzikCwAA4OJI%2BAAAgOmR8BlDwgcAAODiSPgAAIDpkfAZQ8MHAABMj4bPGA7pAgAAlDKbzabx48erY8eOioiI0HPPPafs7Owrrv/ZZ5/pr3/9q0JDQ9WtWzd9%2BOGHjmVz585V8%2BbN1apVK6fH8ePHi1wPCR8AADC9Gy3hmzx5snJzc7V27Vrl5eVp3LhxmjFjhp5//vnL1t25c6cmTpyo119/XZ07d9a3336r0aNHq0GDBmrbtq0kKSYmRq%2B88kqJ6yHhAwAAKEXHjx9XQkKC4uLi5O/vr8DAQI0aNUqrVq1SXl7eZevbbDY9/vjjuuuuu%2BTh4aFOnTqpSZMm2rp1a6nVRMIHAABMrywSvvT0dGVkZDiNBQQEyGq1Gtrv7t275e7urqZNmzrGQkJCdObMGR04cMBpXJLuvPNO3XnnnY6v8/PzlZGRocDAQMfYzz//rIEDB2rv3r2qWbOmnnnmGUVERBS5Jho%2BAABgemXR8MXHx2vevHlOY2PGjFFsbKyh/dpsNvn6%2BspisTjG/Pz8JEmZmZnX3H7GjBmqWLGioqOjJUk1atRQcHCwJkyYIKvVqvj4eI0YMUJr1qxRgwYNilQTDR8AALgpDRgwQJGRkU5jAQEBRdp29erVmjRpUqHL4uLiZLfbi12P3W7XjBkztHbtWi1fvlze3t6SpH79%2Bqlfv36O9YYOHap169ZpzZo1Gj9%2BfJH2TcMHAABMrywSPqvVWuLDtzExMYqJiSl02bfffqusrCwVFBTI3d1d0vnUT5KqVatW6Dbnzp3TM888o507d2rFihUKDg6%2B6vMHBQUpPT29yPVy0QYAAEApat68uex2u/bs2eMYS0pKUuXKlVW/fv1Ct/nb3/6mffv2FdrsLViwQFu2bHEaS0lJuWZTeDEaPgAAYHrnzpX%2Bo6z4%2B/urW7dumj17tk6cOKGjR49q/vz5uu%2B%2B%2B%2BThcf7g6kMPPaRPP/1UkvTjjz9qzZo1WrRokapUqXLZ/mw2m6ZNm6YDBw4oJydHixcv1sGDB3XPPfcUuSYO6QIAANO70e7D98ILL2jKlCmKioqSp6enevXqpbi4OMfytLQ0nTx5UpK0atUqnT59Wl26dHHaR3h4uBYvXqwJEyZIOn/uns1mU6NGjbR06VLVqFGjyPVY7CU5qxBlKiWlvCswJy8vKThYSkuTcnPLuxpzadjIcu2VbkahodK2bVJYmJSYWN7VmEsxzv25qXh4SFWrSpmZUn5%2BeVdjPkW8oKEsbNhQ%2Bvvs1q3092lWJHwAAMD0brSEz2w4hw8AAMDFkfABAADTI%2BEzhoYPAACYHg2fMRzSBQAAcHEkfAAAwPRI%2BIwh4QMAAHBxJHwAAMD0SPiMoeEDAACmR8NnDId0AQAAXBwJnwnVqlXeFZiT5c93DwsIkHhDwEvwNlmF%2B/NNyrVpE2%2BTdSmrtbwrMKcLb8cXFcXb8RWmHH/4kvAZQ8IHAADg4kj4AACA6ZHwGUPDBwAATI%2BGzxgO6QIAALg4Ej4AAGB6JHzGkPABAAC4OBI%2BAABgeiR8xtDwAQAA06PhM4ZDugAAAC6OhA8AAJgeCZ8xNHwAAMD0aPiM4ZAuAACAiyPhAwAApkfCZwwJHwAAgIsj4QMAAKZHwmcMDR8AADA9Gj5jOKQLAADg4kj4AACA6ZHwGUPCBwAA4OJI%2BAAAgOmR8BlDwwcAAEyPhs8YDukCAAC4OBI%2BAABgeiR8xpDwAQAAuDgSPgAAYHokfMbQ8AEAANOj4TOGQ7oAAAAujoQPAACYHgmfMSR8AAAALo6EDwAAmB4JnzEkfAAAwPTOnSv9R1my2WwaP368OnbsqIiICD333HPKzs4udN2PPvpIzZo1U6tWrZweO3fu/PO1n9OsWbMUFRWl8PBwPfLII0pLSytWPTR8AAAApWzy5Mk6e/as1q5dq1WrViklJUUzZsy44vrh4eFKSkpyerRu3VqS9N577%2BmTTz7RokWLtHnzZtWrV0%2BjR4%2BW3W4vcj00fAAAwPRupITv%2BPHjSkhIUFxcnPz9/RUYGKhRo0Zp1apVysvLK/b%2B4uPjNXToUDVs2FC%2Bvr6Ki4tTSkqKduzYUeR90PABAACUot27d8vd3V1NmzZ1jIWEhOjMmTM6cOBAodscOXJEDz/8sMLDwxUVFaXVq1dLkrKzs7V//361aNHCsa6vr6/q1q2rpKSkItfERRsAAMD0yiKRS09PV0ZGhtNYQECArFarof3abDb5%2BvrKYrE4xvz8/CRJmZmZl63v7%2B%2BvevXq6YknnlCjRo20ceNGTZo0SVarVQ0aNJDdbndsf/H%2BCtvXldDwAQAA0yuLhi8%2BPl7z5s1zGhszZoxiY2Ovue3q1as1adKkQpfFxcUV6/y6zp07q3Pnzo6ve/bsqY0bN%2Bqjjz7SxIkTJalY%2BysMDR8AALgpDRgwQJGRkU5jAQEBRdo2JiZGMTExhS779ttvlZWVpYKCArm7u0s6n/pJUrVq1Yq0/6CgIO3atUtVqlSRm5ubY/sLbDZbkfcl0fABAIAbQFkkfFar1fDh28I0b95cdrtde/bsUUhIiCQpKSlJlStXVv369S9bf8WKFfLz81N0dLRjLCUlRcHBwfL29lbjxo2VnJys2267TZJ06tQpHTx40HEVb1Fw0QYAAEAp8vf3V7du3TR79mydOHFCR48e1fz583XffffJw%2BN81vbQQw/p008/lSTl5uZq%2BvTpSkpKUl5entauXauvvvpKAwcOlCQNGjRIy5cvV0pKirKysjRjxgw1b95crVq1KnJNJHwAAMD0brR32njhhRc0ZcoURUVFydPTU7169VJcXJxjeVpamk6ePClJevDBB/XHH39o3LhxysjIUO3atTV//ny1bNlSkjRw4EBlZGTogQce0B9//KF27dpddu7htVjsRs8CRKk7e7a8KzAni0Xy8ZGysyX%2B1zqrkJVx7ZVuRh4eUtWqUmamlJ9f3tWYSxkcxnIJoaHStm1SWJiUmFje1ZhPOf7wfeaZ0t/nyy%2BX/j7NikO6AAAALo5DugAAwPRutEO6ZkPCBwAA4OJI%2BAAAgOmR8BlDwwcAAEyPhs8YDukCAAC4OBI%2BAABgeiR8xpDwAQAAuDgSPgAAYHokfMbQ8AEAANOj4TOGQ7oAAAAujoQPAACYHgmfMTR8AADA9Gj4jOGQLgAAgIsj4QMAAKZHwmcMCR8AAICLI%2BEDAACmR8JnDA0fAAAwPRo%2BYzikCwAA4OJI%2BAAAgOmR8BlDwgcAAODiSPgAAIDpkfAZQ8MHAABMj4bPGA7pAgAAuDgavlI2d%2B5c9e/fv7zLAADApZw7V/qPmwkN3yWSk5P13XfflXcZAAAApYZz%2BC6xatUqVaxYUR07dizvUgAAwJ9utkSutN2QCV/Tpk312WefadCgQfrLX/6i3r1766effnIs37JliwYMGKDQ0FDdcccdmj9/vmPZ008/rbi4OMfXOTk5atq0qf7zn/9o%2BvTpev/997V48WJ17dpVkhQZGamFCxcqKipKU6ZMkSR988036tu3r2P/c%2BbMuU6vHACAmxOHdI25YRO%2Bd955R6%2B88opq1qypMWPGaNasWXr77bd19OhRjRo1SlOmTFHv3r21f/9%2BPfroo6pTp4569%2B591X1OnjxZe/fuVZs2bTRx4kTH%2BLp167R48WLVqVNHZ86cUWxsrJ599lndd9992rt3rwYOHKiWLVsqMjKy2K8jPT1dGRkZTmOVKwcoIMBa7H25OovF%2BSMu4nHDfiuXLXd354/4n9DQ8q7AnJo1c/4IuIgb9rdETEyMGjRoIOl8CvePf/xDkrR27Vo1btxYffr0kXQ%2BDRw4cKBWr159zYbvSu644w7VrVtXklSxYkV99dVXqlSpkiwWi5o2baqmTZtq165dJWr44uPjNW/ePKex0aPHaOzY2BLVejPw9i7vCkzIp2p5V2BulSuXdwXms21beVdgbu%2B/X94V4BI3WyJX2m7Yhq927dqOzytUqKCcnBxJ0sGDB5WUlKRWrVo5ltvtdtWvX7/EzxUUFOT09fr167V06VIdPnxY586dU15entq2bVuifQ8YMOCyRrFy5QBlZ5e4XJdlsZxv9nJyJLu9vKsxF5%2BzmeVdgjm5u59v9k6dkgoKyrsac4mKKu8KzKlZs/PN3uDB0p495V2N%2BfCHwg3rhm34LFc4rufj46NOnTrpzTffLNJ%2BCorwS8D9osNBW7Zs0dSpUzVjxgx17dpVnp6eGjx4cNGKLoTVapXV6nz49uxZGpqrsduZn8vk55d3BeZWUMAcXSoxsbwrMLc9e5gjkyHhM%2BaGvGjjaurUqaO9e/fKflFHkJGRodzcXEmSl5eXzp4961h28ODBYu1/586dql%2B/vqKjo%2BXp6amcnBylpKSUTvEAAKBQXLRhjMs1fD179pTNZtOCBQuUnZ2ttLQ0DRs2TMuWLZMk1atXTzt27NDRo0d1%2BvRpLV682CnB8/b21qFDh3Ty5MlC9x8UFKSjR4/qyJEjOn78uKZOnSqr1apjx45dl9cHAABQXC7X8FWtWlULFizQpk2bFB4eriFDhqhLly4aNmyYJOm%2B%2B%2B5TSEiIunfvrnvvvVe9evWSj4%2BPY/u%2Bffvqq6%2B%2B0t13313o4d5u3brpzjvvVHR0tAYMGKDOnTtr5MiRSkhI0GuvvXbdXicAADcTEj5jLHY7Z0OZzUVHnHERi0Xy8ZGyszmH71IVsjKuvdLNyMNDqlpVyszkHL5LWbn1U6FCQ89fmBAWxjl8hSnHH74xMaW/z9WrS3%2BfZnXDXrQBAABuHjdbIlfaaPgAAIDp0fAZ43Ln8AEAAMAZCR8AADA9Ej5jSPgAAABcHAkfAAAwPRI%2BY2j4AACA6d1oDZ/NZtPUqVP1ww8/yM3NTZ06ddLkyZOd7v17wfPPP6/Vl9wjpqCgQDExMXr55Zf19NNPa82aNZe9UcTWrVuLXA%2BHdAEAAErZ5MmTdfbsWa1du1arVq1SSkqKZsyYUei6L774opKSkhyPxMRENWjQQN27d3esM3LkSKd1itPsSTR8AADgBnAjvdPG8ePHlZCQoLi4OPn7%2ByswMFCjRo3SqlWrlJeXd83tly1bplq1aqlTp06lVhMNHwAAQCnavXu33N3d1bRpU8dYSEiIzpw5owMHDlx121OnTunNN9/Uk08%2B6TT%2B/fffq0%2BfPgoNDdV9992nXbt2FasmzuEDAACmVxaJXHp6ujIynN%2BaMiAgQFaDbz1os9nk6%2Bsri8XiGPPz85MkZWZmXnXbf/7znwoPD1fjxo0dY8HBwXJzc9O4ceNUqVIlzZs3T8OGDdOGDRtUtWrVItVEwwcAAEyvLBq%2B%2BPh4zZs3z2lszJgxio2Nvea2q1ev1qRJkwpdFhcXJ3sJ3ne4oKBA7733nmbOnOk0Pnr0aKevn3zySa1du1YJCQnq169fkfZNwwcAAG5KAwYMUGRkpNNYQEBAkbaNiYlRTExMocu%2B/fZbZWVlqaCgwHFlrc1mkyRVq1btivv873//q9zcXLVt2/aqz%2B3u7q6aNWsqPT29SLVKNHwAAOAGUBYJn9VqNXz4tjDNmzeX3W7Xnj17FBISIklKSkpS5cqVVb9%2B/Stut2nTJrVv314eHv9rz%2Bx2u1555RXdc889atasmSQpNzdXBw8eVHBwcJFr4qINAACAUuTv769u3bpp9uzZOnHihI4ePar58%2Bf///buPajrKv/j%2BOsriuCNhNTipuXSZl5QQCNXLTWH0hBv5SuSBkwAABg8SURBVLrt6maNt01FHXPTXIXVTNfr0Jq7pW7NZt5Wzbt2kTYV3TBUIMxN2RVQ%2BaIi3kEuvz%2BamFgs7QdyDl%2Bejxln%2Bp7zBV7OfML3933O53w0aNCg0mJu2LBh2r59e5mvS0tLk7%2B/f5kxh8OhzMxMxcTEKDs7W1evXtX8%2BfNVp04dPfnkk3eciYIPAABYrzodyyJJsbGxatiwoXr27Km%2BffuqXbt2mjBhQul8RkaG8vLyynxNTk6O7r333nLfa/bs2WrRooUGDBigzp07Ky0tTe%2B%2B%2B67q1at3x3kcJf%2BfXYW4q65fN53ATg6H5OEh3bghcdWW5Xkl5/Zvqolq15YaN5Zyc6XCQtNp7HIXlrFcQocO0pdfSiEhUlKS6TT2MfjL97HHKv97JiRU/ve0FR0%2BAAAAF8dNGwAAwHrV7Vm6tqHgAwAA1qPgqxiWdAEAAFwcHT4AAGA9OnwVQ4cPAADAxdHhAwAA1qPDVzEUfAAAwHoUfBXDki4AAICLo8MHAACsR4evYujwAQAAuDg6fAAAwHp0%2BCqGgg8AAFiPgq9iWNIFAABwcXT4AACA9ejwVQwdPgAAABdHhw8AAFiPDl/FUPABAADrUfBVDEu6AAAALo4OHwAAsB4dvoqhwwcAAODi6PABAADr0eGrGAo%2BAABgPQq%2BimFJFwAAwMXR4QMAANajw1cxdPgAAABcHB0%2BAABgPTp8FUPBBwAArEfBVzEs6QIAALg4OnwAAMB6dPgqhg4fAACAi6PDBwAArEeHr2Io%2BAAAgPUo%2BCqGJV0AAAAXR4cPAABYjw5fxdDhAwAAcHF0%2BAAAgPXo8FUMBR8AALAeBV/FsKQLAADg4ujwAQAA69Hhqxg6fAAAAC6ODh8AALAeHb6KocMHAACsV1xc%2BX/utuTkZPXq1UvPPffcbd/73nvvKSIiQiEhIRoyZIhSUlJK5/Lz8/WHP/xB3bp106OPPqpx48YpNzf3J2Wh4AMAAKhkmzdv1tixY9W8efPbvvfTTz9VXFyc5s2bp/3796t79%2B4aNWqUrl27JklatGiRUlNTtWbNGu3atUslJSV69dVXf1IeCj4AAGC96tbhy8/P15o1axQcHHzb965Zs0YDBgxQcHCwPDw89NJLL0mS9uzZo8LCQq1fv15jxozR/fffr3vuuUfR0dGKj49Xdnb2Heeh4AMAAKhkzz77rJo1a3ZH701NTdUjjzxS%2BrpWrVpq1aqVkpOTderUKV2%2BfFmtW7cunW/ZsqU8PDyUmpp6x3m4aQMAAFjvbnTknE6ncnJyyow1adJETZs2rfwf9iMuXrwoLy%2BvMmNeXl7Kzc3VxYsXJUmNGjUqM9%2BoUaOftI%2BPgs9Cnp6mE9jJ6XTq7bfXaPDgwVX%2BP6P1PJuYTmAlp9OpNXFxXDO3UlJiOoGVSq%2BZnTu5ZixzNy7ZuLg1evPNN8uMvfzyyxo7duxtv/bDDz/UK6%2B8csu5OXPmaMCAAT8pS8lt/oK3m78dCj5UGzk5OXrzzTfVo0cPfhHjjnDN4KfimqlZBg8erB49epQZa9Lkzj5AR0VFKSoqqlJyNG7cuLST952LFy8qKChI3t7epa/r169fOp%2BXlycfH587/hkUfAAAoEZq2rSpFYV9mzZtlJqaqv79%2B0uSioqK9NVXX2nQoEEKCAiQl5eXUlNT5efnJ0k6fvy4CgoK1KZNmzv%2BGdy0AQAAUMWeeuopJSYmSpKGDBmiTZs26fDhw7p%2B/breeustubu764knnpCbm5uee%2B45LVu2TGfOnFFubq4WLlyoXr166d57773jn0eHDwAAoJJFRETo9OnTKioqUnFxsdq2bStJ2rlzp/z8/JSenl56zl63bt00ceJERUdH6/z582rbtq3%2B%2Bte/ysPDQ5I0btw4Xb16VVFRUSosLFT37t01c%2BbMn5THUVLRXYBAFXE6nVqzhps2cOe4ZvBTcc3AVVHwAQAAuDj28AEAALg4Cj4AAAAXR8EHAADg4ij4AAAAXBwFHwAAgIuj4AMAAHBxFHwAAAAujoIPAADAxVHwAQAAuDgKPlQrubm5piMAAFDt1DYdALidq1evau7cudq8ebMKCwuVkpKiixcvasqUKZozZ468vb1NR4RlDh8%2BrA8//FDZ2dlaunSpiouLtXv3bj311FOmo8ESgwcPlsPhuKP3rl69%2Bi6nAe4%2BCj5YLzY2Vk6nU%2B%2B8846GDx8uSapTp44aNGigWbNmaeHChYYTwiZr167VG2%2B8oaefflqff/65JCknJ0evv/66nE6nhg4dajghbNC1a1fTEYAq5SgpKSkxHQL4MY8%2B%2Bqh27Nghb29vBQcH68iRI5KkS5cuKSIiQgkJCYYTwia9evXSG2%2B8odDQULVr105Hjx6VJKWlpWn8%2BPHavXu34YSoThYsWKBJkyaZjgFUGB0%2BWM/hcKhBgwblxouKipSfn28gEWx27tw5hYSESFKZJbuf/exncjqdpmLBcvHx8UpJSVFBQUHpWHZ2tj766CMKPrgEbtqA9Tp06KB58%2Bbpxo0bpWNZWVmaNm2aOnXqZDAZbNS8eXMdOHCg3PjWrVvl6%2BtrIBFsFxcXpwkTJmjv3r165513dOjQIa1du1bHjh3T7NmzTccDKgUdPlhv%2BvTpGjNmjMLCwlRYWKjQ0FBdu3ZNHTp00IIFC0zHg2VGjBihMWPGqEePHiosLNSsWbP09ddfKykpiesFt7R%2B/XqtXbtWQUFBateund5//33l5%2BcrJiZGtWvzzyRcA3v4UG0kJycrIyNDdevWVWBgoIKCgkxHgqWSk5O1ceNGnTp1Sh4eHgoICNCzzz6rBx980HQ0WCgkJERffvmlpG9XFBITE%2BXm5qZz585pyJAh%2BuijjwwnBCqOjy6w3qhRo7Rs2TK1bdtWbdu2NR0Hltu%2Bfbt69%2B7NtYI71qJFC23YsEH9%2B/eXr6%2BvPv74Y0VERKiwsFDnz583HQ%2BoFOzhg/VOnz6tlJQU0zFQTcTExOjatWumY6AamThxombNmqWrV69q2LBhmjhxoiIjIxUZGanu3bubjgdUCpZ0Yb358%2Bdr%2B/btateunXx9fcvtqZk4caKhZLDRBx98oC%2B%2B%2BEL9%2BvWTr6%2Bv3Nzcysw/8MADhpLBZtevX5enp6ckKSEhQcnJyfLz81NERAT7%2BOASKPhgvd/85jc/OOdwOPTee%2B9VYRrY7uGHHy435nA4VFJSIofDobS0NAOpYLOYmBjNmDHDdAzgrqLgA%2BBSsrKyfnTez8%2BvipKgunjyySe1cuVKBQQEmI4C3DUUfKgW/v3vf2vXrl2l/5g3b95cffr04Rc0flBWVpaysrLkcDgUGBioZs2amY4ESy1btkzbtm1Tt27dbrltZPDgwYaSAZWHgg/W2759u1555RW1atVKgYGBkqT09HR98803WrFihcLCwgwnhE2ysrIUHR2t5OTk0jGHw6Hw8HAtXrxYXl5eBtPBRj169PjBOYfDoU8%2B%2BaQK0wB3BwUfrNe7d2%2B9/PLL6t27d5nxDRs2aPXq1Vq7dq2hZLDRqFGjVLduXY0bN670A8KJEydKi725c%2BcaTojqpLi4WLVqcaAFqj8KPlivffv2OnToULm7LQsLCxUeHq7ExERDyWCjkJAQff7556pfv36Z8by8PPXp00d79%2B41lAy2ioiI0K5du8qNX7p0SREREUpISDCQCqhc3GsO6/n6%2BurIkSMKCQkpM56amiofHx9DqWCrevXq6ebNm7ecKy4uruI0sFlCQoL279%2BvrKwsLVy4sNx8ZmamCgoKDCQDKh8FH6w3dOhQjRgxQpGRkWrZsqUk6eTJk9qyZYtGjhxpOB1s07lzZ02aNEnR0dGlj1I7efKklixZwn5PlOHl5aVr166pqKhISUlJ5eY9PDw0a9YsA8mAyseSLqqFTz/9VP/4xz9KP3EHBgYqKiqq3L4%2B4NKlS5o2bZo%2B/vjj0rGSkhJ16dJF8%2BbNk7e3t8F0sNGsWbP02muvmY4B3FUUfKg2vjs4V/p2/x6n3%2BPH5OXl6fTp0yooKFBAQACFHn7QF1988aPzHTt2rKIkwN1DwQfrZWVlafLkyRo2bJgiIiIkSStXrtSuXbu0YMECDtJFOevWrdMjjzyi1q1bS5Li4%2BOVnZ3NeWq4pVs9nUWSateuLQ8PD24Mg0ugRQLrzZgxQy1btizzKTsqKkqZmZmaOXOm3n77bYPpYJtFixZpy5YtWrRoUemYp6enli9frtOnT2vChAkG08FGR48eLfO6qKhI//3vf7Vy5UpFRkYaSgVULjp8sF5YWJgSEhJUp06dMuMFBQXq3Lkzn75RRteuXbV69epynd/Tp09ryJAh%2BuyzzwwlQ3Vz%2BfJlDRo06JZHtgDVDadJwnqNGjVSenp6ufFjx47J09PTQCLY7Pr162rcuHG58fr16%2BvSpUsGEqG6unbtmpxOp%2BkYQKVgSRfW%2B/Wvf60XXnhBffr0kb%2B/v4qLi5Wenq7t27crOjradDxYpnPnzpo6dapGjRpV5nr585//rK5du5qOBwtNmjSp3Nj169d15MgRbtiAy2BJF9XCxx9/rA0bNigjI0MOh0MBAQEaOHDgjz4DEzXThQsX9Nprryk%2BPl7f/XpzOBzq2bOn5syZowYNGhhOCNu8%2Buqr5cbc3d3VokULDRo0SA0bNjSQCqhcFHwAXNLFixeVmZmpWrVqyc/PT15eXqYjAYAx7OGD9TIyMjRu3LjS1/PmzVNoaKgGDBigEydOGEwGW33yySe655571KZNGxUVFSkuLk5///vfebQaftC2bds0YsQI9evXT9K3N4UtX75c9ETgKij4YL0ZM2aUbsI/cOCA1q1bp2XLlunpp5/W66%2B/bjgdbDN//nzNnTtXknT27FkNGzZMV69e1bZt2/SnP/3JcDrYaOnSpZo3b57at2%2BvkydPSvr2iS2bNm3SkiVLDKcDKgdLurBeWFiY9u7dKw8PD82YMUMlJSWKjY3VzZs31aVLFx08eNB0RFika9euev/99xUYGKilS5cqMTFRK1as0Pnz5zVw4EDFx8ebjgjLPP7443rnnXcUFBSk4OBgHTlyRNK3qwtDhw7Vnj17DCcEKo4OH6zn5uYmNzc3SdLevXvVvXt3Sd8%2Bau3mzZsmo8FCV65cUWBgoCRp3759evLJJyVJPj4%2BunjxoslosNTly5cVFBRUbrxp06a6cOGCgURA5eNYFlivY8eOiomJUZ06dVRQUKAuXbpIkv72t7/94CORUHMFBATowIEDqlevno4ePVr6xI3k5GT5%2BPgYTgcbPfTQQ9q8ebP69u1bZnzFihVq2bKloVRA5aLgg/ViYmK0ZMkS5ebm6q233lKdOnWUl5enjRs3avHixabjwTITJ07U6NGjVVBQoNGjR6tp06bKy8vTyJEjNWbMGNPxYKHx48frd7/7nVatWqWbN29q9OjROn78uPLy8rR06VLT8YBKwR4%2BuIwXX3xRy5cvNx0DFigsLFR%2Bfr7q169fOnb48GG1b9%2B%2B9PWtOjqouc6ePautW7cqIyNDHh4eCgwMVJ8%2BfXTPPfeYjgZUCgo%2BuIzvb7YGbofrBUBNwpIugBqJz7r4zrFjx7Ro0SKdOHFCN27cKDe/d%2B9eA6mAykXBB6BGcjgcpiPAEpMnT1azZs00fPhweXp6mo4D3BUUfACAGi0zM1Pr169X3bp1TUcB7hrO4QMA1GitWrXS2bNnTccA7io6fACAGu2FF17QlClTFBUVJT8/P9WqVbYX8t3Zn0B1RsEHl8EmfPwUXC/4ztixYyV9e3TP/3I4HEpLS6vqSEClo%2BBDtXH%2B/HmdOXNGbdq0ueX8vHnzqjgRbLR//3499thjt70p4xe/%2BEUVJYLtjh07ZjoCcNdxDh%2Bsl52dralTp2rfvn2qXbu2UlJS5HQ69eKLL2rp0qUKCAgwHREW6dChgxo0aKA%2BffooMjJSrVu3Nh0JAIzjpg1YLzY2Vt7e3tqzZ0/p3hpvb2916dJFs2bNMpwOtjlw4IBmzJih3NxcDR8%2BXL1799Zbb72ljIwM09EAwBg6fLBeaGio/vnPf6p%2B/fplno5w48YNPf744zp48KDhhLBVYWGh/vWvf2nHjh3auXOnWrZsqeeee07PPPOM3N3dTccDgCpDhw/W8/T0vOUG%2B7y8PBUVFRlIhOoiJydHqampSk1NVUFBgZo1a6aNGzfqqaeeUmpqqul4AFBluGkD1gsPD9fUqVM1YcIESdKlS5d07NgxzZ8/X0888YTZcLBOXl6edu7cqS1btigpKUnBwcEaPHiwevfurYYNG0qSVq1apd///vfasmWL4bQAUDVY0oX18vLyNGXKFMXHx0v69pgEh8Oh3r17a/r06fLy8jIbEFZp06aN7r//fvXt21f9%2BvX7wZt6vr89AABcHQUfqo0LFy4oIyNDdevWlb%2B/vxo0aGA6EiyUmJiosLCwW86tWrVKv/rVr6o4EQCYR8GHauHChQvKzMxUfn5%2BubmOHTsaSASbHT9%2BvHTf3neys7O1cuVKJSUlGUwGAGawhw/WW7ZsmeLi4m55gwan4ON/ffDBB/rjH/8oHx8fnTt3Ts2aNZPT6ZSfn5/Gjx9vOh4AGEHBB%2ButWLFCs2fPVs%2BePVW3bl3TcWC55cuXa8WKFQoPD1e7du0UHx%2BvnJwczZ49%2Bwef0gIAro5jWWC9evXqld5h6e7uXu4P8H3nz59XeHi4JKlWrVoqKSlRkyZNNHnyZMXExBhOBwBmUPDBeuPHj9fcuXOVnZ1tOgqqAV9fXx04cECS1KRJEyUmJkqSGjZsqMzMTJPRAMAYlnRhvYYNG2rXrl1atWrVLefZw4fvGzlypF588UUdOHBAAwcO1OjRoxUWFqaTJ08qNDTUdDwAMIK7dGG9rl27qnv37urWrdst9/B17drVQCrYLDMzU/7%2B/pKkdevWKTk5Wf7%2B/hoyZEjp4csAUJNQ8MF6nTp10v79%2B1W7Ng1p3N64cePUuXNnhYeHq0WLFqbjAIAV3GbOnDnTdAjgx%2BTn5%2BvUqVNq3bq16SioBo4fP67PPvtMS5Ys0dq1a/X111/r%2BvXr8vHxUb169UzHAwAj6PDBeqNHj9aXX36punXr6r777lOtWmXvNVq9erWhZLDZzZs3lZKSosTERB06dEgpKSlq3Lgxz88FUCOxRgbrtW7dmu4e/l%2BKi4v13WfaoqIi8fkWQE1Fhw%2BAS1mwYIEOHTqk9PR0/fznP1f79u3VoUMHdejQQY0aNTIdDwCMoOBDtfDBBx9o%2B/btysrKksPhUGBgoPr376%2B%2BffuajgbLtG3bVv7%2B/nrmmWfUqVMnBQcHc0A3gBqPgg/WW7x4sdavX6%2BoqCg1b95cknTixAlt2rRJEyZM0C9/%2BUvDCWGT/Px8HT58WF988YUSExP11Vdf6cEHH1RYWJhCQ0PVvXt30xEBoMpR8MF63bp101/%2B8he1atWqzPjRo0c1ZcoU7dixw1AyVAcFBQXasGGD3n33Xf3nP//hoG4ANRI3bcB6V65cUVBQULnx1q1by%2Bl0GkgEm125ckVHjhxRUlKSkpKSdOTIEXl7eys8PFwvv/yy6XgAYATP0oX1goKCtH79%2BnLjGzZsKF3iBb7TqVMnTZ8%2BXVlZWYqMjNTWrVu1e/duxcbG6pNPPjEdDwCMYEkX1ktMTNRLL70kPz8/tWzZUpJ08uRJZWRkKC4uTt26dTOcEDZJT0/Xvn37lJKSops3b5aOO51OHT9%2BXAcPHjSYDgDMoOBDtXDu3Dlt3bpVWVlZKigoUGBgoJ5%2B%2Bmn5%2BvqajgbLxMTEaM%2BePQoNDdXOnTvVp08fpaWlyd3dXdOmTVNISIjpiABQ5Sj4ALiULl26aP369brvvvvUrl07HT16VCUlJZo/f778/f01ZMgQ0xEBoMpx0was980332jhwoVKT09XQUFBuXn2ZeH78vPzdd9990mS3NzcVFBQIHd3d40YMUKRkZEUfABqJAo%2BWC86Olo%2BPj4aPHiwPDw8TMeB5R566CG9%2BeabGjlypB544AGtW7dOzz//vM6cOaNr166ZjgcARrCkC%2BsFBwcrISFB9erVMx0F1UBycrImTpyoDz/8UPv371d0dLTc3d2Vn5%2Bv559/XlOnTjUdEQCqHAUfrPfb3/5WsbGxCgwMNB0F1dDJkyeVlpYmPz8/tW/f3nQcADCCgg9W2rt3b%2Bl/O51OrV27Vv369ZOfn58cDkeZ93bp0qWq4wEAUK1Q8MFKDz/88B29z%2BFw8KgsAABug4IPAADAxfFoNQAAABdHwQcAAODiKPgAAABcHAUfAACAi6PgAwAAcHEUfAAAAC6Ogg8AAMDFUfABAAC4uP8DtcYinpU%2BHvMAAAAASUVORK5CYII%3D\" class=\"center-img\">\n",
              "    <img src=\"data:image/png;base64,iVBORw0KGgoAAAANSUhEUgAAAnwAAAIyCAYAAABRvxdKAAAABHNCSVQICAgIfAhkiAAAAAlwSFlzAAAPYQAAD2EBqD%2BnaQAAADl0RVh0U29mdHdhcmUAbWF0cGxvdGxpYiB2ZXJzaW9uIDMuMC4zLCBodHRwOi8vbWF0cGxvdGxpYi5vcmcvnQurowAAIABJREFUeJzs3XlcVXX%2Bx/E3IGKCoiiIIbiDimiYhAu5YI6KGea4YVq2mSmYpJk1Om415aRpro2VZpsxk02ay5iU/pzKFnNDktwo0VQwuSoost3fH%2BYdr14VORjH6%2Bv5ePBQvuec7/3cbykf32e5Llar1SoAAAA4LdfyLgAAAAA3Fg0fAACAk6PhAwAAcHI0fAAAAE6Ohg8AAMDJ0fABAAA4ORo%2BAAAAJ0fDBwAA4ORo%2BAAAAJwcDR8AAICTq1DeBQAwj507d%2Brjjz/Wtm3bdOjQIZ09e1YeHh7y8/NT8%2BbNFRMTo%2BjoaLm4uJR3qQCA6%2BDCZ%2BkCsFqtevHFF/Xuu%2B9Kkry9vRUcHCwvLy/l5ORo9%2B7dysnJkSR17txZc%2BbMUcWKFcuzZADAdaDhA6D3339fU6dOVaVKlTRlyhT16tVLbm5utu15eXn68MMPNX36dBUXF2vYsGEaM2ZMOVYMALgeXMMHQMuWLZMkPfjgg%2Brdu7ddsydJlSpV0tChQ/X4449Lkt577z3l5eX94XUCAEqHhg%2BADh48KEkKCQm56n5Dhw7Vm2%2B%2BqfXr16tSpUqSpPHjxyskJETTp09Xbm6uXnrpJUVHRyssLExt2rRRfHy89uzZc8U5N2/erPj4eEVFRal58%2BZq06aNhg4dqk8//fSKx1gsFs2aNUu9e/dWeHi4QkND1a5dOw0fPlzffvutw2Oio6MVEhKiTZs2af369YqJiVFYWJh%2B%2BOEHSdLcuXMVEhKi8ePHKz8/X3PnzlW3bt3UokULdezYUdOmTdOZM2ckSXv37tWoUaPUvn17hYWFqVevXlq5cqXD1z179qzeeOMN9e/fX61bt1azZs0UGRmphx9%2BWOvXr3d4zJAhQxQSEqJly5YpNzdXs2bNstUSERGhxx9/XLt27bri%2BgDApWj4AMjHx0eStH379mvud/fdd6tmzZqXbcvNzdXQoUO1bNkyVa9eXRERESoqKtL69evVr18/hw3KrFmzNHToUK1fv15eXl6KjIyUj4%2BPNm/erLFjx2r06NEqKiqyOyYrK0t9%2BvTR66%2B/rgMHDqhZs2Zq06aNKlasqA0bNuihhx7S8uXLr/geDhw4oMTERLm7u6tNmza2xvVizzzzjBYvXqyAgAA1btxYmZmZeu%2B99/Tss89qz549iouLU1pampo0aSJfX1/t2bNHzzzzjDZu3Gg3z9mzZzVo0CDNmDFDqampatiwodq2bStvb299/fXXio%2BP19y5c69Ya35%2BvoYOHaqlS5eqdu3aCg0NVVFRkTZt2qQhQ4bYGnUAuCYrgFves88%2Baw0ODraGhIRYp0%2Bfbj127Nh1H9uqVSvrvffea3fsqVOnrH379rUGBwdb%2B/bta3fcZ599Zg0ODrZGRERYv/32W7tt3333nbVdu3bW4OBg65IlS%2By2vfDCC9bg4GBrt27drMePH7eNFxYWWl988UVrcHCw9c4777Tm5OTYHde5c2drcHCwNTo62rpw4cLL3secOXOswcHB1qioKOt9991nzcrKsm1bv369bX26d%2B9unTt3rrW4uNhqtVqtRUVF1pEjR1qDg4Otjz76qN2cS5YssQYHB1vbtGljTU9Pd7itadOm1oMHD9ptGzx4sDU4ONjaqVMn66BBg6y//fabbVtmZqa1ffv21uDgYOvf/va3y94HADhCwgdAo0ePVu3atWW1WvXWW2%2BpU6dOGjx4sGbPnq2vv/5aZ8%2BeveYcOTk5mjx5svz8/GxjVapU0fjx4yWdf%2BTLzz//bNu2cOFCSdKzzz6ru%2B66y26uiIgIjRs3TpK0dOlSu21%2Bfn7q2bOn4uPjVaNGDdu4m5ubEhMT5erqqtOnT18xrbxw08mVZGZmasqUKXYp5j333CNfX19ZrVZVqFBBI0eOtD2axtXVVQMGDJAk/fjjj3ZzeXp6qlevXho%2BfLjq1atnt%2B2hhx6Sr6%2BvioqKtHnzZoe1ZGVl6dVXX7UlsJLk6%2BurXr16SZJ27NhxxfcBABfjOXwA5O/vr3/961965ZVXtGrVKhUVFen777/X999/r4ULF8rd3V2RkZG677771LNnT1WocPlfHX5%2BfrrzzjsvGw8PD5enp6dyc3O1fft21atXT8eOHVNqaqokqWvXrg5ruueee%2BTi4qJff/1V6enpql%2B/viTZbhxx5LbbblONGjWUlZWlrKwsh/u0adNGrq5X/reur6%2Bv7rjjjsvGAwIClJWVpc6dO1/2HMKAgABJ0smTJ%2B3G%2B/Xrp379%2Bjl8HRcXF9WpU%2Beqtd51112qVavWZeNBQUGSpOzs7Cu%2BDwC4GA0fAEnnG52///3vGjdunNavX6/Nmzdry5Yt%2Bu2331RQUKAvv/xSX375pd544w0tWLDA1nRcEBwc7HBeV1dXBQQEaM%2BePTp06JAk2d3EcSEBdKRChQoqKCjQzz//bGv4pPPXtv3f//2fdu3apczMTJ06dUrW358wdfr0aUnnkzxHHDVQF6tTp47D8QvPHbzQ3DnaVlhYeNm24uJiffXVV9q2bZsyMzNlsVhstaWnp1%2B11sDAQIfjHh4ekqSCgoKrvRUAsKHhA2CnZs2aiouLU1xcnKTzNzl8%2B%2B23WrFihbZt26a9e/dq2LBh%2BvTTT%2BXu7m47ztvb%2B4pzVqlSRdL5Gzsk%2ByTs888/v2ZNF5o4SUpLS9PIkSNtzeP1ulqdkuzeU2m2X%2BzXX3/VyJEjLzvVW1I83BpAWaHhA3BVDRo0UIMGDRQXF6elS5fqb3/7m9LT07VmzRrFxsba9rvaadILCdaFfS6cEnV3d1dKSkqJP6otLy9PTz75pH799VfVq1dPI0aMUNu2bVW9enVbIxYdHa3Dhw9fcY4/8mPhRo0apR9//FE1a9ZUQkKCOnTooJo1a9oauSFDhui77777w%2BoBcOui4QNQYg899JDee%2B89HTx4UHv37rXbduGj1xy5sO1C0letWjVJ509JZmdn292UcDWbNm3Sr7/%2BKhcXFy1atEh169a9bB%2BzPBA6NTVVKSkpkqQZM2aobdu2l%2B1jlloBOD/u0gVucevXr9df//pXLVq0qET7XzgleuE6sgv27dvncP%2BioiJb4nbhmrSLr/e7tHG8mgt3%2BQYFBTls9g4ePKjffvutxPPdSL/88osk2Z73d6nc3NyrPpAaAMoSDR9wi0tJSVFSUpIWLVqkX3/99ar7Hjt2TGlpaZJ02Z2sGRkZ2r1792XH/PDDD7ZPqAgPD5d0/gaR0NBQSdI///lPh6%2BVnp6u2NhY2%2BNbpP8lhOfOnXN4zPz5822/v/SBzX80Ly8vSedPZzu6ueKtt96yJXyObvYAgLJEwwfc4h5%2B%2BGH5%2Bvrq9OnTeuihhxx%2BNJnVatU333yjxx57TAUFBbrjjjvUvn17u32qVKmiCRMm2CVsFotFL7/8sqTzj0O5/fbbbduGDx8uSVq1apXefvtt21220vl0bNSoUUpLS9ORI0ds402aNJEkHT16VMnJybbxs2fP6oUXXlBKSoqtqTxw4ECp16QsBAcHy83NTUVFRfrggw9s44WFhfrHP/6hpKQkde7cWdL/7tYFgBuFa/iAW1z16tW1ePFiJSQk6Oeff9aDDz4oX19fNWjQQJUrV5bFYtGhQ4dsz4q78847NW/evMtu0oiOjlZGRoa6dOmisLAwubu7a8eOHcrJyZGXl5f%2B%2Bte/2u3/pz/9ScOGDdOiRYv00ksv6Z133lGDBg2UnZ2t3bt3q6ioSM2aNdPYsWNtx4SHhysqKkpffvmlEhIS1LJlS3l4eGjXrl2qUKGClixZotWrV2vbtm1655139NNPP%2BnJJ59URETEjV/IS/j7%2B6tv375KSkrSSy%2B9pJUrV6patWravXu3cnNzNW/ePB06dEgbNmzQunXrNGTIEA0aNEg9evT4w2sF4Pxo%2BAAoODhYn376qVavXq0vvvhCaWlp2rlzp/Lz81WpUiXVqlVLbdu2VUxMjDp16uTwTldXV1ctXrxYCxYs0GeffaZff/1Vnp6e6tatmxITE%2B2eo3fBmDFj1K5dO7333nvavn27Nm/eLA8PDzVv3lwxMTEaNGjQZY8mmT17tmbMmKHPP/9cu3btkp%2Bfn7p166bhw4crKChI/v7%2B%2BvHHH7V161bt3bv3D70r91ITJkyQt7e3Vq1apT179qhGjRqKjIzUE088oaZNmyovL0/ffvutNm3apL1799qlnABQllys/A0DwIDx48fr3//%2Bt%2B6//37b6VsAgLlwDR8AAICTo%2BEDAABwcjR8AAAATo6GDwAAoJT%2B%2B9//ql27dkpMTLzqfsXFxZo1a5a6dOmiiIgIPfroo8rIyLBtt1gsGj16tNq1a6eoqCj95S9/KdNP4%2BGmDQAAgFJ444039NFHH8nHx0f%2B/v6aNWvWFfd99913tWTJEr3xxhuqVauWZs2ape%2B//14rVqyQi4uLEhISlJ%2Bfr5deekkFBQV66qmn1Lx5c02YMKFMaiXhAwAAKAUPDw999NFHDj/q8VJJSUkaOnSoGjZsKC8vLyUmJmr//v3asWOHjh8/ruTkZCUmJsrHx0e1atXSiBEjtHz5coef1FMaPIcPAADckjIzM20Plb/A19dXfn5%2BJTr%2BwQcfLNF%2BeXl52rdvn5o1a2Yb8/LyUt26dZWSkqLTp0/Lzc1NISEhtu2hoaE6c%2BaMDhw4YDdeWjR8ZlSOD4o1tfr1pb17pcaNJT6Kyk7GQa7McMTNTapdWzpyRCrnj9Y1nWrVyrsCc3JxkTw9pdxciQueLvf7x1mXjxvwszFpzhzNmzfPbiw%2BPl4JCQll%2BjonT56U1WqVt7e33bi3t7eys7NVrVo1eXl52T0o/sK%2B2dnZZVIDDR9uHtWqnf8Jzk8qlJCr6/mfEa6uNHwoGReX/33R8Dm/AQMGKDo62m7M19f3hr3e1W6buNG3VNDwAQAA83Mt%2B9sO/Pz8Snz61ohq1arJ1dVVFovFbtxisahGjRry8fFRTk6OioqK5ObmZtsmSTVq1CiTGrhpAwAA4Aby8PBQ48aNlZqaahs7deqUDh48qBYtWqhp06ayWq1KS0uzbU9JSVHVqlUdfg55adDwAQAA83N1LfuvG%2BjYsWPq3r277Vl7cXFxeuedd7R//37l5ORoxowZatq0qcLCwuTj46Nu3bpp9uzZOnHihI4ePar58%2Berb9%2B%2BqlChbE7GckoXAACgFMLCwiRJhYWFkqTk5GRJ59O5goICpaenKz8/X5I0cOBAZWVlaciQIcrNzVVkZKTdDSNTp07VpEmT1KVLF7m7u%2Bvee%2B%2B95sOcrwcPXjYj7tJ1LDxc2rpVatVK2ratvKsxFe7SdczdXfL3l44elcroUVZOg3ufHHN1/d9dusXF5V2N%2BZTrXboeHmU/57lzZT%2BnSZHwAQAA87vBp2CdHasHAADg5Ej4AACA%2BZHwGcLqAQAAODkSPgAAYH4kfIbQ8AEAAPOj4TOE1QMAAHByJHwAAMD8SPgMYfUAAACcHAkfAAAwPxI%2BQ2j4AACA%2BdHwGcLqAQAAODkSPgAAYH4kfIawegAAAE6OhA8AAJgfCZ8hNHwAAMD8aPgMYfUAAACcHAkfAAAwPxI%2BQ2j4AACA%2BdHwGcLqAQAAODkSPgAAYH4kfIawegAAAE6OhA8AAJgfCZ8hNHwAAMD8aPgMYfUAAACcHAkfAAAwPxI%2BQ1g9AAAAJ0fCBwAAzI%2BEzxAaPgAAYH40fIawegAAAE6OhA8AAJgfCZ8hrB4AAICTI%2BEDAADmR8JnCA0fAAAwPxo%2BQ1g9AAAAJ0fCBwAAzI%2BEzxBWDwAAwMmR8AEAAPMj4TOEhg8AAJgfDZ8hrB4AAICTI%2BEDAADmR8JnCKsHAADg5Ej4AACA%2BZkw4Tt8%2BLCmTJmiHTt2qHLlyoqJidGYMWPkekmtjzzyiL7//nu7scLCQo0cOVLx8fEaMmSItm7dandc/fr1tXLlyjKrlYYPAACYnwkbvoSEBIWGhio5OVm//fabnnjiCdWsWVMPP/yw3X6LFy%2B2%2B/7UqVOKiYlR165dbWPTpk1Tnz59blit5ls9AAAAk0tJSVFaWprGjh2rKlWqqF69eho6dKiSkpKueezs2bPVtWtXhYSE/AGVnkfCBwAAzO8GJHyZmZnKysqyG/P19ZWfn981j01NTVVAQIC8vb1tY6GhoUpPT1dOTo68vLwcHvfLL7/ok08%2BUXJyst34mjVr9Oabb%2BrIkSNq2bKlpk6dqqCgoFK8K8dI%2BAAAwC0pKSlJffr0sfsqSUInSRaLRVWrVrUbu9D8ZWdnX/G4RYsW6c9//rN8fHxsYw0bNlTjxo31wQcf6PPPP5ePj48ee%2Bwx5efnl%2BJdOUbCBwAAzO8GJHwDBgxQdHS03Zivr2%2BJj7dardf1ehaLRStWrNDatWvtxidPnmz3/dSpUxUZGakffvhBbdu2va7XuBIaPgAAYH43oOHz8/Mr0elbR3x8fGSxWOzGLBaLXFxc7NK7i33%2B%2BeeqX7%2B%2BAgMDrzq3l5eXvL29dezYsVLV5gindAEAAK5T8%2BbNdeTIEZ04ccI2lpKSokaNGsnT09PhMZ9//rnat29vN5aTk6PJkyfbNXcnTpzQiRMnrtkYXg8aPgAAYH6urmX/ZUCzZs0UFhammTNnKicnR/v379eSJUsUFxcnSerevbu2bNlid8zu3btVp04duzEvLy/t2LFDL7zwgiwWi06ePKkpU6YoJCRE4eHhhmq8GA0fAABAKcyZM0eZmZlq3769HnzwQfXu3VuDBg2SJKWnp%2BvMmTN2%2B2dlZalmzZqXzTN//nxZrVZ169ZNnTp1UkFBgRYtWnTZA5yNcLFe7xWHuPFcXMq7AnMKD5e2bpVatZK2bSvvakwl4yB/jB1xd5f8/aWjR6WCgvKuxlyqVSvvCszJ1VXy9JRyc6Xi4vKuxnyqVCnHF%2B/WreznXLeu7Oc0KW7aAAAA5mfCT9q4mbB6AAAATo6EDwAAmB8JnyGsHgAAgJMj4QMAAOZHwmcIDR8AADA/Gj5Drmv1QkJCtGnTphtVCwAAAG4AEj4AAGB%2BJHyG0PABAADzo%2BEz5LpXLysrSw899JBatGihmJgY7dmzx7Zty5Yt6t%2B/v8LDwxUVFaVZs2ap%2BPdHlc%2BdO1fDhw/X3LlzFRERoaioKCUnJ%2Bvjjz9Wx44dFRERoYULF9rmslgsGjt2rKKiohQeHq4nn3zS7oOFr%2Bb48eMaOXKkIiMj1apVKw0dOlQZGRm27YsXL1bnzp3VqlUrPfroozp06JBt24cffqgePXqoZcuW6t69u9asWWPbNmTIEL3yyivq1auXhg0bJkk6fPiwhg8frsjISEVERGjcuHHKycm53mUFAAC4Ya474UtKStL06dPl6%2BurESNG6NVXX9Xrr7%2Bu48eP69FHH9W4cePUr18/7du3T48//rj8/Pz0wAMPSJK2bdumjh076quvvtK0adM0efJkde3aVZ999pnWrl2r559/Xv3791eNGjU0fvx4VahQQatXr5abm5smTZqk5557TosXL75mja%2B99pq8vb21adMmFRUV6eWXX9b06dM1b948JScn64033tCSJUvUoEEDTZ06VWPHjtWHH36oL774Qq%2B88or%2B8Y9/qGXLllq/fr2eeeYZNWzYUCEhIZKk1atXa86cOQoLC5PVatWIESPUqlUrzZo1S2fOnNHTTz%2Bt6dOna9q0aSVaz8zMTGVlZdmN%2BdavLz8%2B9%2BhyTZrY/wobd/fyrsCcKlSw/xX/Q1ji2IV1YX1MiP8ohlz3X4OxsbGqX7%2B%2BJCk6OlrLli2TJK1atUq33367rblr1qyZYmNjtXbtWtuYu7u74uLiJEkdO3bUP//5Tw0bNkweHh6Kjo5WUVGRLYnbsGGD1qxZI29vb0nS2LFj1alTJ2VlZcnX1/eqNZ46dUrVqlVTxYoV5eLiosmTJ9s%2BgHj58uXq2bOnmvzeNCQmJuq7775TcXGxPvroI917771q3bq1JCkmJkaLFy/WunXrbA1fixYt1KJFC0nSzp07tXfvXi1btky33XabbrvtNiUkJOjRRx/V1KlT5VKCz8RNSkrSvHnz7Mbin3pKCU89dc1jb1kffFDeFZiOf3kXYHIOPqscuKrbbivvCoCydd0NX506dWy/9/DwUMHvn0h%2B6NAhNWzY0G7funXrau3atbbv/f3/92OpYsWKkqRatWrZ5pKkc%2BfO2Zq%2B3r17283n5uamI0eOXLPhe%2Byxx/Tkk0/qv//9r6KiotSjRw%2B1bdtWkpSRkaHIyEjbvjVq1FCPHj1s76FNmzaXvYfDhw/bvg8ICLD9PiMjQ0VFRXbzSVJRUZGys7Pl4%2BNz1TolacCAAYqOjrYb8%2B3VS1q69JrH3nKaNDnf7A0aJKWllXc1pnJ0zdbyLsGUKlQ43%2BwdPy4VFpZ3NeZSpUp5V2BOrq7nm72zZ6Xfr0jCRTw9y/HFSfgMue6G70qpVX5%2B/jX3d3XwH8vRWKVKlSRJmzZtUvXq1a%2B3RIWFhemLL77Qf//7X23cuFHx8fHq37%2B/nn32Wbm4uMhqtZb6Pbi5udl%2B7%2BHhocqVK2vbtm3XXeMFfn5%2B8vPzsx9MTy/1fLeEtDTJwJo7o9//3YUrKCxkjS5FM3N1xcWskenQ8BlSZqsXFBSkAwcO2I0dOHBAgYGB1z1XQECAXF1d9dNPP9nGCgoKSnzThsVikbu7u7p06aJp06Zp4cKF%2BvDDDyVJgYGBSr%2BooTpx4oQWL16sgoKC634PQUFBOnPmjN0NITk5OcrOzi7xewUAALjRyqzh69GjhzIyMpSUlKTCwkLt3LlT//73v3X//fdf91xVqlRRTEyMZsyYoaNHjyovL0%2BvvvqqHnnkkSumcxcbOHCg3njjDZ07d04FBQXasWOH6tatK0n685//rNWrV2vHjh3Kz8/X/Pnz9Z///Efu7u6KjY3Vp59%2Bqu3bt6ugoEAff/yx9u7dq549ezp8neDgYIWHh%2BvFF1/UiRMndOrUKU2aNEnjxo277vcMAACuwtW17L9uIWX2bgMCAjRv3jwlJSUpIiJCzzzzjJ566qnLrsMrqYkTJ6pu3brq2bOn7r77bu3bt08LFiwo0Y0Qs2fP1oYNG9SmTRu1a9dOmzdv1owZMyRJXbp0UWJiokaOHKk2bdro559/1syZMyVJPXv21BNPPKFx48YpMjJSH3zwgRYvXqx69epd8bVmzpwpq9WqLl26qGvXrra7ggEAAMzCxVqSyAx/rBI0tbek8HBp61apVSuu4btExkH%2BGDvi7i75%2B0tHj3IN36V48pNjrq7nb0zIzeUaPkfK9WafIUPKfs533y37OU2Kp1MBAADzu8VOwZa1m67hW7t27VWvkYuIiCjRw5kBAABuFTddw9ejRw/bc/MAAMAtgoTPEFYPAADAyd10CR8AALgFkfAZQsMHAADMj4bPEFYPAADAyZHwAQAA8yPhM4TVAwAAcHIkfAAAwPxI%2BAyh4QMAAOZHw2cIqwcAAODkSPgAAID5kfAZwuoBAAA4ORI%2BAABgfiR8htDwAQAA86PhM4TVAwAAcHIkfAAAwPxI%2BAxh9QAAAJwcCR8AADA/Ej5DaPgAAID50fAZwuoBAAA4ORI%2BAABgfiR8hrB6AAAATo6EDwAAmJ8JE77Dhw9rypQp2rFjhypXrqyYmBiNGTNGrpfUOnfuXC1YsEAVKti3XRs2bFDNmjV17tw5vfjii9q4caPOnTunyMhITZkyRdWrVy%2BzWs23egAAAJdydS37L4MSEhJUq1YtJScna8mSJUpOTtbSpUsd7hsbG6uUlBS7r5o1a0qSZs2apdTUVCUlJWndunWyWq167rnnDNd3MRo%2BAACA65SSkqK0tDSNHTtWVapUUb169TR06FAlJSVd1zyFhYX66KOPNGLECNWuXVvVqlXT6NGjtXHjRh07dqzM6uWULgAAML8bcEo3MzNTWVlZdmO%2Bvr7y8/O75rGpqakKCAiQt7e3bSw0NFTp6enKycmRl5eX3f4//fSTBg4cqD179qh27dp67rnnFBUVpYMHD%2Br06dMKDQ217duwYUNVqlRJqampqlWrlsF3eR4NHwAAuCUlJSVp3rx5dmPx8fFKSEi45rEWi0VVq1a1G7vQ/GVnZ9s1fP7%2B/goMDNSYMWPk5%2BenpKQkDR8%2BXCtXrpTFYpGky%2BaqWrWqsrOzS/W%2BHKHhAwAA5ncDEr4BAwYoOjrabszX17fEx1ut1hLt169fP/Xr18/2/dChQ7V69WqtXLlSHTp0uK65SouGDwAAmN8NaPj8/PxKdPrWER8fH1s6d4HFYpGLi4t8fHyueXxAQIAyMzNt%2B1osFnl6etq2nzx5UjVq1ChVbY5w0wYAAMB1at68uY4cOaITJ07YxlJSUtSoUSO7xk2SFixYoM2bN9uN7d%2B/X4GBgQoMDJS3t7dSU1Nt2/bs2aP8/Hw1b968zOql4QMAAOZnsseyNGvWTGFhYZo5c6ZycnK0f/9%2BLVmyRHFxcZKk7t27a8uWLZLOp3dTpkzRgQMHdO7cOS1evFgHDx7U/fffLzc3N/Xv31%2Bvv/66jhw5ouzsbL366qvq2rWr7bEtZYFTugAAAKUwZ84cTZw4Ue3bt5eXl5cGDhyoQYMGSZLS09N15swZSdKYMWMknb92z2KxqFGjRnr77bfl7%2B8vSRo1apRyc3MVGxurwsJCde7cWZMnTy7TWl2sN/oqQVw/F5fyrsCcwsOlrVulVq2kbdvKuxpTyTjIH2NH3N0lf3/p6FGpoKC8qzGXatXKuwJzcnWVPD2l3FypuLi8qzGfKlXK8cVfeqns5yzjhxubGQkfAAAwPxN%2BtNrNhNUDAABwciR8AADA/Ej4DKHhAwAA5kfDZwirBwAA4ORI%2BAAAgPmR8BnC6gEAADg5Ej4AAGB%2BJHyG0PABAADzo%2BEzhNUDAABwciR8AADA/Ej4DGH1AAAAnBwJHwAAMD8SPkNo%2BAAAgPnR8BnC6gEAADg5Ej4AAGB%2BJHyGsHoAAABOjoQPAACYHwmfITR8AADA/Gi0gSnSAAAgAElEQVT4DGH1AAAAnBwJHwAAMD8SPkNYPQAAACdHwgcAAMyPhM8QGj4AAGB%2BNHyGsHoAAABOjoQPAACYHwmfIaweAACAkyPhAwAA5kfCZwgNnwllHLSWdwmm5O4u%2BUs6umarCgrKuxpzCQxyKe8SzCk8XNq6Vf4xraRt28q7GnM5caK8KzAnNzdJVeVZdEoqKirvakyoevm9NA2fIaweAACAkyPhAwAA5kfCZwirBwAA4ORI%2BAAAgPmR8BlCwwcAAMyPhs8QVg8AAMDJkfABAADzI%2BEzhNUDAABwciR8AADA/Ej4DKHhAwAA5kfDZwirBwAA4ORI%2BAAAgPmR8BnC6gEAADg5Ej4AAGB%2BJkz4Dh8%2BrClTpmjHjh2qXLmyYmJiNGbMGLk6qHXZsmV6%2B%2B23lZmZqaCgICUkJOiee%2B6RJI0fP14rV66Um5ubbX8PDw9t2bKlzGql4QMAAOZnwoYvISFBoaGhSk5O1m%2B//aYnnnhCNWvW1MMPP2y337p16zRz5kz94x//UIsWLfTJJ59o9OjRWrt2rQIDAyVJTz75pBISEm5YreZbPQAAAJNLSUlRWlqaxo4dqypVqqhevXoaOnSokpKSLts3Ly9PTz/9tO688065u7urX79%2B8vT01Pbt2/%2Bwekn4AACA%2Bd2AhC8zM1NZWVl2Y76%2BvvLz87vmsampqQoICJC3t7dtLDQ0VOnp6crJyZGXl5dtPDY21u7YU6dOKTc3V7Vq1bKNffPNN/r888/1yy%2B/qGHDhpo8ebKaN29e2rd2GRo%2BAABgfjeg4UtKStK8efPsxuLj40t0atVisahq1ap2Yxeav%2BzsbLuG72JWq1UTJkxQy5Ytddddd0mSAgMD5erqqqeeekqenp6aN2%2BeHnnkEa1bt07Vq1cvzVu7DA0fAAC4JQ0YMEDR0dF2Y76%2BviU%2B3mq1XtfrFRQUaPz48dq3b5/eeecd2/jIkSPt9nvmmWe0atUqJScnq1%2B/ftf1GldCwwcAAMzvBiR8fn5%2BJTp964iPj48sFovdmMVikYuLi3x8fC7bPy8vTyNGjNDZs2f1/vvvXzW5c3NzU%2B3atZWZmVmq2hzhpg0AAIDr1Lx5cx05ckQnTpywjaWkpKhRo0by9PS029dqtSoxMVEVKlTQ22%2B/bdfsWa1WvfTSS0pLS7ON5efn6%2BDBg7Y7eMsCDR8AADA/V9ey/zKgWbNmCgsL08yZM5WTk6P9%2B/dryZIliouLkyR1797d9hy9Tz/9VPv27dNrr70mDw8Pu3lcXFx06NAhTZkyRceOHVNubq5mzJghd3d323P6ygKndAEAgPmZ8Dl8c%2BbM0cSJE9W%2BfXt5eXlp4MCBGjRokCQpPT1dZ86ckSQtX75chw8ftt2kcUFsbKxeeOEFvfjii5o%2Bfbr69OmjnJwctWjRQkuXLlXlypXLrFYX6/VecYgbLiOjvCswJ3d3yd9fOnpUKigo72rMJTDIpbxLMKfwcGnrVqlVK2nbtvKuxlwuOg2Fi7i5SVWrSqdOSUVF5V2N%2BZTRHaOlsnlz2c/Ztm3Zz2lSJHwAAMD8TJjw3UxYPQAAACdHwgcAAMyPhM8QGj4AAGB%2BNHyGsHoAAABOjoQPAACYHwmfIaweAACAkyPhAwAA5kfCZwgNHwAAMD8aPkNYPQAAACdHwgcAAMyPhM8QVg8AAMDJkfABAADzI%2BEzhIYPAACYHw2fIaweAACAkyPhAwAA5kfCZwirBwAA4ORI%2BAAAgPmR8BlCwwcAAMyPhs8QVg8AAMDJkfABAADzI%2BEzhNUDAABwciR8AADA/Ej4DKHhAwAA5kfDZwirBwAA4ORI%2BAAAgPmR8BnC6gEAADg5Ej4AAGB%2BJHyG0PABAADzo%2BEzhNUDAABwciR8AADA/Ej4DGH1AAAAnBwJHwAAMD8SPkNo%2BAAAgPnR8BnC6gEAADg5Ej4AAGB%2BJHyG0PABAADzo%2BEzhNUDAABwciR8AADA/Ej4DGH1AAAAnBwJHwAAMD8SPkNo%2BAAAgPnR8BnC6gEAAJTC4cOHNWzYMEVGRqpz58565ZVXVFxc7HDfd955R926dVOrVq0UFxenXbt22badO3dOf/3rX9WhQwdFRkZq1KhRys7OLtNaafgAAID5ubqW/ZdBCQkJqlWrlpKTk7VkyRIlJydr6dKll%2B33xRdfaO7cufr73/%2Bur7/%2BWp07d9bw4cN15swZSdKsWbOUmpqqpKQkrVu3TlarVc8995zh%2Bi5W6nebkpKiQYMGqXXr1mrXrp0mTZqkAwcOqGnTpjp9%2BrQkKS8vT82bN9crr7xiO2727NmKj4%2BXJK1cuVIxMTEKDw9XdHS0PvjgA0nSli1b1Lx5c7vuNi8vT%2BHh4fryyy%2BvWdvGjRvVq1cvhYeHKyoqyq7jPnHihEaNGqU777xTUVFRevXVV2W1WiVJJ0%2Be1Lhx4xQVFaXw8HANGzZMhw4dkiQdOnRIISEh%2BuCDD3TXXXdp1apVkqQ1a9YoNjZWd9xxh7p06aKkpKTSLikAALhJpKSkKC0tTWPHjlWVKlVUr149DR061GEfkJSUpD59%2Bqhly5aqVKmSHnvsMUnShg0bVFhYqI8%2B%2BkgjRoxQ7dq1Va1aNY0ePVobN27UsWPHyqzeUl/Dl5iYqPvuu0/vvvuujh07poEDB6pRo0by9/fX9u3bdffdd2v79u2qU6eOfvjhB9txP/zwg7p3766MjAw9%2B%2Byzeuutt9S2bVt98803euSRR9SqVSvdeeedqlWrlv7zn/8oLi5OkvTll1/K09NTbdu2vWpdBQUFSkxM1Pz589W2bVv98ssveuyxxxQeHq577rlHEyZMUIUKFfR///d/slgsGjx4sOrUqaP%2B/ftrwoQJysnJ0cqVK1WxYkU9//zzGj16tD766CPb/N99952%2B%2BOILeXp6KiUlRX/5y180d%2B5ctW3bVtu2bdPjjz%2Buxo0bq1WrViVax8zMTGVlZdmNFRf7ytfXr6T/KW4ZFSrY/4qLhIeXdwXm1KSJ/a/4Hze38q7AnC6kPlwvZj434L%2BJo5/Bvr6%2B8vO79s/g1NRUBQQEyNvb2zYWGhqq9PR05eTkyMvLy27fmJgY2/eurq5q2rSpUlJSbEFZaGiobXvDhg1VqVIlpaamqlatWkbeok2pf3R%2B8sknqlixotzc3HT77bcrIiJCu3btUmRkpLZt26a7775bW7Zs0b333qt3331X%2Bfn5kqQdO3ZoypQpqlOnjr755hvbQrVt21Y1atRQamqqmjRpotjYWH366ae2hu%2Bzzz5TTEyM3K7xl9S5c%2BeUl5enypUry8XFRfXq1dNnn30mV1dXZWdna8OGDVq%2BfLm8vLzk5eWlWbNmqUKFCrJYLFq/fr2SkpLk4%2BMjSRo1apR69uypjIwMubi4SJJ69%2B5t%2B4/48ccfq1OnToqKipIktW7dWj169NCKFStK3PAlJSVp3rx5dmMjR8Zr1KiEEh1/K6pZs7wrMKGtW8u7AnP7/ewBUGIX/bCGOVjlUuZzOvoZHB8fr4SEa/8Mtlgsqlq1qt3YhZ4mOzvbruGzWCx2jeGFfbOzs2WxWCTpsrmqVq1aptfxlbrh%2B%2BabbzR//nz9/PPPKiwsVGFhobp3764OHTpo5cqVkqTvv/9eI0aM0HfffaedO3fK1dVV1atXV4MGDSRJy5Yt00cffaTMzExZrVbl5%2BfbGsPevXtr4cKFOnz4sPz8/LRx40a99dZb16zLy8tLI0eO1ODBg9WiRQu1b99effr0Ue3atXXo0CEVFxerTp06tv3Df09GfvzxR1mtVjVs2NC2LSgoSNL5izIvHHP77bfbth88eFCbN29WWFiYbcxqtdoawJIYMGCAoqOj7caKi3119GiJp7hlVKhwvtk7flwqLCzvaszFP6Zk/8C45TRpcr7ZGzRISksr72rMZePG8q7AnFxdzzd7OTnSFS6%2Bv6Vd0pTc7Bz9DPb19S3x8RcuCSuLfa9nrtIoVcO3f/9%2BPfXUU3r22WfVv39/VapUSc8884wKCwvVpk0bTZs2TefOndOPP/6oli1bKjw8XD/88INcXFxsp2T/9a9/adGiRVqwYIEiIiLk5uamjh072l4jKChILVu21OrVqxUaGiofHx%2B7xupq4uPj1a9fPyUnJys5OVlvvvmmli5daksHHd1Bc6HRdORCuifJLmGsVKmS4uLiNHHixBLV5Yifn99l0XFGhlRQUOopnV5hIetzmW3byrsCc0tLY40uVVRU3hWYW3Exa2QyN6L/dvQzuKR8fHxs6dwFFotFLi4utjOFF1SvXt3hvo0bN7bta7FY5Onpadt%2B8uRJ1ahRo1S1OVKqE%2BK7d%2B9WxYoV9eCDD6pSpUqyWq3avXu3JKl27dqqUaOGPv74YzVo0ECVKlVSq1attHXrVm3dutXW8KWkpKh169Zq06aN3NzclJWVpczMTLvX6d27t/7zn/9o7dq16tWrV4nrs1gsqlWrlh544AEtWbJE3bt314oVKxQQECBXV1elp6fb9v3mm2/0xRdfKDAwUJJ04MAB27YLv7%2BQ9F0qKChIP/30k93Y0aNHVcRfEgAAOLXmzZvryJEjOnHihG0sJSVFjRo1smvcLuybmppq%2B76oqMgWigUGBsrb29tu%2B549e5Sfn6/mzZuXWb2lavgCAgKUl5en3bt36%2BTJk3rllVdUsWJF26nZNm3aaOnSpbrzzjslSXfccYd27NihlJQUW8MXEBCgAwcO6OTJkzp8%2BLBeeOEF3X777XZ3pMTExGjfvn3X1fBt27ZNPXr00M6dO2W1WvXbb78pPT1dQUFBqlatmrp06aL58%2BfLYrHo119/1cSJE3Xs2DHVqFFDUVFReu2112SxWHTy5EnNnj1bkZGRql27tsPX6tu3r7Zu3arly5crPz9fu3fvVr9%2B/bRu3brSLCsAALiC4uKy/zKiWbNmCgsL08yZM5WTk6P9%2B/dryZIltnsPunfvri1btkiS4uLi9Mknn2j79u06e/asFi5cqIoVK6pTp05yc3NT//799frrr%2BvIkSPKzs7Wq6%2B%2Bqq5du6pmGV60XqqGLzw8XA888IAGDx6snj17KiAgQM8//7z27NmjxMRERUZGKj093dbweXt7q0aNGqpWrZotOo2Li1PdunXVsWNHDRs2TIMHD9bgwYO1ZMkSvf/%2B%2B5LOX7DYqVMnNWrU6Iopm6PannzySY0ePVotW7bU/fffr5YtW%2BqBBx6QJL300kuqXLmyOnfurAEDBqh79%2B4aMGCAJGn69OmqXLmyevTooZiYGHl5eem111674ms1bNhQM2fO1JtvvqnWrVsrISFBjz76qN2dOAAAwDizNXySNGfOHGVmZqp9%2B/Z68MEH1bt3bw0aNEiSlJ6ebnvOXocOHfT0009r9OjRuuuuu/T1119r0aJFqlSpkqTzN4m2bNlSsbGx6tKlizw9PfXiiy8aL/AiLtYbfZWgQYMHD1ZsbKz69etX3qX8YTIyyrsCc3J3l/z9paNHuYbvUoFBZX/3mlMIDz9/B3OrVlzDd6mLTkPhIm5u529MOHWKa/gcqV693F763Lmyn9PDo%2BznNCvTPtHMarVq2bJlOnz48HVdvwcAAJwPN00bY9qG78KFjK%2B99pot8pSk4cOH66uvvrricdOmTVPv3r3/iBIBAABuCqZt%2BHbu3Olw/PXXX/%2BDKwEAAOWNhM8Y0zZ8AAAAF9DwGcOHBQIAADg5Ej4AAGB6JHzGkPABAAA4ORI%2BAABgeiR8xtDwAQAA06PhM4ZTugAAAE6OhA8AAJgeCZ8xJHwAAABOjoQPAACYHgmfMTR8AADA9Gj4jOGULgAAgJMj4QMAAKZHwmcMCR8AAICTI%2BEDAACmR8JnDA0fAAAwPRo%2BYzilCwAA4ORI%2BAAAgOmR8BlDwgcAAODkSPgAAIDpkfAZQ8MHAABMj4bPGE7pAgAAODkSPgAAYHokfMaQ8AEAADg5Ej4AAGB6JHzG0PABAADTo%2BEzhlO6AAAATo6EDwAAmB4JnzE0fAAAwPRo%2BIzhlC4AAICTI%2BEDAACmR8JnDAkfAACAkyPhAwAApkfCZwwNHwAAMD0aPmM4pQsAAODkSPgAAIDpkfAZQ8IHAADg5Ej4AACA6ZHwGUPDBwAATI%2BGzxhO6QIAAJQxi8Wi0aNHq127doqKitJf/vIX5eXlXXH/zz77TPfdd5/Cw8PVrVs3/fOf/7Rtmzt3rpo2baqwsDC7r%2BPHj5e4HhI%2BAABgejdbwjdx4kTl5%2Bdr1apVKigo0FNPPaUZM2ZowoQJl%2B27c%2BdOjR07Vq%2B%2B%2Bqo6deqkr776SiNHjlSDBg3UunVrSVJsbKxefvnlUtdDwgcAAFCGjh8/ruTkZCUmJsrHx0e1atXSiBEjtHz5chUUFFy2v8Vi0RNPPKF77rlHFSpUUMeOHRUcHKwtW7aUWU0kfAAAwPRuRMKXmZmprKwsuzFfX1/5%2BfkZmnf37t1yc3NTSEiIbSw0NFRnzpzRgQMH7MYlqUOHDurQoYPt%2B8LCQmVlZalWrVq2sZ9%2B%2BkkDBw7Unj17VLt2bT333HOKiooqcU00fAAAwPRuRMOXlJSkefPm2Y3Fx8crISHB0LwWi0VeXl5ycXGxjXl7e0uSsrOzr3n8jBkzVLlyZcXExEiS/P39FRgYqDFjxsjPz09JSUkaPny4Vq5cqQYNGpSoJho%2BAABwSxowYICio6Ptxnx9fUt07IoVKzRu3DiH2xITE2W1Wq%2B7HqvVqhkzZmjVqlV655135OHhIUnq16%2Bf%2BvXrZ9tv6NChWr16tVauXKnRo0eXaG4aPgAAYHo3IuHz8/Mr9enb2NhYxcbGOtz21VdfKScnR0VFRXJzc5N0PvWTpBo1ajg8pri4WM8995x27typZcuWKTAw8KqvHxAQoMzMzBLXy00bAAAAZahp06ayWq1KS0uzjaWkpKhq1aqqX7%2B%2Bw2P%2B9re/ae/evQ6bvQULFmjz5s12Y/v3779mU3gxGj4AAGB6xcVl/3Wj%2BPj4qFu3bpo9e7ZOnDiho0ePav78%2Berbt68qVDh/cvWhhx7SmjVrJEk//PCDVq5cqUWLFqlatWqXzWexWDRlyhQdOHBA586d0%2BLFi3Xw4EHdf//9Ja6JU7oAAMD0brbn8E2dOlWTJk1Sly5d5O7urnvvvVeJiYm27RkZGTp58qQkafny5Tp9%2BrQ6d%2B5sN0dERIQWL16sMWPGSDp/7Z7FYlGjRo309ttvy9/fv8T1uFhLc1UhbqiMjPKuwJzc3SV/f%2BnoUcnBY4xuaYFBLtfe6VYUHi5t3Sq1aiVt21be1ZjLiRPlXYE5ublJVatKp05JRUXlXY35VK9ebi%2B9bl3Zz9mtW9nPaVYkfAAAwPRutoTPbLiGDwAAwMmR8AEAANMj4TOGhg8AAJgeDZ8xnNIFAABwciR8AADA9Ej4jCHhAwAAcHIkfAAAwPRI%2BIyh4QMAAKZHw2cMp3QBAACcHAmfCTn43GRIcv39nydVqvAvvcvwMVmOubmd/3XjRj4m61I%2BPuVdgTld%2BDi%2BTp34OD5HyvHTWPl73xgSPgAAACdHwgcAAEyPhM8YGj4AAGB6NHzGcEoXAADAyZHwAQAA0yPhM4aEDwAAwMmR8AEAANMj4TOGhg8AAJgeDZ8xnNIFAABwciR8AADA9Ej4jKHhAwAApkfDZwyndAEAAJwcCR8AADA9Ej5jSPgAAACcHAkfAAAwPRI%2BY2j4AACA6dHwGcMpXQAAACdHwgcAAEyPhM8YEj4AAAAnR8IHAABMj4TPGBo%2BAABgejR8xnBKFwAAwMmR8AEAANMj4TOGhA8AAMDJkfABAADTI%2BEzhoYPAACYHg2fMZzSBQAAcHIkfAAAwPRI%2BIwh4QMAAHByJHwAAMD0SPiMIeEDAACmV1xc9l83ksVi0ejRo9WuXTtFRUXpL3/5i/Ly8hzu%2B/HHH6tJkyYKCwuz%2B9q5c%2Bfv771Ys2bNUpcuXRQREaFHH31UGRkZ11UPDR8AAEAZmzhxos6ePatVq1Zp%2BfLl2r9/v2bMmHHF/SMiIpSSkmL31aJFC0nS%2B%2B%2B/r08//VSLFi3Shg0bVK9ePY0cOVJWq7XE9dDwAQAA07uZEr7jx48rOTlZiYmJ8vHxUa1atTRixAgtX75cBQUF1z1fUlKShg4dqoYNG8rLy0uJiYnav3%2B/duzYUeI5aPgAAADK0O7du%2BXm5qaQkBDbWGhoqM6cOaMDBw44PObIkSN6%2BOGHFRERoS5dumjFihWSpLy8PO3bt0/NmjWz7evl5aW6desqJSWlxDVx0wYAADC9G5HIZWZmKisry27M19dXfn5%2Bhua1WCzy8vKSi4uLbczb21uSlJ2dfdn%2BPj4%2Bqlevnp5%2B%2Bmk1atRI69ev17hx4%2BTn56cGDRrIarXajr94PkdzXQkNHwAAML0b0fAlJSVp3rx5dmPx8fFKSEi45rErVqzQuHHjHG5LTEy8ruvrOnXqpE6dOtm%2B79mzp9avX6%2BPP/5YY8eOlaTrms8RGj4AAHBLGjBggKKjo%2B3GfH19S3RsbGysYmNjHW776quvlJOTo6KiIrm5uUk6n/pJUo0aNUo0f0BAgHbt2qVq1arJ1dXVdvwFFoulxHNJNHwAAOAmcCMSPj8/P8Onbx1p2rSprFar0tLSFBoaKklKSUlR1apVVb9%2B/cv2X7Zsmby9vRUTE2Mb279/vwIDA%2BXh4aHGjRsrNTVVd911lyTp1KlTOnjwoO0u3pLgpg0AAIAy5OPjo27dumn27Nk6ceKEjh49qvnz56tv376qUOF81vbQQw9pzZo1kqT8/HxNmzZNKSkpKigo0KpVq7Rp0yYNHDhQkhQXF6d33nlH%2B/fvV05OjmbMmKGmTZsqLCysxDWR8AEAANO72T5pY%2BrUqZo0aZK6dOkid3d33XvvvUpMTLRtz8jI0MmTJyVJDz74oHJzc/XUU08pKytLderU0fz589W8eXNJ0sCBA5WVlaUhQ4YoNzdXkZGRl117eC0uVqNXAaLMnT5d3hWYk6ur5Okp5ebefH/wb7QqhSW/U%2BuW4uYmVa0qnTolFRWVdzXm4uNT3hWYU3i4tHWr1KqVtG1beVdjPuXYMjz3XNnP%2BdJLZT%2BnWXFKFwAAwMlxShcAAJgeZ3aMIeEDAABwciR8AADA9Ej4jKHhAwAApkfDZwyndAEAAJwcCR8AADA9Ej5jSPgAAACcHAkfAAAwPRI%2BY2j4AACA6dHwGcMpXQAAACdHwgcAAEyPhM8YGj4AAGB6NHzGcEoXAADAyZHwAQAA0yPhM4aEDwAAwMmR8AEAANMj4TOGhg8AAJgeDZ8xnNIFAABwciR8AADA9Ej4jCHhAwAAcHIkfAAAwPRI%2BIyh4QMAAKZHw2cMp3QBAACcHA1fGZs7d6769%2B9f3mUAAOBUiovL/utWQsN3idTUVH399dflXQYAAECZ4Rq%2BSyxfvlyVK1dWu3btyrsUAADwu1stkStrN2XCFxISos8%2B%2B0xxcXG644471KtXL/3444%2B27Zs3b9aAAQMUHh6uu%2B%2B%2BW/Pnz7dtGz9%2BvBITE23fnzt3TiEhIfr22281bdo0ffDBB1q8eLG6du0qSYqOjtbChQvVpUsXTZo0SZL05Zdfqk%2BfPrb558yZ8we9cwAAbk2c0jXmpk343nzzTb388suqXbu24uPjNWvWLL3xxhs6evSoRowYoUmTJqlXr17at2%2BfHnvsMQUFBalXr15XnXPixInas2ePWrZsqbFjx9rGV69ercWLFysoKEhnzpxRQkKCnn/%2BefXt21d79uzRwIED1bx5c0VHR1/3%2B8jMzFRWVpbdWOXKvvLz87vuuZydq6v9r7iIm1t5V2BO/E9zZeHh5V2BOTVpYv8r4CRu2oYvNjZWDRo0kHQ%2BhXvrrbckSatWrVLjxo3Vu3dvSefTwIEDB2rFihXXbPiu5O6771bdunUlSZUrV9amTZvk6ekpFxcXhYSEKCQkRLt27SpVw5eUlKR58%2BbZjY0cGa9RoxJKVeut4LbbyrsCM6pa3gWYm5dXeVdgPlu3lncF5vbBB%2BVdAS5xqyVyZe2mbfjq1Klj%2B/1tt92mc%2BfOSZIOHjyolJQUhYWF2bZbrVbVr1%2B/1K8VEBBg9/3atWv19ttv6/DhwyouLlZBQYFat25dqrkHDBhwWaNYubKvcnNLXa7TcnU93%2BydPcsf/Et5Fp0q7xLMydX1fLOXk8P/NJfq1Km8KzCnJk3ON3uDBklpaeVdjfnwD4Wb1k3b8Lm4uDgcr1Spkjp27KjXX3%2B9RPMUFRVdcx%2B3i06Xbd68WZMnT9aMGTPUtWtXubu7a9CgQSUr2gE/P7/LTt%2BePs3Ppqu5Fa%2B9uKYS/H98SysuZo0utW1beVdgbmlprJHJ8Pe%2BMU53YUtQUJD27Nkjq9VqG8vKylJ%2Bfr4kqWLFijp79qxt28GDB69r/p07d6p%2B/fqKiYmRu7u7zp07p/3795dN8QAAwCFu2jDG6Rq%2Bnj17ymKxaMGCBcrLy1NGRoYeeeQRLV26VJJUr1497dixQ0ePHtXp06e1ePFiuwTPw8NDhw4d0smTJx3OHxAQoKNHj%2BrIkSM6fvy4Jk%2BeLD8/Px07duwPeX8AAADXy%2BkavurVq2vBggX6/PPPFRERocGDB6tz58565JFHJEl9%2B/ZVaGiounfvrj//%2Bc%2B69957ValSJdvxffr00aZNm/SnP/3J4enebt26qUOHDoqJidGAAQPUqVMnPfnkk0pOTtYrr7zyh71PAABuJSR8xrhYLz73CVM4fbq8KzAnV1fJ01PKzb31/qBeS5XC7PIuwZzc3KSqVaVTp7iG71I%2BPuVdgTmFh5%2B/MaFVK67hc6QcW4bY2LKfc8WKsp/TrG7amzYAAMCtg3/oG0PDBwAATI%2BGzxinu4YPAAAA9kj4AACA6ZHwGUPCBwAA4ORI%2BAAAgOmR8BlDwwcAAEzvZmv4LBaLJk%2BerO%2B%2B%2B06urq7q2LGjJk6caPfs3wsmTJigFf/f3r0HVV3nfxx/HVBEUUlILW5aLpWhooBGri5oy7cAABqeSURBVFpaDaYhahbrtpubNd7yAjZmWa7iYqbrdTRzd1PXpsxblpdMS5M2L7RiqECYm7ArYHLwAqgYh9vvjyZ%2BsXhdkO%2BH4/Mxw0zn8znn8HLmpO/z/nw%2B3%2B9/XSOmrKxMUVFRmjVrll555RVt3ry52o0ikpKSrjsPS7oAAAC1bOrUqbp06ZK2bt2qDz/8UMePH9fcuXMv%2B9z4%2BHilpKRU/iQnJ%2Bvuu%2B9W3759K58zevToKs%2B5kWJPouADAAD1QH2608bp06e1c%2BdOxcbGysvLS61bt9aYMWP04YcfqqSk5JqvX7VqlXx8fPTQQw/VWiYKPgAAgFqUnp4uV1dX3XvvvZVjQUFBKioqUkZGxlVfW1hYqGXLlmnSpElVxhMTEzVw4EB16dJFQ4YMUWpq6g1lYg8fAAAw3s3oyNntduXl5VUZa9mypVq1alWj983Pz1fTpk1ls9kqxzw9PSVJ585d/VaY7733nrp27arAwMDKMX9/f7m4uGjChAny8PDQkiVLNHz4cO3YsUMtWrS4rkwUfAAAwHg3o%2BBbu3atlixZUmVs7NixGjdu3DVfu2nTJr388suXnYuNjVXF/3Df4bKyMr3//vuaN29elfEXX3yxyuNJkyZp69at2rlzp5566qnrem8KPgAAcEuKjo5Wnz59qoy1bNnyul4bFRWlqKioy87t3btXFy5cUFlZWeXJ2vz8fEmSt7f3Fd/zwIEDcjgcCgsLu%2BrvdnV11Z133im73X5dWSUKPgAAUA/cjA5fq1atarx8eznt27dXRUWFjh49qqCgIElSSkqKmjdvrrvuuuuKr9u1a5fCw8PVoMH/l2cVFRV68803NWjQIN13332SJIfDoRMnTsjf3/%2B6M3FoAwAAoBZ5eXkpIiJCCxcu1NmzZ3Xq1Cm99dZbGjJkSGUxN2zYMG3btq3K69LT0%2BXn51dlzGazKTs7W3FxccrNzdXFixc1d%2B5cNWzYUI8%2B%2Buh1Z6LgAwAAxqtPl2WRpBkzZqhZs2Z65JFHNGDAAHXq1EmxsbGV81lZWSooKKjymry8PN1%2B%2B%2B3V3mvmzJlq27atBg8erO7duys9PV2rVq1SkyZNrjuPreJ/2VWIm%2Br8easTmMnFRfLwkC5erH9XXL/ZmpVe/dTXLcvVVWreXCoslMrKrE5jFi8vqxOYqUsX6ZtvpJAQKTnZ6jTmsbBkePDB2n/P/ftr/z1NRYcPAADAyXFoAwAAGI%2BVnZqh4AMAAMaj4KsZlnQBAACcHB0%2BAABgPDp8NUOHDwAAwMnR4QMAAMajw1czFHwAAMB4FHw1w5IuAACAk6PDBwAAjEeHr2bo8AEAADg5OnwAAMB4dPhqhoIPAAAYj4KvZljSBQAAcHJ0%2BAAAgPHo8NUMHT4AAAAnR4cPAAAYjw5fzVDwAQAA41Hw1QxLugAAAE6ODh8AADAeHb6aocMHAADg5OjwAQAA49HhqxkKPgAAYDwKvpphSRcAAMDJ0eEDAADGo8NXM3T4AAAAnBwdPgAAYDw6fDVDwQcAAIxHwVczLOkCAAA4OTp8AADAeHT4aoYOHwAAgJOjwwcAAIxHh69mKPgAAIDxKPhqhiVdAAAAJ0eHDwAAGI8OX83Q4QMAAHBydPgAAIDx6PDVDAUfAAAwHgVfzbCkCwAA4OTo8AEAAOPR4asZOnwAAABOjg4fAAAwHh2%2BmqHDBwAAjFdeXvs/N1tKSooee%2BwxPf3009d87rvvvquIiAiFhIRo6NChSk1NrZwrLi7WH//4R/Xq1UsPPPCAxo8fr3Pnzt1QFgo%2BAACAWrZ582aNGzdObdq0ueZzv/jiCy1evFhz5szRvn371Lt3b40aNUpFRUWSpAULFigtLU1r167Vjh07VFFRoVdfffWG8lDwAQAA49W3Dl9xcbHWrl2r4ODgaz537dq1Gjx4sIKDg%2BXu7q4XXnhBkrR7926VlpZqw4YNGjNmjO68807ddtttiomJUUJCgnJzc687DwUfAABALXvqqafUunXr63puWlqa7r///srHLi4uat%2B%2BvVJSUnTixAmdP39eQUFBlfPt2rWTu7u70tLSrjsPhzYAAIDxbkZHzm63Ky8vr8pYy5Yt1apVq9r/ZVeRn58vT0/PKmOenp46d%2B6c8vPzJUnNmzevMt%2B8efMb2sdHwWegZs2sTmAmu92uFSvWKjo6us7/ZzRfC6sDGMlut2vtqlV8Zi6nosLqBEay2%2B1au3ixordv5zNjmJvxkV28eK2WLFlSZWzs2LEaN27cNV%2B7adMmvfzyy5edmzVrlgYPHnxDWSqu8Qe81vy1UPCh3sjLy9OSJUvUp08f/iLGdeEzgxvFZ%2BbWEh0drT59%2BlQZa9my5XW9NioqSlFRUbWSo0WLFpWdvJ/l5%2BcrMDBQXl5elY89PDwq5wsKCuTt7X3dv4OCDwAA3JJatWplRGHfoUMHpaWladCgQZKksrIyffvttxoyZIj8/f3l6emptLQ0%2Bfr6SpKOHTsmh8OhDh06XPfv4NAGAABAHevbt6%2BSkpIkSUOHDtXHH3%2BsQ4cO6dKlS3r77bfl5uamhx9%2BWK6urnr66ae1bNky/fDDDzp37pzmz5%2Bvxx57TLfffvt1/z46fAAAALUsIiJCJ0%2BeVFlZmcrLy9WxY0dJ0vbt2%2BXr66vMzMzK6%2Bz16tVLEydOVExMjM6cOaOOHTvqr3/9q9zd3SVJ48eP18WLFxUVFaXS0lL17t1b06dPv6E8toqa7gIE6ojdbtfatRzawPXjM4MbxWcGzoqCDwAAwMmxhw8AAMDJUfABAAA4OQo%2BAAAAJ0fBBwAA4OQo%2BAAAAJwcBR8AAICTo%2BADAABwchR8AAAATo6CDwAAwMlR8KFeOXfunNURAACodxpYHQC4losXL2r27NnavHmzSktLlZqaqvz8fE2ePFmzZs2Sl5eX1RFhmEOHDmnTpk3Kzc3V0qVLVV5ers8%2B%2B0x9%2B/a1OhoMER0dLZvNdl3PXbNmzU1OA9x8FHww3owZM2S32/XOO%2B9o%2BPDhkqSGDRuqadOmio%2BP1/z58y1OCJOsW7dOb775ph5//HF99dVXkqS8vDy98cYbstvtevbZZy1OCBP07NnT6ghAnbJVVFRUWB0CuJoHHnhAn376qby8vBQcHKzDhw9LkgoLCxUREaH9%2B/dbnBAmeeyxx/Tmm28qNDRUnTp10pEjRyRJ6enpmjBhgj777DOLE6I%2BmTdvnl566SWrYwA1RocPxrPZbGratGm18bKyMhUXF1uQCCY7ffq0QkJCJKnKkt2vfvUr2e12q2LBcAkJCUpNTZXD4agcy83N1eeff07BB6fAoQ0Yr0uXLpozZ45%2B/PHHyrGcnBy99tpr6tatm4XJYKI2bdooMTGx2vjWrVvl4%2BNjQSKYbvHixYqNjdWePXv0zjvv6ODBg1q3bp2OHj2qmTNnWh0PqBV0%2BGC8qVOnasyYMQoLC1NpaalCQ0NVVFSkLl26aN68eVbHg2FGjBihMWPGqE%2BfPiotLVV8fLy%2B%2B%2B47JScn83nBZW3YsEHr1q1TYGCgOnXqpPfff1/FxcWKi4tTgwb8MwnnwB4%2B1BspKSnKyspSo0aNFBAQoMDAQKsjwVApKSn66KOPdOLECbm7u8vf319PPfWU7r77bqujwUAhISH65ptvJP20opCUlCRXV1edPn1aQ4cO1eeff25xQqDm%2BOoC440aNUrLli1Tx44d1bFjR6vjwHDbtm1Tv379%2BKzgurVt21YbN27UoEGD5OPjo507dyoiIkKlpaU6c%2BaM1fGAWsEePhjv5MmTSk1NtToG6om4uDgVFRVZHQP1yMSJExUfH6%2BLFy9q2LBhmjhxoiIjIxUZGanevXtbHQ%2BoFSzpwnhz587Vtm3b1KlTJ/n4%2BFTbUzNx4kSLksFEH3zwgQ4cOKCBAwfKx8dHrq6uVebvuusui5LBZJcuXVLjxo0lSfv371dKSop8fX0VERHBPj44BQo%2BGO/3v//9FedsNpvefffdOkwD0913333Vxmw2myoqKmSz2ZSenm5BKpgsLi5O06ZNszoGcFNR8AFwKjk5OVed9/X1raMkqC8effRRrVy5Uv7%2B/lZHAW4aCj7UC//617%2B0Y8eOyn/M27Rpo/79%2B/MXNK4oJydHOTk5stlsCggIUOvWra2OBEMtW7ZMn3zyiXr16nXZbSPR0dEWJQNqDwUfjLdt2za9/PLLat%2B%2BvQICAiRJmZmZ%2Bv7777VixQqFhYVZnBAmycnJUUxMjFJSUirHbDabwsPDtXDhQnl6elqYDibq06fPFedsNpt27dpVh2mAm4OCD8br16%2Bfxo4dq379%2BlUZ37hxo9asWaN169ZZlAwmGjVqlBo1aqTx48dXfkE4fvx4ZbE3e/ZsixOiPikvL5eLCxe0QP1HwQfjde7cWQcPHqx22rK0tFTh4eFKSkqyKBlMFBISoq%2B%2B%2BkoeHh5VxgsKCtS/f3/t2bPHomQwVUREhHbs2FFtvLCwUBEREdq/f78FqYDaxVlzGM/Hx0eHDx9WSEhIlfG0tDR5e3tblAqmatKkiUpKSi47V15eXsdpYLL9%2B/dr3759ysnJ0fz586vNZ2dny%2BFwWJAMqH0UfDDes88%2BqxEjRigyMlLt2rWTJGVkZGjLli0aOXKkxelgmu7du%2Bull15STExM5a3UMjIytGjRIvZ7ogpPT08VFRWprKxMycnJ1ebd3d0VHx9vQTKg9rGki3rhiy%2B%2B0Icfflj5jTsgIEBRUVHV9vUBhYWFeu2117Rz587KsYqKCvXo0UNz5syRl5eXhelgovj4eL3%2B%2ButWxwBuKgo%2B1Bs/XzhX%2Bmn/Hle/x9UUFBTo5MmTcjgc8vf3p9DDFR04cOCq8127dq2jJMDNQ8EH4%2BXk5GjSpEkaNmyYIiIiJEkrV67Ujh07NG/ePC6ki2rWr1%2Bv%2B%2B%2B/X0FBQZKkhIQE5ebmcj01XNbl7s4iSQ0aNJC7uzsHw%2BAUaJHAeNOmTVO7du2qfMuOiopSdna2pk%2Bfrr/97W8WpoNpFixYoC1btmjBggWVY40bN9by5ct18uRJxcbGWpgOJjpy5EiVx2VlZfrPf/6jlStXKjIy0qJUQO2iwwfjhYWFaf/%2B/WrYsGGVcYfDoe7du/PtG1X07NlTa9asqdb5PXnypIYOHaovv/zSomSob86fP68hQ4Zc9pItQH3D1SRhvObNmyszM7Pa%2BNGjR9W4cWMLEsFkly5dUosWLaqNe3h4qLCw0IJEqK%2BKiopkt9utjgHUCpZ0Ybzf/e53eu6559S/f3/5%2BfmpvLxcmZmZ2rZtm2JiYqyOB8N0795dU6ZM0ahRo6p8Xt566y317NnT6ngw0EsvvVRt7NKlSzp8%2BDAHNuA0WNJFvbBz505t3LhRWVlZstls8vf315NPPnnVe2Di1nT27Fm9/vrrSkhI0M9/vdlsNj3yyCOaNWuWmjZtanFCmObVV1%2BtNubm5qa2bdtqyJAhatasmQWpgNpFwQfAKeXn5ys7O1suLi7y9fWVp6en1ZEAwDLs4YPxsrKyNH78%2BMrHc%2BbMUWhoqAYPHqzjx49bmAym2rVrl2677TZ16NBBZWVlWrx4sd577z1urYYr%2BuSTTzRixAgNHDhQ0k%2BHwpYvXy56InAWFHww3rRp0yo34ScmJmr9%2BvVatmyZHn/8cb3xxhsWp4Np5s6dq9mzZ0uSTp06pWHDhunixYv65JNP9Oc//9nidDDR0qVLNWfOHHXu3FkZGRmSfrpjy8cff6xFixZZnA6oHSzpwnhhYWHas2eP3N3dNW3aNFVUVGjGjBkqKSlRjx499PXXX1sdEQbp2bOn3n//fQUEBGjp0qVKSkrSihUrdObMGT355JNKSEiwOiIM89BDD%2Bmdd95RYGCggoODdfjwYUk/rS48%2B%2Byz2r17t8UJgZqjwwfjubq6ytXVVZK0Z88e9e7dW9JPt1orKSmxMhoMdOHCBQUEBEiS9u7dq0cffVSS5O3trfz8fCujwVDnz59XYGBgtfFWrVrp7NmzFiQCah%2BXZYHxunbtqri4ODVs2FAOh0M9evSQJP3973%2B/4i2RcOvy9/dXYmKimjRpoiNHjlTecSMlJUXe3t4Wp4OJ7rnnHm3evFkDBgyoMr5ixQq1a9fOolRA7aLgg/Hi4uK0aNEinTt3Tm%2B//bYaNmyogoICffTRR1q4cKHV8WCYiRMnavTo0XI4HBo9erRatWqlgoICjRw5UmPGjLE6Hgw0YcIEvfjii1q9erVKSko0evRoHTt2TAUFBVq6dKnV8YBawR4%2BOI3nn39ey5cvtzoGDFBaWqri4mJ5eHhUjh06dEidO3eufHy5jg5uXadOndLWrVuVlZUld3d3BQQEqH///rrtttusjgbUCgo%2BOI1fbrYGroXPC4BbCUu6AG5JfNfFz44ePaoFCxbo%2BPHj%2BvHHH6vN79mzx4JUQO2i4ANwS7LZbFZHgCEmTZqk1q1ba/jw4WrcuLHVcYCbgoIPAHBLy87O1oYNG9SoUSOrowA3DdfhAwDc0tq3b69Tp05ZHQO4qejwAQBuac8995wmT56sqKgo%2Bfr6ysWlai/k52t/AvUZBR%2BcBpvwcSP4vOBn48aNk/TTpXv%2Bm81mU3p6el1HAmodBR/qjTNnzuiHH35Qhw4dLjs/Z86cOk4EE%2B3bt08PPvjgNQ9l/PrXv66jRDDd0aNHrY4A3HRchw/Gy83N1ZQpU7R37141aNBAqampstvtev7557V06VL5%2B/tbHREG6dKli5o2bar%2B/fsrMjJSQUFBVkcCAMtxaAPGmzFjhry8vLR79%2B7KvTVeXl7q0aOH4uPjLU4H0yQmJmratGk6d%2B6chg8frn79%2Buntt99WVlaW1dEAwDJ0%2BGC80NBQ/eMf/5CHh0eVuyP8%2BOOPeuihh/T1119bnBCmKi0t1T//%2BU99%2Bumn2r59u9q1a6enn35aTzzxhNzc3KyOBwB1hg4fjNe4cePLbrAvKChQWVmZBYlQX%2BTl5SktLU1paWlyOBxq3bq1PvroI/Xt21dpaWlWxwOAOsOhDRgvPDxcU6ZMUWxsrCSpsLBQR48e1dy5c/Xwww9bGw7GKSgo0Pbt27VlyxYlJycrODhY0dHR6tevn5o1ayZJWr16tV555RVt2bLF4rQAUDdY0oXxCgoKNHnyZCUkJEj66TIJNptN/fr109SpU%2BXp6WltQBilQ4cOuvPOOzVgwAANHDjwiod6frk9AACcHQUf6o2zZ88qKytLjRo1kp%2Bfn5o2bWp1JBgoKSlJYWFhl51bvXq1fvvb39ZxIgCwHgUf6oWzZ88qOztbxcXF1ea6du1qQSKY7NixY5X79n6Wm5urlStXKjk52cJkAGAN9vDBeMuWLdPixYsve0CDq%2BDjv33wwQf605/%2BJG9vb50%2BfVqtW7eW3W6Xr6%2BvJkyYYHU8ALAEBR%2BMt2LFCs2cOVOPPPKIGjVqZHUcGG758uVasWKFwsPD1alTJyUkJCgvL08zZ8684l1aAMDZcVkWGK9JkyaVJyzd3Nyq/QC/dObMGYWHh0uSXFxcVFFRoZYtW2rSpEmKi4uzOB0AWIOCD8abMGGCZs%2BerdzcXKujoB7w8fFRYmKiJKlly5ZKSkqSJDVr1kzZ2dlWRgMAy7CkC%2BM1a9ZMO3bs0OrVqy87zx4%2B/NLIkSP1/PPPKzExUU8%2B%2BaRGjx6tsLAwZWRkKDQ01Op4AGAJTunCeD179lTv3r3Vq1evy%2B7h69mzpwWpYLLs7Gz5%2BflJktavX6%2BUlBT5%2Bflp6NChlRdfBoBbCQUfjNetWzft27dPDRrQkMa1jR8/Xt27d1d4eLjatm1rdRwAMILr9OnTp1sdAria4uJinThxQkFBQVZHQT1w7Ngxffnll1q0aJHWrVun7777TpcuXZK3t7eaNGlidTwAsAQdPhhv9OjR%2Buabb9SoUSPdcccdcnGpetZozZo1FiWDyUpKSpSamqqkpCQdPHhQqampatGiBffPBXBLYo0MxgsKCqK7h/9JeXm5fv5OW1ZWJr7fArhV0eED4FTmzZungwcPKjMzU/fee686d%2B6sLl26qEuXLmrevLnV8QDAEhR8qBc%2B%2BOADbdu2TTk5ObLZbAoICNCgQYM0YMAAq6PBMB07dpSfn5%2BeeOIJdevWTcHBwVygG8Atj4IPxlu4cKE2bNigqKgotWnTRpJ0/Phxffzxx4qNjdVvfvMbixPCJMXFxTp06JAOHDigpKQkffvtt7r77rsVFham0NBQ9e7d2%2BqIAFDnKPhgvF69eukvf/mL2rdvX2X8yJEjmjx5sj799FOLkqE%2BcDgc2rhxo1atWqV///vfXKgbwC2JQxsw3oULFxQYGFhtPCgoSHa73YJEMNmFCxd0%2BPBhJScnKzk5WYcPH5aXl5fCw8M1duxYq%2BMBgCW4ly6MFxgYqA0bNlQb37hxY%2BUSL/Czbt26aerUqcrJyVFkZKS2bt2qzz77TDNmzNCuXbusjgcAlmBJF8ZLSkrSCy%2B8IF9fX7Vr106SlJGRoaysLC1evFi9evWyOCFMkpmZqb179yo1NVUlJSWV43a7XceOHdPXX39tYToAsAYFH%2BqF06dPa%2BvWrcrJyZHD4VBAQIAef/xx%2Bfj4WB0NhomLi9Pu3bsVGhqq7du3q3///kpPT5ebm5tee%2B01hYSEWB0RAOocBR8Ap9KjRw9t2LBBd9xxhzp16qQjR46ooqJCc%2BfOlZ%2Bfn4YOHWp1RACocxzagPG%2B//57zZ8/X5mZmXI4HNXm2ZeFXyouLtYdd9whSXJ1dZXD4ZCbm5tGjBihyMhICj4AtyQKPhgvJiZG3t7eio6Olru7u9VxYLh77rlHS5Ys0ciRI3XXXXdp/fr1euaZZ/TDDz%2BoqKjI6ngAYAmWdGG84OBg7d%2B/X02aNLE6CuqBlJQUTZw4UZs2bdK%2BffsUExMjNzc3FRcX65lnntGUKVOsjggAdY6CD8b7wx/%2BoBkzZiggIMDqKKiHMjIylJ6eLl9fX3Xu3NnqOABgCQo%2BGGnPnj2V/22327Vu3ToNHDhQvr6%2BstlsVZ7bo0ePuo4HAEC9QsEHI913333X9TybzcatsgAAuAYKPgAAACfHrdUAAACcHAUfAACAk6PgAwAAcHIUfAAAAE6Ogg8AAMDJUfABAAA4OQo%2BAAAAJ0fBBwAA4OT%2BDxFv%2B2jzyYtCAAAAAElFTkSuQmCC\" class=\"center-img\">\n",
              "</div>\n",
              "    <div class=\"row headerrow highlight\">\n",
              "        <h1>Sample</h1>\n",
              "    </div>\n",
              "    <div class=\"row variablerow\">\n",
              "    <div class=\"col-md-12\" style=\"overflow:scroll; width: 100%%; overflow-y: hidden;\">\n",
              "        <table border=\"1\" class=\"dataframe sample\">\n",
              "  <thead>\n",
              "    <tr style=\"text-align: right;\">\n",
              "      <th></th>\n",
              "      <th>date</th>\n",
              "      <th>home_team</th>\n",
              "      <th>away_team</th>\n",
              "      <th>home_score</th>\n",
              "      <th>away_score</th>\n",
              "      <th>tournament</th>\n",
              "      <th>city</th>\n",
              "      <th>country</th>\n",
              "      <th>neutral</th>\n",
              "    </tr>\n",
              "  </thead>\n",
              "  <tbody>\n",
              "    <tr>\n",
              "      <th>0</th>\n",
              "      <td>1872-11-30</td>\n",
              "      <td>Scotland</td>\n",
              "      <td>England</td>\n",
              "      <td>0</td>\n",
              "      <td>0</td>\n",
              "      <td>Friendly</td>\n",
              "      <td>Glasgow</td>\n",
              "      <td>Scotland</td>\n",
              "      <td>False</td>\n",
              "    </tr>\n",
              "    <tr>\n",
              "      <th>1</th>\n",
              "      <td>1873-03-08</td>\n",
              "      <td>England</td>\n",
              "      <td>Scotland</td>\n",
              "      <td>4</td>\n",
              "      <td>2</td>\n",
              "      <td>Friendly</td>\n",
              "      <td>London</td>\n",
              "      <td>England</td>\n",
              "      <td>False</td>\n",
              "    </tr>\n",
              "    <tr>\n",
              "      <th>2</th>\n",
              "      <td>1874-03-07</td>\n",
              "      <td>Scotland</td>\n",
              "      <td>England</td>\n",
              "      <td>2</td>\n",
              "      <td>1</td>\n",
              "      <td>Friendly</td>\n",
              "      <td>Glasgow</td>\n",
              "      <td>Scotland</td>\n",
              "      <td>False</td>\n",
              "    </tr>\n",
              "    <tr>\n",
              "      <th>3</th>\n",
              "      <td>1875-03-06</td>\n",
              "      <td>England</td>\n",
              "      <td>Scotland</td>\n",
              "      <td>2</td>\n",
              "      <td>2</td>\n",
              "      <td>Friendly</td>\n",
              "      <td>London</td>\n",
              "      <td>England</td>\n",
              "      <td>False</td>\n",
              "    </tr>\n",
              "    <tr>\n",
              "      <th>4</th>\n",
              "      <td>1876-03-04</td>\n",
              "      <td>Scotland</td>\n",
              "      <td>England</td>\n",
              "      <td>3</td>\n",
              "      <td>0</td>\n",
              "      <td>Friendly</td>\n",
              "      <td>Glasgow</td>\n",
              "      <td>Scotland</td>\n",
              "      <td>False</td>\n",
              "    </tr>\n",
              "  </tbody>\n",
              "</table>\n",
              "    </div>\n",
              "</div>\n",
              "</div>"
            ],
            "text/plain": [
              "<pandas_profiling.ProfileReport at 0x7fdb6df57a20>"
            ]
          },
          "metadata": {
            "tags": []
          },
          "execution_count": 11
        }
      ]
    },
    {
      "cell_type": "code",
      "metadata": {
        "id": "8Zm6tIu0Q_Lg",
        "colab_type": "code",
        "outputId": "29d7fa2e-6b24-48a9-9152-2d6e9a57c13f",
        "colab": {
          "base_uri": "https://localhost:8080/",
          "height": 374
        }
      },
      "source": [
        "fifa_ranking.info()"
      ],
      "execution_count": 12,
      "outputs": [
        {
          "output_type": "stream",
          "text": [
            "<class 'pandas.core.frame.DataFrame'>\n",
            "RangeIndex: 57793 entries, 0 to 57792\n",
            "Data columns (total 16 columns):\n",
            "rank                       57793 non-null int64\n",
            "country_full               57793 non-null object\n",
            "country_abrv               57793 non-null object\n",
            "total_points               57793 non-null float64\n",
            "previous_points            57793 non-null int64\n",
            "rank_change                57793 non-null int64\n",
            "cur_year_avg               57793 non-null float64\n",
            "cur_year_avg_weighted      57793 non-null float64\n",
            "last_year_avg              57793 non-null float64\n",
            "last_year_avg_weighted     57793 non-null float64\n",
            "two_year_ago_avg           57793 non-null float64\n",
            "two_year_ago_weighted      57793 non-null float64\n",
            "three_year_ago_avg         57793 non-null float64\n",
            "three_year_ago_weighted    57793 non-null float64\n",
            "confederation              57793 non-null object\n",
            "rank_date                  57793 non-null object\n",
            "dtypes: float64(9), int64(3), object(4)\n",
            "memory usage: 7.1+ MB\n"
          ],
          "name": "stdout"
        }
      ]
    },
    {
      "cell_type": "code",
      "metadata": {
        "id": "xsXKv4W4BqIQ",
        "colab_type": "code",
        "colab": {}
      },
      "source": [
        "# ## Dropping irrelevant columns  -  fifa ranking\n",
        "fifa_ranking.drop(columns=['country_abrv','cur_year_avg',\n",
        "      'cur_year_avg_weighted', 'last_year_avg', 'last_year_avg_weighted',\n",
        "      'two_year_ago_avg', 'two_year_ago_weighted', 'three_year_ago_avg',\n",
        "      'three_year_ago_weighted'], inplace=True)"
      ],
      "execution_count": 0,
      "outputs": []
    },
    {
      "cell_type": "code",
      "metadata": {
        "id": "teKqWeaYgyjq",
        "colab_type": "code",
        "outputId": "d1b9b2c0-51af-43ee-cc10-fcc79d96b63b",
        "colab": {
          "base_uri": "https://localhost:8080/",
          "height": 153
        }
      },
      "source": [
        "fifa_ranking.dtypes"
      ],
      "execution_count": 14,
      "outputs": [
        {
          "output_type": "execute_result",
          "data": {
            "text/plain": [
              "rank                 int64\n",
              "country_full        object\n",
              "total_points       float64\n",
              "previous_points      int64\n",
              "rank_change          int64\n",
              "confederation       object\n",
              "rank_date           object\n",
              "dtype: object"
            ]
          },
          "metadata": {
            "tags": []
          },
          "execution_count": 14
        }
      ]
    },
    {
      "cell_type": "code",
      "metadata": {
        "id": "fNEgX7I7RlfL",
        "colab_type": "code",
        "colab": {}
      },
      "source": [
        "# convert column date into datetime format\n",
        "# import datetime\n",
        "# convert column date into datetime format\n",
        "\n",
        "fifa['date'] = pd.to_datetime(fifa['date'])\n",
        "fifa_ranking['rank_date'] = pd.to_datetime(fifa_ranking['rank_date'])\n",
        "\n",
        "# splitting the datetime column into month and year\n",
        "fifa['year'], fifa['month'] = fifa['date'].dt.year, fifa['date'].dt.month\n",
        "fifa_ranking['year'], fifa_ranking['month'] = fifa_ranking['rank_date'].dt.year, fifa_ranking['rank_date'].dt.month"
      ],
      "execution_count": 0,
      "outputs": []
    },
    {
      "cell_type": "code",
      "metadata": {
        "id": "--YfyMKt_Dd3",
        "colab_type": "code",
        "outputId": "8877cfdc-c5a9-42cc-b243-b7d68825beba",
        "colab": {
          "base_uri": "https://localhost:8080/",
          "height": 102
        }
      },
      "source": [
        "fifa = fifa_main.rename({'rank': 'home_team_rank'}, axis = 1)\n",
        "fifa.columns"
      ],
      "execution_count": 38,
      "outputs": [
        {
          "output_type": "execute_result",
          "data": {
            "text/plain": [
              "Index(['date', 'home_team', 'away_team', 'home_score', 'away_score',\n",
              "       'tournament', 'city', 'country', 'neutral', 'year', 'month',\n",
              "       'home_team_rank', 'total_points', 'previous_points', 'rank_change',\n",
              "       'confederation', 'rank_date'],\n",
              "      dtype='object')"
            ]
          },
          "metadata": {
            "tags": []
          },
          "execution_count": 38
        }
      ]
    },
    {
      "cell_type": "code",
      "metadata": {
        "id": "ZX79PH-rB8Vz",
        "colab_type": "code",
        "colab": {}
      },
      "source": [
        "# fifa = fifa_main.rename({'rank': 'away_team_rank'}, axis = 1)\n",
        "# fifa.columns"
      ],
      "execution_count": 0,
      "outputs": []
    },
    {
      "cell_type": "code",
      "metadata": {
        "id": "c_v3nbLjlUQ2",
        "colab_type": "code",
        "colab": {}
      },
      "source": [
        "# Merge the two datasets\n",
        "# \"pd.merge(df1, df2, on='employee')\"\n",
        "# fifa_main = pd.concat([fifa_ranking, fifa, on=\"\"], axis=1 )\n",
        "# fifa_main\n",
        "# pd.merge(fifa_ranking, fifa, on='employee')\")\n",
        "\n",
        "fifa_main = fifa_ranking\n",
        "fifa_main=fifa_main.rename({'country_full': 'home_team'}, axis=1)\n",
        "fifa_main=pd.merge(fifa, fifa_main, how='left', on=['home_team', 'year', 'month'])"
      ],
      "execution_count": 0,
      "outputs": []
    },
    {
      "cell_type": "code",
      "metadata": {
        "id": "439R7blH_m-C",
        "colab_type": "code",
        "colab": {
          "base_uri": "https://localhost:8080/",
          "height": 153
        },
        "outputId": "7d67344f-82d6-4514-cfd4-6bbfc0c7618a"
      },
      "source": [
        "fifa = fifa_main.rename({'rank': 'away_team_rank'}, axis = 1)\n",
        "fifa.columns"
      ],
      "execution_count": 45,
      "outputs": [
        {
          "output_type": "execute_result",
          "data": {
            "text/plain": [
              "Index(['date', 'home_team', 'away_team', 'home_score', 'away_score',\n",
              "       'tournament', 'city', 'country', 'neutral', 'year', 'month',\n",
              "       'home_team_rank', 'total_points_x', 'previous_points_x',\n",
              "       'rank_change_x', 'confederation_x', 'rank_date_x', 'away_team_rank',\n",
              "       'total_points_y', 'previous_points_y', 'rank_change_y',\n",
              "       'confederation_y', 'rank_date_y', 'away_team_rank', 'total_points',\n",
              "       'previous_points', 'rank_change', 'confederation', 'rank_date'],\n",
              "      dtype='object')"
            ]
          },
          "metadata": {
            "tags": []
          },
          "execution_count": 45
        }
      ]
    },
    {
      "cell_type": "code",
      "metadata": {
        "id": "dfmJFjKOmGHk",
        "colab_type": "code",
        "outputId": "b3508a21-d419-4f65-84ac-94916183c2a2",
        "colab": {
          "base_uri": "https://localhost:8080/",
          "height": 309
        }
      },
      "source": [
        "fifa_main.head()"
      ],
      "execution_count": 20,
      "outputs": [
        {
          "output_type": "execute_result",
          "data": {
            "text/html": [
              "<div>\n",
              "<style scoped>\n",
              "    .dataframe tbody tr th:only-of-type {\n",
              "        vertical-align: middle;\n",
              "    }\n",
              "\n",
              "    .dataframe tbody tr th {\n",
              "        vertical-align: top;\n",
              "    }\n",
              "\n",
              "    .dataframe thead th {\n",
              "        text-align: right;\n",
              "    }\n",
              "</style>\n",
              "<table border=\"1\" class=\"dataframe\">\n",
              "  <thead>\n",
              "    <tr style=\"text-align: right;\">\n",
              "      <th></th>\n",
              "      <th>date</th>\n",
              "      <th>home_team</th>\n",
              "      <th>away_team</th>\n",
              "      <th>home_score</th>\n",
              "      <th>away_score</th>\n",
              "      <th>tournament</th>\n",
              "      <th>city</th>\n",
              "      <th>country</th>\n",
              "      <th>neutral</th>\n",
              "      <th>year</th>\n",
              "      <th>month</th>\n",
              "      <th>rank</th>\n",
              "      <th>total_points</th>\n",
              "      <th>previous_points</th>\n",
              "      <th>rank_change</th>\n",
              "      <th>confederation</th>\n",
              "      <th>rank_date</th>\n",
              "    </tr>\n",
              "  </thead>\n",
              "  <tbody>\n",
              "    <tr>\n",
              "      <th>0</th>\n",
              "      <td>1872-11-30</td>\n",
              "      <td>Scotland</td>\n",
              "      <td>England</td>\n",
              "      <td>0</td>\n",
              "      <td>0</td>\n",
              "      <td>Friendly</td>\n",
              "      <td>Glasgow</td>\n",
              "      <td>Scotland</td>\n",
              "      <td>False</td>\n",
              "      <td>1872</td>\n",
              "      <td>11</td>\n",
              "      <td>NaN</td>\n",
              "      <td>NaN</td>\n",
              "      <td>NaN</td>\n",
              "      <td>NaN</td>\n",
              "      <td>NaN</td>\n",
              "      <td>NaT</td>\n",
              "    </tr>\n",
              "    <tr>\n",
              "      <th>1</th>\n",
              "      <td>1873-03-08</td>\n",
              "      <td>England</td>\n",
              "      <td>Scotland</td>\n",
              "      <td>4</td>\n",
              "      <td>2</td>\n",
              "      <td>Friendly</td>\n",
              "      <td>London</td>\n",
              "      <td>England</td>\n",
              "      <td>False</td>\n",
              "      <td>1873</td>\n",
              "      <td>3</td>\n",
              "      <td>NaN</td>\n",
              "      <td>NaN</td>\n",
              "      <td>NaN</td>\n",
              "      <td>NaN</td>\n",
              "      <td>NaN</td>\n",
              "      <td>NaT</td>\n",
              "    </tr>\n",
              "    <tr>\n",
              "      <th>2</th>\n",
              "      <td>1874-03-07</td>\n",
              "      <td>Scotland</td>\n",
              "      <td>England</td>\n",
              "      <td>2</td>\n",
              "      <td>1</td>\n",
              "      <td>Friendly</td>\n",
              "      <td>Glasgow</td>\n",
              "      <td>Scotland</td>\n",
              "      <td>False</td>\n",
              "      <td>1874</td>\n",
              "      <td>3</td>\n",
              "      <td>NaN</td>\n",
              "      <td>NaN</td>\n",
              "      <td>NaN</td>\n",
              "      <td>NaN</td>\n",
              "      <td>NaN</td>\n",
              "      <td>NaT</td>\n",
              "    </tr>\n",
              "    <tr>\n",
              "      <th>3</th>\n",
              "      <td>1875-03-06</td>\n",
              "      <td>England</td>\n",
              "      <td>Scotland</td>\n",
              "      <td>2</td>\n",
              "      <td>2</td>\n",
              "      <td>Friendly</td>\n",
              "      <td>London</td>\n",
              "      <td>England</td>\n",
              "      <td>False</td>\n",
              "      <td>1875</td>\n",
              "      <td>3</td>\n",
              "      <td>NaN</td>\n",
              "      <td>NaN</td>\n",
              "      <td>NaN</td>\n",
              "      <td>NaN</td>\n",
              "      <td>NaN</td>\n",
              "      <td>NaT</td>\n",
              "    </tr>\n",
              "    <tr>\n",
              "      <th>4</th>\n",
              "      <td>1876-03-04</td>\n",
              "      <td>Scotland</td>\n",
              "      <td>England</td>\n",
              "      <td>3</td>\n",
              "      <td>0</td>\n",
              "      <td>Friendly</td>\n",
              "      <td>Glasgow</td>\n",
              "      <td>Scotland</td>\n",
              "      <td>False</td>\n",
              "      <td>1876</td>\n",
              "      <td>3</td>\n",
              "      <td>NaN</td>\n",
              "      <td>NaN</td>\n",
              "      <td>NaN</td>\n",
              "      <td>NaN</td>\n",
              "      <td>NaN</td>\n",
              "      <td>NaT</td>\n",
              "    </tr>\n",
              "  </tbody>\n",
              "</table>\n",
              "</div>"
            ],
            "text/plain": [
              "        date home_team away_team  ...  rank_change  confederation rank_date\n",
              "0 1872-11-30  Scotland   England  ...          NaN            NaN       NaT\n",
              "1 1873-03-08   England  Scotland  ...          NaN            NaN       NaT\n",
              "2 1874-03-07  Scotland   England  ...          NaN            NaN       NaT\n",
              "3 1875-03-06   England  Scotland  ...          NaN            NaN       NaT\n",
              "4 1876-03-04  Scotland   England  ...          NaN            NaN       NaT\n",
              "\n",
              "[5 rows x 17 columns]"
            ]
          },
          "metadata": {
            "tags": []
          },
          "execution_count": 20
        }
      ]
    },
    {
      "cell_type": "code",
      "metadata": {
        "id": "xMAq-8RFR70P",
        "colab_type": "code",
        "outputId": "6e50afe8-c54b-4db4-f91e-c103c5b5d356",
        "colab": {
          "base_uri": "https://localhost:8080/",
          "height": 34
        }
      },
      "source": [
        "fifa_main.shape"
      ],
      "execution_count": 21,
      "outputs": [
        {
          "output_type": "execute_result",
          "data": {
            "text/plain": [
              "(40908, 17)"
            ]
          },
          "metadata": {
            "tags": []
          },
          "execution_count": 21
        }
      ]
    },
    {
      "cell_type": "code",
      "metadata": {
        "id": "-bGx-Xmd_HBK",
        "colab_type": "code",
        "outputId": "329328f1-f76d-46eb-d500-c8c723ff46e7",
        "colab": {
          "base_uri": "https://localhost:8080/",
          "height": 323
        }
      },
      "source": [
        "# Checking for null values after concatinating\n",
        "fifa_main.isnull().sum()"
      ],
      "execution_count": 22,
      "outputs": [
        {
          "output_type": "execute_result",
          "data": {
            "text/plain": [
              "date                   0\n",
              "home_team              0\n",
              "away_team              0\n",
              "home_score             0\n",
              "away_score             0\n",
              "tournament             0\n",
              "city                   0\n",
              "country                0\n",
              "neutral                0\n",
              "year                   0\n",
              "month                  0\n",
              "rank               22299\n",
              "total_points       22299\n",
              "previous_points    22299\n",
              "rank_change        22299\n",
              "confederation      22299\n",
              "rank_date          22299\n",
              "dtype: int64"
            ]
          },
          "metadata": {
            "tags": []
          },
          "execution_count": 22
        }
      ]
    },
    {
      "cell_type": "code",
      "metadata": {
        "id": "y3I1nIviKqqI",
        "colab_type": "code",
        "colab": {}
      },
      "source": [
        "# Drop all missing values\n",
        "fifa_main=fifa_main.dropna()"
      ],
      "execution_count": 0,
      "outputs": []
    },
    {
      "cell_type": "code",
      "metadata": {
        "id": "xdgx_IDFtBqF",
        "colab_type": "code",
        "outputId": "1ec8e1aa-e66e-49eb-f659-f2a353ac1c43",
        "colab": {
          "base_uri": "https://localhost:8080/",
          "height": 323
        }
      },
      "source": [
        "# Checking if null values are removed\n",
        "fifa_main.isnull().sum()"
      ],
      "execution_count": 24,
      "outputs": [
        {
          "output_type": "execute_result",
          "data": {
            "text/plain": [
              "date               0\n",
              "home_team          0\n",
              "away_team          0\n",
              "home_score         0\n",
              "away_score         0\n",
              "tournament         0\n",
              "city               0\n",
              "country            0\n",
              "neutral            0\n",
              "year               0\n",
              "month              0\n",
              "rank               0\n",
              "total_points       0\n",
              "previous_points    0\n",
              "rank_change        0\n",
              "confederation      0\n",
              "rank_date          0\n",
              "dtype: int64"
            ]
          },
          "metadata": {
            "tags": []
          },
          "execution_count": 24
        }
      ]
    },
    {
      "cell_type": "code",
      "metadata": {
        "id": "Iig0jcjjJFC1",
        "colab_type": "code",
        "colab": {
          "base_uri": "https://localhost:8080/",
          "height": 1000
        },
        "outputId": "78ac36ad-3833-419d-f641-34e17eca2c77"
      },
      "source": [
        "# Convert to neutral column to Binary\n",
        "conv = pd.get_dummies(fifa_main['neutral'], drop_first=True)\n",
        "conv"
      ],
      "execution_count": 25,
      "outputs": [
        {
          "output_type": "execute_result",
          "data": {
            "text/html": [
              "<div>\n",
              "<style scoped>\n",
              "    .dataframe tbody tr th:only-of-type {\n",
              "        vertical-align: middle;\n",
              "    }\n",
              "\n",
              "    .dataframe tbody tr th {\n",
              "        vertical-align: top;\n",
              "    }\n",
              "\n",
              "    .dataframe thead th {\n",
              "        text-align: right;\n",
              "    }\n",
              "</style>\n",
              "<table border=\"1\" class=\"dataframe\">\n",
              "  <thead>\n",
              "    <tr style=\"text-align: right;\">\n",
              "      <th></th>\n",
              "      <th>True</th>\n",
              "    </tr>\n",
              "  </thead>\n",
              "  <tbody>\n",
              "    <tr>\n",
              "      <th>17910</th>\n",
              "      <td>0</td>\n",
              "    </tr>\n",
              "    <tr>\n",
              "      <th>17911</th>\n",
              "      <td>0</td>\n",
              "    </tr>\n",
              "    <tr>\n",
              "      <th>17912</th>\n",
              "      <td>0</td>\n",
              "    </tr>\n",
              "    <tr>\n",
              "      <th>17913</th>\n",
              "      <td>0</td>\n",
              "    </tr>\n",
              "    <tr>\n",
              "      <th>17914</th>\n",
              "      <td>1</td>\n",
              "    </tr>\n",
              "    <tr>\n",
              "      <th>17915</th>\n",
              "      <td>0</td>\n",
              "    </tr>\n",
              "    <tr>\n",
              "      <th>17916</th>\n",
              "      <td>0</td>\n",
              "    </tr>\n",
              "    <tr>\n",
              "      <th>17917</th>\n",
              "      <td>0</td>\n",
              "    </tr>\n",
              "    <tr>\n",
              "      <th>17918</th>\n",
              "      <td>0</td>\n",
              "    </tr>\n",
              "    <tr>\n",
              "      <th>17919</th>\n",
              "      <td>0</td>\n",
              "    </tr>\n",
              "    <tr>\n",
              "      <th>17920</th>\n",
              "      <td>0</td>\n",
              "    </tr>\n",
              "    <tr>\n",
              "      <th>17921</th>\n",
              "      <td>0</td>\n",
              "    </tr>\n",
              "    <tr>\n",
              "      <th>17922</th>\n",
              "      <td>0</td>\n",
              "    </tr>\n",
              "    <tr>\n",
              "      <th>17923</th>\n",
              "      <td>0</td>\n",
              "    </tr>\n",
              "    <tr>\n",
              "      <th>17924</th>\n",
              "      <td>0</td>\n",
              "    </tr>\n",
              "    <tr>\n",
              "      <th>17925</th>\n",
              "      <td>0</td>\n",
              "    </tr>\n",
              "    <tr>\n",
              "      <th>17926</th>\n",
              "      <td>0</td>\n",
              "    </tr>\n",
              "    <tr>\n",
              "      <th>17927</th>\n",
              "      <td>0</td>\n",
              "    </tr>\n",
              "    <tr>\n",
              "      <th>17928</th>\n",
              "      <td>0</td>\n",
              "    </tr>\n",
              "    <tr>\n",
              "      <th>17929</th>\n",
              "      <td>0</td>\n",
              "    </tr>\n",
              "    <tr>\n",
              "      <th>17930</th>\n",
              "      <td>0</td>\n",
              "    </tr>\n",
              "    <tr>\n",
              "      <th>17931</th>\n",
              "      <td>0</td>\n",
              "    </tr>\n",
              "    <tr>\n",
              "      <th>17932</th>\n",
              "      <td>0</td>\n",
              "    </tr>\n",
              "    <tr>\n",
              "      <th>17933</th>\n",
              "      <td>0</td>\n",
              "    </tr>\n",
              "    <tr>\n",
              "      <th>17934</th>\n",
              "      <td>0</td>\n",
              "    </tr>\n",
              "    <tr>\n",
              "      <th>17935</th>\n",
              "      <td>0</td>\n",
              "    </tr>\n",
              "    <tr>\n",
              "      <th>17936</th>\n",
              "      <td>0</td>\n",
              "    </tr>\n",
              "    <tr>\n",
              "      <th>17937</th>\n",
              "      <td>0</td>\n",
              "    </tr>\n",
              "    <tr>\n",
              "      <th>17938</th>\n",
              "      <td>0</td>\n",
              "    </tr>\n",
              "    <tr>\n",
              "      <th>17939</th>\n",
              "      <td>0</td>\n",
              "    </tr>\n",
              "    <tr>\n",
              "      <th>...</th>\n",
              "      <td>...</td>\n",
              "    </tr>\n",
              "    <tr>\n",
              "      <th>39947</th>\n",
              "      <td>0</td>\n",
              "    </tr>\n",
              "    <tr>\n",
              "      <th>39948</th>\n",
              "      <td>1</td>\n",
              "    </tr>\n",
              "    <tr>\n",
              "      <th>39949</th>\n",
              "      <td>1</td>\n",
              "    </tr>\n",
              "    <tr>\n",
              "      <th>39951</th>\n",
              "      <td>1</td>\n",
              "    </tr>\n",
              "    <tr>\n",
              "      <th>39952</th>\n",
              "      <td>1</td>\n",
              "    </tr>\n",
              "    <tr>\n",
              "      <th>39953</th>\n",
              "      <td>1</td>\n",
              "    </tr>\n",
              "    <tr>\n",
              "      <th>39954</th>\n",
              "      <td>1</td>\n",
              "    </tr>\n",
              "    <tr>\n",
              "      <th>39955</th>\n",
              "      <td>1</td>\n",
              "    </tr>\n",
              "    <tr>\n",
              "      <th>39956</th>\n",
              "      <td>1</td>\n",
              "    </tr>\n",
              "    <tr>\n",
              "      <th>39957</th>\n",
              "      <td>1</td>\n",
              "    </tr>\n",
              "    <tr>\n",
              "      <th>39959</th>\n",
              "      <td>1</td>\n",
              "    </tr>\n",
              "    <tr>\n",
              "      <th>39960</th>\n",
              "      <td>1</td>\n",
              "    </tr>\n",
              "    <tr>\n",
              "      <th>39961</th>\n",
              "      <td>1</td>\n",
              "    </tr>\n",
              "    <tr>\n",
              "      <th>39962</th>\n",
              "      <td>1</td>\n",
              "    </tr>\n",
              "    <tr>\n",
              "      <th>39963</th>\n",
              "      <td>0</td>\n",
              "    </tr>\n",
              "    <tr>\n",
              "      <th>39964</th>\n",
              "      <td>1</td>\n",
              "    </tr>\n",
              "    <tr>\n",
              "      <th>39965</th>\n",
              "      <td>1</td>\n",
              "    </tr>\n",
              "    <tr>\n",
              "      <th>39967</th>\n",
              "      <td>1</td>\n",
              "    </tr>\n",
              "    <tr>\n",
              "      <th>39968</th>\n",
              "      <td>1</td>\n",
              "    </tr>\n",
              "    <tr>\n",
              "      <th>39969</th>\n",
              "      <td>1</td>\n",
              "    </tr>\n",
              "    <tr>\n",
              "      <th>39970</th>\n",
              "      <td>1</td>\n",
              "    </tr>\n",
              "    <tr>\n",
              "      <th>39972</th>\n",
              "      <td>1</td>\n",
              "    </tr>\n",
              "    <tr>\n",
              "      <th>39973</th>\n",
              "      <td>1</td>\n",
              "    </tr>\n",
              "    <tr>\n",
              "      <th>39974</th>\n",
              "      <td>1</td>\n",
              "    </tr>\n",
              "    <tr>\n",
              "      <th>39975</th>\n",
              "      <td>1</td>\n",
              "    </tr>\n",
              "    <tr>\n",
              "      <th>39976</th>\n",
              "      <td>1</td>\n",
              "    </tr>\n",
              "    <tr>\n",
              "      <th>39977</th>\n",
              "      <td>1</td>\n",
              "    </tr>\n",
              "    <tr>\n",
              "      <th>39978</th>\n",
              "      <td>1</td>\n",
              "    </tr>\n",
              "    <tr>\n",
              "      <th>39979</th>\n",
              "      <td>1</td>\n",
              "    </tr>\n",
              "    <tr>\n",
              "      <th>39980</th>\n",
              "      <td>1</td>\n",
              "    </tr>\n",
              "  </tbody>\n",
              "</table>\n",
              "<p>18609 rows × 1 columns</p>\n",
              "</div>"
            ],
            "text/plain": [
              "       True\n",
              "17910     0\n",
              "17911     0\n",
              "17912     0\n",
              "17913     0\n",
              "17914     1\n",
              "17915     0\n",
              "17916     0\n",
              "17917     0\n",
              "17918     0\n",
              "17919     0\n",
              "17920     0\n",
              "17921     0\n",
              "17922     0\n",
              "17923     0\n",
              "17924     0\n",
              "17925     0\n",
              "17926     0\n",
              "17927     0\n",
              "17928     0\n",
              "17929     0\n",
              "17930     0\n",
              "17931     0\n",
              "17932     0\n",
              "17933     0\n",
              "17934     0\n",
              "17935     0\n",
              "17936     0\n",
              "17937     0\n",
              "17938     0\n",
              "17939     0\n",
              "...     ...\n",
              "39947     0\n",
              "39948     1\n",
              "39949     1\n",
              "39951     1\n",
              "39952     1\n",
              "39953     1\n",
              "39954     1\n",
              "39955     1\n",
              "39956     1\n",
              "39957     1\n",
              "39959     1\n",
              "39960     1\n",
              "39961     1\n",
              "39962     1\n",
              "39963     0\n",
              "39964     1\n",
              "39965     1\n",
              "39967     1\n",
              "39968     1\n",
              "39969     1\n",
              "39970     1\n",
              "39972     1\n",
              "39973     1\n",
              "39974     1\n",
              "39975     1\n",
              "39976     1\n",
              "39977     1\n",
              "39978     1\n",
              "39979     1\n",
              "39980     1\n",
              "\n",
              "[18609 rows x 1 columns]"
            ]
          },
          "metadata": {
            "tags": []
          },
          "execution_count": 25
        }
      ]
    },
    {
      "cell_type": "code",
      "metadata": {
        "id": "5wm0Mn4WHegi",
        "colab_type": "code",
        "colab": {}
      },
      "source": [
        "fifa_main[\"neutral\"]= conv[True]"
      ],
      "execution_count": 0,
      "outputs": []
    },
    {
      "cell_type": "code",
      "metadata": {
        "id": "943x3ThaIX8t",
        "colab_type": "code",
        "outputId": "178caf44-001a-4575-b4e1-94dfe218707b",
        "colab": {
          "base_uri": "https://localhost:8080/",
          "height": 323
        }
      },
      "source": [
        "# # Checking corelation\n",
        "# sns.heatmap(fifa_main)\n",
        "fifa_main.dtypes"
      ],
      "execution_count": 27,
      "outputs": [
        {
          "output_type": "execute_result",
          "data": {
            "text/plain": [
              "date               datetime64[ns]\n",
              "home_team                  object\n",
              "away_team                  object\n",
              "home_score                  int64\n",
              "away_score                  int64\n",
              "tournament                 object\n",
              "city                       object\n",
              "country                    object\n",
              "neutral                     uint8\n",
              "year                        int64\n",
              "month                       int64\n",
              "rank                      float64\n",
              "total_points              float64\n",
              "previous_points           float64\n",
              "rank_change               float64\n",
              "confederation              object\n",
              "rank_date          datetime64[ns]\n",
              "dtype: object"
            ]
          },
          "metadata": {
            "tags": []
          },
          "execution_count": 27
        }
      ]
    },
    {
      "cell_type": "code",
      "metadata": {
        "id": "lz1BKzHnJ9N4",
        "colab_type": "code",
        "outputId": "3308c5c0-7c40-49b6-d3ed-57e4aaa83f07",
        "colab": {
          "base_uri": "https://localhost:8080/",
          "height": 34
        }
      },
      "source": [
        "fifa_main['home_score'].corr(fifa_main['rank'])"
      ],
      "execution_count": 28,
      "outputs": [
        {
          "output_type": "execute_result",
          "data": {
            "text/plain": [
              "-0.11143973207725796"
            ]
          },
          "metadata": {
            "tags": []
          },
          "execution_count": 28
        }
      ]
    },
    {
      "cell_type": "code",
      "metadata": {
        "id": "rDEAWBaOyFzh",
        "colab_type": "code",
        "outputId": "a12c0fe6-0797-4431-f5b5-93ed1cdfc762",
        "colab": {
          "base_uri": "https://localhost:8080/",
          "height": 34
        }
      },
      "source": [
        "fifa_main.shape"
      ],
      "execution_count": 29,
      "outputs": [
        {
          "output_type": "execute_result",
          "data": {
            "text/plain": [
              "(18609, 17)"
            ]
          },
          "metadata": {
            "tags": []
          },
          "execution_count": 29
        }
      ]
    },
    {
      "cell_type": "code",
      "metadata": {
        "id": "pIEHzhlV3mM4",
        "colab_type": "code",
        "outputId": "f0daaa86-32b8-46c3-fe4d-d0689ebf1d46",
        "colab": {
          "base_uri": "https://localhost:8080/",
          "height": 529
        }
      },
      "source": [
        "sns.countplot(x='confederation', data=fifa_main, hue='neutral')"
      ],
      "execution_count": 30,
      "outputs": [
        {
          "output_type": "execute_result",
          "data": {
            "text/plain": [
              "<matplotlib.axes._subplots.AxesSubplot at 0x7fdb68b593c8>"
            ]
          },
          "metadata": {
            "tags": []
          },
          "execution_count": 30
        },
        {
          "output_type": "display_data",
          "data": {
            "image/png": "[encoded data removed]",
            "text/plain": [
              "<Figure size 800x550 with 1 Axes>"
            ]
          },
          "metadata": {
            "tags": []
          }
        }
      ]
    },
    {
      "cell_type": "code",
      "metadata": {
        "id": "CfuH_1cmh1oH",
        "colab_type": "code",
        "outputId": "0b334a36-cc88-42e4-cf01-68a758329273",
        "colab": {
          "base_uri": "https://localhost:8080/",
          "height": 529
        }
      },
      "source": [
        "# Away score outliers\n",
        "sns.boxplot(x = 'away_score',hue='home_score',data=fifa_main)"
      ],
      "execution_count": 31,
      "outputs": [
        {
          "output_type": "execute_result",
          "data": {
            "text/plain": [
              "<matplotlib.axes._subplots.AxesSubplot at 0x7fdb6c51b208>"
            ]
          },
          "metadata": {
            "tags": []
          },
          "execution_count": 31
        },
        {
          "output_type": "display_data",
          "data": {
            "image/png": "[encoded data removed]",
            "text/plain": [
              "<Figure size 800x550 with 1 Axes>"
            ]
          },
          "metadata": {
            "tags": []
          }
        }
      ]
    },
    {
      "cell_type": "code",
      "metadata": {
        "id": "_4Ue9MSXr7-a",
        "colab_type": "code",
        "outputId": "c0c88bd4-b0aa-4aff-e507-e829b1721ba9",
        "colab": {
          "base_uri": "https://localhost:8080/",
          "height": 529
        }
      },
      "source": [
        "# Home score outliers\n",
        "sns.boxplot(x = 'home_score',hue='away_score',data=fifa_main)"
      ],
      "execution_count": 32,
      "outputs": [
        {
          "output_type": "execute_result",
          "data": {
            "text/plain": [
              "<matplotlib.axes._subplots.AxesSubplot at 0x7fdb68b47c88>"
            ]
          },
          "metadata": {
            "tags": []
          },
          "execution_count": 32
        },
        {
          "output_type": "display_data",
          "data": {
            "image/png": "[encoded data removed]",
            "text/plain": [
              "<Figure size 800x550 with 1 Axes>"
            ]
          },
          "metadata": {
            "tags": []
          }
        }
      ]
    },
    {
      "cell_type": "code",
      "metadata": {
        "id": "sO77ViGymBZp",
        "colab_type": "code",
        "outputId": "78f7c3f2-7ba2-4d64-f4d5-63af7461a5fc",
        "colab": {
          "base_uri": "https://localhost:8080/",
          "height": 529
        }
      },
      "source": [
        "# Distribution plot fo away score\n",
        "# distplot\n",
        "sns.distplot(fifa_main['away_score'])"
      ],
      "execution_count": 33,
      "outputs": [
        {
          "output_type": "execute_result",
          "data": {
            "text/plain": [
              "<matplotlib.axes._subplots.AxesSubplot at 0x7fdb6c560eb8>"
            ]
          },
          "metadata": {
            "tags": []
          },
          "execution_count": 33
        },
        {
          "output_type": "display_data",
          "data": {
            "image/png": "[encoded data removed]",
            "text/plain": [
              "<Figure size 800x550 with 1 Axes>"
            ]
          },
          "metadata": {
            "tags": []
          }
        }
      ]
    },
    {
      "cell_type": "code",
      "metadata": {
        "id": "qBa-VHURmL7V",
        "colab_type": "code",
        "outputId": "6084b0b3-2b78-43af-c9cd-33353838ccc6",
        "colab": {
          "base_uri": "https://localhost:8080/",
          "height": 529
        }
      },
      "source": [
        "sns.distplot(fifa_main['home_score'])"
      ],
      "execution_count": 34,
      "outputs": [
        {
          "output_type": "execute_result",
          "data": {
            "text/plain": [
              "<matplotlib.axes._subplots.AxesSubplot at 0x7fdb68af5d68>"
            ]
          },
          "metadata": {
            "tags": []
          },
          "execution_count": 34
        },
        {
          "output_type": "display_data",
          "data": {
            "image/png": "[encoded data removed]",
            "text/plain": [
              "<Figure size 800x550 with 1 Axes>"
            ]
          },
          "metadata": {
            "tags": []
          }
        }
      ]
    },
    {
      "cell_type": "code",
      "metadata": {
        "id": "xDEZ4vmesa9R",
        "colab_type": "code",
        "outputId": "628a6b10-0fbf-436b-c08d-a44007600166",
        "colab": {
          "base_uri": "https://localhost:8080/",
          "height": 323
        }
      },
      "source": [
        "fifa_main.dtypes"
      ],
      "execution_count": 35,
      "outputs": [
        {
          "output_type": "execute_result",
          "data": {
            "text/plain": [
              "date               datetime64[ns]\n",
              "home_team                  object\n",
              "away_team                  object\n",
              "home_score                  int64\n",
              "away_score                  int64\n",
              "tournament                 object\n",
              "city                       object\n",
              "country                    object\n",
              "neutral                     uint8\n",
              "year                        int64\n",
              "month                       int64\n",
              "rank                      float64\n",
              "total_points              float64\n",
              "previous_points           float64\n",
              "rank_change               float64\n",
              "confederation              object\n",
              "rank_date          datetime64[ns]\n",
              "dtype: object"
            ]
          },
          "metadata": {
            "tags": []
          },
          "execution_count": 35
        }
      ]
    },
    {
      "cell_type": "markdown",
      "metadata": {
        "id": "IdGBJP4n5nEp",
        "colab_type": "text"
      },
      "source": [
        "### Multicollinearity"
      ]
    },
    {
      "cell_type": "code",
      "metadata": {
        "id": "B2F0sIxbBqVT",
        "colab_type": "code",
        "outputId": "f05ce2f9-9287-40b9-e1e9-94d4537c1a7a",
        "colab": {
          "base_uri": "https://localhost:8080/",
          "height": 323
        }
      },
      "source": [
        "fifa_main.dtypes"
      ],
      "execution_count": 36,
      "outputs": [
        {
          "output_type": "execute_result",
          "data": {
            "text/plain": [
              "date               datetime64[ns]\n",
              "home_team                  object\n",
              "away_team                  object\n",
              "home_score                  int64\n",
              "away_score                  int64\n",
              "tournament                 object\n",
              "city                       object\n",
              "country                    object\n",
              "neutral                     uint8\n",
              "year                        int64\n",
              "month                       int64\n",
              "rank                      float64\n",
              "total_points              float64\n",
              "previous_points           float64\n",
              "rank_change               float64\n",
              "confederation              object\n",
              "rank_date          datetime64[ns]\n",
              "dtype: object"
            ]
          },
          "metadata": {
            "tags": []
          },
          "execution_count": 36
        }
      ]
    },
    {
      "cell_type": "code",
      "metadata": {
        "id": "w7gbYiPq5ioe",
        "colab_type": "code",
        "outputId": "4ffa83a0-2b98-4e0a-8a4f-196d02f2f76e",
        "colab": {
          "base_uri": "https://localhost:8080/",
          "height": 142
        }
      },
      "source": [
        "multicollinearity = fifa_main[['home_score', 'home_team_rank', 'away_team','away_team_rank']].corr()\n",
        "multicollinearity.head()"
      ],
      "execution_count": 46,
      "outputs": [
        {
          "output_type": "execute_result",
          "data": {
            "text/html": [
              "<div>\n",
              "<style scoped>\n",
              "    .dataframe tbody tr th:only-of-type {\n",
              "        vertical-align: middle;\n",
              "    }\n",
              "\n",
              "    .dataframe tbody tr th {\n",
              "        vertical-align: top;\n",
              "    }\n",
              "\n",
              "    .dataframe thead th {\n",
              "        text-align: right;\n",
              "    }\n",
              "</style>\n",
              "<table border=\"1\" class=\"dataframe\">\n",
              "  <thead>\n",
              "    <tr style=\"text-align: right;\">\n",
              "      <th></th>\n",
              "      <th>home_score</th>\n",
              "      <th>home_team_rank</th>\n",
              "      <th>away_team_rank</th>\n",
              "    </tr>\n",
              "  </thead>\n",
              "  <tbody>\n",
              "    <tr>\n",
              "      <th>home_score</th>\n",
              "      <td>1.000000</td>\n",
              "      <td>-0.109734</td>\n",
              "      <td>-0.109734</td>\n",
              "    </tr>\n",
              "    <tr>\n",
              "      <th>home_team_rank</th>\n",
              "      <td>-0.109734</td>\n",
              "      <td>1.000000</td>\n",
              "      <td>0.999947</td>\n",
              "    </tr>\n",
              "    <tr>\n",
              "      <th>away_team_rank</th>\n",
              "      <td>-0.109734</td>\n",
              "      <td>0.999947</td>\n",
              "      <td>1.000000</td>\n",
              "    </tr>\n",
              "  </tbody>\n",
              "</table>\n",
              "</div>"
            ],
            "text/plain": [
              "                home_score  home_team_rank  away_team_rank\n",
              "home_score        1.000000       -0.109734       -0.109734\n",
              "home_team_rank   -0.109734        1.000000        0.999947\n",
              "away_team_rank   -0.109734        0.999947        1.000000"
            ]
          },
          "metadata": {
            "tags": []
          },
          "execution_count": 46
        }
      ]
    },
    {
      "cell_type": "code",
      "metadata": {
        "id": "uWwvAbFK6T1W",
        "colab_type": "code",
        "outputId": "bfaf7699-ff2b-4ffb-c3ac-2395f4538c8b",
        "colab": {
          "base_uri": "https://localhost:8080/",
          "height": 142
        }
      },
      "source": [
        "\n",
        "## Creating the VIF \n",
        "multicollinearity_vif = pd.DataFrame(np.linalg.inv(multicollinearity.values), index= multicollinearity.index, columns = multicollinearity.columns)\n",
        "multicollinearity_vif"
      ],
      "execution_count": 47,
      "outputs": [
        {
          "output_type": "execute_result",
          "data": {
            "text/html": [
              "<div>\n",
              "<style scoped>\n",
              "    .dataframe tbody tr th:only-of-type {\n",
              "        vertical-align: middle;\n",
              "    }\n",
              "\n",
              "    .dataframe tbody tr th {\n",
              "        vertical-align: top;\n",
              "    }\n",
              "\n",
              "    .dataframe thead th {\n",
              "        text-align: right;\n",
              "    }\n",
              "</style>\n",
              "<table border=\"1\" class=\"dataframe\">\n",
              "  <thead>\n",
              "    <tr style=\"text-align: right;\">\n",
              "      <th></th>\n",
              "      <th>home_score</th>\n",
              "      <th>home_team_rank</th>\n",
              "      <th>away_team_rank</th>\n",
              "    </tr>\n",
              "  </thead>\n",
              "  <tbody>\n",
              "    <tr>\n",
              "      <th>home_score</th>\n",
              "      <td>1.012189</td>\n",
              "      <td>0.055537</td>\n",
              "      <td>0.055537</td>\n",
              "    </tr>\n",
              "    <tr>\n",
              "      <th>home_team_rank</th>\n",
              "      <td>0.055537</td>\n",
              "      <td>9390.125653</td>\n",
              "      <td>-9389.619545</td>\n",
              "    </tr>\n",
              "    <tr>\n",
              "      <th>away_team_rank</th>\n",
              "      <td>0.055537</td>\n",
              "      <td>-9389.619545</td>\n",
              "      <td>9390.125653</td>\n",
              "    </tr>\n",
              "  </tbody>\n",
              "</table>\n",
              "</div>"
            ],
            "text/plain": [
              "                home_score  home_team_rank  away_team_rank\n",
              "home_score        1.012189        0.055537        0.055537\n",
              "home_team_rank    0.055537     9390.125653    -9389.619545\n",
              "away_team_rank    0.055537    -9389.619545     9390.125653"
            ]
          },
          "metadata": {
            "tags": []
          },
          "execution_count": 47
        }
      ]
    },
    {
      "cell_type": "code",
      "metadata": {
        "id": "0HjefmZu7FHp",
        "colab_type": "code",
        "outputId": "e07576d2-c11e-455c-dc1d-23906ee899ce",
        "colab": {
          "base_uri": "https://localhost:8080/",
          "height": 513
        }
      },
      "source": [
        "# Creating a heatmap for collinear\n",
        "sns.heatmap(multicollinearity, annot=True)"
      ],
      "execution_count": 49,
      "outputs": [
        {
          "output_type": "execute_result",
          "data": {
            "text/plain": [
              "<matplotlib.axes._subplots.AxesSubplot at 0x7fdb688b7a20>"
            ]
          },
          "metadata": {
            "tags": []
          },
          "execution_count": 49
        },
        {
          "output_type": "display_data",
          "data": {
            "image/png": "[encoded data removed]",
            "text/plain": [
              "<Figure size 800x550 with 2 Axes>"
            ]
          },
          "metadata": {
            "tags": []
          }
        }
      ]
    },
    {
      "cell_type": "markdown",
      "metadata": {
        "id": "IAedJtZleq7-",
        "colab_type": "text"
      },
      "source": [
        "## **Polynomial Regression -  Approach 1**"
      ]
    },
    {
      "cell_type": "code",
      "metadata": {
        "id": "q5FDSJYnfJzl",
        "colab_type": "code",
        "colab": {}
      },
      "source": [
        "# Checking if columns have been droped\n",
        "# X.head(5)"
      ],
      "execution_count": 0,
      "outputs": []
    },
    {
      "cell_type": "code",
      "metadata": {
        "id": "j5nz_Kr7sWAJ",
        "colab_type": "code",
        "colab": {}
      },
      "source": [
        "# sns.heatmap(X)\n",
        "fifa_main['home_score'].corr(fifa_main['rank'])"
      ],
      "execution_count": 0,
      "outputs": []
    },
    {
      "cell_type": "code",
      "metadata": {
        "id": "1YNhjK4Vt7oV",
        "colab_type": "code",
        "colab": {}
      },
      "source": [
        "fifa_main['home_score'].corr(fifa_main['total_points'])"
      ],
      "execution_count": 0,
      "outputs": []
    },
    {
      "cell_type": "code",
      "metadata": {
        "id": "2-OGafrKuAr2",
        "colab_type": "code",
        "colab": {}
      },
      "source": [
        "fifa_main['home_score'].corr(fifa_main['previous_points'])"
      ],
      "execution_count": 0,
      "outputs": []
    },
    {
      "cell_type": "code",
      "metadata": {
        "id": "e84yMXmouD-M",
        "colab_type": "code",
        "colab": {}
      },
      "source": [
        "fifa_main['home_score'].corr(fifa_main['rank_change'])"
      ],
      "execution_count": 0,
      "outputs": []
    },
    {
      "cell_type": "code",
      "metadata": {
        "id": "N1o_SQD6Fc5D",
        "colab_type": "code",
        "colab": {}
      },
      "source": [
        "fifa_main.dtypes"
      ],
      "execution_count": 0,
      "outputs": []
    },
    {
      "cell_type": "code",
      "metadata": {
        "id": "hb7g8cTHmeuc",
        "colab_type": "code",
        "colab": {}
      },
      "source": [
        "# Split the dataset\n",
        "# X = wine.drop(['quality'],axis=1)\n",
        "# X = fifa_main.drop(['country_full','country_abrv','confederation','rank_date','date', 'home_team','away_team','tournament','city','country'],axis=1)\n",
        "X = fifa_main['home_team_rank'].values\n",
        "y = fifa_main['home_score'].values\n",
        "\n",
        "X = X.reshape(-1,1)\n",
        "# y = y.reshape(-1,1)"
      ],
      "execution_count": 0,
      "outputs": []
    },
    {
      "cell_type": "code",
      "metadata": {
        "id": "f7vP1yrMqRS8",
        "colab_type": "code",
        "outputId": "bf0a8756-b28d-4704-f536-40ee81d23b65",
        "colab": {
          "base_uri": "https://localhost:8080/",
          "height": 153
        }
      },
      "source": [
        "print(X)\n",
        "print(y)"
      ],
      "execution_count": 51,
      "outputs": [
        {
          "output_type": "stream",
          "text": [
            "[[19.]\n",
            " [70.]\n",
            " [22.]\n",
            " ...\n",
            " [12.]\n",
            " [ 7.]\n",
            " [14.]]\n",
            "[0 0 0 ... 0 4 2]\n"
          ],
          "name": "stdout"
        }
      ]
    },
    {
      "cell_type": "code",
      "metadata": {
        "id": "JosmY8KEtEzr",
        "colab_type": "code",
        "colab": {}
      },
      "source": [
        "# Import train test split\n",
        "from sklearn.model_selection import train_test_split"
      ],
      "execution_count": 0,
      "outputs": []
    },
    {
      "cell_type": "code",
      "metadata": {
        "id": "XDOUthkymQgU",
        "colab_type": "code",
        "colab": {}
      },
      "source": [
        "# Train the dataset\n",
        "X_train, X_test, y_train, y_test = train_test_split(X,y, test_size=0.2, random_state=0)"
      ],
      "execution_count": 0,
      "outputs": []
    },
    {
      "cell_type": "code",
      "metadata": {
        "id": "n7lvh6mqYOpg",
        "colab_type": "code",
        "outputId": "f651ff66-9473-450d-d347-6fa4057a2887",
        "colab": {
          "base_uri": "https://localhost:8080/",
          "height": 34
        }
      },
      "source": [
        "X.shape"
      ],
      "execution_count": 54,
      "outputs": [
        {
          "output_type": "execute_result",
          "data": {
            "text/plain": [
              "(19023, 1)"
            ]
          },
          "metadata": {
            "tags": []
          },
          "execution_count": 54
        }
      ]
    },
    {
      "cell_type": "code",
      "metadata": {
        "id": "0UgWb4kPYQy0",
        "colab_type": "code",
        "outputId": "02cd397c-8840-49b1-dcef-87d027c86aa4",
        "colab": {
          "base_uri": "https://localhost:8080/",
          "height": 34
        }
      },
      "source": [
        "y.shape"
      ],
      "execution_count": 55,
      "outputs": [
        {
          "output_type": "execute_result",
          "data": {
            "text/plain": [
              "(19023,)"
            ]
          },
          "metadata": {
            "tags": []
          },
          "execution_count": 55
        }
      ]
    },
    {
      "cell_type": "code",
      "metadata": {
        "id": "c-kj3rIr0JCf",
        "colab_type": "code",
        "outputId": "6b0d0c7f-301f-4e40-e560-e95ad7ce6789",
        "colab": {
          "base_uri": "https://localhost:8080/",
          "height": 34
        }
      },
      "source": [
        "# Fit polynormial regression to dataset\n",
        "poly_reg = PolynomialFeatures(degree=3)\n",
        "X_poly = poly_reg.fit_transform(X)\n",
        "\n",
        "pol_li = LinearRegression()\n",
        "pol_li.fit(X_poly,y)\n"
      ],
      "execution_count": 56,
      "outputs": [
        {
          "output_type": "execute_result",
          "data": {
            "text/plain": [
              "LinearRegression(copy_X=True, fit_intercept=True, n_jobs=None, normalize=False)"
            ]
          },
          "metadata": {
            "tags": []
          },
          "execution_count": 56
        }
      ]
    },
    {
      "cell_type": "code",
      "metadata": {
        "id": "Enah9zIbt11O",
        "colab_type": "code",
        "outputId": "f9f60bd1-3d95-4943-ad4c-f4a7d6f9e6cf",
        "colab": {
          "base_uri": "https://localhost:8080/",
          "height": 34
        }
      },
      "source": [
        "# Fit a Linear Regression\n",
        "fifa_reg = LinearRegression()\n",
        "fifa_reg.fit(X_poly,y)"
      ],
      "execution_count": 57,
      "outputs": [
        {
          "output_type": "execute_result",
          "data": {
            "text/plain": [
              "LinearRegression(copy_X=True, fit_intercept=True, n_jobs=None, normalize=False)"
            ]
          },
          "metadata": {
            "tags": []
          },
          "execution_count": 57
        }
      ]
    },
    {
      "cell_type": "code",
      "metadata": {
        "id": "j9GsmENo3Dd5",
        "colab_type": "code",
        "colab": {}
      },
      "source": [
        "  # Plotting LogisticRegression\n",
        "\n",
        "plt.scatter(X,y,color=\"brown\")\n",
        "plt.plot(X, pol_li.predict(X), color=\"red\")\n",
        "plt.title(\"Home scores And  Rank\", color=\"brown\")\n",
        "plt.xlabel(\"Ranking\",color=\"brown\")\n",
        "plt.ylabel(\"Home Score\",color=\"brown\")"
      ],
      "execution_count": 0,
      "outputs": []
    },
    {
      "cell_type": "code",
      "metadata": {
        "id": "vYFxnCljJ0XF",
        "colab_type": "code",
        "colab": {}
      },
      "source": [
        "# Carrying out the prediction\n",
        "# Predict using Polynomial Regression\n",
        "\n",
        "X_predict = fifa_reg.predict(X_poly)\n"
      ],
      "execution_count": 0,
      "outputs": []
    },
    {
      "cell_type": "code",
      "metadata": {
        "id": "KaYi9z00e4Zd",
        "colab_type": "code",
        "outputId": "5145be56-007f-4af4-8345-60dee70e51f1",
        "colab": {
          "base_uri": "https://localhost:8080/",
          "height": 545
        }
      },
      "source": [
        "plt.scatter(X,y,color=\"blue\")\n",
        "plt.plot(X,X_predict,color=\"red\")\n",
        "plt.title(\"Home scores And  Rank\", color=\"red\")\n",
        "plt.xlabel(\"Ranking\",color=\"red\")\n",
        "plt.ylabel(\"Home Score\",color=\"red\")"
      ],
      "execution_count": 60,
      "outputs": [
        {
          "output_type": "execute_result",
          "data": {
            "text/plain": [
              "Text(0, 0.5, 'Home Score')"
            ]
          },
          "metadata": {
            "tags": []
          },
          "execution_count": 60
        },
        {
          "output_type": "display_data",
          "data": {
            "image/png": "[encoded data removed]",
            "text/plain": [
              "<Figure size 800x550 with 1 Axes>"
            ]
          },
          "metadata": {
            "tags": []
          }
        }
      ]
    },
    {
      "cell_type": "code",
      "metadata": {
        "id": "giAvQFCOixwc",
        "colab_type": "code",
        "outputId": "d9e49c4c-a96b-4f94-d96c-014cda638c09",
        "colab": {
          "base_uri": "https://localhost:8080/",
          "height": 34
        }
      },
      "source": [
        "# Checking the number of unique values\n",
        "fifa_main['rank'].nunique()"
      ],
      "execution_count": 61,
      "outputs": [
        {
          "output_type": "execute_result",
          "data": {
            "text/plain": [
              "209"
            ]
          },
          "metadata": {
            "tags": []
          },
          "execution_count": 61
        }
      ]
    },
    {
      "cell_type": "code",
      "metadata": {
        "id": "Le3b3UZENXZj",
        "colab_type": "code",
        "outputId": "30168867-8a4f-4844-9565-127dbc40c535",
        "colab": {
          "base_uri": "https://localhost:8080/",
          "height": 34
        }
      },
      "source": [
        "print(\"prediction for linear Regression is\",y)"
      ],
      "execution_count": 62,
      "outputs": [
        {
          "output_type": "stream",
          "text": [
            "prediction for linear Regression is [0 0 0 ... 0 4 2]\n"
          ],
          "name": "stdout"
        }
      ]
    },
    {
      "cell_type": "code",
      "metadata": {
        "id": "pj88T9MslmIb",
        "colab_type": "code",
        "outputId": "b83a49b8-71c8-494c-880b-03d5fce42239",
        "colab": {
          "base_uri": "https://localhost:8080/",
          "height": 34
        }
      },
      "source": [
        "# Polynomial Regression Predition\n",
        "print(\"prediction for Polynomial Regression is\", X_predict)"
      ],
      "execution_count": 63,
      "outputs": [
        {
          "output_type": "stream",
          "text": [
            "prediction for Polynomial Regression is [1.85607378 1.55454192 1.82436791 ... 1.93880979 2.00584745 1.9138814 ]\n"
          ],
          "name": "stdout"
        }
      ]
    },
    {
      "cell_type": "code",
      "metadata": {
        "id": "ZVVSB2UAo_8f",
        "colab_type": "code",
        "outputId": "cae3a16d-4750-4b0a-9e77-91f226814834",
        "colab": {
          "base_uri": "https://localhost:8080/",
          "height": 51
        }
      },
      "source": [
        "# Viewing the predicted\n",
        "X_predict"
      ],
      "execution_count": 64,
      "outputs": [
        {
          "output_type": "execute_result",
          "data": {
            "text/plain": [
              "array([1.85607378, 1.55454192, 1.82436791, ..., 1.93880979, 2.00584745,\n",
              "       1.9138814 ])"
            ]
          },
          "metadata": {
            "tags": []
          },
          "execution_count": 64
        }
      ]
    },
    {
      "cell_type": "code",
      "metadata": {
        "id": "evJyDV-bqSFs",
        "colab_type": "code",
        "outputId": "a098fd18-9eed-4e69-d12e-a498dda27614",
        "colab": {
          "base_uri": "https://localhost:8080/",
          "height": 317
        }
      },
      "source": [
        "fifa_main.describe()"
      ],
      "execution_count": 65,
      "outputs": [
        {
          "output_type": "execute_result",
          "data": {
            "text/html": [
              "<div>\n",
              "<style scoped>\n",
              "    .dataframe tbody tr th:only-of-type {\n",
              "        vertical-align: middle;\n",
              "    }\n",
              "\n",
              "    .dataframe tbody tr th {\n",
              "        vertical-align: top;\n",
              "    }\n",
              "\n",
              "    .dataframe thead th {\n",
              "        text-align: right;\n",
              "    }\n",
              "</style>\n",
              "<table border=\"1\" class=\"dataframe\">\n",
              "  <thead>\n",
              "    <tr style=\"text-align: right;\">\n",
              "      <th></th>\n",
              "      <th>home_score</th>\n",
              "      <th>away_score</th>\n",
              "      <th>neutral</th>\n",
              "      <th>year</th>\n",
              "      <th>month</th>\n",
              "      <th>home_team_rank</th>\n",
              "      <th>total_points_x</th>\n",
              "      <th>previous_points_x</th>\n",
              "      <th>rank_change_x</th>\n",
              "      <th>away_team_rank</th>\n",
              "      <th>total_points_y</th>\n",
              "      <th>previous_points_y</th>\n",
              "      <th>rank_change_y</th>\n",
              "      <th>rank</th>\n",
              "      <th>total_points</th>\n",
              "      <th>previous_points</th>\n",
              "      <th>rank_change</th>\n",
              "    </tr>\n",
              "  </thead>\n",
              "  <tbody>\n",
              "    <tr>\n",
              "      <th>count</th>\n",
              "      <td>19023.000000</td>\n",
              "      <td>19023.000000</td>\n",
              "      <td>19023.000000</td>\n",
              "      <td>19023.000000</td>\n",
              "      <td>19023.000000</td>\n",
              "      <td>19023.000000</td>\n",
              "      <td>19023.000000</td>\n",
              "      <td>19023.000000</td>\n",
              "      <td>19023.000000</td>\n",
              "      <td>19023.000000</td>\n",
              "      <td>19023.000000</td>\n",
              "      <td>19023.000000</td>\n",
              "      <td>19023.000000</td>\n",
              "      <td>19023.000000</td>\n",
              "      <td>19023.000000</td>\n",
              "      <td>19023.000000</td>\n",
              "      <td>19023.000000</td>\n",
              "    </tr>\n",
              "    <tr>\n",
              "      <th>mean</th>\n",
              "      <td>1.613363</td>\n",
              "      <td>1.075488</td>\n",
              "      <td>0.244494</td>\n",
              "      <td>2006.558219</td>\n",
              "      <td>6.830048</td>\n",
              "      <td>77.772539</td>\n",
              "      <td>160.827087</td>\n",
              "      <td>428.325974</td>\n",
              "      <td>0.967250</td>\n",
              "      <td>77.772539</td>\n",
              "      <td>160.827087</td>\n",
              "      <td>428.325974</td>\n",
              "      <td>0.967250</td>\n",
              "      <td>77.772539</td>\n",
              "      <td>160.827087</td>\n",
              "      <td>428.325974</td>\n",
              "      <td>0.967250</td>\n",
              "    </tr>\n",
              "    <tr>\n",
              "      <th>std</th>\n",
              "      <td>1.652704</td>\n",
              "      <td>1.256496</td>\n",
              "      <td>0.429798</td>\n",
              "      <td>6.771676</td>\n",
              "      <td>3.297928</td>\n",
              "      <td>51.149300</td>\n",
              "      <td>306.493439</td>\n",
              "      <td>316.893010</td>\n",
              "      <td>6.897253</td>\n",
              "      <td>51.149300</td>\n",
              "      <td>306.493439</td>\n",
              "      <td>316.893010</td>\n",
              "      <td>6.897253</td>\n",
              "      <td>51.149300</td>\n",
              "      <td>306.493439</td>\n",
              "      <td>316.893010</td>\n",
              "      <td>6.897253</td>\n",
              "    </tr>\n",
              "    <tr>\n",
              "      <th>min</th>\n",
              "      <td>0.000000</td>\n",
              "      <td>0.000000</td>\n",
              "      <td>0.000000</td>\n",
              "      <td>1993.000000</td>\n",
              "      <td>1.000000</td>\n",
              "      <td>1.000000</td>\n",
              "      <td>0.000000</td>\n",
              "      <td>0.000000</td>\n",
              "      <td>-62.000000</td>\n",
              "      <td>1.000000</td>\n",
              "      <td>0.000000</td>\n",
              "      <td>0.000000</td>\n",
              "      <td>-62.000000</td>\n",
              "      <td>1.000000</td>\n",
              "      <td>0.000000</td>\n",
              "      <td>0.000000</td>\n",
              "      <td>-62.000000</td>\n",
              "    </tr>\n",
              "    <tr>\n",
              "      <th>25%</th>\n",
              "      <td>0.000000</td>\n",
              "      <td>0.000000</td>\n",
              "      <td>0.000000</td>\n",
              "      <td>2001.000000</td>\n",
              "      <td>4.000000</td>\n",
              "      <td>34.000000</td>\n",
              "      <td>0.000000</td>\n",
              "      <td>172.000000</td>\n",
              "      <td>-2.000000</td>\n",
              "      <td>34.000000</td>\n",
              "      <td>0.000000</td>\n",
              "      <td>172.000000</td>\n",
              "      <td>-2.000000</td>\n",
              "      <td>34.000000</td>\n",
              "      <td>0.000000</td>\n",
              "      <td>172.000000</td>\n",
              "      <td>-2.000000</td>\n",
              "    </tr>\n",
              "    <tr>\n",
              "      <th>50%</th>\n",
              "      <td>1.000000</td>\n",
              "      <td>1.000000</td>\n",
              "      <td>0.000000</td>\n",
              "      <td>2007.000000</td>\n",
              "      <td>7.000000</td>\n",
              "      <td>73.000000</td>\n",
              "      <td>0.000000</td>\n",
              "      <td>406.000000</td>\n",
              "      <td>0.000000</td>\n",
              "      <td>73.000000</td>\n",
              "      <td>0.000000</td>\n",
              "      <td>406.000000</td>\n",
              "      <td>0.000000</td>\n",
              "      <td>73.000000</td>\n",
              "      <td>0.000000</td>\n",
              "      <td>406.000000</td>\n",
              "      <td>0.000000</td>\n",
              "    </tr>\n",
              "    <tr>\n",
              "      <th>75%</th>\n",
              "      <td>2.000000</td>\n",
              "      <td>2.000000</td>\n",
              "      <td>0.000000</td>\n",
              "      <td>2012.000000</td>\n",
              "      <td>10.000000</td>\n",
              "      <td>114.000000</td>\n",
              "      <td>223.860000</td>\n",
              "      <td>612.000000</td>\n",
              "      <td>3.000000</td>\n",
              "      <td>114.000000</td>\n",
              "      <td>223.860000</td>\n",
              "      <td>612.000000</td>\n",
              "      <td>3.000000</td>\n",
              "      <td>114.000000</td>\n",
              "      <td>223.860000</td>\n",
              "      <td>612.000000</td>\n",
              "      <td>3.000000</td>\n",
              "    </tr>\n",
              "    <tr>\n",
              "      <th>max</th>\n",
              "      <td>31.000000</td>\n",
              "      <td>21.000000</td>\n",
              "      <td>1.000000</td>\n",
              "      <td>2018.000000</td>\n",
              "      <td>12.000000</td>\n",
              "      <td>209.000000</td>\n",
              "      <td>1775.030000</td>\n",
              "      <td>1887.000000</td>\n",
              "      <td>73.000000</td>\n",
              "      <td>209.000000</td>\n",
              "      <td>1775.030000</td>\n",
              "      <td>1887.000000</td>\n",
              "      <td>73.000000</td>\n",
              "      <td>209.000000</td>\n",
              "      <td>1775.030000</td>\n",
              "      <td>1887.000000</td>\n",
              "      <td>73.000000</td>\n",
              "    </tr>\n",
              "  </tbody>\n",
              "</table>\n",
              "</div>"
            ],
            "text/plain": [
              "         home_score    away_score  ...  previous_points   rank_change\n",
              "count  19023.000000  19023.000000  ...     19023.000000  19023.000000\n",
              "mean       1.613363      1.075488  ...       428.325974      0.967250\n",
              "std        1.652704      1.256496  ...       316.893010      6.897253\n",
              "min        0.000000      0.000000  ...         0.000000    -62.000000\n",
              "25%        0.000000      0.000000  ...       172.000000     -2.000000\n",
              "50%        1.000000      1.000000  ...       406.000000      0.000000\n",
              "75%        2.000000      2.000000  ...       612.000000      3.000000\n",
              "max       31.000000     21.000000  ...      1887.000000     73.000000\n",
              "\n",
              "[8 rows x 17 columns]"
            ]
          },
          "metadata": {
            "tags": []
          },
          "execution_count": 65
        }
      ]
    },
    {
      "cell_type": "code",
      "metadata": {
        "id": "n-sGfjGs21hb",
        "colab_type": "code",
        "outputId": "e089d0cd-afd2-45c2-8d56-7388abe7497d",
        "colab": {
          "base_uri": "https://localhost:8080/",
          "height": 297
        }
      },
      "source": [
        "# Actual vs Prediction\n",
        "compar = pd.DataFrame({'Actual': y,'predicted': X_predict})\n",
        "compar.describe()"
      ],
      "execution_count": 66,
      "outputs": [
        {
          "output_type": "execute_result",
          "data": {
            "text/html": [
              "<div>\n",
              "<style scoped>\n",
              "    .dataframe tbody tr th:only-of-type {\n",
              "        vertical-align: middle;\n",
              "    }\n",
              "\n",
              "    .dataframe tbody tr th {\n",
              "        vertical-align: top;\n",
              "    }\n",
              "\n",
              "    .dataframe thead th {\n",
              "        text-align: right;\n",
              "    }\n",
              "</style>\n",
              "<table border=\"1\" class=\"dataframe\">\n",
              "  <thead>\n",
              "    <tr style=\"text-align: right;\">\n",
              "      <th></th>\n",
              "      <th>Actual</th>\n",
              "      <th>predicted</th>\n",
              "    </tr>\n",
              "  </thead>\n",
              "  <tbody>\n",
              "    <tr>\n",
              "      <th>count</th>\n",
              "      <td>19023.000000</td>\n",
              "      <td>19023.000000</td>\n",
              "    </tr>\n",
              "    <tr>\n",
              "      <th>mean</th>\n",
              "      <td>1.613363</td>\n",
              "      <td>1.613363</td>\n",
              "    </tr>\n",
              "    <tr>\n",
              "      <th>std</th>\n",
              "      <td>1.652704</td>\n",
              "      <td>0.198244</td>\n",
              "    </tr>\n",
              "    <tr>\n",
              "      <th>min</th>\n",
              "      <td>0.000000</td>\n",
              "      <td>0.903972</td>\n",
              "    </tr>\n",
              "    <tr>\n",
              "      <th>25%</th>\n",
              "      <td>0.000000</td>\n",
              "      <td>1.513724</td>\n",
              "    </tr>\n",
              "    <tr>\n",
              "      <th>50%</th>\n",
              "      <td>1.000000</td>\n",
              "      <td>1.548520</td>\n",
              "    </tr>\n",
              "    <tr>\n",
              "      <th>75%</th>\n",
              "      <td>2.000000</td>\n",
              "      <td>1.718142</td>\n",
              "    </tr>\n",
              "    <tr>\n",
              "      <th>max</th>\n",
              "      <td>31.000000</td>\n",
              "      <td>2.095602</td>\n",
              "    </tr>\n",
              "  </tbody>\n",
              "</table>\n",
              "</div>"
            ],
            "text/plain": [
              "             Actual     predicted\n",
              "count  19023.000000  19023.000000\n",
              "mean       1.613363      1.613363\n",
              "std        1.652704      0.198244\n",
              "min        0.000000      0.903972\n",
              "25%        0.000000      1.513724\n",
              "50%        1.000000      1.548520\n",
              "75%        2.000000      1.718142\n",
              "max       31.000000      2.095602"
            ]
          },
          "metadata": {
            "tags": []
          },
          "execution_count": 66
        }
      ]
    },
    {
      "cell_type": "code",
      "metadata": {
        "id": "w4t_4skSplBp",
        "colab_type": "code",
        "outputId": "9e56bb68-e204-48a3-cf2c-50a32d657ba2",
        "colab": {
          "base_uri": "https://localhost:8080/",
          "height": 34
        }
      },
      "source": [
        "# Getting the RMSE Score\n",
        "from sklearn import metrics\n",
        "print('Root mean squaref Error:',np.sqrt(metrics.mean_squared_error(y,X_predict)))"
      ],
      "execution_count": 67,
      "outputs": [
        {
          "output_type": "stream",
          "text": [
            "Root mean squaref Error: 1.640728191107565\n"
          ],
          "name": "stdout"
        }
      ]
    },
    {
      "cell_type": "code",
      "metadata": {
        "id": "b-DXAmOkqgAG",
        "colab_type": "code",
        "outputId": "d9b27d76-f124-45c7-f467-a971b437ad95",
        "colab": {
          "base_uri": "https://localhost:8080/",
          "height": 34
        }
      },
      "source": [
        "# Geting the R2 Score\n",
        "print(\"The R2 score is\",metrics.r2_score(y,X_predict))"
      ],
      "execution_count": 68,
      "outputs": [
        {
          "output_type": "stream",
          "text": [
            "The R2 score is 0.014388290648956636\n"
          ],
          "name": "stdout"
        }
      ]
    },
    {
      "cell_type": "code",
      "metadata": {
        "id": "1zWOlzT82dge",
        "colab_type": "code",
        "colab": {}
      },
      "source": [
        "# Confusion matrix\n",
        "# results = confusion_matrix(y, X_predict) \n",
        "# print('Confusion Matrix :')\n",
        "# print(results) \n",
        "# print('Accuracy Score :',accuracy_score(y,X_predict)) \n",
        "# print('Report : ')\n",
        "# print(classification_report(y, X_predict)) \n",
        "\n",
        "\n",
        "# Accuracy score is only for classification problems. For regression problems you can use:\n",
        "#   R2 Score, MSE (Mean Squared Error), RMSE (Root Mean Squared Error)."
      ],
      "execution_count": 0,
      "outputs": []
    },
    {
      "cell_type": "code",
      "metadata": {
        "id": "PO9QIbUGTg_r",
        "colab_type": "code",
        "outputId": "1c1a8dc4-0108-4c4c-de00-09e175e6d926",
        "colab": {
          "base_uri": "https://localhost:8080/",
          "height": 710
        }
      },
      "source": [
        "# Actual vs Predition plot\n",
        "compar.plot(kind=\"bar\",figsize=(8,8))\n",
        "plt.show()"
      ],
      "execution_count": 70,
      "outputs": [
        {
          "output_type": "display_data",
          "data": {
            "image/png": "[encoded data removed]",
            "text/plain": [
              "<Figure size 800x800 with 1 Axes>"
            ]
          },
          "metadata": {
            "tags": []
          }
        }
      ]
    },
    {
      "cell_type": "markdown",
      "metadata": {
        "id": "s37eXN9A2Lq3",
        "colab_type": "text"
      },
      "source": [
        "### **Model 2: Predict how many goals the away team scores**"
      ]
    },
    {
      "cell_type": "code",
      "metadata": {
        "id": "LnsNHoFXS1Gz",
        "colab_type": "code",
        "colab": {}
      },
      "source": [
        "X = fifa_main['rank'].values.reshape(-1,1)\n",
        "y = fifa_main['away_score']"
      ],
      "execution_count": 0,
      "outputs": []
    },
    {
      "cell_type": "code",
      "metadata": {
        "id": "2Nf0w-F9EVIx",
        "colab_type": "code",
        "outputId": "ad16436b-02c8-4d92-a0bf-b24a28838249",
        "colab": {
          "base_uri": "https://localhost:8080/",
          "height": 528
        }
      },
      "source": [
        "plt.scatter(X,y, color=\"blue\")\n",
        "plt.title(\"Away score and Rank\",color = \"red\")\n",
        "plt.xlabel(\"Away score\", color = \"red\")\n",
        "plt.ylabel(\"Ranking\", color = \"red\")\n",
        "plt.show()"
      ],
      "execution_count": 72,
      "outputs": [
        {
          "output_type": "display_data",
          "data": {
            "image/png": "[encoded data removed]",
            "text/plain": [
              "<Figure size 800x550 with 1 Axes>"
            ]
          },
          "metadata": {
            "tags": []
          }
        }
      ]
    },
    {
      "cell_type": "code",
      "metadata": {
        "id": "UU6muCR4c6XP",
        "colab_type": "code",
        "colab": {}
      },
      "source": [
        "# Train the Dataset\n",
        "X_train, X_test, y_train, y_test = train_test_split(X,y, test_size=0.22, random_state=0)"
      ],
      "execution_count": 0,
      "outputs": []
    },
    {
      "cell_type": "code",
      "metadata": {
        "id": "e2FUVSMGdRbo",
        "colab_type": "code",
        "outputId": "657d168e-f804-49b6-c7ee-f89aa2c21c14",
        "colab": {
          "base_uri": "https://localhost:8080/",
          "height": 528
        }
      },
      "source": [
        "# fITTING Polynomial Regression\n",
        "pol_reg = PolynomialFeatures(degree=3)\n",
        "p_reg = pol_reg.fit_transform(X)\n",
        "\n",
        "# Linear\n",
        "poly_reg = LinearRegression()\n",
        "poly_reg.fit(p_reg,y)\n",
        "\n",
        "plt.scatter(X,y, color=\"brown\")\n",
        "plt.title(\"Away score and Rank - Polynomial Reg\",color = \"purple\")\n",
        "plt.xlabel(\"Away score\", color = \"red\")\n",
        "plt.ylabel(\"Ranking\", color = \"red\")\n",
        "plt.show()"
      ],
      "execution_count": 74,
      "outputs": [
        {
          "output_type": "display_data",
          "data": {
            "image/png": "[encoded data removed]",
            "text/plain": [
              "<Figure size 800x550 with 1 Axes>"
            ]
          },
          "metadata": {
            "tags": []
          }
        }
      ]
    },
    {
      "cell_type": "code",
      "metadata": {
        "id": "_5s0TNOPeWVw",
        "colab_type": "code",
        "outputId": "18fbe635-1259-4cbd-e450-1a078001baad",
        "colab": {
          "base_uri": "https://localhost:8080/",
          "height": 34
        }
      },
      "source": [
        "prediction = poly_reg.predict(p_reg)\n",
        "print(\"Polynomial prediction is: \", prediction)"
      ],
      "execution_count": 75,
      "outputs": [
        {
          "output_type": "stream",
          "text": [
            "Polynomial prediction is:  [0.84809265 1.00671065 0.86878651 ... 0.79136438 0.74296066 0.80883605]\n"
          ],
          "name": "stdout"
        }
      ]
    },
    {
      "cell_type": "markdown",
      "metadata": {
        "id": "ZKrQKZ_1hREW",
        "colab_type": "text"
      },
      "source": [
        "\n",
        "###**Heteroskedasticity testing and Bartlett's test**"
      ]
    },
    {
      "cell_type": "markdown",
      "metadata": {
        "id": "ECZhkoQ0hqiq",
        "colab_type": "text"
      },
      "source": [
        "### Refers to the circumstance in which the variability of a variable is\n",
        "\n",
        "### unequal across the range of values of a second variable that predicts it"
      ]
    },
    {
      "cell_type": "code",
      "metadata": {
        "id": "SynvH6UVfbkg",
        "colab_type": "code",
        "colab": {}
      },
      "source": [
        "# Bartlett's Test\n",
        "# is used to test that variances are equal for all samples. \n",
        "# It checks that the assumption of equal variances is true before running certain statistical tests "
      ],
      "execution_count": 0,
      "outputs": []
    },
    {
      "cell_type": "code",
      "metadata": {
        "id": "7isN70mNiMR1",
        "colab_type": "code",
        "outputId": "2a115977-700d-4084-b20c-b15c70bf352b",
        "colab": {
          "base_uri": "https://localhost:8080/",
          "height": 297
        }
      },
      "source": [
        "testing=np.subtract(X_predict, y)\n",
        "pd.DataFrame(testing).describe()"
      ],
      "execution_count": 77,
      "outputs": [
        {
          "output_type": "execute_result",
          "data": {
            "text/html": [
              "<div>\n",
              "<style scoped>\n",
              "    .dataframe tbody tr th:only-of-type {\n",
              "        vertical-align: middle;\n",
              "    }\n",
              "\n",
              "    .dataframe tbody tr th {\n",
              "        vertical-align: top;\n",
              "    }\n",
              "\n",
              "    .dataframe thead th {\n",
              "        text-align: right;\n",
              "    }\n",
              "</style>\n",
              "<table border=\"1\" class=\"dataframe\">\n",
              "  <thead>\n",
              "    <tr style=\"text-align: right;\">\n",
              "      <th></th>\n",
              "      <th>away_score</th>\n",
              "    </tr>\n",
              "  </thead>\n",
              "  <tbody>\n",
              "    <tr>\n",
              "      <th>count</th>\n",
              "      <td>19023.000000</td>\n",
              "    </tr>\n",
              "    <tr>\n",
              "      <th>mean</th>\n",
              "      <td>0.537875</td>\n",
              "    </tr>\n",
              "    <tr>\n",
              "      <th>std</th>\n",
              "      <td>1.311817</td>\n",
              "    </tr>\n",
              "    <tr>\n",
              "      <th>min</th>\n",
              "      <td>-20.016970</td>\n",
              "    </tr>\n",
              "    <tr>\n",
              "      <th>25%</th>\n",
              "      <td>-0.249941</td>\n",
              "    </tr>\n",
              "    <tr>\n",
              "      <th>50%</th>\n",
              "      <td>0.652133</td>\n",
              "    </tr>\n",
              "    <tr>\n",
              "      <th>75%</th>\n",
              "      <td>1.530722</td>\n",
              "    </tr>\n",
              "    <tr>\n",
              "      <th>max</th>\n",
              "      <td>2.095602</td>\n",
              "    </tr>\n",
              "  </tbody>\n",
              "</table>\n",
              "</div>"
            ],
            "text/plain": [
              "         away_score\n",
              "count  19023.000000\n",
              "mean       0.537875\n",
              "std        1.311817\n",
              "min      -20.016970\n",
              "25%       -0.249941\n",
              "50%        0.652133\n",
              "75%        1.530722\n",
              "max        2.095602"
            ]
          },
          "metadata": {
            "tags": []
          },
          "execution_count": 77
        }
      ]
    },
    {
      "cell_type": "code",
      "metadata": {
        "id": "OocDl7umiZAb",
        "colab_type": "code",
        "outputId": "ef1acd2b-9e2f-41b8-97e0-72c5693780ef",
        "colab": {
          "base_uri": "https://localhost:8080/",
          "height": 512
        }
      },
      "source": [
        "plt.scatter(X_predict,testing,color=\"green\")\n",
        "plt.ylabel(\"testing\")\n",
        "plt.xlabel('fitted values')\n",
        "plt.axhline(y= testing.mean(), color='red', linewidth=5)\n",
        "plt.show()"
      ],
      "execution_count": 78,
      "outputs": [
        {
          "output_type": "display_data",
          "data": {
            "image/png": "[encoded data removed]",
            "text/plain": [
              "<Figure size 800x550 with 1 Axes>"
            ]
          },
          "metadata": {
            "tags": []
          }
        }
      ]
    },
    {
      "cell_type": "code",
      "metadata": {
        "id": "mXbC7WSYi9DE",
        "colab_type": "code",
        "outputId": "851785bb-ce1a-461e-b732-19b781c89eaa",
        "colab": {
          "base_uri": "https://localhost:8080/",
          "height": 51
        }
      },
      "source": [
        "# Barlette's testing\n",
        "# is used to test that variances are equal for all samples. \n",
        "# It checks that the assumption of equal variances is true before running certain statistical tests \n",
        "test_result, p_value = sc.stats.bartlett(X_predict, testing)\n",
        "\n",
        "# Find critical value\n",
        "degree_of_freedom = len(X_predict)-1\n",
        "probability = 1 - p_value\n",
        "\n",
        "critical_value = sc.stats.chi2.ppf(probability, degree_of_freedom)\n",
        "print(critical_value)\n",
        "\n",
        "# Discover a pattern, Wether Unequal or Homogenous\n",
        "\n",
        "if (test_result > critical_value):\n",
        "  print('the variances are unequal, and the model should be reassessed')\n",
        "else:\n",
        "  print('the variances are homogeneous!')"
      ],
      "execution_count": 79,
      "outputs": [
        {
          "output_type": "stream",
          "text": [
            "inf\n",
            "the variances are homogeneous!\n"
          ],
          "name": "stdout"
        }
      ]
    },
    {
      "cell_type": "code",
      "metadata": {
        "id": "p0-btt9cscQ9",
        "colab_type": "code",
        "outputId": "f0d0d905-e06e-4191-d62f-833c912e78f8",
        "colab": {
          "base_uri": "https://localhost:8080/",
          "height": 34
        }
      },
      "source": [
        "print(\"Test result is \",test_result)"
      ],
      "execution_count": 80,
      "outputs": [
        {
          "output_type": "stream",
          "text": [
            "Test result is  46378.38132972103\n"
          ],
          "name": "stdout"
        }
      ]
    },
    {
      "cell_type": "code",
      "metadata": {
        "id": "LnZI7TZFsjVw",
        "colab_type": "code",
        "outputId": "d47947a2-4809-493e-df92-ad15c959a60a",
        "colab": {
          "base_uri": "https://localhost:8080/",
          "height": 34
        }
      },
      "source": [
        "print(\"critical value is \",critical_value)"
      ],
      "execution_count": 81,
      "outputs": [
        {
          "output_type": "stream",
          "text": [
            "critical value is  inf\n"
          ],
          "name": "stdout"
        }
      ]
    },
    {
      "cell_type": "markdown",
      "metadata": {
        "id": "mflYVrWHKRQn",
        "colab_type": "text"
      },
      "source": [
        "### **Cross validation**"
      ]
    },
    {
      "cell_type": "code",
      "metadata": {
        "id": "4KBqvJ0K3jf_",
        "colab_type": "code",
        "outputId": "4860d3b5-04a3-4602-e0f4-51a2aeade203",
        "colab": {
          "base_uri": "https://localhost:8080/",
          "height": 289
        }
      },
      "source": [
        "## Used KFold to train the model with the RMSE\n",
        "from sklearn.model_selection import KFold\n",
        "folds = KFold(n_splits=5)\n",
        "\n",
        "# we can figure out how many folds we set up\n",
        "# for it using get_n_splits\n",
        "\n",
        "print('we are using ' +str(folds.get_n_splits(X)) + ' folds')\n",
        "# We now create and assess 5 models based on the folds we created.\n",
        "\n",
        "RMSES = [] # We will use this array to keep track of the RSME of each model\n",
        "count = 0 # This will just help\n",
        "\n",
        "for train_index, test_index in folds.split(X):\n",
        " print('\\nTraining model ' + str(count))\n",
        " # set up the train and test based on the split determined by KFold\n",
        " \n",
        " X_train, X_test = X[train_index], X[test_index]\n",
        " y_train, y_test = y[train_index], y[test_index]\n",
        " # fit a model accordingly\n",
        " regressor = LinearRegression()\n",
        " regressor.fit(X_train, y_train)\n",
        " # assess the accuraccy of the model\n",
        " pred = regressor.predict(X_test)\n",
        " rmse_value =  np.sqrt(metrics.mean_squared_error(y_test, pred))\n",
        " RMSES.append(rmse_value)\n",
        " print('Model ' + str(count) + ' Root Mean Squared Error:',rmse_value)\n",
        " count = count + 1\n",
        "    "
      ],
      "execution_count": 82,
      "outputs": [
        {
          "output_type": "stream",
          "text": [
            "we are using 5 folds\n",
            "\n",
            "Training model 0\n",
            "Model 0 Root Mean Squared Error: 1.261428090835681\n",
            "\n",
            "Training model 1\n",
            "Model 1 Root Mean Squared Error: 1.2358867562019988\n",
            "\n",
            "Training model 2\n",
            "Model 2 Root Mean Squared Error: 1.2677866853359139\n",
            "\n",
            "Training model 3\n",
            "Model 3 Root Mean Squared Error: 1.181073907659671\n",
            "\n",
            "Training model 4\n",
            "Model 4 Root Mean Squared Error: 1.1911960312263603\n"
          ],
          "name": "stdout"
        }
      ]
    },
    {
      "cell_type": "code",
      "metadata": {
        "id": "ZXYb9LUWKI7o",
        "colab_type": "code",
        "outputId": "ceeb0750-337e-45be-fca7-5f414316f02f",
        "colab": {
          "base_uri": "https://localhost:8080/",
          "height": 34
        }
      },
      "source": [
        "# The mean of RMSE\n",
        "np.mean(RMSES)"
      ],
      "execution_count": 83,
      "outputs": [
        {
          "output_type": "execute_result",
          "data": {
            "text/plain": [
              "1.227474294251925"
            ]
          },
          "metadata": {
            "tags": []
          },
          "execution_count": 83
        }
      ]
    },
    {
      "cell_type": "code",
      "metadata": {
        "id": "FTLDua10KZW0",
        "colab_type": "code",
        "outputId": "da9d7982-bffb-4983-aba3-90636c0d084f",
        "colab": {
          "base_uri": "https://localhost:8080/",
          "height": 512
        }
      },
      "source": [
        "# Plotting\n",
        "\n",
        "plt.plot(RMSES)\n",
        "plt.ylabel('RMSE value')\n",
        "plt.xlabel('model ID')\n",
        "plt.show()"
      ],
      "execution_count": 84,
      "outputs": [
        {
          "output_type": "display_data",
          "data": {
            "image/png": "[encoded data removed]",
            "text/plain": [
              "<Figure size 800x550 with 1 Axes>"
            ]
          },
          "metadata": {
            "tags": []
          }
        }
      ]
    },
    {
      "cell_type": "markdown",
      "metadata": {
        "id": "CmKSXIC_MXmc",
        "colab_type": "text"
      },
      "source": [
        "### **Model Id 1 boost of an RMSE score of 1.86**"
      ]
    },
    {
      "cell_type": "markdown",
      "metadata": {
        "id": "WbxIPt0MmZ_5",
        "colab_type": "text"
      },
      "source": [
        "## **Logistic Regression**`"
      ]
    },
    {
      "cell_type": "markdown",
      "metadata": {
        "id": "HIljs5HE62Uc",
        "colab_type": "text"
      },
      "source": [
        "**What is it?**\n",
        "\n",
        "*It is a Machine learning classification algorithm that is\n",
        "\n",
        "used to find the probability of a categorical dependent variable\n",
        "\n",
        "ie Binary Logistic regression\n",
        "0's and 1's*\n",
        "\n",
        "\n",
        "### *Objective - Find if the game is a Win, Lose or Draw *"
      ]
    },
    {
      "cell_type": "markdown",
      "metadata": {
        "id": "kV_XWI3n8cWj",
        "colab_type": "text"
      },
      "source": [
        "### *Data Exploration*"
      ]
    },
    {
      "cell_type": "code",
      "metadata": {
        "id": "VQU3gxyq9NB4",
        "colab_type": "code",
        "colab": {
          "base_uri": "https://localhost:8080/",
          "height": 1000
        },
        "outputId": "77858284-f0a2-4b05-c19c-742cac61f19b"
      },
      "source": [
        "# Find Value Counts\n",
        "away = fifa_main['away_team'].value_counts()\n",
        "away"
      ],
      "execution_count": 85,
      "outputs": [
        {
          "output_type": "execute_result",
          "data": {
            "text/plain": [
              "Zambia                              197\n",
              "Sweden                              167\n",
              "Brazil                              166\n",
              "Finland                             165\n",
              "Ghana                               164\n",
              "Uruguay                             162\n",
              "Paraguay                            161\n",
              "Iraq                                160\n",
              "Costa Rica                          158\n",
              "Colombia                            156\n",
              "Uganda                              156\n",
              "Estonia                             155\n",
              "Saudi Arabia                        153\n",
              "Syria                               151\n",
              "Argentina                           149\n",
              "Ivory Coast                         148\n",
              "Chile                               148\n",
              "Ecuador                             146\n",
              "Serbia                              144\n",
              "Venezuela                           143\n",
              "Senegal                             143\n",
              "South Africa                        142\n",
              "Iceland                             142\n",
              "Norway                              141\n",
              "Jamaica                             140\n",
              "Peru                                140\n",
              "Honduras                            139\n",
              "Cameroon                            139\n",
              "Burkina Faso                        138\n",
              "Germany                             137\n",
              "                                   ... \n",
              "Cayman Islands                       18\n",
              "São Tomé and Príncipe                18\n",
              "Aruba                                17\n",
              "Saint Martin                         15\n",
              "Samoa                                15\n",
              "South Sudan                          14\n",
              "Bahamas                              13\n",
              "Gibraltar                            13\n",
              "Saint Vincent and the Grenadines     13\n",
              "Northern Mariana Islands             11\n",
              "Tuvalu                               11\n",
              "Montserrat                            9\n",
              "Turks and Caicos Islands              8\n",
              "Bonaire                               8\n",
              "Kosovo                                7\n",
              "Mayotte                               7\n",
              "Réunion                               6\n",
              "Micronesia                            5\n",
              "Sint Maarten                          5\n",
              "Kiribati                              4\n",
              "Wallis Islands and Futuna             2\n",
              "Greenland                             2\n",
              "Basque Country                        2\n",
              "Vatican City                          1\n",
              "Crimea                                1\n",
              "Ynys Môn                              1\n",
              "Frøya                                 1\n",
              "Western Isles                         1\n",
              "Tibet                                 1\n",
              "Falkland Islands                      1\n",
              "Name: away_team, Length: 234, dtype: int64"
            ]
          },
          "metadata": {
            "tags": []
          },
          "execution_count": 85
        }
      ]
    },
    {
      "cell_type": "code",
      "metadata": {
        "id": "Qjv_g5V2kc0T",
        "colab_type": "code",
        "colab": {
          "base_uri": "https://localhost:8080/",
          "height": 850
        },
        "outputId": "3dafbfcc-581a-4d3c-927f-10c73cecebb5"
      },
      "source": [
        "fifa_main['away_team'].unique()"
      ],
      "execution_count": 86,
      "outputs": [
        {
          "output_type": "execute_result",
          "data": {
            "text/plain": [
              "array(['Paraguay', 'Argentina', 'Ecuador', 'Brazil', 'Zambia', 'Uruguay',\n",
              "       'Mexico', 'Venezuela', 'Sierra Leone', 'Colombia', 'Eswatini',\n",
              "       'Norway', 'Switzerland', 'Canada', 'Guinea', 'Peru', 'France',\n",
              "       'Finland', 'Lithuania', 'Bolivia', 'United States', 'Portugal',\n",
              "       'Denmark', 'Sweden', 'Poland', 'Romania', 'Russia', 'Luxembourg',\n",
              "       'Latvia', 'Chile', 'Czech Republic', 'Mali', 'Thailand', 'Senegal',\n",
              "       'Spain', 'Italy', 'Cameroon', 'Israel', 'Netherlands', 'Germany',\n",
              "       'Costa Rica', 'Ivory Coast', 'Gabon', 'South Africa', 'Nigeria',\n",
              "       'Zimbabwe', 'Greece', 'Austria', 'Northern Ireland', 'Scotland',\n",
              "       'England', 'Belgium', 'North Macedonia', 'Cyprus', 'Japan',\n",
              "       'Iceland', 'Iran', 'South Korea', 'Ukraine', 'Saudi Arabia',\n",
              "       'Estonia', 'Jordan', 'China PR', 'Malta', 'Egypt',\n",
              "       'Saint Kitts and Nevis', 'Slovenia', 'Australia', 'Bulgaria',\n",
              "       'Republic of Ireland', 'Mauritania', 'Ghana', 'Gambia',\n",
              "       'Guinea-Bissau', 'Fiji', 'Uganda', 'Burma', 'Tanzania', 'Tunisia',\n",
              "       'Morocco', 'Slovakia', 'Kenya', 'Georgia', 'Montserrat',\n",
              "       'British Virgin Islands', 'Sint Maarten', 'Jamaica', 'Haiti',\n",
              "       'DR Congo', 'Niger', 'Hungary', 'Croatia', 'Cayman Islands',\n",
              "       'Suriname', 'Martinique', 'Azerbaijan', 'Liechtenstein',\n",
              "       'Honduras', 'El Salvador', 'Wales', 'Tahiti', 'Belarus', 'Namibia',\n",
              "       'New Caledonia', 'Papua New Guinea', 'Vanuatu', 'Algeria', 'Togo',\n",
              "       'Mozambique', 'United Arab Emirates', 'Armenia', 'Moldova',\n",
              "       'Turkey', 'Albania', 'Oman', 'India', 'Yemen', 'Sudan', 'Kuwait',\n",
              "       'Malawi', 'San Marino', 'Faroe Islands', 'Ethiopia', 'Angola',\n",
              "       'Botswana', 'Trinidad and Tobago', 'Qatar', 'Bahrain', 'Liberia',\n",
              "       'Mauritius', 'Tonga', 'American Samoa', 'Somalia', 'Djibouti',\n",
              "       'Seychelles', 'Eritrea', 'Burkina Faso', 'Serbia', 'Singapore',\n",
              "       'Benin', 'Barbados', 'Congo', 'Saint Lucia', 'Curaçao',\n",
              "       'Puerto Rico', 'Cuba', 'Lesotho', 'New Zealand', 'Uzbekistan',\n",
              "       'Antigua and Barbuda', 'Iraq', 'French Guiana',\n",
              "       'Wallis Islands and Futuna', 'Solomon Islands', 'Guam',\n",
              "       'Cook Islands', 'Nicaragua', 'Panama', 'Sri Lanka', 'Cape Verde',\n",
              "       'Rwanda', 'Zanzibar', 'Saint Vincent and the Grenadines', 'Belize',\n",
              "       'Bosnia and Herzegovina', 'Guatemala', 'Kazakhstan', 'Kyrgyzstan',\n",
              "       'Macau', 'Philippines', 'Indonesia', 'Guyana',\n",
              "       'Dominican Republic', 'Grenada', 'Turkmenistan', 'Dominica',\n",
              "       'Syria', 'Madagascar', 'Lebanon', 'Maldives', 'Chinese Taipei',\n",
              "       'Pakistan', 'Malaysia', 'Vietnam', 'Brunei', 'Cambodia', 'Samoa',\n",
              "       'Bermuda', 'Anguilla', 'Libya', 'Saint Martin', 'Tajikistan',\n",
              "       'Andorra', 'Nepal', 'Bangladesh', 'Chad', 'Hong Kong',\n",
              "       'Guadeloupe', 'Palestine', 'Northern Mariana Islands', 'Burundi',\n",
              "       'Equatorial Guinea', 'São Tomé and Príncipe', 'Laos',\n",
              "       'North Korea', 'Bahamas', 'Micronesia', 'Central African Republic',\n",
              "       'Bhutan', 'Mongolia', 'Aruba', 'Turks and Caicos Islands',\n",
              "       'U.S. Virgin Islands', 'Mayotte', 'Réunion', 'Afghanistan',\n",
              "       'East Timor', 'Tuvalu', 'Kiribati', 'Crimea', 'Comoros',\n",
              "       'Montenegro', 'Basque Country', 'Ynys Môn', 'Western Isles',\n",
              "       'Tibet', 'Bonaire', 'Vatican City', 'South Sudan', 'Greenland',\n",
              "       'Falkland Islands', 'Frøya', 'Gibraltar', 'Kosovo'], dtype=object)"
            ]
          },
          "metadata": {
            "tags": []
          },
          "execution_count": 86
        }
      ]
    },
    {
      "cell_type": "code",
      "metadata": {
        "id": "JteSxon9-5YP",
        "colab_type": "code",
        "colab": {
          "base_uri": "https://localhost:8080/",
          "height": 134
        },
        "outputId": "fe3f77fd-d847-4613-fbaf-1b6f0eb9691a"
      },
      "source": [
        "fifa_main.head(1)"
      ],
      "execution_count": 87,
      "outputs": [
        {
          "output_type": "execute_result",
          "data": {
            "text/html": [
              "<div>\n",
              "<style scoped>\n",
              "    .dataframe tbody tr th:only-of-type {\n",
              "        vertical-align: middle;\n",
              "    }\n",
              "\n",
              "    .dataframe tbody tr th {\n",
              "        vertical-align: top;\n",
              "    }\n",
              "\n",
              "    .dataframe thead th {\n",
              "        text-align: right;\n",
              "    }\n",
              "</style>\n",
              "<table border=\"1\" class=\"dataframe\">\n",
              "  <thead>\n",
              "    <tr style=\"text-align: right;\">\n",
              "      <th></th>\n",
              "      <th>date</th>\n",
              "      <th>home_team</th>\n",
              "      <th>away_team</th>\n",
              "      <th>home_score</th>\n",
              "      <th>away_score</th>\n",
              "      <th>tournament</th>\n",
              "      <th>city</th>\n",
              "      <th>country</th>\n",
              "      <th>neutral</th>\n",
              "      <th>year</th>\n",
              "      <th>month</th>\n",
              "      <th>home_team_rank</th>\n",
              "      <th>total_points_x</th>\n",
              "      <th>previous_points_x</th>\n",
              "      <th>rank_change_x</th>\n",
              "      <th>confederation_x</th>\n",
              "      <th>rank_date_x</th>\n",
              "      <th>away_team_rank</th>\n",
              "      <th>total_points_y</th>\n",
              "      <th>previous_points_y</th>\n",
              "      <th>rank_change_y</th>\n",
              "      <th>confederation_y</th>\n",
              "      <th>rank_date_y</th>\n",
              "      <th>rank</th>\n",
              "      <th>total_points</th>\n",
              "      <th>previous_points</th>\n",
              "      <th>rank_change</th>\n",
              "      <th>confederation</th>\n",
              "      <th>rank_date</th>\n",
              "    </tr>\n",
              "  </thead>\n",
              "  <tbody>\n",
              "    <tr>\n",
              "      <th>0</th>\n",
              "      <td>1993-08-01</td>\n",
              "      <td>Colombia</td>\n",
              "      <td>Paraguay</td>\n",
              "      <td>0</td>\n",
              "      <td>0</td>\n",
              "      <td>FIFA World Cup qualification</td>\n",
              "      <td>Barranquilla</td>\n",
              "      <td>Colombia</td>\n",
              "      <td>0</td>\n",
              "      <td>1993</td>\n",
              "      <td>8</td>\n",
              "      <td>19.0</td>\n",
              "      <td>0.0</td>\n",
              "      <td>36.0</td>\n",
              "      <td>16.0</td>\n",
              "      <td>CONMEBOL</td>\n",
              "      <td>1993-08-08</td>\n",
              "      <td>19</td>\n",
              "      <td>0.0</td>\n",
              "      <td>36</td>\n",
              "      <td>16</td>\n",
              "      <td>CONMEBOL</td>\n",
              "      <td>1993-08-08</td>\n",
              "      <td>19</td>\n",
              "      <td>0.0</td>\n",
              "      <td>36</td>\n",
              "      <td>16</td>\n",
              "      <td>CONMEBOL</td>\n",
              "      <td>1993-08-08</td>\n",
              "    </tr>\n",
              "  </tbody>\n",
              "</table>\n",
              "</div>"
            ],
            "text/plain": [
              "        date home_team away_team  ...  rank_change  confederation  rank_date\n",
              "0 1993-08-01  Colombia  Paraguay  ...           16       CONMEBOL 1993-08-08\n",
              "\n",
              "[1 rows x 29 columns]"
            ]
          },
          "metadata": {
            "tags": []
          },
          "execution_count": 87
        }
      ]
    },
    {
      "cell_type": "code",
      "metadata": {
        "id": "Bfo4zinWzMxj",
        "colab_type": "code",
        "colab": {
          "base_uri": "https://localhost:8080/",
          "height": 529
        },
        "outputId": "30109fbf-b8ef-4f74-8b82-a9b3e738ab60"
      },
      "source": [
        "sns.countplot(x=fifa_main['neutral'],data=fifa_main,palette=\"hls\")\n",
        "plt.show()\n",
        "plt.savefig('count_plot')"
      ],
      "execution_count": 88,
      "outputs": [
        {
          "output_type": "display_data",
          "data": {
            "image/png": "[encoded data removed]",
            "text/plain": [
              "<Figure size 800x550 with 1 Axes>"
            ]
          },
          "metadata": {
            "tags": []
          }
        },
        {
          "output_type": "display_data",
          "data": {
            "text/plain": [
              "<Figure size 800x550 with 0 Axes>"
            ]
          },
          "metadata": {
            "tags": []
          }
        }
      ]
    },
    {
      "cell_type": "code",
      "metadata": {
        "id": "7TRDfZE2AANw",
        "colab_type": "code",
        "colab": {}
      },
      "source": [
        "away_score = fifa_main['rank']"
      ],
      "execution_count": 0,
      "outputs": []
    },
    {
      "cell_type": "code",
      "metadata": {
        "id": "WOlp_f-N9zkF",
        "colab_type": "code",
        "outputId": "f96a3378-e0ba-4da3-dde7-d35e36827835",
        "colab": {
          "base_uri": "https://localhost:8080/",
          "height": 607
        }
      },
      "source": [
        "# Group away score by rank\n",
        "rank = away_score.groupby(fifa_main['away_score']).sum()\n",
        "pd.DataFrame(rank)\n"
      ],
      "execution_count": 90,
      "outputs": [
        {
          "output_type": "execute_result",
          "data": {
            "text/html": [
              "<div>\n",
              "<style scoped>\n",
              "    .dataframe tbody tr th:only-of-type {\n",
              "        vertical-align: middle;\n",
              "    }\n",
              "\n",
              "    .dataframe tbody tr th {\n",
              "        vertical-align: top;\n",
              "    }\n",
              "\n",
              "    .dataframe thead th {\n",
              "        text-align: right;\n",
              "    }\n",
              "</style>\n",
              "<table border=\"1\" class=\"dataframe\">\n",
              "  <thead>\n",
              "    <tr style=\"text-align: right;\">\n",
              "      <th></th>\n",
              "      <th>rank</th>\n",
              "    </tr>\n",
              "    <tr>\n",
              "      <th>away_score</th>\n",
              "      <th></th>\n",
              "    </tr>\n",
              "  </thead>\n",
              "  <tbody>\n",
              "    <tr>\n",
              "      <th>0</th>\n",
              "      <td>528568</td>\n",
              "    </tr>\n",
              "    <tr>\n",
              "      <th>1</th>\n",
              "      <td>467364</td>\n",
              "    </tr>\n",
              "    <tr>\n",
              "      <th>2</th>\n",
              "      <td>268983</td>\n",
              "    </tr>\n",
              "    <tr>\n",
              "      <th>3</th>\n",
              "      <td>119748</td>\n",
              "    </tr>\n",
              "    <tr>\n",
              "      <th>4</th>\n",
              "      <td>48093</td>\n",
              "    </tr>\n",
              "    <tr>\n",
              "      <th>5</th>\n",
              "      <td>19142</td>\n",
              "    </tr>\n",
              "    <tr>\n",
              "      <th>6</th>\n",
              "      <td>12225</td>\n",
              "    </tr>\n",
              "    <tr>\n",
              "      <th>7</th>\n",
              "      <td>7866</td>\n",
              "    </tr>\n",
              "    <tr>\n",
              "      <th>8</th>\n",
              "      <td>3844</td>\n",
              "    </tr>\n",
              "    <tr>\n",
              "      <th>9</th>\n",
              "      <td>1219</td>\n",
              "    </tr>\n",
              "    <tr>\n",
              "      <th>10</th>\n",
              "      <td>1101</td>\n",
              "    </tr>\n",
              "    <tr>\n",
              "      <th>11</th>\n",
              "      <td>155</td>\n",
              "    </tr>\n",
              "    <tr>\n",
              "      <th>12</th>\n",
              "      <td>179</td>\n",
              "    </tr>\n",
              "    <tr>\n",
              "      <th>13</th>\n",
              "      <td>194</td>\n",
              "    </tr>\n",
              "    <tr>\n",
              "      <th>15</th>\n",
              "      <td>403</td>\n",
              "    </tr>\n",
              "    <tr>\n",
              "      <th>17</th>\n",
              "      <td>179</td>\n",
              "    </tr>\n",
              "    <tr>\n",
              "      <th>21</th>\n",
              "      <td>204</td>\n",
              "    </tr>\n",
              "  </tbody>\n",
              "</table>\n",
              "</div>"
            ],
            "text/plain": [
              "              rank\n",
              "away_score        \n",
              "0           528568\n",
              "1           467364\n",
              "2           268983\n",
              "3           119748\n",
              "4            48093\n",
              "5            19142\n",
              "6            12225\n",
              "7             7866\n",
              "8             3844\n",
              "9             1219\n",
              "10            1101\n",
              "11             155\n",
              "12             179\n",
              "13             194\n",
              "15             403\n",
              "17             179\n",
              "21             204"
            ]
          },
          "metadata": {
            "tags": []
          },
          "execution_count": 90
        }
      ]
    },
    {
      "cell_type": "code",
      "metadata": {
        "id": "oUfX-8M2_qts",
        "colab_type": "code",
        "colab": {
          "base_uri": "https://localhost:8080/",
          "height": 492
        },
        "outputId": "3780823a-8c1e-4e6b-d9ea-a4090e75b08d"
      },
      "source": [
        "pd.crosstab(fifa_main.away_score,fifa_main.previous_points).plot(kind='bar')"
      ],
      "execution_count": 91,
      "outputs": [
        {
          "output_type": "display_data",
          "data": {
            "image/png": "[encoded data removed]",
            "text/plain": [
              "<Figure size 800x550 with 1 Axes>"
            ]
          },
          "metadata": {
            "tags": []
          }
        }
      ]
    },
    {
      "cell_type": "code",
      "metadata": {
        "id": "gVeUzHvsMasW",
        "colab_type": "code",
        "colab": {
          "base_uri": "https://localhost:8080/",
          "height": 134
        },
        "outputId": "8c99da48-7f38-4d42-d98d-0dfb9edfa07f"
      },
      "source": [
        "fifa_main.head(1)"
      ],
      "execution_count": 92,
      "outputs": [
        {
          "output_type": "execute_result",
          "data": {
            "text/html": [
              "<div>\n",
              "<style scoped>\n",
              "    .dataframe tbody tr th:only-of-type {\n",
              "        vertical-align: middle;\n",
              "    }\n",
              "\n",
              "    .dataframe tbody tr th {\n",
              "        vertical-align: top;\n",
              "    }\n",
              "\n",
              "    .dataframe thead th {\n",
              "        text-align: right;\n",
              "    }\n",
              "</style>\n",
              "<table border=\"1\" class=\"dataframe\">\n",
              "  <thead>\n",
              "    <tr style=\"text-align: right;\">\n",
              "      <th></th>\n",
              "      <th>date</th>\n",
              "      <th>home_team</th>\n",
              "      <th>away_team</th>\n",
              "      <th>home_score</th>\n",
              "      <th>away_score</th>\n",
              "      <th>tournament</th>\n",
              "      <th>city</th>\n",
              "      <th>country</th>\n",
              "      <th>neutral</th>\n",
              "      <th>year</th>\n",
              "      <th>month</th>\n",
              "      <th>home_team_rank</th>\n",
              "      <th>total_points_x</th>\n",
              "      <th>previous_points_x</th>\n",
              "      <th>rank_change_x</th>\n",
              "      <th>confederation_x</th>\n",
              "      <th>rank_date_x</th>\n",
              "      <th>away_team_rank</th>\n",
              "      <th>total_points_y</th>\n",
              "      <th>previous_points_y</th>\n",
              "      <th>rank_change_y</th>\n",
              "      <th>confederation_y</th>\n",
              "      <th>rank_date_y</th>\n",
              "      <th>rank</th>\n",
              "      <th>total_points</th>\n",
              "      <th>previous_points</th>\n",
              "      <th>rank_change</th>\n",
              "      <th>confederation</th>\n",
              "      <th>rank_date</th>\n",
              "    </tr>\n",
              "  </thead>\n",
              "  <tbody>\n",
              "    <tr>\n",
              "      <th>0</th>\n",
              "      <td>1993-08-01</td>\n",
              "      <td>Colombia</td>\n",
              "      <td>Paraguay</td>\n",
              "      <td>0</td>\n",
              "      <td>0</td>\n",
              "      <td>FIFA World Cup qualification</td>\n",
              "      <td>Barranquilla</td>\n",
              "      <td>Colombia</td>\n",
              "      <td>0</td>\n",
              "      <td>1993</td>\n",
              "      <td>8</td>\n",
              "      <td>19.0</td>\n",
              "      <td>0.0</td>\n",
              "      <td>36.0</td>\n",
              "      <td>16.0</td>\n",
              "      <td>CONMEBOL</td>\n",
              "      <td>1993-08-08</td>\n",
              "      <td>19</td>\n",
              "      <td>0.0</td>\n",
              "      <td>36</td>\n",
              "      <td>16</td>\n",
              "      <td>CONMEBOL</td>\n",
              "      <td>1993-08-08</td>\n",
              "      <td>19</td>\n",
              "      <td>0.0</td>\n",
              "      <td>36</td>\n",
              "      <td>16</td>\n",
              "      <td>CONMEBOL</td>\n",
              "      <td>1993-08-08</td>\n",
              "    </tr>\n",
              "  </tbody>\n",
              "</table>\n",
              "</div>"
            ],
            "text/plain": [
              "        date home_team away_team  ...  rank_change  confederation  rank_date\n",
              "0 1993-08-01  Colombia  Paraguay  ...           16       CONMEBOL 1993-08-08\n",
              "\n",
              "[1 rows x 29 columns]"
            ]
          },
          "metadata": {
            "tags": []
          },
          "execution_count": 92
        }
      ]
    },
    {
      "cell_type": "code",
      "metadata": {
        "id": "T4gpRzvhThhY",
        "colab_type": "code",
        "colab": {}
      },
      "source": [
        "# Dropping unneccesary columns \n",
        "# home_team,away_team\n",
        "fifa_l = fifa_main.drop(['date','city','country','year','rank_date'],axis=1,inplace=True)\n",
        "fifa_l"
      ],
      "execution_count": 0,
      "outputs": []
    },
    {
      "cell_type": "code",
      "metadata": {
        "id": "BN6sskZSYvj8",
        "colab_type": "code",
        "colab": {
          "base_uri": "https://localhost:8080/",
          "height": 442
        },
        "outputId": "e22c2f6c-b599-49f6-8cd3-b27c1c4f4521"
      },
      "source": [
        "fifa_main.dtypes"
      ],
      "execution_count": 94,
      "outputs": [
        {
          "output_type": "execute_result",
          "data": {
            "text/plain": [
              "home_team                    object\n",
              "away_team                    object\n",
              "home_score                    int64\n",
              "away_score                    int64\n",
              "tournament                   object\n",
              "neutral                       uint8\n",
              "month                         int64\n",
              "home_team_rank              float64\n",
              "total_points_x              float64\n",
              "previous_points_x           float64\n",
              "rank_change_x               float64\n",
              "confederation_x              object\n",
              "rank_date_x          datetime64[ns]\n",
              "away_team_rank                int64\n",
              "total_points_y              float64\n",
              "previous_points_y             int64\n",
              "rank_change_y                 int64\n",
              "confederation_y              object\n",
              "rank_date_y          datetime64[ns]\n",
              "rank                          int64\n",
              "total_points                float64\n",
              "previous_points               int64\n",
              "rank_change                   int64\n",
              "confederation                object\n",
              "dtype: object"
            ]
          },
          "metadata": {
            "tags": []
          },
          "execution_count": 94
        }
      ]
    },
    {
      "cell_type": "code",
      "metadata": {
        "id": "5zAEilnUvF4X",
        "colab_type": "code",
        "colab": {}
      },
      "source": [
        "fifa_main['goal_dif'] = fifa_main.home_score  - fifa_main.away_score\n",
        "\n",
        "# Creating an outcome\n",
        "# goals more than 0 represent win\n",
        "# gooals less than 0 represent Loss\n",
        "\n",
        "def home_performance(goals):\n",
        "    if goals > 0:      \n",
        "        return 'Win'\n",
        "    elif goals < 0:    \n",
        "        return 'Loss'\n",
        "    else:\n",
        "        return 'Draw'\n",
        "fifa_main['home_performance'] = fifa_main.goal_dif.apply(lambda x:home_performance(x))"
      ],
      "execution_count": 0,
      "outputs": []
    },
    {
      "cell_type": "code",
      "metadata": {
        "id": "8jlrMhQKIYPz",
        "colab_type": "code",
        "colab": {}
      },
      "source": [
        "# sns.countplot('home_dif',data = fifa)\n",
        "# plt.xlabel(\"Status\",fontsize=15)\n",
        "# plt.ylabel(\"Frequency\",color)\n",
        "# plt.title(\"Countplot of Status\",fontsize=16,color=\"maroon\")\n",
        "# plt.show()"
      ],
      "execution_count": 0,
      "outputs": []
    },
    {
      "cell_type": "code",
      "metadata": {
        "id": "LFF0CsC0biWx",
        "colab_type": "code",
        "colab": {}
      },
      "source": [
        "#  home team’s perspective if the game is a Win\n",
        "# Convert to dummy variable\n",
        "# Convert categ-orical variable to dummy.. ie home team  \n",
        "# What to Convert \n",
        "# tournament\n",
        "# confederation\n",
        "\n",
        "tournament = pd.get_dummies(fifa_main['tournament'], drop_first=True)\n",
        "tournament"
      ],
      "execution_count": 0,
      "outputs": []
    },
    {
      "cell_type": "code",
      "metadata": {
        "id": "bzNFBllqFJ71",
        "colab_type": "code",
        "colab": {}
      },
      "source": [
        "# Convert  confereration\n",
        "confederation = pd.get_dummies(fifa_main['confederation'], drop_first=True)\n",
        "confederation "
      ],
      "execution_count": 0,
      "outputs": []
    },
    {
      "cell_type": "code",
      "metadata": {
        "id": "yTV-S94rHpC3",
        "colab_type": "code",
        "colab": {}
      },
      "source": [
        "fifa_main.head(1)"
      ],
      "execution_count": 0,
      "outputs": []
    },
    {
      "cell_type": "code",
      "metadata": {
        "id": "UMljBNrvOmzQ",
        "colab_type": "code",
        "colab": {}
      },
      "source": [
        "X = fifa_main[['home_team_rank','away_team_rank','previous_points_x','rank_change_x','rank_change_y']]\n",
        "y = fifa_main['home_performance']"
      ],
      "execution_count": 0,
      "outputs": []
    },
    {
      "cell_type": "code",
      "metadata": {
        "id": "vpnWic9PgOXc",
        "colab_type": "code",
        "outputId": "c67ea501-c27f-4e53-b48f-74b714373fb8",
        "colab": {
          "base_uri": "https://localhost:8080/",
          "height": 85
        }
      },
      "source": [
        "# Training the Dataset\n",
        "X_train,X_test,y_train,y_test = train_test_split(X,y, test_size=0.2, random_state=0)\n",
        "classify=LogisticRegression(random_state=0, solver='liblinear', multi_class='ovr')\n",
        "classify.fit(X_train, y_train)"
      ],
      "execution_count": 99,
      "outputs": [
        {
          "output_type": "execute_result",
          "data": {
            "text/plain": [
              "LogisticRegression(C=1.0, class_weight=None, dual=False, fit_intercept=True,\n",
              "                   intercept_scaling=1, l1_ratio=None, max_iter=100,\n",
              "                   multi_class='ovr', n_jobs=None, penalty='l2', random_state=0,\n",
              "                   solver='liblinear', tol=0.0001, verbose=0, warm_start=False)"
            ]
          },
          "metadata": {
            "tags": []
          },
          "execution_count": 99
        }
      ]
    },
    {
      "cell_type": "code",
      "metadata": {
        "id": "GIz5nHWORk5i",
        "colab_type": "code",
        "colab": {}
      },
      "source": [
        "# Make the prediction\n",
        "y_pred=classify.predict(X_test)"
      ],
      "execution_count": 0,
      "outputs": []
    },
    {
      "cell_type": "code",
      "metadata": {
        "id": "Dam6DksJRdsj",
        "colab_type": "code",
        "outputId": "0e725c91-7876-462c-f411-9e262eb374b3",
        "colab": {
          "base_uri": "https://localhost:8080/",
          "height": 309
        }
      },
      "source": [
        "\n",
        "cm=confusion_matrix(y_test, y_pred)\n",
        "acc=accuracy_score(y_test, y_pred)\n",
        "print(classification_report(y_test, y_pred))\n",
        "#print('F1 score; ', f1_score(y_test, y_pred))\n",
        "print('Accuracy; ', acc)\n",
        "print(cm)"
      ],
      "execution_count": 101,
      "outputs": [
        {
          "output_type": "stream",
          "text": [
            "              precision    recall  f1-score   support\n",
            "\n",
            "        Draw       0.00      0.00      0.00       918\n",
            "        Loss       0.50      0.34      0.40      1041\n",
            "         Win       0.52      0.88      0.66      1846\n",
            "\n",
            "    accuracy                           0.52      3805\n",
            "   macro avg       0.34      0.41      0.35      3805\n",
            "weighted avg       0.39      0.52      0.43      3805\n",
            "\n",
            "Accuracy;  0.519053876478318\n",
            "[[   0  132  786]\n",
            " [   0  352  689]\n",
            " [   0  223 1623]]\n"
          ],
          "name": "stdout"
        },
        {
          "output_type": "stream",
          "text": [
            "/usr/local/lib/python3.6/dist-packages/sklearn/metrics/classification.py:1437: UndefinedMetricWarning: Precision and F-score are ill-defined and being set to 0.0 in labels with no predicted samples.\n",
            "  'precision', 'predicted', average, warn_for)\n"
          ],
          "name": "stderr"
        }
      ]
    },
    {
      "cell_type": "code",
      "metadata": {
        "id": "MDHk4z4BSo3v",
        "colab_type": "code",
        "outputId": "52264838-5973-4aa8-c3e2-a6abcf40b0bb",
        "colab": {
          "base_uri": "https://localhost:8080/",
          "height": 541
        }
      },
      "source": [
        "sns.countplot('home_performance',data = fifa_main)\n",
        "plt.xlabel(\"SureBet\",fontsize=15) # Drwa, loss,win\n",
        "plt.ylabel(\"Frequency\",fontsize=15)\n",
        "plt.title(\"performance Countplot\",color=\"green\",fontsize=20)\n",
        "plt.show()"
      ],
      "execution_count": 102,
      "outputs": [
        {
          "output_type": "display_data",
          "data": {
            "image/png": "[encoded data removed]",
            "text/plain": [
              "<Figure size 800x550 with 1 Axes>"
            ]
          },
          "metadata": {
            "tags": []
          }
        }
      ]
    },
    {
      "cell_type": "markdown",
      "metadata": {
        "id": "nrCjW2o9lZjd",
        "colab_type": "text"
      },
      "source": [
        "# **Approach 3**"
      ]
    },
    {
      "cell_type": "markdown",
      "metadata": {
        "id": "UwR6zqfDlnqS",
        "colab_type": "text"
      },
      "source": [
        "### LASSO stands for Least Absolute Shrinkage and Selection \n",
        "### Operator.  – ‘absolute‘ and ‘selection‘."
      ]
    },
    {
      "cell_type": "code",
      "metadata": {
        "id": "Acrg34batqw1",
        "colab_type": "code",
        "colab": {
          "base_uri": "https://localhost:8080/",
          "height": 199
        },
        "outputId": "2abedb70-791c-4ed4-fbe0-f8e51eaf1ee0"
      },
      "source": [
        "fifa_main.head(2)"
      ],
      "execution_count": 119,
      "outputs": [
        {
          "output_type": "execute_result",
          "data": {
            "text/html": [
              "<div>\n",
              "<style scoped>\n",
              "    .dataframe tbody tr th:only-of-type {\n",
              "        vertical-align: middle;\n",
              "    }\n",
              "\n",
              "    .dataframe tbody tr th {\n",
              "        vertical-align: top;\n",
              "    }\n",
              "\n",
              "    .dataframe thead th {\n",
              "        text-align: right;\n",
              "    }\n",
              "</style>\n",
              "<table border=\"1\" class=\"dataframe\">\n",
              "  <thead>\n",
              "    <tr style=\"text-align: right;\">\n",
              "      <th></th>\n",
              "      <th>home_team</th>\n",
              "      <th>away_team</th>\n",
              "      <th>home_score</th>\n",
              "      <th>away_score</th>\n",
              "      <th>tournament</th>\n",
              "      <th>neutral</th>\n",
              "      <th>month</th>\n",
              "      <th>home_team_rank</th>\n",
              "      <th>total_points_x</th>\n",
              "      <th>previous_points_x</th>\n",
              "      <th>rank_change_x</th>\n",
              "      <th>confederation_x</th>\n",
              "      <th>rank_date_x</th>\n",
              "      <th>away_team_rank</th>\n",
              "      <th>total_points_y</th>\n",
              "      <th>previous_points_y</th>\n",
              "      <th>rank_change_y</th>\n",
              "      <th>confederation_y</th>\n",
              "      <th>rank_date_y</th>\n",
              "      <th>rank</th>\n",
              "      <th>total_points</th>\n",
              "      <th>previous_points</th>\n",
              "      <th>rank_change</th>\n",
              "      <th>confederation</th>\n",
              "      <th>goal_dif</th>\n",
              "      <th>home_performance</th>\n",
              "    </tr>\n",
              "  </thead>\n",
              "  <tbody>\n",
              "    <tr>\n",
              "      <th>0</th>\n",
              "      <td>Colombia</td>\n",
              "      <td>Paraguay</td>\n",
              "      <td>0</td>\n",
              "      <td>0</td>\n",
              "      <td>FIFA World Cup qualification</td>\n",
              "      <td>0</td>\n",
              "      <td>8</td>\n",
              "      <td>19.0</td>\n",
              "      <td>0.0</td>\n",
              "      <td>36.0</td>\n",
              "      <td>16.0</td>\n",
              "      <td>CONMEBOL</td>\n",
              "      <td>1993-08-08</td>\n",
              "      <td>19</td>\n",
              "      <td>0.0</td>\n",
              "      <td>36</td>\n",
              "      <td>16</td>\n",
              "      <td>CONMEBOL</td>\n",
              "      <td>1993-08-08</td>\n",
              "      <td>19</td>\n",
              "      <td>0.0</td>\n",
              "      <td>36</td>\n",
              "      <td>16</td>\n",
              "      <td>CONMEBOL</td>\n",
              "      <td>0</td>\n",
              "      <td>Draw</td>\n",
              "    </tr>\n",
              "    <tr>\n",
              "      <th>1</th>\n",
              "      <td>Peru</td>\n",
              "      <td>Argentina</td>\n",
              "      <td>0</td>\n",
              "      <td>1</td>\n",
              "      <td>FIFA World Cup qualification</td>\n",
              "      <td>0</td>\n",
              "      <td>8</td>\n",
              "      <td>70.0</td>\n",
              "      <td>0.0</td>\n",
              "      <td>16.0</td>\n",
              "      <td>8.0</td>\n",
              "      <td>CONMEBOL</td>\n",
              "      <td>1993-08-08</td>\n",
              "      <td>70</td>\n",
              "      <td>0.0</td>\n",
              "      <td>16</td>\n",
              "      <td>8</td>\n",
              "      <td>CONMEBOL</td>\n",
              "      <td>1993-08-08</td>\n",
              "      <td>70</td>\n",
              "      <td>0.0</td>\n",
              "      <td>16</td>\n",
              "      <td>8</td>\n",
              "      <td>CONMEBOL</td>\n",
              "      <td>-1</td>\n",
              "      <td>Loss</td>\n",
              "    </tr>\n",
              "  </tbody>\n",
              "</table>\n",
              "</div>"
            ],
            "text/plain": [
              "  home_team  away_team  home_score  ...  confederation goal_dif  home_performance\n",
              "0  Colombia   Paraguay           0  ...       CONMEBOL        0              Draw\n",
              "1      Peru  Argentina           0  ...       CONMEBOL       -1              Loss\n",
              "\n",
              "[2 rows x 26 columns]"
            ]
          },
          "metadata": {
            "tags": []
          },
          "execution_count": 119
        }
      ]
    },
    {
      "cell_type": "code",
      "metadata": {
        "id": "IzjzmHXXtxx2",
        "colab_type": "code",
        "colab": {}
      },
      "source": [
        "X = fifa_main[['home_team_rank','away_team_rank','previous_points_x','rank_change_x','rank_change_y']]\n",
        "y = fifa_main['rank']"
      ],
      "execution_count": 0,
      "outputs": []
    },
    {
      "cell_type": "code",
      "metadata": {
        "id": "dmEL_E009WZe",
        "colab_type": "code",
        "colab": {
          "base_uri": "https://localhost:8080/",
          "height": 119
        },
        "outputId": "473a1e19-8d96-46e4-c599-cc0f53b4eac0"
      },
      "source": [
        "X.dtypes"
      ],
      "execution_count": 163,
      "outputs": [
        {
          "output_type": "execute_result",
          "data": {
            "text/plain": [
              "home_team_rank       float64\n",
              "away_team_rank         int64\n",
              "previous_points_x    float64\n",
              "rank_change_x        float64\n",
              "rank_change_y          int64\n",
              "dtype: object"
            ]
          },
          "metadata": {
            "tags": []
          },
          "execution_count": 163
        }
      ]
    },
    {
      "cell_type": "code",
      "metadata": {
        "id": "LJ3pQUkp9AHm",
        "colab_type": "code",
        "colab": {}
      },
      "source": [
        "X_train,X_test,y_train,y_test = train_test_split(X,y,random_state=0,test_size=0.2)\n"
      ],
      "execution_count": 0,
      "outputs": []
    },
    {
      "cell_type": "code",
      "metadata": {
        "id": "ohhIfYGhSsfJ",
        "colab_type": "code",
        "colab": {}
      },
      "source": [
        "# Finding the appropriate value for the  l2 regularization.\n",
        "ridge=Ridge(normalize=True)\n",
        "search=GridSearchCV(estimator=ridge,param_grid={'alpha':np.logspace(-5,2,8)},scoring='neg_mean_squared_error',n_jobs=1,refit=True,cv=10)"
      ],
      "execution_count": 0,
      "outputs": []
    },
    {
      "cell_type": "code",
      "metadata": {
        "id": "nyvdGin8oxxk",
        "colab_type": "code",
        "colab": {
          "base_uri": "https://localhost:8080/",
          "height": 34
        },
        "outputId": "5584bda6-af9b-4b23-eaf9-54cf0361be99"
      },
      "source": [
        "# Linear Reg\n",
        "regression=LinearRegression()\n",
        "regression.fit(X,y)\n",
        "first_model=(mean_squared_error(y_true=y,y_pred=regression.predict(X)))\n",
        "print(first_model)\n",
        "# 0.35528915032173053"
      ],
      "execution_count": 128,
      "outputs": [
        {
          "output_type": "stream",
          "text": [
            "0.20885182414000733\n"
          ],
          "name": "stdout"
        }
      ]
    },
    {
      "cell_type": "code",
      "metadata": {
        "id": "vb49ZJwU9PNg",
        "colab_type": "code",
        "colab": {}
      },
      "source": [
        "from sklearn.metrics import mean_squared_error,r2_score"
      ],
      "execution_count": 0,
      "outputs": []
    },
    {
      "cell_type": "code",
      "metadata": {
        "id": "LgCTCCM38Sqa",
        "colab_type": "code",
        "colab": {
          "base_uri": "https://localhost:8080/",
          "height": 34
        },
        "outputId": "46d946b1-1cb5-49d4-fd72-aa2969176855"
      },
      "source": [
        "rr = Ridge()\n",
        "rr.fit(X_train,y_train)\n",
        "yr_pred = rr.predict(x_test)\n",
        "print(\"r2_scores\",r2_score(y_test,yr_pred))"
      ],
      "execution_count": 164,
      "outputs": [
        {
          "output_type": "stream",
          "text": [
            "r2_scores 0.9999228162448203\n"
          ],
          "name": "stdout"
        }
      ]
    },
    {
      "cell_type": "code",
      "metadata": {
        "id": "LvVyJnsDn9_b",
        "colab_type": "code",
        "colab": {
          "base_uri": "https://localhost:8080/",
          "height": 88
        },
        "outputId": "beaad9bf-853c-4ae8-8ee8-992864a5f282"
      },
      "source": [
        "# The best_params_ tells us what to set alpha too which in this case is 0.01.\n",
        "# The best_score_ tells us what the best possible mean squared error is.\n",
        "search.fit(X,y)\n",
        "search.best_params_\n",
        "{'alpha': 0.01}\n",
        "abs(search.best_score_)\n",
        "# 0.3801489007094425"
      ],
      "execution_count": 127,
      "outputs": [
        {
          "output_type": "stream",
          "text": [
            "/usr/local/lib/python3.6/dist-packages/sklearn/model_selection/_search.py:814: DeprecationWarning: The default of the `iid` parameter will change from True to False in version 0.22 and will be removed in 0.24. This will change numeric results when test-set sizes are unequal.\n",
            "  DeprecationWarning)\n"
          ],
          "name": "stderr"
        },
        {
          "output_type": "execute_result",
          "data": {
            "text/plain": [
              "0.2090720992432509"
            ]
          },
          "metadata": {
            "tags": []
          },
          "execution_count": 127
        }
      ]
    },
    {
      "cell_type": "code",
      "metadata": {
        "id": "VKmucI-Jn944",
        "colab_type": "code",
        "colab": {
          "base_uri": "https://localhost:8080/",
          "height": 34
        },
        "outputId": "950a8594-b224-493d-cc7f-74674354460b"
      },
      "source": [
        "# fitting our model with the ridge information \n",
        "# and finding the mean squared error\n",
        "  ridge=Ridge(normalize=True,alpha=0.01)\n",
        "ridge.fit(X,y)\n",
        "second_model=(mean_squared_error(y_true=y,y_pred=ridge.predict(X)))\n",
        "print(second_model)"
      ],
      "execution_count": 129,
      "outputs": [
        {
          "output_type": "stream",
          "text": [
            "0.3248885681208422\n"
          ],
          "name": "stdout"
        }
      ]
    },
    {
      "cell_type": "markdown",
      "metadata": {
        "id": "YCZ9eHp1398h",
        "colab_type": "text"
      },
      "source": [
        "### **The 0.32 is Higher than the 0.20. This is means the  results are cross-validated. In addition, these results indicate that there is  difference between the ridge and baseline models**"
      ]
    },
    {
      "cell_type": "code",
      "metadata": {
        "id": "0jcNqxF0xtCL",
        "colab_type": "code",
        "colab": {
          "base_uri": "https://localhost:8080/",
          "height": 292
        },
        "outputId": "a5781b30-1de8-4a0b-996f-ac5cb35b1f32"
      },
      "source": [
        "# !pip pydataset import data\n",
        "# from pyd\n",
        "! pip install pydataset"
      ],
      "execution_count": 136,
      "outputs": [
        {
          "output_type": "stream",
          "text": [
            "Collecting pydataset\n",
            "\u001b[?25l  Downloading https://files.pythonhosted.org/packages/4f/15/548792a1bb9caf6a3affd61c64d306b08c63c8a5a49e2c2d931b67ec2108/pydataset-0.2.0.tar.gz (15.9MB)\n",
            "\u001b[K     |████████████████████████████████| 15.9MB 2.8MB/s \n",
            "\u001b[?25hRequirement already satisfied: pandas in /usr/local/lib/python3.6/dist-packages (from pydataset) (0.24.2)\n",
            "Requirement already satisfied: numpy>=1.12.0 in /usr/local/lib/python3.6/dist-packages (from pandas->pydataset) (1.16.5)\n",
            "Requirement already satisfied: python-dateutil>=2.5.0 in /usr/local/lib/python3.6/dist-packages (from pandas->pydataset) (2.5.3)\n",
            "Requirement already satisfied: pytz>=2011k in /usr/local/lib/python3.6/dist-packages (from pandas->pydataset) (2018.9)\n",
            "Requirement already satisfied: six>=1.5 in /usr/local/lib/python3.6/dist-packages (from python-dateutil>=2.5.0->pandas->pydataset) (1.12.0)\n",
            "Building wheels for collected packages: pydataset\n",
            "  Building wheel for pydataset (setup.py) ... \u001b[?25l\u001b[?25hdone\n",
            "  Created wheel for pydataset: filename=pydataset-0.2.0-cp36-none-any.whl size=15939430 sha256=b2bdcd26c50e19c44eefad83a7e008f6d93c6f1b12eee6b9352754b4b759e6c3\n",
            "  Stored in directory: /root/.cache/pip/wheels/fe/3f/dc/5d02ccc767317191b12d042dd920fcf3432fab74bc7978598b\n",
            "Successfully built pydataset\n",
            "Installing collected packages: pydataset\n",
            "Successfully installed pydataset-0.2.0\n"
          ],
          "name": "stdout"
        }
      ]
    },
    {
      "cell_type": "markdown",
      "metadata": {
        "id": "pTEOosi650n7",
        "colab_type": "text"
      },
      "source": [
        "## **Coefficience for the Two models, Ridge and BaseLine**"
      ]
    },
    {
      "cell_type": "code",
      "metadata": {
        "id": "VhZWWHoVzM9r",
        "colab_type": "code",
        "colab": {
          "base_uri": "https://localhost:8080/",
          "height": 34
        },
        "outputId": "9800e189-0df8-4b0b-ccc6-552a33db4f8f"
      },
      "source": [
        "from pydataset import data"
      ],
      "execution_count": 138,
      "outputs": [
        {
          "output_type": "stream",
          "text": [
            "initiated datasets repo at: /root/.pydataset/\n"
          ],
          "name": "stdout"
        }
      ]
    },
    {
      "cell_type": "code",
      "metadata": {
        "id": "sB8r8g1Pn9ya",
        "colab_type": "code",
        "colab": {
          "base_uri": "https://localhost:8080/",
          "height": 102
        },
        "outputId": "c175f377-bf79-4c6b-9dcd-0648b0d90dd0"
      },
      "source": [
        "coef_dict_baseline = {}\n",
        "for coef, feat in zip(regression.coef_,fifa_main.columns):\n",
        "    coef_dict_baseline[feat] = coef\n",
        "coef_dict_baseline"
      ],
      "execution_count": 143,
      "outputs": [
        {
          "output_type": "execute_result",
          "data": {
            "text/plain": [
              "{'away_score': 0.0007443505639096469,\n",
              " 'away_team': 0.4999856456650823,\n",
              " 'home_score': 7.665751624030825e-07,\n",
              " 'home_team': 0.4999910235602645,\n",
              " 'tournament': 0.0007386640707839463}"
            ]
          },
          "metadata": {
            "tags": []
          },
          "execution_count": 143
        }
      ]
    },
    {
      "cell_type": "code",
      "metadata": {
        "id": "x0S0qBTAn9gk",
        "colab_type": "code",
        "colab": {
          "base_uri": "https://localhost:8080/",
          "height": 102
        },
        "outputId": "97a056c1-54aa-420d-fce7-4559847f62cc"
      },
      "source": [
        "\n",
        "coef_dict_ridge = {}\n",
        "for coef, feat in zip(ridge.coef_,fifa_main.columns):\n",
        "    coef_dict_ridge[feat] = coef\n",
        "coef_dict_ridge"
      ],
      "execution_count": 144,
      "outputs": [
        {
          "output_type": "execute_result",
          "data": {
            "text/plain": [
              "{'away_score': -0.0020473948819355143,\n",
              " 'away_team': 0.4954751988564855,\n",
              " 'home_score': -0.000978994126995779,\n",
              " 'home_team': 0.4954748854889723,\n",
              " 'tournament': -0.0015380592926722446}"
            ]
          },
          "metadata": {
            "tags": []
          },
          "execution_count": 144
        }
      ]
    },
    {
      "cell_type": "code",
      "metadata": {
        "id": "QdTxzqPv7Qu2",
        "colab_type": "code",
        "colab": {
          "base_uri": "https://localhost:8080/",
          "height": 204
        },
        "outputId": "9a550aaf-9d12-4087-cc8f-e8ead4883792"
      },
      "source": [
        "ds = pd.DataFrame({\"Actual\" : y_test,\"Predicted\" : yr_pred})\n",
        "ds.sort_values(by = ['Actual'] ,inplace = True)\n",
        "ds.head(5)"
      ],
      "execution_count": 165,
      "outputs": [
        {
          "output_type": "execute_result",
          "data": {
            "text/html": [
              "<div>\n",
              "<style scoped>\n",
              "    .dataframe tbody tr th:only-of-type {\n",
              "        vertical-align: middle;\n",
              "    }\n",
              "\n",
              "    .dataframe tbody tr th {\n",
              "        vertical-align: top;\n",
              "    }\n",
              "\n",
              "    .dataframe thead th {\n",
              "        text-align: right;\n",
              "    }\n",
              "</style>\n",
              "<table border=\"1\" class=\"dataframe\">\n",
              "  <thead>\n",
              "    <tr style=\"text-align: right;\">\n",
              "      <th></th>\n",
              "      <th>Actual</th>\n",
              "      <th>Predicted</th>\n",
              "    </tr>\n",
              "  </thead>\n",
              "  <tbody>\n",
              "    <tr>\n",
              "      <th>7194</th>\n",
              "      <td>1</td>\n",
              "      <td>1.001745</td>\n",
              "    </tr>\n",
              "    <tr>\n",
              "      <th>1977</th>\n",
              "      <td>1</td>\n",
              "      <td>1.000002</td>\n",
              "    </tr>\n",
              "    <tr>\n",
              "      <th>1563</th>\n",
              "      <td>1</td>\n",
              "      <td>1.000007</td>\n",
              "    </tr>\n",
              "    <tr>\n",
              "      <th>8225</th>\n",
              "      <td>1</td>\n",
              "      <td>1.001738</td>\n",
              "    </tr>\n",
              "    <tr>\n",
              "      <th>18601</th>\n",
              "      <td>1</td>\n",
              "      <td>1.003516</td>\n",
              "    </tr>\n",
              "  </tbody>\n",
              "</table>\n",
              "</div>"
            ],
            "text/plain": [
              "       Actual  Predicted\n",
              "7194        1   1.001745\n",
              "1977        1   1.000002\n",
              "1563        1   1.000007\n",
              "8225        1   1.001738\n",
              "18601       1   1.003516"
            ]
          },
          "metadata": {
            "tags": []
          },
          "execution_count": 165
        }
      ]
    },
    {
      "cell_type": "code",
      "metadata": {
        "id": "m6Dw3MyX7DrG",
        "colab_type": "code",
        "colab": {
          "base_uri": "https://localhost:8080/",
          "height": 297
        },
        "outputId": "ff38eeb5-4edc-49b3-c97f-3898045342df"
      },
      "source": [
        "# Description -  Actual vs Predicted\n",
        "ds.describe()"
      ],
      "execution_count": 166,
      "outputs": [
        {
          "output_type": "execute_result",
          "data": {
            "text/html": [
              "<div>\n",
              "<style scoped>\n",
              "    .dataframe tbody tr th:only-of-type {\n",
              "        vertical-align: middle;\n",
              "    }\n",
              "\n",
              "    .dataframe tbody tr th {\n",
              "        vertical-align: top;\n",
              "    }\n",
              "\n",
              "    .dataframe thead th {\n",
              "        text-align: right;\n",
              "    }\n",
              "</style>\n",
              "<table border=\"1\" class=\"dataframe\">\n",
              "  <thead>\n",
              "    <tr style=\"text-align: right;\">\n",
              "      <th></th>\n",
              "      <th>Actual</th>\n",
              "      <th>Predicted</th>\n",
              "    </tr>\n",
              "  </thead>\n",
              "  <tbody>\n",
              "    <tr>\n",
              "      <th>count</th>\n",
              "      <td>3805.000000</td>\n",
              "      <td>3805.000000</td>\n",
              "    </tr>\n",
              "    <tr>\n",
              "      <th>mean</th>\n",
              "      <td>77.513798</td>\n",
              "      <td>77.521549</td>\n",
              "    </tr>\n",
              "    <tr>\n",
              "      <th>std</th>\n",
              "      <td>51.567676</td>\n",
              "      <td>51.567401</td>\n",
              "    </tr>\n",
              "    <tr>\n",
              "      <th>min</th>\n",
              "      <td>1.000000</td>\n",
              "      <td>0.999984</td>\n",
              "    </tr>\n",
              "    <tr>\n",
              "      <th>25%</th>\n",
              "      <td>34.000000</td>\n",
              "      <td>34.002560</td>\n",
              "    </tr>\n",
              "    <tr>\n",
              "      <th>50%</th>\n",
              "      <td>72.000000</td>\n",
              "      <td>72.083940</td>\n",
              "    </tr>\n",
              "    <tr>\n",
              "      <th>75%</th>\n",
              "      <td>113.000000</td>\n",
              "      <td>112.996290</td>\n",
              "    </tr>\n",
              "    <tr>\n",
              "      <th>max</th>\n",
              "      <td>209.000000</td>\n",
              "      <td>208.997598</td>\n",
              "    </tr>\n",
              "  </tbody>\n",
              "</table>\n",
              "</div>"
            ],
            "text/plain": [
              "            Actual    Predicted\n",
              "count  3805.000000  3805.000000\n",
              "mean     77.513798    77.521549\n",
              "std      51.567676    51.567401\n",
              "min       1.000000     0.999984\n",
              "25%      34.000000    34.002560\n",
              "50%      72.000000    72.083940\n",
              "75%     113.000000   112.996290\n",
              "max     209.000000   208.997598"
            ]
          },
          "metadata": {
            "tags": []
          },
          "execution_count": 166
        }
      ]
    },
    {
      "cell_type": "code",
      "metadata": {
        "id": "kyFg_9DV7rqe",
        "colab_type": "code",
        "colab": {
          "base_uri": "https://localhost:8080/",
          "height": 34
        },
        "outputId": "dac18c9e-eaba-4617-943d-a271fd88ab29"
      },
      "source": [
        "# Rmse\n",
        "np.sqrt(mean_squared_error(y_test,yr_pred))"
      ],
      "execution_count": 168,
      "outputs": [
        {
          "output_type": "execute_result",
          "data": {
            "text/plain": [
              "0.45298459371972694"
            ]
          },
          "metadata": {
            "tags": []
          },
          "execution_count": 168
        }
      ]
    },
    {
      "cell_type": "markdown",
      "metadata": {
        "id": "i4usJkCJUbf8",
        "colab_type": "text"
      },
      "source": [
        "### **I conclude by saying that my model had an accuracy score of 52% which is relatively low, a solution to this would be comming up with more data points, that might help increase the accuracy**"
      ]
    }
  ]
}